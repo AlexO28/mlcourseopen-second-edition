{
 "cells": [
  {
   "cell_type": "markdown",
   "metadata": {},
   "source": [
    "<center>\n",
    "<img src=\"../../img/ods_stickers.jpg\">\n",
    "## Открытый курс по машинному обучению. Сессия № 2\n",
    "</center>\n",
    "Автор материала: программист-исследователь Mail.ru Group, старший преподаватель Факультета Компьютерных Наук ВШЭ Юрий Кашницкий. Материал распространяется на условиях лицензии [Creative Commons CC BY-NC-SA 4.0](https://creativecommons.org/licenses/by-nc-sa/4.0/). Можно использовать в любых целях (редактировать, поправлять и брать за основу), кроме коммерческих, но с обязательным упоминанием автора материала."
   ]
  },
  {
   "cell_type": "markdown",
   "metadata": {},
   "source": [
    "# <center>Домашнее задание № 8\n",
    "## <center> Vowpal Wabbit в задаче прогнозирования популярности статьи на хабре"
   ]
  },
  {
   "cell_type": "markdown",
   "metadata": {},
   "source": [
    "В этом задании надо побить бенчмарк в [соревновании](https://www.kaggle.com/c/habr-num-bookmarks) на Kaggle Inclass. Как это делать – ограничений нет (кроме, конечно, ручной разметки), прочитать правила можно [тут](https://www.kaggle.com/c/habr-num-bookmarks/rules). Ниже описаны инструкции, как это сделать с Vowpal Wabbit.\n",
    "\n",
    "Дедлайн: 31 октября 23:59 UTC +3. Решение надо будет загрузить по [ссылке](https://www.dropbox.com/request/g5WOPrxwvcYwADZCuoY7). В этом соревновании нет задачи победить. Цель – побить бенчмарк и продвинуться в [соревновании](https://mlcourse.arktur.io) по прогнозу популярности статьи на Medium. "
   ]
  },
  {
   "cell_type": "code",
   "execution_count": 2,
   "metadata": {
    "collapsed": true
   },
   "outputs": [],
   "source": [
    "import numpy as np\n",
    "import pandas as pd\n",
    "import json\n",
    "from tqdm import tqdm_notebook\n",
    "from sklearn.metrics import mean_absolute_error\n",
    "import datetime"
   ]
  },
  {
   "cell_type": "markdown",
   "metadata": {},
   "source": [
    "Посмотрим на одну из строчек в JSON-файле: считаем ее с помощью библиотеки json. Эта строчка соответствует [7-ой статье](https://habrahabr.ru/post/7/) на Хабре."
   ]
  },
  {
   "cell_type": "code",
   "execution_count": 1,
   "metadata": {
    "collapsed": false
   },
   "outputs": [
    {
     "name": "stderr",
     "output_type": "stream",
     "text": [
      "\"head\" ­Ґ пў«пҐвбп ў­гваҐ­­Ґ© Ё«Ё ў­Ґи­Ґ©\n",
      "Є®¬ ­¤®©, ЁбЇ®«­пҐ¬®© Їа®Ја ¬¬®© Ё«Ё Ї ЄҐв­л¬ д ©«®¬.\n"
     ]
    }
   ],
   "source": [
    "!head -1 D:/train.json > D:/train1.json"
   ]
  },
  {
   "cell_type": "code",
   "execution_count": 5,
   "metadata": {
    "collapsed": false
   },
   "outputs": [],
   "source": [
    "with open('D:\\\\train1.json') as inp_json:\n",
    "    first_json = json.load(inp_json)"
   ]
  },
  {
   "cell_type": "code",
   "execution_count": 6,
   "metadata": {
    "collapsed": false
   },
   "outputs": [
    {
     "data": {
      "text/plain": [
       "dict_keys(['author', 'content', 'domain', 'meta_tags', 'tags', 'flags', 'link_tags', 'polling', 'flow', 'post_id', 'hubs', 'url', '_id', '_timestamp', 'published', 'title'])"
      ]
     },
     "execution_count": 6,
     "metadata": {},
     "output_type": "execute_result"
    }
   ],
   "source": [
    "first_json.keys()"
   ]
  },
  {
   "cell_type": "markdown",
   "metadata": {},
   "source": [
    "Видим 16 полей, перечислим некоторые из них:\n",
    "- _id, url - URL статьи\n",
    "- published – время публикации статьи\n",
    "- domain – сайт (например, habrahahbr.ru или geektimes.ru)\n",
    "- title – название статьи\n",
    "- content – текст статьи\n",
    "- hubs - перечисление хабов, к которым относится статья\n",
    "- tags – теги статьи\n",
    "- author – автор статьи, его ник и ссылка на профиль"
   ]
  },
  {
   "cell_type": "code",
   "execution_count": 7,
   "metadata": {
    "collapsed": false
   },
   "outputs": [
    {
     "data": {
      "text/plain": [
       "'https://habrahabr.ru/post/7/'"
      ]
     },
     "execution_count": 7,
     "metadata": {},
     "output_type": "execute_result"
    }
   ],
   "source": [
    "first_json['_id']"
   ]
  },
  {
   "cell_type": "code",
   "execution_count": 8,
   "metadata": {
    "collapsed": false
   },
   "outputs": [
    {
     "data": {
      "text/plain": [
       "1493192186.0903192"
      ]
     },
     "execution_count": 8,
     "metadata": {},
     "output_type": "execute_result"
    }
   ],
   "source": [
    "first_json['_timestamp']"
   ]
  },
  {
   "cell_type": "code",
   "execution_count": 9,
   "metadata": {
    "collapsed": false
   },
   "outputs": [
    {
     "data": {
      "text/plain": [
       "'https://habrahabr.ru/post/7/'"
      ]
     },
     "execution_count": 9,
     "metadata": {},
     "output_type": "execute_result"
    }
   ],
   "source": [
    "first_json['url']"
   ]
  },
  {
   "cell_type": "code",
   "execution_count": 10,
   "metadata": {
    "collapsed": false,
    "scrolled": true
   },
   "outputs": [
    {
     "data": {
      "text/plain": [
       "'habrahabr.ru'"
      ]
     },
     "execution_count": 10,
     "metadata": {},
     "output_type": "execute_result"
    }
   ],
   "source": [
    "first_json['domain']"
   ]
  },
  {
   "cell_type": "code",
   "execution_count": 9,
   "metadata": {
    "collapsed": false
   },
   "outputs": [
    {
     "data": {
      "text/plain": [
       "{'$date': '2006-07-15T01:48:00.000Z'}"
      ]
     },
     "execution_count": 9,
     "metadata": {},
     "output_type": "execute_result"
    }
   ],
   "source": [
    "first_json['published']"
   ]
  },
  {
   "cell_type": "code",
   "execution_count": 10,
   "metadata": {
    "collapsed": false
   },
   "outputs": [
    {
     "data": {
      "text/plain": [
       "'Самопроизвольное разлогинивание'"
      ]
     },
     "execution_count": 10,
     "metadata": {},
     "output_type": "execute_result"
    }
   ],
   "source": [
    "first_json['title']"
   ]
  },
  {
   "cell_type": "code",
   "execution_count": 11,
   "metadata": {
    "collapsed": false
   },
   "outputs": [
    {
     "data": {
      "text/plain": [
       "'У меня такое ощущение, что logout время от времени происходит самопроизвольно, несмотря на то, что чекбокс про логине включен.<br>\\r\\n<br>\\r\\nВозможно, это происходит при смене IP-адреса, но я не уверен.'"
      ]
     },
     "execution_count": 11,
     "metadata": {},
     "output_type": "execute_result"
    }
   ],
   "source": [
    "first_json['content']"
   ]
  },
  {
   "cell_type": "code",
   "execution_count": 12,
   "metadata": {
    "collapsed": true
   },
   "outputs": [],
   "source": [
    "first_json['polling']"
   ]
  },
  {
   "cell_type": "code",
   "execution_count": 13,
   "metadata": {
    "collapsed": false
   },
   "outputs": [
    {
     "data": {
      "text/plain": [
       "7"
      ]
     },
     "execution_count": 13,
     "metadata": {},
     "output_type": "execute_result"
    }
   ],
   "source": [
    "first_json['post_id']"
   ]
  },
  {
   "cell_type": "code",
   "execution_count": 14,
   "metadata": {
    "collapsed": false
   },
   "outputs": [
    {
     "data": {
      "text/plain": [
       "[]"
      ]
     },
     "execution_count": 14,
     "metadata": {},
     "output_type": "execute_result"
    }
   ],
   "source": [
    "first_json['flags']"
   ]
  },
  {
   "cell_type": "code",
   "execution_count": 15,
   "metadata": {
    "collapsed": false
   },
   "outputs": [
    {
     "data": {
      "text/plain": [
       "[{'id': 'hub/habr',\n",
       "  'title': 'Хабрахабр',\n",
       "  'url': 'https://habrahabr.ru/hub/habr/'}]"
      ]
     },
     "execution_count": 15,
     "metadata": {},
     "output_type": "execute_result"
    }
   ],
   "source": [
    "first_json['hubs']"
   ]
  },
  {
   "cell_type": "code",
   "execution_count": 16,
   "metadata": {
    "collapsed": true
   },
   "outputs": [],
   "source": [
    "first_json['flow']"
   ]
  },
  {
   "cell_type": "code",
   "execution_count": 17,
   "metadata": {
    "collapsed": false
   },
   "outputs": [
    {
     "data": {
      "text/plain": [
       "['логин', 'login']"
      ]
     },
     "execution_count": 17,
     "metadata": {},
     "output_type": "execute_result"
    }
   ],
   "source": [
    "first_json['tags']"
   ]
  },
  {
   "cell_type": "code",
   "execution_count": 18,
   "metadata": {
    "collapsed": false
   },
   "outputs": [
    {
     "data": {
      "text/plain": [
       "{'name': 'Павел Титов',\n",
       " 'nickname': '@ptitov',\n",
       " 'url': 'https://habrahabr.ru/users/ptitov'}"
      ]
     },
     "execution_count": 18,
     "metadata": {},
     "output_type": "execute_result"
    }
   ],
   "source": [
    "first_json['author']"
   ]
  },
  {
   "cell_type": "code",
   "execution_count": 19,
   "metadata": {
    "collapsed": false
   },
   "outputs": [
    {
     "data": {
      "text/plain": [
       "{'alternate': 'https://habrahabr.ru/rss/post/7/',\n",
       " 'apple-touch-icon-precomposed': '/images/favicons/apple-touch-icon-152x152.png',\n",
       " 'canonical': 'https://habrahabr.ru/post/7/',\n",
       " 'icon': '/images/favicons/favicon-16x16.png',\n",
       " 'image_src': 'https://habrahabr.ru/i/habralogo.jpg',\n",
       " 'stylesheet': 'https://habracdn.net/habr/styles/1493134745/_build/global_main.css'}"
      ]
     },
     "execution_count": 19,
     "metadata": {},
     "output_type": "execute_result"
    }
   ],
   "source": [
    "first_json['link_tags']"
   ]
  },
  {
   "cell_type": "code",
   "execution_count": 20,
   "metadata": {
    "collapsed": false
   },
   "outputs": [
    {
     "data": {
      "text/plain": [
       "{'al:android:app_name': 'Habrahabr',\n",
       " 'al:android:package': 'ru.habrahabr',\n",
       " 'al:android:url': 'habrahabr://post/7',\n",
       " 'al:windows_phone:app_id': '460a6bd6-8955-470f-935e-9ea1726a6060',\n",
       " 'al:windows_phone:app_name': 'Habrahabr',\n",
       " 'al:windows_phone:url': 'habrahabr://post/7',\n",
       " 'apple-mobile-web-app-title': 'Хабрахабр',\n",
       " 'application-name': 'Хабрахабр',\n",
       " 'description': 'У меня такое ощущение, что logout время от времени происходит самопроизвольно, несмотря на то, что чекбокс про логине включен.\\r\\n\\r\\nВозможно, это происходит при смене IP-адреса, но я не уверен.',\n",
       " 'fb:app_id': '444736788986613',\n",
       " 'keywords': 'логин, login',\n",
       " 'msapplication-TileColor': '#FFFFFF',\n",
       " 'msapplication-TileImage': 'mstile-144x144.png',\n",
       " 'og:description': 'У меня такое ощущение, что logout время от времени происходит самопроизвольно, несмотря на то, что чекбокс про логине включен.  Возможно, это происходит при...',\n",
       " 'og:image': 'https://habrahabr.ru/i/habralogo.jpg',\n",
       " 'og:title': 'Самопроизвольное разлогинивание',\n",
       " 'og:type': 'article',\n",
       " 'og:url': 'https://habrahabr.ru/post/7/',\n",
       " 'pocket-site-verification': 'ed24b2b9721edf0a282c5b4a3232c4',\n",
       " 'referrer': 'unsafe-url',\n",
       " 'robots': 'noindex',\n",
       " 'twitter:card': 'summary',\n",
       " 'twitter:site': '@habrahabr',\n",
       " 'viewport': 'width=1024',\n",
       " 'yandex-verification': '67d46b975fa41645'}"
      ]
     },
     "execution_count": 20,
     "metadata": {},
     "output_type": "execute_result"
    }
   ],
   "source": [
    "first_json['meta_tags']"
   ]
  },
  {
   "cell_type": "markdown",
   "metadata": {},
   "source": [
    "Загрузим ответы на обучающей выборке."
   ]
  },
  {
   "cell_type": "code",
   "execution_count": 3,
   "metadata": {
    "collapsed": true
   },
   "outputs": [],
   "source": [
    "train_target = pd.read_csv('D:/train_target.csv',\n",
    "                          index_col='url')"
   ]
  },
  {
   "cell_type": "code",
   "execution_count": 22,
   "metadata": {
    "collapsed": false
   },
   "outputs": [
    {
     "data": {
      "text/html": [
       "<div>\n",
       "<style>\n",
       "    .dataframe thead tr:only-child th {\n",
       "        text-align: right;\n",
       "    }\n",
       "\n",
       "    .dataframe thead th {\n",
       "        text-align: left;\n",
       "    }\n",
       "\n",
       "    .dataframe tbody tr th {\n",
       "        vertical-align: top;\n",
       "    }\n",
       "</style>\n",
       "<table border=\"1\" class=\"dataframe\">\n",
       "  <thead>\n",
       "    <tr style=\"text-align: right;\">\n",
       "      <th></th>\n",
       "      <th>target</th>\n",
       "    </tr>\n",
       "    <tr>\n",
       "      <th>url</th>\n",
       "      <th></th>\n",
       "    </tr>\n",
       "  </thead>\n",
       "  <tbody>\n",
       "    <tr>\n",
       "      <th>https://habrahabr.ru/post/7/</th>\n",
       "      <td>0.693147</td>\n",
       "    </tr>\n",
       "    <tr>\n",
       "      <th>https://geektimes.ru/post/11/</th>\n",
       "      <td>1.098612</td>\n",
       "    </tr>\n",
       "    <tr>\n",
       "      <th>https://geektimes.ru/post/112/</th>\n",
       "      <td>0.000000</td>\n",
       "    </tr>\n",
       "    <tr>\n",
       "      <th>https://geektimes.ru/post/1127/</th>\n",
       "      <td>0.000000</td>\n",
       "    </tr>\n",
       "    <tr>\n",
       "      <th>https://geektimes.ru/post/12664/</th>\n",
       "      <td>0.000000</td>\n",
       "    </tr>\n",
       "  </tbody>\n",
       "</table>\n",
       "</div>"
      ],
      "text/plain": [
       "                                    target\n",
       "url                                       \n",
       "https://habrahabr.ru/post/7/      0.693147\n",
       "https://geektimes.ru/post/11/     1.098612\n",
       "https://geektimes.ru/post/112/    0.000000\n",
       "https://geektimes.ru/post/1127/   0.000000\n",
       "https://geektimes.ru/post/12664/  0.000000"
      ]
     },
     "execution_count": 22,
     "metadata": {},
     "output_type": "execute_result"
    }
   ],
   "source": [
    "train_target.head()"
   ]
  },
  {
   "cell_type": "code",
   "execution_count": 40,
   "metadata": {
    "collapsed": false
   },
   "outputs": [
    {
     "data": {
      "text/html": [
       "<div>\n",
       "<style>\n",
       "    .dataframe thead tr:only-child th {\n",
       "        text-align: right;\n",
       "    }\n",
       "\n",
       "    .dataframe thead th {\n",
       "        text-align: left;\n",
       "    }\n",
       "\n",
       "    .dataframe tbody tr th {\n",
       "        vertical-align: top;\n",
       "    }\n",
       "</style>\n",
       "<table border=\"1\" class=\"dataframe\">\n",
       "  <thead>\n",
       "    <tr style=\"text-align: right;\">\n",
       "      <th></th>\n",
       "      <th>target</th>\n",
       "    </tr>\n",
       "    <tr>\n",
       "      <th>url</th>\n",
       "      <th></th>\n",
       "    </tr>\n",
       "  </thead>\n",
       "  <tbody>\n",
       "    <tr>\n",
       "      <th>https://habrahabr.ru/post/7/</th>\n",
       "      <td>0.693147</td>\n",
       "    </tr>\n",
       "  </tbody>\n",
       "</table>\n",
       "</div>"
      ],
      "text/plain": [
       "                                target\n",
       "url                                   \n",
       "https://habrahabr.ru/post/7/  0.693147"
      ]
     },
     "execution_count": 40,
     "metadata": {},
     "output_type": "execute_result"
    }
   ],
   "source": [
    "train_target[train_target.index == train_target.index[0]]"
   ]
  },
  {
   "cell_type": "code",
   "execution_count": 4,
   "metadata": {
    "collapsed": false
   },
   "outputs": [],
   "source": [
    "import re \n",
    "def ModifyStr(astr):\n",
    "    return(re.sub(r'([^\\s\\w]|_)+', '', astr.lower()))\n",
    "    #return(re.sub(r'([^\\s\\w]|_)+', '', astr))\n",
    "\n",
    "    \n",
    "def TagsToStr(tags):\n",
    "    if len(tags) == 0:\n",
    "        return(' None')\n",
    "    else:\n",
    "        astr = ''\n",
    "        for j in range(len(tags)):\n",
    "            astr += ' '  + ModifyStr(str(tags[j]))\n",
    "        return(astr)\n",
    "    \n",
    "def HubsToStr(hubs):\n",
    "    if len(hubs) == 0:\n",
    "        return(' None')\n",
    "    else:\n",
    "        astr = ''\n",
    "        for j in range(len(hubs)):\n",
    "            astr += ' ' + ModifyStr(str(hubs[j]['title']))\n",
    "        return(astr)"
   ]
  },
  {
   "cell_type": "code",
   "execution_count": 154,
   "metadata": {
    "collapsed": false
   },
   "outputs": [
    {
     "name": "stdout",
     "output_type": "stream",
     "text": [
      "1000\n",
      "2000\n",
      "3000\n",
      "4000\n",
      "5000\n",
      "6000\n",
      "7000\n",
      "8000\n",
      "9000\n",
      "10000\n",
      "11000\n",
      "12000\n",
      "13000\n",
      "14000\n",
      "15000\n",
      "16000\n",
      "17000\n",
      "18000\n",
      "19000\n",
      "20000\n",
      "21000\n",
      "22000\n",
      "23000\n",
      "24000\n",
      "25000\n",
      "26000\n",
      "27000\n",
      "28000\n",
      "29000\n",
      "30000\n",
      "31000\n",
      "32000\n",
      "33000\n",
      "34000\n",
      "35000\n",
      "36000\n",
      "37000\n",
      "38000\n",
      "39000\n",
      "40000\n",
      "41000\n",
      "42000\n",
      "43000\n",
      "44000\n",
      "45000\n",
      "46000\n",
      "47000\n",
      "48000\n",
      "49000\n",
      "50000\n",
      "51000\n",
      "52000\n",
      "53000\n",
      "54000\n",
      "55000\n",
      "56000\n",
      "57000\n",
      "58000\n",
      "59000\n",
      "60000\n",
      "61000\n",
      "62000\n",
      "63000\n",
      "64000\n",
      "65000\n",
      "66000\n",
      "67000\n",
      "68000\n",
      "69000\n",
      "70000\n",
      "71000\n",
      "72000\n",
      "73000\n",
      "74000\n",
      "75000\n",
      "76000\n",
      "77000\n",
      "78000\n",
      "79000\n",
      "80000\n",
      "81000\n",
      "82000\n",
      "83000\n",
      "84000\n",
      "85000\n",
      "86000\n",
      "87000\n",
      "88000\n",
      "89000\n",
      "90000\n",
      "91000\n",
      "92000\n",
      "93000\n",
      "94000\n",
      "95000\n",
      "96000\n",
      "97000\n",
      "98000\n",
      "99000\n",
      "100000\n",
      "101000\n",
      "102000\n",
      "103000\n",
      "104000\n",
      "105000\n",
      "106000\n",
      "107000\n",
      "108000\n",
      "109000\n",
      "110000\n",
      "111000\n",
      "112000\n",
      "113000\n",
      "114000\n",
      "115000\n",
      "116000\n",
      "117000\n",
      "118000\n",
      "119000\n",
      "120000\n"
     ]
    }
   ],
   "source": [
    "count = 0\n",
    "with open('D:/train.json', 'r') as f:\n",
    "    for line in f:\n",
    "        traindat = json.loads(line)\n",
    "        url = traindat['url']\n",
    "        prob = train_target[train_target.index == url].values[0][0]\n",
    "        #print(url, prob, traindat['title'], traindat['tags'], traindat['domain'], traindat['flow'], traindat['author'], traindat['hubs'])\n",
    "        #print(traindat)\n",
    "        astr = str(prob) + ' |'\n",
    "        #atitle = traindat['title'].strip('!?,.-+=*::|/\\\\').strip(':').lower()\n",
    "        atitle = ModifyStr(traindat['title'])\n",
    "        #print(atitle.strip('='))\n",
    "        astr += 'title ' + str(atitle) + ' |'\n",
    "        astr += 'tags' + TagsToStr(traindat['tags']) + ' |'\n",
    "        astr += 'domain ' + ModifyStr(str(traindat['domain'])) + ' |'\n",
    "        astr += 'flow ' + ModifyStr(str(traindat['flow'])) + ' |'\n",
    "        astr += 'author ' + ModifyStr(str(traindat['author']['nickname'])) + ' |'\n",
    "        astr += 'hubs ' + HubsToStr(traindat['hubs']) + ' |'\n",
    "        astr += 'num content_len:' + str(len(traindat['content'])/1000000)\n",
    "        atime = datetime.datetime.strptime(traindat['published']['$date'][0:10] + ' ' + traindat['published']['$date'][11:19], '%Y-%m-%d %H:%M:%S')\n",
    "        #print(atime)\n",
    "        astr += ' meanword:' + str(traindat['content'].count(' ')/(0.0001+len(traindat['content'])))\n",
    "        astr += ' dayofweek:' + str(atime.weekday())\n",
    "        #astr += ' month:' + str(atime.month)\n",
    "        astr += '\\n'\n",
    "        #astr += ' hour:' + str(atime.hour) + '\\n'\n",
    "        #print(astr)\n",
    "        with open('D:/habr_train_alt4.vw', 'a', encoding = 'utf-8') as g:\n",
    "            g.write(astr)\n",
    "        g.close()\n",
    "        count += 1\n",
    "        #if count > 10:\n",
    "        #    break\n",
    "        if count % 1000 == 0:\n",
    "            print(count)\n",
    "f.close()"
   ]
  },
  {
   "cell_type": "code",
   "execution_count": 149,
   "metadata": {
    "collapsed": false
   },
   "outputs": [
    {
     "data": {
      "text/plain": [
       "{'name': 'ayambit',\n",
       " 'nickname': '@ayambit',\n",
       " 'url': 'https://geektimes.ru/users/ayambit'}"
      ]
     },
     "execution_count": 149,
     "metadata": {},
     "output_type": "execute_result"
    }
   ],
   "source": [
    "traindat['author']"
   ]
  },
  {
   "cell_type": "code",
   "execution_count": 113,
   "metadata": {
    "collapsed": false
   },
   "outputs": [
    {
     "data": {
      "text/plain": [
       "datetime.datetime(2006, 7, 15, 1, 48)"
      ]
     },
     "execution_count": 113,
     "metadata": {},
     "output_type": "execute_result"
    }
   ],
   "source": [
    "datetime.datetime.strptime(traindat['published']['$date'][0:10] + ' ' + traindat['published']['$date'][11:19], '%Y-%m-%d %H:%M:%S')\n",
    "#datetime.datetime.strptime(traindat['published']['$date'], '%Y-%m-%d')"
   ]
  },
  {
   "cell_type": "markdown",
   "metadata": {},
   "source": [
    "Сформируйте обучающую выборку для Vowpal Wabbit, выберите признаки title, title, tags, domain, flow, author, и hubs из JSON-файла.\n",
    "От самого текста для начала просто возьмем его длину – постройте признак content_len – длина текста в миллионнах символов.\n",
    "Также постройте признаки – час и месяц публикации статьи. Еще, конечно же, возьмите ответы на обучающей выборке из `train_target`. Ниже пример того, как могут выглядеть первые две строки нового файла."
   ]
  },
  {
   "cell_type": "code",
   "execution_count": 23,
   "metadata": {
    "collapsed": false
   },
   "outputs": [
    {
     "name": "stdout",
     "output_type": "stream",
     "text": [
      "0.6931470000000001 |title Самопроизвольное разлогинивание |tags логин login |domain habrahabr.ru |flow None |author @ptitov |hubs Хабрахабр |num content_len:0.0 month:7 hour:1\r\n",
      "1.0986120000000001 |title Stand-along cообщества против сообществ в рамках социальных сетей |tags сообщества интернет-сообщество социальные сети нишевой бренд |domain geektimes.ru |flow None |author @AlexBruce |hubs Чёрная дыра |num content_len:0.0 month:7 hour:14\r\n"
     ]
    }
   ],
   "source": [
    "!head -2 ../../data/habr_train.vw"
   ]
  },
  {
   "cell_type": "code",
   "execution_count": null,
   "metadata": {
    "collapsed": true
   },
   "outputs": [],
   "source": [
    "with open('../../data/train.json') as inp_json, \\\n",
    "     open('../../data/habr_train.vw', 'w') as out_vw:\n",
    "    for line in tqdm_notebook(inp_json):\n",
    "        data_json = json.loads(line)\n",
    "        \n",
    "        # Ваш код здесь"
   ]
  },
  {
   "cell_type": "markdown",
   "metadata": {},
   "source": [
    "Проделайте все то же с тестовой выборкой, вместо ответов подсовывая что угодно, например, единицы."
   ]
  },
  {
   "cell_type": "code",
   "execution_count": 124,
   "metadata": {
    "collapsed": false
   },
   "outputs": [
    {
     "name": "stdout",
     "output_type": "stream",
     "text": [
      "1000\n",
      "2000\n",
      "3000\n",
      "4000\n",
      "5000\n",
      "6000\n",
      "7000\n",
      "8000\n",
      "9000\n",
      "10000\n",
      "11000\n",
      "12000\n",
      "13000\n",
      "14000\n",
      "15000\n",
      "16000\n",
      "17000\n",
      "18000\n",
      "19000\n",
      "20000\n",
      "21000\n",
      "22000\n",
      "23000\n",
      "24000\n",
      "25000\n",
      "26000\n",
      "27000\n",
      "28000\n",
      "29000\n",
      "30000\n",
      "31000\n",
      "32000\n",
      "33000\n",
      "34000\n",
      "35000\n",
      "36000\n",
      "37000\n",
      "38000\n",
      "39000\n",
      "40000\n",
      "41000\n",
      "42000\n",
      "43000\n",
      "44000\n",
      "45000\n",
      "46000\n",
      "47000\n",
      "48000\n",
      "49000\n",
      "50000\n",
      "51000\n",
      "52000\n"
     ]
    }
   ],
   "source": [
    "count = 0\n",
    "with open('D:/test.json', 'r') as f:\n",
    "    for line in f:\n",
    "        traindat = json.loads(line)\n",
    "        url = traindat['url']\n",
    "        prob = 1\n",
    "        #print(url, prob, traindat['title'], traindat['tags'], traindat['domain'], traindat['flow'], traindat['author'], traindat['hubs'])\n",
    "        #print(traindat)\n",
    "        astr = str(prob) + ' |'\n",
    "        astr += 'title ' + str(traindat['title']) + ' |'\n",
    "        astr += 'tags' + TagsToStr(traindat['tags']) + ' |'\n",
    "        astr += 'domain ' + str(traindat['domain']) + ' |'\n",
    "        astr += 'flow ' + str(traindat['flow']) + ' |'\n",
    "        astr += 'author ' + str(traindat['author']['name']) + ' |'\n",
    "        astr += 'hubs ' + HubsToStr(traindat['hubs']) + ' |'\n",
    "        astr += 'num content_len:' + str(len(traindat['content'])/1000000)\n",
    "        atime = datetime.datetime.strptime(traindat['published']['$date'][0:10] + ' ' + traindat['published']['$date'][11:19], '%Y-%m-%d %H:%M:%S')\n",
    "        #print(atime)\n",
    "        astr += ' month:' + str(atime.month)\n",
    "        astr += ' hour:' + str(atime.hour) + '\\n'\n",
    "        #print(astr)\n",
    "        with open('D:/habr_test.vw', 'a', encoding = 'utf-8') as g:\n",
    "            g.write(astr)\n",
    "        g.close()\n",
    "        count += 1\n",
    "        if count % 1000 == 0:\n",
    "            print(count)\n",
    "f.close()"
   ]
  },
  {
   "cell_type": "code",
   "execution_count": 24,
   "metadata": {
    "collapsed": false
   },
   "outputs": [
    {
     "name": "stdout",
     "output_type": "stream",
     "text": [
      "1 |title День Пи! |tags Пи Pi |domain geektimes.ru |flow None |author @Timursan |hubs Чёрная дыра |num content_len:0.0 month:3 hour:3\r\n",
      "1 |title Скрипт для разбиения образов музыкальных CD на треки и конвертации в формат FLAC |tags bash lossless |domain geektimes.ru |flow None |author @da3mon |hubs Чёрная дыра |num content_len:0.01 month:3 hour:0\r\n"
     ]
    }
   ],
   "source": [
    "!head -2 ../../data/habr_test.vw"
   ]
  },
  {
   "cell_type": "markdown",
   "metadata": {},
   "source": [
    "Выбор того, как валидировать модель, остается за Вами. Проще всего, конечно, сделать отложенную выборку. Бенчмарк, который Вы видите в соревновании (**vw_baseline.csv**) и который надо побить, получен с Vowpal Wabbit, 3 проходами по выборке (не забываем удалять кэш), биграммами и настроенными гиперпараметрами `bits`, `learning_rate` и `power_t`. "
   ]
  },
  {
   "cell_type": "code",
   "execution_count": 155,
   "metadata": {
    "collapsed": true
   },
   "outputs": [],
   "source": [
    "with open('D:/habr_train_alt4_pred1.txt') as pred_file:\n",
    "    valid_prediction = [float(label) \n",
    "                             for label in pred_file.readlines()]"
   ]
  },
  {
   "cell_type": "code",
   "execution_count": 227,
   "metadata": {
    "collapsed": true
   },
   "outputs": [],
   "source": [
    "with open('D:/habr_train_alt4_model1.txt') as pred_file:\n",
    "    valid_prediction = [float(label) \n",
    "                             for label in pred_file.readlines()]"
   ]
  },
  {
   "cell_type": "code",
   "execution_count": 228,
   "metadata": {
    "collapsed": false
   },
   "outputs": [
    {
     "data": {
      "text/plain": [
       "0.75194658837499995"
      ]
     },
     "execution_count": 228,
     "metadata": {},
     "output_type": "execute_result"
    }
   ],
   "source": [
    "sklearn.metrics.mean_absolute_error(valid_prediction, train_target.values)"
   ]
  },
  {
   "cell_type": "code",
   "execution_count": 229,
   "metadata": {
    "collapsed": true
   },
   "outputs": [],
   "source": [
    "with open('D:/habr_train_alt4_model2.txt') as pred_file:\n",
    "    valid_prediction = [float(label) \n",
    "                             for label in pred_file.readlines()]"
   ]
  },
  {
   "cell_type": "code",
   "execution_count": 230,
   "metadata": {
    "collapsed": false
   },
   "outputs": [
    {
     "data": {
      "text/plain": [
       "0.75590993850833343"
      ]
     },
     "execution_count": 230,
     "metadata": {},
     "output_type": "execute_result"
    }
   ],
   "source": [
    "sklearn.metrics.mean_absolute_error(valid_prediction, train_target.values)"
   ]
  },
  {
   "cell_type": "code",
   "execution_count": 158,
   "metadata": {
    "collapsed": false
   },
   "outputs": [
    {
     "data": {
      "text/plain": [
       "(120000, 120000)"
      ]
     },
     "execution_count": 158,
     "metadata": {},
     "output_type": "execute_result"
    }
   ],
   "source": [
    "len(valid_prediction), len(train_target.values)"
   ]
  },
  {
   "cell_type": "code",
   "execution_count": 164,
   "metadata": {
    "collapsed": false
   },
   "outputs": [
    {
     "data": {
      "text/plain": [
       "(0.75590993850833343, 0.97563168241151366)"
      ]
     },
     "execution_count": 164,
     "metadata": {},
     "output_type": "execute_result"
    }
   ],
   "source": [
    "import sklearn.metrics\n",
    "sklearn.metrics.mean_absolute_error(valid_prediction, train_target.values), sklearn.metrics.mean_squared_error(valid_prediction, train_target.values)"
   ]
  },
  {
   "cell_type": "code",
   "execution_count": 166,
   "metadata": {
    "collapsed": true
   },
   "outputs": [],
   "source": [
    "with open('D:/habr_train_alt2_pred1.txt') as pred_file:\n",
    "    valid_prediction = [float(label) \n",
    "                             for label in pred_file.readlines()]"
   ]
  },
  {
   "cell_type": "code",
   "execution_count": 167,
   "metadata": {
    "collapsed": false
   },
   "outputs": [
    {
     "data": {
      "text/plain": [
       "(0.75325537103333329, 0.95012043376012634)"
      ]
     },
     "execution_count": 167,
     "metadata": {},
     "output_type": "execute_result"
    }
   ],
   "source": [
    "sklearn.metrics.mean_absolute_error(valid_prediction, train_target.values), sklearn.metrics.mean_squared_error(valid_prediction, train_target.values)"
   ]
  },
  {
   "cell_type": "code",
   "execution_count": 38,
   "metadata": {
    "collapsed": true
   },
   "outputs": [],
   "source": [
    "import random"
   ]
  },
  {
   "cell_type": "code",
   "execution_count": 39,
   "metadata": {
    "collapsed": true
   },
   "outputs": [],
   "source": [
    "myindices = range(0,  120001)"
   ]
  },
  {
   "cell_type": "code",
   "execution_count": 40,
   "metadata": {
    "collapsed": true
   },
   "outputs": [],
   "source": [
    "random.seed(239)\n",
    "myindices1 = random.sample(myindices, 84000)"
   ]
  },
  {
   "cell_type": "code",
   "execution_count": 41,
   "metadata": {
    "collapsed": false
   },
   "outputs": [
    {
     "data": {
      "text/plain": [
       "[15560, 25104, 108474, 93136, 19637, 54647, 13521, 57160, 8087, 48207]"
      ]
     },
     "execution_count": 41,
     "metadata": {},
     "output_type": "execute_result"
    }
   ],
   "source": [
    "myindices1[0:10]"
   ]
  },
  {
   "cell_type": "code",
   "execution_count": 198,
   "metadata": {
    "collapsed": false
   },
   "outputs": [
    {
     "name": "stdout",
     "output_type": "stream",
     "text": [
      "1000\n",
      "2000\n",
      "3000\n",
      "4000\n",
      "5000\n",
      "6000\n",
      "7000\n",
      "8000\n",
      "9000\n",
      "10000\n",
      "11000\n",
      "12000\n",
      "13000\n",
      "14000\n",
      "15000\n",
      "16000\n",
      "17000\n",
      "18000\n",
      "19000\n",
      "20000\n",
      "21000\n",
      "22000\n",
      "23000\n",
      "24000\n",
      "25000\n",
      "26000\n",
      "27000\n",
      "28000\n",
      "29000\n",
      "30000\n",
      "31000\n",
      "32000\n",
      "33000\n",
      "34000\n",
      "35000\n",
      "36000\n",
      "37000\n",
      "38000\n",
      "39000\n",
      "40000\n",
      "41000\n",
      "42000\n",
      "43000\n",
      "44000\n",
      "45000\n",
      "46000\n",
      "47000\n",
      "48000\n",
      "49000\n",
      "50000\n",
      "51000\n",
      "52000\n",
      "53000\n",
      "54000\n",
      "55000\n",
      "56000\n",
      "57000\n",
      "58000\n",
      "59000\n",
      "60000\n",
      "61000\n",
      "62000\n",
      "63000\n",
      "64000\n",
      "65000\n",
      "66000\n",
      "67000\n",
      "68000\n",
      "69000\n",
      "70000\n",
      "71000\n",
      "72000\n",
      "73000\n",
      "74000\n",
      "75000\n",
      "76000\n",
      "77000\n",
      "78000\n",
      "79000\n",
      "80000\n",
      "81000\n",
      "82000\n",
      "83000\n",
      "84000\n",
      "85000\n",
      "86000\n",
      "87000\n",
      "88000\n",
      "89000\n",
      "90000\n",
      "91000\n",
      "92000\n",
      "93000\n",
      "94000\n",
      "95000\n",
      "96000\n",
      "97000\n",
      "98000\n",
      "99000\n",
      "100000\n",
      "101000\n",
      "102000\n",
      "103000\n",
      "104000\n",
      "105000\n",
      "106000\n",
      "107000\n",
      "108000\n",
      "109000\n",
      "110000\n",
      "111000\n",
      "112000\n",
      "113000\n",
      "114000\n",
      "115000\n",
      "116000\n",
      "117000\n",
      "118000\n",
      "119000\n",
      "120000\n"
     ]
    }
   ],
   "source": [
    "count = 0\n",
    "with open('D:/train.json', 'r') as f:\n",
    "    for line in f:\n",
    "        traindat = json.loads(line)\n",
    "        url = traindat['url']\n",
    "        prob = train_target[train_target.index == url].values[0][0]\n",
    "        #print(url, prob, traindat['title'], traindat['tags'], traindat['domain'], traindat['flow'], traindat['author'], traindat['hubs'])\n",
    "        #print(traindat)\n",
    "        astr = str(prob) + ' |'\n",
    "        #atitle = traindat['title'].strip('!?,.-+=*::|/\\\\').strip(':').lower()\n",
    "        atitle = ModifyStr(traindat['title'])\n",
    "        #print(atitle.strip('='))\n",
    "        astr += 'title ' + str(atitle) + ' |'\n",
    "        astr += 'tags' + TagsToStr(traindat['tags']) + ' |'\n",
    "        astr += 'domain ' + ModifyStr(str(traindat['domain'])) + ' |'\n",
    "        astr += 'flow ' + ModifyStr(str(traindat['flow'])) + ' |'\n",
    "        astr += 'author ' + ModifyStr(str(traindat['author']['nickname'])) + ' |'\n",
    "        astr += 'hubs ' + HubsToStr(traindat['hubs']) + ' |'\n",
    "        astr += 'num content_len:' + str(len(traindat['content'])/1000000)\n",
    "        atime = datetime.datetime.strptime(traindat['published']['$date'][0:10] + ' ' + traindat['published']['$date'][11:19], '%Y-%m-%d %H:%M:%S')\n",
    "        #print(atime)\n",
    "        #astr += ' meanword:' + str(traindat['content'].count(' ')/(0.0001+len(traindat['content'])))\n",
    "        #astr += ' dayofweek:' + str(atime.weekday())\n",
    "        astr += ' month:' + str(atime.month)\n",
    "        #astr += '\\n'\n",
    "        astr += ' hour:' + str(atime.hour) + '\\n'\n",
    "        #print(astr)\n",
    "        if count in myindices1:\n",
    "            with open('D:/habr_minitrain_alt2.vw', 'a', encoding = 'utf-8') as g:\n",
    "                g.write(astr)\n",
    "        else:\n",
    "             with open('D:/habr_minitest_alt2.vw', 'a', encoding = 'utf-8') as g:\n",
    "                g.write(astr)           \n",
    "        g.close()\n",
    "        count += 1\n",
    "        #if count > 10:\n",
    "        #    break\n",
    "        if count % 1000 == 0:\n",
    "            print(count)\n",
    "f.close()"
   ]
  },
  {
   "cell_type": "code",
   "execution_count": 45,
   "metadata": {
    "collapsed": false
   },
   "outputs": [
    {
     "name": "stdout",
     "output_type": "stream",
     "text": [
      "1000\n",
      "2000\n",
      "3000\n",
      "4000\n",
      "5000\n",
      "6000\n",
      "7000\n",
      "8000\n",
      "9000\n",
      "10000\n",
      "11000\n",
      "12000\n",
      "13000\n",
      "14000\n",
      "15000\n",
      "16000\n",
      "17000\n",
      "18000\n",
      "19000\n",
      "20000\n",
      "21000\n",
      "22000\n",
      "23000\n",
      "24000\n",
      "25000\n",
      "26000\n",
      "27000\n",
      "28000\n",
      "29000\n",
      "30000\n",
      "31000\n",
      "32000\n",
      "33000\n",
      "34000\n",
      "35000\n",
      "36000\n",
      "37000\n",
      "38000\n",
      "39000\n",
      "40000\n",
      "41000\n",
      "42000\n",
      "43000\n",
      "44000\n",
      "45000\n",
      "46000\n",
      "47000\n",
      "48000\n",
      "49000\n",
      "50000\n",
      "51000\n",
      "52000\n",
      "53000\n",
      "54000\n",
      "55000\n",
      "56000\n",
      "57000\n",
      "58000\n",
      "59000\n",
      "60000\n",
      "61000\n",
      "62000\n",
      "63000\n",
      "64000\n",
      "65000\n",
      "66000\n",
      "67000\n",
      "68000\n",
      "69000\n",
      "70000\n",
      "71000\n",
      "72000\n",
      "73000\n",
      "74000\n",
      "75000\n",
      "76000\n",
      "77000\n",
      "78000\n",
      "79000\n",
      "80000\n",
      "81000\n",
      "82000\n",
      "83000\n",
      "84000\n",
      "85000\n",
      "86000\n",
      "87000\n",
      "88000\n",
      "89000\n",
      "90000\n",
      "91000\n",
      "92000\n",
      "93000\n",
      "94000\n",
      "95000\n",
      "96000\n",
      "97000\n",
      "98000\n",
      "99000\n",
      "100000\n",
      "101000\n",
      "102000\n",
      "103000\n",
      "104000\n",
      "105000\n",
      "106000\n",
      "107000\n",
      "108000\n",
      "109000\n",
      "110000\n",
      "111000\n",
      "112000\n",
      "113000\n",
      "114000\n",
      "115000\n",
      "116000\n",
      "117000\n",
      "118000\n",
      "119000\n",
      "120000\n"
     ]
    }
   ],
   "source": [
    "count = 0\n",
    "with open('D:/train.json', 'r') as f:\n",
    "    for line in f:\n",
    "        traindat = json.loads(line)\n",
    "        url = traindat['url']\n",
    "        prob = train_target[train_target.index == url].values[0][0]\n",
    "        #print(url, prob, traindat['title'], traindat['tags'], traindat['domain'], traindat['flow'], traindat['author'], traindat['hubs'])\n",
    "        #print(traindat)\n",
    "        astr = str(prob) + ' |'\n",
    "        #atitle = traindat['title'].strip('!?,.-+=*::|/\\\\').strip(':').lower()\n",
    "        atitle = ModifyStr(traindat['title'])\n",
    "        #print(atitle.strip('='))\n",
    "        astr += 'title ' + str(atitle) + ' |'\n",
    "        astr += 'tags' + TagsToStr(traindat['tags']) + ' |'\n",
    "        astr += 'domain ' + ModifyStr(str(traindat['domain'])) + ' |'\n",
    "        astr += 'flow ' + ModifyStr(str(traindat['flow'])) + ' |'\n",
    "        astr += 'author ' + ModifyStr(str(traindat['author']['nickname'])) + ' |'\n",
    "        astr += 'content ' + ModifyStr(traindat['content']).replace('\\n', ' ').replace('\\t', ' ') + ' |'\n",
    "        astr += 'hubs ' + HubsToStr(traindat['hubs']) + ' |'\n",
    "        astr += 'num content_len:' + str(len(traindat['content'])/1000000)\n",
    "        atime = datetime.datetime.strptime(traindat['published']['$date'][0:10] + ' ' + traindat['published']['$date'][11:19], '%Y-%m-%d %H:%M:%S')\n",
    "        #print(atime)\n",
    "        astr += ' meanword:' + str(round(traindat['content'].count(' ')/(0.0001+len(traindat['content'])), 3))\n",
    "        astr += ' dayofweek:' + str(atime.weekday())\n",
    "        astr += ' month:' + str(atime.month)\n",
    "        #astr += '\\n'\n",
    "        astr += ' hour:' + str(atime.hour) + '\\n'\n",
    "        #print(astr)\n",
    "        if count in myindices1:\n",
    "            with open('D:/habr_minitrain_alt0f.vw', 'a', encoding = 'utf-8') as g:\n",
    "                g.write(astr)\n",
    "        else:\n",
    "             with open('D:/habr_minitest_alt0f.vw', 'a', encoding = 'utf-8') as g:\n",
    "                g.write(astr)           \n",
    "        g.close()\n",
    "        with open('D:/habr_train_alt0f.vw', 'a', encoding = 'utf-8') as g:\n",
    "            g.write(astr)\n",
    "        g.close()\n",
    "        count += 1\n",
    "        #if count > 10:\n",
    "        #    break\n",
    "        if count % 1000 == 0:\n",
    "            print(count)\n",
    "f.close()"
   ]
  },
  {
   "cell_type": "code",
   "execution_count": 5,
   "metadata": {
    "collapsed": false
   },
   "outputs": [
    {
     "name": "stdout",
     "output_type": "stream",
     "text": [
      "1000\n",
      "2000\n",
      "3000\n",
      "4000\n",
      "5000\n",
      "6000\n",
      "7000\n",
      "8000\n",
      "9000\n",
      "10000\n",
      "11000\n",
      "12000\n",
      "13000\n",
      "14000\n",
      "15000\n",
      "16000\n",
      "17000\n",
      "18000\n",
      "19000\n",
      "20000\n",
      "21000\n",
      "22000\n",
      "23000\n",
      "24000\n",
      "25000\n",
      "26000\n",
      "27000\n",
      "28000\n",
      "29000\n",
      "30000\n",
      "31000\n",
      "32000\n",
      "33000\n",
      "34000\n",
      "35000\n",
      "36000\n",
      "37000\n",
      "38000\n",
      "39000\n",
      "40000\n",
      "41000\n",
      "42000\n",
      "43000\n",
      "44000\n",
      "45000\n",
      "46000\n",
      "47000\n",
      "48000\n",
      "49000\n",
      "50000\n",
      "51000\n",
      "52000\n",
      "53000\n",
      "54000\n",
      "55000\n",
      "56000\n",
      "57000\n",
      "58000\n",
      "59000\n",
      "60000\n",
      "61000\n",
      "62000\n",
      "63000\n",
      "64000\n",
      "65000\n",
      "66000\n",
      "67000\n",
      "68000\n",
      "69000\n",
      "70000\n",
      "71000\n",
      "72000\n",
      "73000\n",
      "74000\n",
      "75000\n",
      "76000\n",
      "77000\n",
      "78000\n",
      "79000\n",
      "80000\n",
      "81000\n",
      "82000\n",
      "83000\n",
      "84000\n",
      "85000\n",
      "86000\n",
      "87000\n",
      "88000\n",
      "89000\n",
      "90000\n",
      "91000\n",
      "92000\n",
      "93000\n",
      "94000\n",
      "95000\n",
      "96000\n",
      "97000\n",
      "98000\n",
      "99000\n",
      "100000\n",
      "101000\n",
      "102000\n",
      "103000\n",
      "104000\n",
      "105000\n",
      "106000\n",
      "107000\n",
      "108000\n",
      "109000\n",
      "110000\n",
      "111000\n",
      "112000\n",
      "113000\n",
      "114000\n",
      "115000\n",
      "116000\n",
      "117000\n",
      "118000\n",
      "119000\n",
      "120000\n"
     ]
    }
   ],
   "source": [
    "count = 0\n",
    "traintargetan = []\n",
    "testtargetan = []\n",
    "with open('D:/train.json', 'r') as f:\n",
    "    for line in f:\n",
    "        traindat = json.loads(line)\n",
    "        url = traindat['url']\n",
    "        prob = train_target[train_target.index == url].values[0][0]\n",
    "        #print(url, prob, traindat['title'], traindat['tags'], traindat['domain'], traindat['flow'], traindat['author'], traindat['hubs'])\n",
    "        #print(traindat)\n",
    "        astr = str(prob) + ' |'\n",
    "        #atitle = traindat['title'].strip('!?,.-+=*::|/\\\\').strip(':').lower()\n",
    "        atitle = ModifyStr(traindat['title'])\n",
    "        #print(atitle.strip('='))\n",
    "        astr += 'title ' + str(atitle) + ' |'\n",
    "        astr += 'tags' + TagsToStr(traindat['tags']) + ' |'\n",
    "        astr += 'domain ' + ModifyStr(str(traindat['domain'])) + ' |'\n",
    "        astr += 'flow ' + ModifyStr(str(traindat['flow'])) + ' |'\n",
    "        astr += 'author ' + ModifyStr(str(traindat['author']['nickname'])) + ' |'\n",
    "        astr += 'hubs ' + HubsToStr(traindat['hubs']) + ' |'\n",
    "        astr += 'num content_len:' + str(len(traindat['content'])/1000000)\n",
    "        atime = datetime.datetime.strptime(traindat['published']['$date'][0:10] + ' ' + traindat['published']['$date'][11:19], '%Y-%m-%d %H:%M:%S')\n",
    "        #print(atime)\n",
    "        astr += ' meanword:' + str(round(traindat['content'].count(' ')/(0.0001+len(traindat['content'])), 3))\n",
    "        astr += ' dayofweek:' + str(atime.weekday())\n",
    "        astr += ' month:' + str(atime.month)\n",
    "        #astr += '\\n'\n",
    "        astr += ' hour:' + str(atime.hour) + '\\n'\n",
    "        #print(astr)\n",
    "        if count < 84000:\n",
    "            #with open('D:/habr_minitrain_alt0_an.vw', 'a', encoding = 'utf-8') as g:\n",
    "            #    g.write(astr)\n",
    "            traintargetan.append(prob)\n",
    "        else:\n",
    "            #with open('D:/habr_minitest_alt0_an.vw', 'a', encoding = 'utf-8') as g:\n",
    "            #    g.write(astr)\n",
    "            testtargetan.append(prob)\n",
    "        #g.close()\n",
    "        count += 1\n",
    "        #if count > 10:\n",
    "        #    break\n",
    "        if count % 1000 == 0:\n",
    "            print(count)\n",
    "f.close()"
   ]
  },
  {
   "cell_type": "code",
   "execution_count": 95,
   "metadata": {
    "collapsed": false
   },
   "outputs": [
    {
     "name": "stdout",
     "output_type": "stream",
     "text": [
      "1000\n",
      "2000\n",
      "3000\n",
      "4000\n",
      "5000\n",
      "6000\n",
      "7000\n",
      "8000\n",
      "9000\n",
      "10000\n",
      "11000\n",
      "12000\n",
      "13000\n",
      "14000\n",
      "15000\n",
      "16000\n",
      "17000\n",
      "18000\n",
      "19000\n",
      "20000\n",
      "21000\n",
      "22000\n",
      "23000\n",
      "24000\n",
      "25000\n",
      "26000\n",
      "27000\n",
      "28000\n",
      "29000\n",
      "30000\n",
      "31000\n",
      "32000\n",
      "33000\n",
      "34000\n",
      "35000\n",
      "36000\n",
      "37000\n",
      "38000\n",
      "39000\n",
      "40000\n",
      "41000\n",
      "42000\n",
      "43000\n",
      "44000\n",
      "45000\n",
      "46000\n",
      "47000\n",
      "48000\n",
      "49000\n",
      "50000\n",
      "51000\n",
      "52000\n",
      "53000\n",
      "54000\n",
      "55000\n",
      "56000\n",
      "57000\n",
      "58000\n",
      "59000\n",
      "60000\n",
      "61000\n",
      "62000\n",
      "63000\n",
      "64000\n",
      "65000\n",
      "66000\n",
      "67000\n",
      "68000\n",
      "69000\n",
      "70000\n",
      "71000\n",
      "72000\n",
      "73000\n",
      "74000\n",
      "75000\n",
      "76000\n",
      "77000\n",
      "78000\n",
      "79000\n",
      "80000\n",
      "81000\n",
      "82000\n",
      "83000\n",
      "84000\n",
      "85000\n",
      "86000\n",
      "87000\n",
      "88000\n",
      "89000\n",
      "90000\n",
      "91000\n",
      "92000\n",
      "93000\n",
      "94000\n",
      "95000\n",
      "96000\n",
      "97000\n",
      "98000\n",
      "99000\n",
      "100000\n",
      "101000\n",
      "102000\n",
      "103000\n",
      "104000\n",
      "105000\n",
      "106000\n",
      "107000\n",
      "108000\n",
      "109000\n",
      "110000\n",
      "111000\n",
      "112000\n",
      "113000\n",
      "114000\n",
      "115000\n",
      "116000\n",
      "117000\n",
      "118000\n",
      "119000\n",
      "120000\n"
     ]
    }
   ],
   "source": [
    "count = 0\n",
    "with open('D:/train.json', 'r') as f:\n",
    "    for line in f:\n",
    "        traindat = json.loads(line)\n",
    "        url = traindat['url']\n",
    "        prob = train_target[train_target.index == url].values[0][0]\n",
    "        #print(url, prob, traindat['title'], traindat['tags'], traindat['domain'], traindat['flow'], traindat['author'], traindat['hubs'])\n",
    "        #print(traindat)\n",
    "        astr = str(prob) + ' |'\n",
    "        #atitle = traindat['title'].strip('!?,.-+=*::|/\\\\').strip(':').lower()\n",
    "        atitle = ModifyStr(traindat['title'])\n",
    "        #print(atitle.strip('='))\n",
    "        astr += 'title ' + str(atitle) + ' |'\n",
    "        astr += 'tags' + TagsToStr(traindat['tags']) + ' |'\n",
    "        astr += 'domain ' + ModifyStr(str(traindat['domain'])) + ' |'\n",
    "        astr += 'flow ' + ModifyStr(str(traindat['flow'])) + ' |'\n",
    "        astr += 'author ' + ModifyStr(str(traindat['author']['nickname'])) + ' |'\n",
    "        astr += 'hubs ' + HubsToStr(traindat['hubs']) + ' |'\n",
    "        astr += 'num content_len:' + str(round(len(traindat['content'])/1000000, 2))\n",
    "        atime = datetime.datetime.strptime(traindat['published']['$date'][0:10] + ' ' + traindat['published']['$date'][11:19], '%Y-%m-%d %H:%M:%S')\n",
    "        #print(atime)\n",
    "        astr += ' meanword:' + str(round(traindat['content'].count(' ')/(0.0001+len(traindat['content'])), 2))\n",
    "        #astr += ' numspaces:' + str(traindat['content'].count(' ')/10000)\n",
    "        astr += ' dayofweek:' + str(atime.weekday())\n",
    "        astr += ' month:' + str(atime.month)\n",
    "        #astr += '\\n'\n",
    "        astr += ' hour:' + str(atime.hour) + '\\n'\n",
    "        #print(astr)\n",
    "        if count in myindices1:\n",
    "            with open('D:/habr_minitrain_alt0final.vw', 'a', encoding = 'utf-8') as g:\n",
    "                g.write(astr)\n",
    "        else:\n",
    "             with open('D:/habr_minitest_alt0final.vw', 'a', encoding = 'utf-8') as g:\n",
    "                g.write(astr)           \n",
    "        g.close()\n",
    "        with open('D:/habr_train_alt0final.vw', 'a', encoding = 'utf-8') as g:\n",
    "            g.write(astr)\n",
    "        g.close()\n",
    "        count += 1\n",
    "        #if count > 10:\n",
    "        #    break\n",
    "        if count % 1000 == 0:\n",
    "            print(count)\n",
    "f.close()"
   ]
  },
  {
   "cell_type": "code",
   "execution_count": 153,
   "metadata": {
    "collapsed": false
   },
   "outputs": [
    {
     "name": "stdout",
     "output_type": "stream",
     "text": [
      "1000\n",
      "2000\n",
      "3000\n",
      "4000\n",
      "5000\n",
      "6000\n",
      "7000\n",
      "8000\n",
      "9000\n",
      "10000\n",
      "11000\n",
      "12000\n",
      "13000\n",
      "14000\n",
      "15000\n",
      "16000\n",
      "17000\n",
      "18000\n",
      "19000\n",
      "20000\n",
      "21000\n",
      "22000\n",
      "23000\n",
      "24000\n",
      "25000\n",
      "26000\n",
      "27000\n",
      "28000\n",
      "29000\n",
      "30000\n",
      "31000\n",
      "32000\n",
      "33000\n",
      "34000\n",
      "35000\n",
      "36000\n",
      "37000\n",
      "38000\n",
      "39000\n",
      "40000\n",
      "41000\n",
      "42000\n",
      "43000\n",
      "44000\n",
      "45000\n",
      "46000\n",
      "47000\n",
      "48000\n",
      "49000\n",
      "50000\n",
      "51000\n",
      "52000\n"
     ]
    }
   ],
   "source": [
    "count = 0\n",
    "with open('D:/test.json', 'r') as f:\n",
    "    for line in f:\n",
    "        traindat = json.loads(line)\n",
    "        url = traindat['url']\n",
    "        #prob = train_target[train_target.index == url].values[0][0]\n",
    "        #print(url, prob, traindat['title'], traindat['tags'], traindat['domain'], traindat['flow'], traindat['author'], traindat['hubs'])\n",
    "        #print(traindat)\n",
    "        astr = str(0) + ' |'\n",
    "        #atitle = traindat['title'].strip('!?,.-+=*::|/\\\\').strip(':').lower()\n",
    "        atitle = ModifyStr(traindat['title'])\n",
    "        #print(atitle.strip('='))\n",
    "        astr += 'title ' + str(atitle) + ' |'\n",
    "        astr += 'tags' + TagsToStr(traindat['tags']) + ' |'\n",
    "        astr += 'domain ' + ModifyStr(str(traindat['domain'])) + ' |'\n",
    "        astr += 'flow ' + ModifyStr(str(traindat['flow'])) + ' |'\n",
    "        astr += 'author ' + ModifyStr(str(traindat['author']['nickname'])) + ' |'\n",
    "        astr += 'hubs ' + HubsToStr(traindat['hubs']) + ' |'\n",
    "        astr += 'num content_len:' + str(round(len(traindat['content'])/1000000, 2))\n",
    "        atime = datetime.datetime.strptime(traindat['published']['$date'][0:10] + ' ' + traindat['published']['$date'][11:19], '%Y-%m-%d %H:%M:%S')\n",
    "        #print(atime)\n",
    "        astr += ' meanword:' + str(round(traindat['content'].count(' ')/(0.0001+len(traindat['content'])), 2))\n",
    "        #astr += ' numspaces:' + str(traindat['content'].count(' ')/10000)\n",
    "        astr += ' dayofweek:' + str(atime.weekday())\n",
    "        astr += ' month:' + str(atime.month)\n",
    "        #astr += '\\n'\n",
    "        astr += ' hour:' + str(atime.hour) + '\\n'\n",
    "        #print(astr)\n",
    "        #if count in myindices1:\n",
    "        #    with open('D:/habr_minitrain_alt0final.vw', 'a', encoding = 'utf-8') as g:\n",
    "        #        g.write(astr)\n",
    "        #else:\n",
    "        #     with open('D:/habr_minitest_alt0final.vw', 'a', encoding = 'utf-8') as g:\n",
    "        #        g.write(astr)           \n",
    "        #g.close()\n",
    "        with open('D:/habr_test_alt0final.vw', 'a', encoding = 'utf-8') as g:\n",
    "            g.write(astr)\n",
    "        g.close()\n",
    "        count += 1\n",
    "        #if count > 10:\n",
    "        #    break\n",
    "        if count % 1000 == 0:\n",
    "            print(count)\n",
    "f.close()"
   ]
  },
  {
   "cell_type": "code",
   "execution_count": 540,
   "metadata": {
    "collapsed": false
   },
   "outputs": [
    {
     "name": "stdout",
     "output_type": "stream",
     "text": [
      "1000\n",
      "2000\n",
      "3000\n",
      "4000\n",
      "5000\n",
      "6000\n",
      "7000\n",
      "8000\n",
      "9000\n",
      "10000\n",
      "11000\n",
      "12000\n",
      "13000\n",
      "14000\n",
      "15000\n",
      "16000\n",
      "17000\n",
      "18000\n",
      "19000\n",
      "20000\n",
      "21000\n",
      "22000\n",
      "23000\n",
      "24000\n",
      "25000\n",
      "26000\n",
      "27000\n",
      "28000\n",
      "29000\n",
      "30000\n",
      "31000\n",
      "32000\n",
      "33000\n",
      "34000\n",
      "35000\n",
      "36000\n",
      "37000\n",
      "38000\n",
      "39000\n",
      "40000\n",
      "41000\n",
      "42000\n",
      "43000\n",
      "44000\n",
      "45000\n",
      "46000\n",
      "47000\n",
      "48000\n",
      "49000\n",
      "50000\n",
      "51000\n",
      "52000\n"
     ]
    }
   ],
   "source": [
    "count = 0\n",
    "with open('D:/test.json', 'r') as f:\n",
    "    for line in f:\n",
    "        traindat = json.loads(line)\n",
    "        url = traindat['url']\n",
    "        #prob = train_target[train_target.index == url].values[0][0]\n",
    "        #print(url, prob, traindat['title'], traindat['tags'], traindat['domain'], traindat['flow'], traindat['author'], traindat['hubs'])\n",
    "        #print(traindat)\n",
    "        astr = str(1) + ' |'\n",
    "        #atitle = traindat['title'].strip('!?,.-+=*::|/\\\\').strip(':').lower()\n",
    "        atitle = ModifyStr(traindat['title'])\n",
    "        #print(atitle.strip('='))\n",
    "        astr += 'title ' + str(atitle) + ' |'\n",
    "        astr += 'tags' + TagsToStr(traindat['tags']) + ' |'\n",
    "        astr += 'domain ' + ModifyStr(str(traindat['domain'])) + ' |'\n",
    "        astr += 'flow ' + ModifyStr(str(traindat['flow'])) + ' |'\n",
    "        astr += 'author ' + ModifyStr(str(traindat['author']['nickname'])) + ' |'\n",
    "        astr += 'hubs ' + HubsToStr(traindat['hubs']) + ' |'\n",
    "        astr += 'num content_len:' + str(len(traindat['content'])/1000000)\n",
    "        atime = datetime.datetime.strptime(traindat['published']['$date'][0:10] + ' ' + traindat['published']['$date'][11:19], '%Y-%m-%d %H:%M:%S')\n",
    "        #print(atime)\n",
    "        astr += ' meanword:' + str(round(traindat['content'].count(' ')/(0.0001+len(traindat['content'])), 3))\n",
    "        astr += ' dayofweek:' + str(atime.weekday())\n",
    "        astr += ' month:' + str(atime.month)\n",
    "        #astr += '\\n'\n",
    "        astr += ' hour:' + str(atime.hour) + '\\n'\n",
    "        #print(astr)\n",
    "        #if count in myindices1:\n",
    "        #    with open('D:/habr_minitrain_alt0.vw', 'a', encoding = 'utf-8') as g:\n",
    "        #        g.write(astr)\n",
    "        #else:\n",
    "        #     with open('D:/habr_minitest_alt0.vw', 'a', encoding = 'utf-8') as g:\n",
    "        #        g.write(astr)           \n",
    "        #g.close()\n",
    "        with open('D:/habr_test_alt0.vw', 'a', encoding = 'utf-8') as g:\n",
    "            g.write(astr)\n",
    "        g.close()\n",
    "        count += 1\n",
    "        #if count > 10:\n",
    "        #    break\n",
    "        if count % 1000 == 0:\n",
    "            print(count)\n",
    "f.close()"
   ]
  },
  {
   "cell_type": "code",
   "execution_count": 500,
   "metadata": {
    "collapsed": false
   },
   "outputs": [
    {
     "name": "stdout",
     "output_type": "stream",
     "text": [
      "1000\n",
      "2000\n",
      "3000\n",
      "4000\n",
      "5000\n",
      "6000\n",
      "7000\n",
      "8000\n",
      "9000\n",
      "10000\n",
      "11000\n",
      "12000\n",
      "13000\n",
      "14000\n",
      "15000\n",
      "16000\n",
      "17000\n",
      "18000\n",
      "19000\n",
      "20000\n",
      "21000\n",
      "22000\n",
      "23000\n",
      "24000\n",
      "25000\n",
      "26000\n",
      "27000\n",
      "28000\n",
      "29000\n",
      "30000\n",
      "31000\n",
      "32000\n",
      "33000\n",
      "34000\n",
      "35000\n",
      "36000\n",
      "37000\n",
      "38000\n",
      "39000\n",
      "40000\n",
      "41000\n",
      "42000\n",
      "43000\n",
      "44000\n",
      "45000\n",
      "46000\n",
      "47000\n",
      "48000\n",
      "49000\n",
      "50000\n",
      "51000\n",
      "52000\n",
      "53000\n",
      "54000\n",
      "55000\n",
      "56000\n",
      "57000\n",
      "58000\n",
      "59000\n",
      "60000\n",
      "61000\n",
      "62000\n",
      "63000\n",
      "64000\n",
      "65000\n",
      "66000\n",
      "67000\n",
      "68000\n",
      "69000\n",
      "70000\n",
      "71000\n",
      "72000\n",
      "73000\n",
      "74000\n",
      "75000\n",
      "76000\n",
      "77000\n",
      "78000\n",
      "79000\n",
      "80000\n",
      "81000\n",
      "82000\n",
      "83000\n",
      "84000\n",
      "85000\n",
      "86000\n",
      "87000\n",
      "88000\n",
      "89000\n",
      "90000\n",
      "91000\n",
      "92000\n",
      "93000\n",
      "94000\n",
      "95000\n",
      "96000\n",
      "97000\n",
      "98000\n",
      "99000\n",
      "100000\n",
      "101000\n",
      "102000\n",
      "103000\n",
      "104000\n",
      "105000\n",
      "106000\n",
      "107000\n",
      "108000\n",
      "109000\n",
      "110000\n",
      "111000\n",
      "112000\n",
      "113000\n",
      "114000\n",
      "115000\n",
      "116000\n",
      "117000\n",
      "118000\n",
      "119000\n",
      "120000\n"
     ]
    }
   ],
   "source": [
    "count = 0\n",
    "with open('D:/train.json', 'r') as f:\n",
    "    for line in f:\n",
    "        traindat = json.loads(line)\n",
    "        url = traindat['url']\n",
    "        prob = train_target[train_target.index == url].values[0][0]\n",
    "        #print(url, prob, traindat['title'], traindat['tags'], traindat['domain'], traindat['flow'], traindat['author'], traindat['hubs'])\n",
    "        #print(traindat)\n",
    "        astr = str(prob) + ' |'\n",
    "        #atitle = traindat['title'].strip('!?,.-+=*::|/\\\\').strip(':').lower()\n",
    "        atitle = ModifyStr(traindat['title'])\n",
    "        #print(atitle.strip('='))\n",
    "        astr += 'title ' + str(atitle) + ' |'\n",
    "        astr += 'tags' + TagsToStr(traindat['tags']) + ' |'\n",
    "        astr += 'domain ' + ModifyStr(str(traindat['domain'])) + ' |'\n",
    "        astr += 'flow ' + ModifyStr(str(traindat['flow'])) + ' |'\n",
    "        astr += 'author ' + ModifyStr(str(traindat['author']['nickname'])) + ' |'\n",
    "        astr += 'hubs ' + HubsToStr(traindat['hubs']) + ' |'\n",
    "        astr += 'num content_len:' + str(len(traindat['content'])/1000000)\n",
    "        atime = datetime.datetime.strptime(traindat['published']['$date'][0:10] + ' ' + traindat['published']['$date'][11:19], '%Y-%m-%d %H:%M:%S')\n",
    "        #print(atime)\n",
    "        #astr += ' meanword:' + str(traindat['content'].count(' ')/(0.0001+len(traindat['content'])))\n",
    "        #astr += ' dayofweek:' + str(atime.weekday())\n",
    "        astr += ' month:' + str(atime.month)\n",
    "        #astr += '\\n'\n",
    "        astr += ' hour:' + str(atime.hour) + '\\n'\n",
    "        #print(astr)\n",
    "        if count < 84000:\n",
    "            with open('D:/habr_minitrain_altnew.vw', 'a', encoding = 'utf-8') as g:\n",
    "                g.write(astr)\n",
    "        else:\n",
    "             with open('D:/habr_minitest_altnew.vw', 'a', encoding = 'utf-8') as g:\n",
    "                g.write(astr)           \n",
    "        g.close()\n",
    "        count += 1\n",
    "        #if count > 10:\n",
    "        #    break\n",
    "        if count % 1000 == 0:\n",
    "            print(count)\n",
    "f.close()"
   ]
  },
  {
   "cell_type": "code",
   "execution_count": null,
   "metadata": {
    "collapsed": true
   },
   "outputs": [],
   "source": []
  },
  {
   "cell_type": "code",
   "execution_count": 282,
   "metadata": {
    "collapsed": false
   },
   "outputs": [
    {
     "name": "stdout",
     "output_type": "stream",
     "text": [
      "1000\n",
      "2000\n",
      "3000\n",
      "4000\n",
      "5000\n",
      "6000\n",
      "7000\n",
      "8000\n",
      "9000\n",
      "10000\n",
      "11000\n",
      "12000\n",
      "13000\n",
      "14000\n",
      "15000\n",
      "16000\n",
      "17000\n",
      "18000\n",
      "19000\n",
      "20000\n",
      "21000\n",
      "22000\n",
      "23000\n",
      "24000\n",
      "25000\n",
      "26000\n",
      "27000\n",
      "28000\n",
      "29000\n",
      "30000\n",
      "31000\n",
      "32000\n",
      "33000\n",
      "34000\n",
      "35000\n",
      "36000\n",
      "37000\n",
      "38000\n",
      "39000\n",
      "40000\n",
      "41000\n",
      "42000\n",
      "43000\n",
      "44000\n",
      "45000\n",
      "46000\n",
      "47000\n",
      "48000\n",
      "49000\n",
      "50000\n",
      "51000\n",
      "52000\n"
     ]
    }
   ],
   "source": [
    "count = 0\n",
    "with open('D:/test.json', 'r') as f:\n",
    "    for line in f:\n",
    "        traindat = json.loads(line)\n",
    "        url = traindat['url']\n",
    "        #prob = train_target[train_target.index == url].values[0][0]\n",
    "        #print(url, prob, traindat['title'], traindat['tags'], traindat['domain'], traindat['flow'], traindat['author'], traindat['hubs'])\n",
    "        #print(traindat)\n",
    "        astr = str(1) + ' |'\n",
    "        #atitle = traindat['title'].strip('!?,.-+=*::|/\\\\').strip(':').lower()\n",
    "        atitle = ModifyStr(traindat['title'])\n",
    "        #print(atitle.strip('='))\n",
    "        astr += 'title ' + str(atitle) + ' |'\n",
    "        astr += 'tags' + TagsToStr(traindat['tags']) + ' |'\n",
    "        astr += 'domain ' + ModifyStr(str(traindat['domain'])) + ' |'\n",
    "        astr += 'flow ' + ModifyStr(str(traindat['flow'])) + ' |'\n",
    "        astr += 'author ' + ModifyStr(str(traindat['author']['nickname'])) + ' |'\n",
    "        astr += 'hubs ' + HubsToStr(traindat['hubs']) + ' |'\n",
    "        astr += 'num content_len:' + str(len(traindat['content'])/1000000)\n",
    "        atime = datetime.datetime.strptime(traindat['published']['$date'][0:10] + ' ' + traindat['published']['$date'][11:19], '%Y-%m-%d %H:%M:%S')\n",
    "        #print(atime)\n",
    "        #astr += ' meanword:' + str(traindat['content'].count(' ')/(0.0001+len(traindat['content'])))\n",
    "        #astr += ' dayofweek:' + str(atime.weekday())\n",
    "        astr += ' month:' + str(atime.month)\n",
    "        #astr += '\\n'\n",
    "        astr += ' hour:' + str(atime.hour) + '\\n'\n",
    "        #print(astr)\n",
    "        #if count in myindices1:\n",
    "        #    with open('D:/habr_minitrain_alt2.vw', 'a', encoding = 'utf-8') as g:\n",
    "        #        g.write(astr)\n",
    "        #else:\n",
    "        with open('D:/habr_test_alt2.vw', 'a', encoding = 'utf-8') as g:\n",
    "            g.write(astr)           \n",
    "        g.close()\n",
    "        count += 1\n",
    "        #if count > 10:\n",
    "        #    break\n",
    "        if count % 1000 == 0:\n",
    "            print(count)\n",
    "f.close()"
   ]
  },
  {
   "cell_type": "code",
   "execution_count": 22,
   "metadata": {
    "collapsed": true
   },
   "outputs": [],
   "source": [
    "sample_sub = pd.read_csv('D:/sample_submission.csv', index_col='url')"
   ]
  },
  {
   "cell_type": "code",
   "execution_count": 235,
   "metadata": {
    "collapsed": false
   },
   "outputs": [],
   "source": [
    "with open('D:/habr_minitrain_alt4_model2.txt') as pred_file:\n",
    "    valid_predictiontrain = [float(label) \n",
    "                             for label in pred_file.readlines()]\n",
    "with open('D:/habr_minitest_alt4_model2.txt') as pred_file:\n",
    "    valid_predictiontest = [float(label) \n",
    "                             for label in pred_file.readlines()]"
   ]
  },
  {
   "cell_type": "code",
   "execution_count": 206,
   "metadata": {
    "collapsed": false
   },
   "outputs": [
    {
     "data": {
      "text/plain": [
       "(0.76644752783961712, 0.97655316005110981)"
      ]
     },
     "execution_count": 206,
     "metadata": {},
     "output_type": "execute_result"
    }
   ],
   "source": [
    "sklearn.metrics.mean_absolute_error(valid_predictiontrain, traintarget.target), sklearn.metrics.mean_absolute_error(valid_predictiontest, testtarget.target)"
   ]
  },
  {
   "cell_type": "code",
   "execution_count": 234,
   "metadata": {
    "collapsed": false
   },
   "outputs": [
    {
     "data": {
      "text/plain": [
       "(0.76953773859212593, 0.96593903219355015)"
      ]
     },
     "execution_count": 234,
     "metadata": {},
     "output_type": "execute_result"
    }
   ],
   "source": [
    "sklearn.metrics.mean_absolute_error(valid_predictiontrain, traintarget.target), sklearn.metrics.mean_absolute_error(valid_predictiontest, testtarget.target)"
   ]
  },
  {
   "cell_type": "code",
   "execution_count": 210,
   "metadata": {
    "collapsed": false
   },
   "outputs": [
    {
     "data": {
      "text/plain": [
       "(0.76772298677365203, 0.97901996766756472)"
      ]
     },
     "execution_count": 210,
     "metadata": {},
     "output_type": "execute_result"
    }
   ],
   "source": [
    "sklearn.metrics.mean_absolute_error(valid_predictiontrain, traintarget.target), sklearn.metrics.mean_absolute_error(valid_predictiontest, testtarget.target)"
   ]
  },
  {
   "cell_type": "code",
   "execution_count": 212,
   "metadata": {
    "collapsed": false
   },
   "outputs": [
    {
     "data": {
      "text/plain": [
       "(0.77072359379278321, 0.9708573212410766)"
      ]
     },
     "execution_count": 212,
     "metadata": {},
     "output_type": "execute_result"
    }
   ],
   "source": [
    "sklearn.metrics.mean_absolute_error(valid_predictiontrain, traintarget.target), sklearn.metrics.mean_absolute_error(valid_predictiontest, testtarget.target)"
   ]
  },
  {
   "cell_type": "code",
   "execution_count": 236,
   "metadata": {
    "collapsed": false
   },
   "outputs": [
    {
     "data": {
      "text/plain": [
       "(0.76953773859212593, 0.96593903219355015)"
      ]
     },
     "execution_count": 236,
     "metadata": {},
     "output_type": "execute_result"
    }
   ],
   "source": [
    "sklearn.metrics.mean_absolute_error(valid_predictiontrain, traintarget.target), sklearn.metrics.mean_absolute_error(valid_predictiontest, testtarget.target)"
   ]
  },
  {
   "cell_type": "code",
   "execution_count": 99,
   "metadata": {
    "collapsed": false
   },
   "outputs": [],
   "source": [
    "train_target2 = train_target.reset_index()"
   ]
  },
  {
   "cell_type": "code",
   "execution_count": 100,
   "metadata": {
    "collapsed": false
   },
   "outputs": [],
   "source": [
    "testtarget = train_target2[~train_target2.index.isin(myindices1)]"
   ]
  },
  {
   "cell_type": "code",
   "execution_count": 101,
   "metadata": {
    "collapsed": true
   },
   "outputs": [],
   "source": [
    "traintarget =  train_target2[train_target2.index.isin(myindices1)]"
   ]
  },
  {
   "cell_type": "code",
   "execution_count": 102,
   "metadata": {
    "collapsed": false
   },
   "outputs": [
    {
     "data": {
      "text/plain": [
       "83999"
      ]
     },
     "execution_count": 102,
     "metadata": {},
     "output_type": "execute_result"
    }
   ],
   "source": [
    "len(traintarget)"
   ]
  },
  {
   "cell_type": "code",
   "execution_count": 197,
   "metadata": {
    "collapsed": false
   },
   "outputs": [
    {
     "data": {
      "text/plain": [
       "(0.96593903219355015, 1.4520665064748373)"
      ]
     },
     "execution_count": 197,
     "metadata": {},
     "output_type": "execute_result"
    }
   ],
   "source": [
    "sklearn.metrics.mean_absolute_error(valid_prediction, testtarget.target),  sklearn.metrics.mean_squared_error(valid_prediction, testtarget.target)"
   ]
  },
  {
   "cell_type": "code",
   "execution_count": 319,
   "metadata": {
    "collapsed": true
   },
   "outputs": [],
   "source": [
    "with open('D:/habr_test_alt2_model1.txt') as pred_file:\n",
    "    valid_predictiontest = [float(label) \n",
    "                             for label in pred_file.readlines()]"
   ]
  },
  {
   "cell_type": "code",
   "execution_count": 320,
   "metadata": {
    "collapsed": true
   },
   "outputs": [],
   "source": [
    "with open('D:/habr_train_alt2_model1.txt') as pred_file:\n",
    "    valid_predictiontrain = [float(label) \n",
    "                             for label in pred_file.readlines()]"
   ]
  },
  {
   "cell_type": "code",
   "execution_count": 325,
   "metadata": {
    "collapsed": true
   },
   "outputs": [],
   "source": [
    "with open('D:/habr_train_alt2_model3.txt') as pred_file:\n",
    "    valid_predictiontrain = [float(label) \n",
    "                             for label in pred_file.readlines()]"
   ]
  },
  {
   "cell_type": "code",
   "execution_count": 326,
   "metadata": {
    "collapsed": false
   },
   "outputs": [
    {
     "data": {
      "text/plain": [
       "0.89623898482499997"
      ]
     },
     "execution_count": 326,
     "metadata": {},
     "output_type": "execute_result"
    }
   ],
   "source": [
    "sklearn.metrics.mean_absolute_error(valid_predictiontrain, train_target.target)"
   ]
  },
  {
   "cell_type": "code",
   "execution_count": 238,
   "metadata": {
    "collapsed": false
   },
   "outputs": [
    {
     "data": {
      "text/plain": [
       "52913"
      ]
     },
     "execution_count": 238,
     "metadata": {},
     "output_type": "execute_result"
    }
   ],
   "source": [
    "import pandas\n",
    "len(pandas.DataFrame(valid_predictiontest))"
   ]
  },
  {
   "cell_type": "code",
   "execution_count": null,
   "metadata": {
    "collapsed": true
   },
   "outputs": [],
   "source": []
  },
  {
   "cell_type": "code",
   "execution_count": 240,
   "metadata": {
    "collapsed": false,
    "scrolled": true
   },
   "outputs": [
    {
     "data": {
      "text/html": [
       "<div>\n",
       "<style>\n",
       "    .dataframe thead tr:only-child th {\n",
       "        text-align: right;\n",
       "    }\n",
       "\n",
       "    .dataframe thead th {\n",
       "        text-align: left;\n",
       "    }\n",
       "\n",
       "    .dataframe tbody tr th {\n",
       "        vertical-align: top;\n",
       "    }\n",
       "</style>\n",
       "<table border=\"1\" class=\"dataframe\">\n",
       "  <thead>\n",
       "    <tr style=\"text-align: right;\">\n",
       "      <th></th>\n",
       "      <th>target</th>\n",
       "    </tr>\n",
       "    <tr>\n",
       "      <th>url</th>\n",
       "      <th></th>\n",
       "    </tr>\n",
       "  </thead>\n",
       "  <tbody>\n",
       "    <tr>\n",
       "      <th>https://geektimes.ru/post/87455/</th>\n",
       "      <td>11.620054</td>\n",
       "    </tr>\n",
       "    <tr>\n",
       "      <th>https://geektimes.ru/post/87452/</th>\n",
       "      <td>4.822528</td>\n",
       "    </tr>\n",
       "    <tr>\n",
       "      <th>https://geektimes.ru/post/87459/</th>\n",
       "      <td>0.921104</td>\n",
       "    </tr>\n",
       "    <tr>\n",
       "      <th>https://habrahabr.ru/post/87461/</th>\n",
       "      <td>1.632126</td>\n",
       "    </tr>\n",
       "    <tr>\n",
       "      <th>https://habrahabr.ru/post/5754/</th>\n",
       "      <td>1.952122</td>\n",
       "    </tr>\n",
       "  </tbody>\n",
       "</table>\n",
       "</div>"
      ],
      "text/plain": [
       "                                     target\n",
       "url                                        \n",
       "https://geektimes.ru/post/87455/  11.620054\n",
       "https://geektimes.ru/post/87452/   4.822528\n",
       "https://geektimes.ru/post/87459/   0.921104\n",
       "https://habrahabr.ru/post/87461/   1.632126\n",
       "https://habrahabr.ru/post/5754/    1.952122"
      ]
     },
     "execution_count": 240,
     "metadata": {},
     "output_type": "execute_result"
    }
   ],
   "source": [
    "sample_sub.head()"
   ]
  },
  {
   "cell_type": "code",
   "execution_count": 295,
   "metadata": {
    "collapsed": true
   },
   "outputs": [],
   "source": [
    "your_submission = sample_sub.copy()\n",
    "your_submission['target'] = valid_predictiontest\n"
   ]
  },
  {
   "cell_type": "code",
   "execution_count": 323,
   "metadata": {
    "collapsed": true
   },
   "outputs": [],
   "source": [
    "your_submissionbi = sample_sub.copy()\n",
    "your_submissionbi['target'] = valid_predictiontest"
   ]
  },
  {
   "cell_type": "code",
   "execution_count": 316,
   "metadata": {
    "collapsed": false
   },
   "outputs": [
    {
     "data": {
      "text/plain": [
       "52913"
      ]
     },
     "execution_count": 316,
     "metadata": {},
     "output_type": "execute_result"
    }
   ],
   "source": [
    "len(your_submissionbi)"
   ]
  },
  {
   "cell_type": "code",
   "execution_count": 318,
   "metadata": {
    "collapsed": true
   },
   "outputs": [],
   "source": [
    "your_submissionbi.to_csv('D:/submission3.csv')"
   ]
  },
  {
   "cell_type": "code",
   "execution_count": 324,
   "metadata": {
    "collapsed": false
   },
   "outputs": [
    {
     "data": {
      "text/plain": [
       "(             target\n",
       " count  52913.000000\n",
       " mean       2.310127\n",
       " std        1.089067\n",
       " min        0.000000\n",
       " 25%        1.497322\n",
       " 50%        2.262579\n",
       " 75%        3.095786\n",
       " max        9.080687,               target    antitarget\n",
       " count  120000.000000  1.200000e+05\n",
       " mean        2.828131  2.900000e+00\n",
       " std         1.696940  2.649447e-12\n",
       " min         0.000000  2.900000e+00\n",
       " 25%         1.609438  2.900000e+00\n",
       " 50%         2.944439  2.900000e+00\n",
       " 75%         4.127134  2.900000e+00\n",
       " max         9.080687  2.900000e+00,              target\n",
       " count  52913.000000\n",
       " mean       2.310127\n",
       " std        1.089067\n",
       " min        0.000000\n",
       " 25%        1.497322\n",
       " 50%        2.262579\n",
       " 75%        3.095786\n",
       " max        9.080687)"
      ]
     },
     "execution_count": 324,
     "metadata": {},
     "output_type": "execute_result"
    }
   ],
   "source": [
    "your_submission.describe(), train_target.describe(), your_submissionbi.describe()"
   ]
  },
  {
   "cell_type": "code",
   "execution_count": 264,
   "metadata": {
    "collapsed": true
   },
   "outputs": [],
   "source": [
    "your_submission2 = your_submission"
   ]
  },
  {
   "cell_type": "code",
   "execution_count": 266,
   "metadata": {
    "collapsed": false
   },
   "outputs": [
    {
     "name": "stdout",
     "output_type": "stream",
     "text": [
      "0 1.251891 https://geektimes.ru/post/87455/ url\n",
      "https://geektimes.ru/post/87455/    1.251891\n",
      "Name: target, dtype: float64\n",
      "1000 4.312281 https://geektimes.ru/post/89204/ url\n",
      "https://geektimes.ru/post/89204/    4.312281\n",
      "Name: target, dtype: float64\n",
      "2000 4.266988 https://habrahabr.ru/post/91055/ url\n",
      "https://habrahabr.ru/post/91055/    4.266988\n",
      "Name: target, dtype: float64\n",
      "3000 6.103524 https://habrahabr.ru/post/92770/ url\n",
      "https://habrahabr.ru/post/92770/    6.103524\n",
      "Name: target, dtype: float64\n",
      "4000 3.731129 https://habrahabr.ru/company/mailru/blog/94368/ url\n",
      "https://habrahabr.ru/company/mailru/blog/94368/    3.731129\n",
      "Name: target, dtype: float64\n",
      "5000 4.928438 https://habrahabr.ru/post/95972/ url\n",
      "https://habrahabr.ru/post/95972/    4.928438\n",
      "Name: target, dtype: float64\n",
      "6000 3.833031 https://habrahabr.ru/company/synchronet/blog/97644/ url\n",
      "https://habrahabr.ru/company/synchronet/blog/97644/    3.833031\n",
      "Name: target, dtype: float64\n",
      "7000 3.746355 https://geektimes.ru/post/99189/ url\n",
      "https://geektimes.ru/post/99189/    3.746355\n",
      "Name: target, dtype: float64\n",
      "8000 4.023288 https://habrahabr.ru/post/100854/ url\n",
      "https://habrahabr.ru/post/100854/    4.023288\n",
      "Name: target, dtype: float64\n",
      "9000 4.247296 https://habrahabr.ru/post/102469/ url\n",
      "https://habrahabr.ru/post/102469/    4.247296\n",
      "Name: target, dtype: float64\n",
      "10000 6.021753 https://habrahabr.ru/post/104062/ url\n",
      "https://habrahabr.ru/post/104062/    6.021753\n",
      "Name: target, dtype: float64\n",
      "11000 3.837794 https://habrahabr.ru/post/105530/ url\n",
      "https://habrahabr.ru/post/105530/    3.837794\n",
      "Name: target, dtype: float64\n",
      "12000 4.88197 https://habrahabr.ru/post/107004/ url\n",
      "https://habrahabr.ru/post/107004/    4.88197\n",
      "Name: target, dtype: float64\n",
      "13000 3.851219 https://habrahabr.ru/post/287076/ url\n",
      "https://habrahabr.ru/post/287076/    3.851219\n",
      "Name: target, dtype: float64\n",
      "14000 3.46976 https://geektimes.ru/post/109960/ url\n",
      "https://geektimes.ru/post/109960/    3.46976\n",
      "Name: target, dtype: float64\n",
      "15000 4.007539 https://geektimes.ru/post/111354/ url\n",
      "https://geektimes.ru/post/111354/    4.007539\n",
      "Name: target, dtype: float64\n",
      "16000 6.528222 https://geektimes.ru/post/253790/ url\n",
      "https://geektimes.ru/post/253790/    6.528222\n",
      "Name: target, dtype: float64\n",
      "17000 3.852932 https://geektimes.ru/post/113981/ url\n",
      "https://geektimes.ru/post/113981/    3.852932\n",
      "Name: target, dtype: float64\n",
      "18000 3.23726 https://habrahabr.ru/post/115354/ url\n",
      "https://habrahabr.ru/post/115354/    3.23726\n",
      "Name: target, dtype: float64\n",
      "19000 3.570375 https://geektimes.ru/post/116698/ url\n",
      "https://geektimes.ru/post/116698/    3.570375\n",
      "Name: target, dtype: float64\n",
      "20000 6.446492 https://habrahabr.ru/post/118028/ url\n",
      "https://habrahabr.ru/post/118028/    6.446492\n",
      "Name: target, dtype: float64\n",
      "21000 1.80135 https://geektimes.ru/post/119398/ url\n",
      "https://geektimes.ru/post/119398/    1.80135\n",
      "Name: target, dtype: float64\n",
      "22000 3.158132 https://geektimes.ru/post/120733/ url\n",
      "https://geektimes.ru/post/120733/    3.158132\n",
      "Name: target, dtype: float64\n",
      "23000 3.843534 https://habrahabr.ru/post/122554/ url\n",
      "https://habrahabr.ru/post/122554/    3.843534\n",
      "Name: target, dtype: float64\n",
      "24000 6.511789 https://habrahabr.ru/post/123972/ url\n",
      "https://habrahabr.ru/post/123972/    6.511789\n",
      "Name: target, dtype: float64\n",
      "25000 5.196665 https://habrahabr.ru/post/125384/ url\n",
      "https://habrahabr.ru/post/125384/    5.196665\n",
      "Name: target, dtype: float64\n",
      "26000 5.198397 https://habrahabr.ru/post/126790/ url\n",
      "https://habrahabr.ru/post/126790/    5.198397\n",
      "Name: target, dtype: float64\n",
      "27000 2.947749 https://habrahabr.ru/post/307350/ url\n",
      "https://habrahabr.ru/post/307350/    2.947749\n",
      "Name: target, dtype: float64\n",
      "28000 4.286848 https://habrahabr.ru/company/eos/blog/129356/ url\n",
      "https://habrahabr.ru/company/eos/blog/129356/    4.286848\n",
      "Name: target, dtype: float64\n",
      "29000 5.879349 https://habrahabr.ru/post/130682/ url\n",
      "https://habrahabr.ru/post/130682/    5.879349\n",
      "Name: target, dtype: float64\n",
      "30000 3.43327 https://geektimes.ru/post/131979/ url\n",
      "https://geektimes.ru/post/131979/    3.43327\n",
      "Name: target, dtype: float64\n",
      "31000 3.441947 https://geektimes.ru/post/133304/ url\n",
      "https://geektimes.ru/post/133304/    3.441947\n",
      "Name: target, dtype: float64\n",
      "32000 3.020188 https://geektimes.ru/post/134507/ url\n",
      "https://geektimes.ru/post/134507/    3.020188\n",
      "Name: target, dtype: float64\n",
      "33000 2.91441 https://geektimes.ru/post/135774/ url\n",
      "https://geektimes.ru/post/135774/    2.91441\n",
      "Name: target, dtype: float64\n",
      "34000 5.293793 https://habrahabr.ru/post/137038/ url\n",
      "https://habrahabr.ru/post/137038/    5.293793\n",
      "Name: target, dtype: float64\n",
      "35000 4.51747 https://habrahabr.ru/company/ideco/blog/138322/ url\n",
      "https://habrahabr.ru/company/ideco/blog/138322/    4.51747\n",
      "Name: target, dtype: float64\n"
     ]
    },
    {
     "ename": "KeyboardInterrupt",
     "evalue": "",
     "output_type": "error",
     "traceback": [
      "\u001b[0;31m---------------------------------------------------------------------------\u001b[0m",
      "\u001b[0;31mKeyboardInterrupt\u001b[0m                         Traceback (most recent call last)",
      "\u001b[0;32m<ipython-input-266-abad3248c913>\u001b[0m in \u001b[0;36m<module>\u001b[0;34m()\u001b[0m\n\u001b[1;32m      8\u001b[0m             \u001b[0mprint\u001b[0m\u001b[1;33m(\u001b[0m\u001b[0mcount\u001b[0m\u001b[1;33m,\u001b[0m \u001b[0mprob\u001b[0m\u001b[1;33m,\u001b[0m \u001b[0murl\u001b[0m\u001b[1;33m,\u001b[0m \u001b[0myour_submission\u001b[0m\u001b[1;33m.\u001b[0m\u001b[0mtarget\u001b[0m\u001b[1;33m[\u001b[0m\u001b[0myour_submission\u001b[0m\u001b[1;33m.\u001b[0m\u001b[0mindex\u001b[0m \u001b[1;33m==\u001b[0m \u001b[0murl\u001b[0m\u001b[1;33m]\u001b[0m\u001b[1;33m)\u001b[0m\u001b[1;33m\u001b[0m\u001b[0m\n\u001b[1;32m      9\u001b[0m         \u001b[1;31m#break\u001b[0m\u001b[1;33m\u001b[0m\u001b[1;33m\u001b[0m\u001b[0m\n\u001b[0;32m---> 10\u001b[0;31m         \u001b[0myour_submission2\u001b[0m\u001b[1;33m.\u001b[0m\u001b[0mtarget\u001b[0m\u001b[1;33m[\u001b[0m\u001b[0myour_submission2\u001b[0m\u001b[1;33m.\u001b[0m\u001b[0mindex\u001b[0m \u001b[1;33m==\u001b[0m \u001b[0murl\u001b[0m\u001b[1;33m]\u001b[0m \u001b[1;33m=\u001b[0m \u001b[0mprob\u001b[0m\u001b[1;33m\u001b[0m\u001b[0m\n\u001b[0m\u001b[1;32m     11\u001b[0m         \u001b[0mcount\u001b[0m\u001b[1;33m+=\u001b[0m\u001b[1;36m1\u001b[0m\u001b[1;33m\u001b[0m\u001b[0m\n",
      "\u001b[0;32mC:\\Users\\user\\Anaconda3\\lib\\site-packages\\pandas\\core\\indexes\\base.py\u001b[0m in \u001b[0;36m_evaluate_compare\u001b[0;34m(self, other)\u001b[0m\n\u001b[1;32m   3721\u001b[0m                     \u001b[1;32mwith\u001b[0m \u001b[0mnp\u001b[0m\u001b[1;33m.\u001b[0m\u001b[0merrstate\u001b[0m\u001b[1;33m(\u001b[0m\u001b[0mall\u001b[0m\u001b[1;33m=\u001b[0m\u001b[1;34m'ignore'\u001b[0m\u001b[1;33m)\u001b[0m\u001b[1;33m:\u001b[0m\u001b[1;33m\u001b[0m\u001b[0m\n\u001b[1;32m   3722\u001b[0m                         result = _comp_method_OBJECT_ARRAY(\n\u001b[0;32m-> 3723\u001b[0;31m                             op, self.values, other)\n\u001b[0m\u001b[1;32m   3724\u001b[0m                 \u001b[1;32melse\u001b[0m\u001b[1;33m:\u001b[0m\u001b[1;33m\u001b[0m\u001b[0m\n\u001b[1;32m   3725\u001b[0m                     \u001b[1;32mwith\u001b[0m \u001b[0mnp\u001b[0m\u001b[1;33m.\u001b[0m\u001b[0merrstate\u001b[0m\u001b[1;33m(\u001b[0m\u001b[0mall\u001b[0m\u001b[1;33m=\u001b[0m\u001b[1;34m'ignore'\u001b[0m\u001b[1;33m)\u001b[0m\u001b[1;33m:\u001b[0m\u001b[1;33m\u001b[0m\u001b[0m\n",
      "\u001b[0;31mKeyboardInterrupt\u001b[0m: "
     ]
    }
   ],
   "source": [
    "count = 0\n",
    "with open('D:/test.json', 'r') as f:\n",
    "    for line in f:\n",
    "        traindat = json.loads(line)\n",
    "        url = traindat['url']\n",
    "        prob = valid_predictiontest[count]\n",
    "        if count % 1000 == 0:\n",
    "            print(count, prob, url, your_submission.target[your_submission.index == url])\n",
    "        #break\n",
    "        your_submission2.target[your_submission2.index == url] = prob\n",
    "        count+=1"
   ]
  },
  {
   "cell_type": "code",
   "execution_count": 255,
   "metadata": {
    "collapsed": false
   },
   "outputs": [
    {
     "ename": "KeyError",
     "evalue": "'https://geektimes.ru/post/87455/'",
     "output_type": "error",
     "traceback": [
      "\u001b[0;31m---------------------------------------------------------------------------\u001b[0m",
      "\u001b[0;31mKeyError\u001b[0m                                  Traceback (most recent call last)",
      "\u001b[0;32mC:\\Users\\user\\Anaconda3\\lib\\site-packages\\pandas\\core\\indexes\\base.py\u001b[0m in \u001b[0;36mget_loc\u001b[0;34m(self, key, method, tolerance)\u001b[0m\n\u001b[1;32m   2441\u001b[0m             \u001b[1;32mtry\u001b[0m\u001b[1;33m:\u001b[0m\u001b[1;33m\u001b[0m\u001b[0m\n\u001b[0;32m-> 2442\u001b[0;31m                 \u001b[1;32mreturn\u001b[0m \u001b[0mself\u001b[0m\u001b[1;33m.\u001b[0m\u001b[0m_engine\u001b[0m\u001b[1;33m.\u001b[0m\u001b[0mget_loc\u001b[0m\u001b[1;33m(\u001b[0m\u001b[0mkey\u001b[0m\u001b[1;33m)\u001b[0m\u001b[1;33m\u001b[0m\u001b[0m\n\u001b[0m\u001b[1;32m   2443\u001b[0m             \u001b[1;32mexcept\u001b[0m \u001b[0mKeyError\u001b[0m\u001b[1;33m:\u001b[0m\u001b[1;33m\u001b[0m\u001b[0m\n",
      "\u001b[0;32mpandas\\_libs\\index.pyx\u001b[0m in \u001b[0;36mpandas._libs.index.IndexEngine.get_loc (pandas\\_libs\\index.c:5280)\u001b[0;34m()\u001b[0m\n",
      "\u001b[0;32mpandas\\_libs\\index.pyx\u001b[0m in \u001b[0;36mpandas._libs.index.IndexEngine.get_loc (pandas\\_libs\\index.c:5126)\u001b[0;34m()\u001b[0m\n",
      "\u001b[0;32mpandas\\_libs\\hashtable_class_helper.pxi\u001b[0m in \u001b[0;36mpandas._libs.hashtable.PyObjectHashTable.get_item (pandas\\_libs\\hashtable.c:20523)\u001b[0;34m()\u001b[0m\n",
      "\u001b[0;32mpandas\\_libs\\hashtable_class_helper.pxi\u001b[0m in \u001b[0;36mpandas._libs.hashtable.PyObjectHashTable.get_item (pandas\\_libs\\hashtable.c:20477)\u001b[0;34m()\u001b[0m\n",
      "\u001b[0;31mKeyError\u001b[0m: 'https://geektimes.ru/post/87455/'",
      "\nDuring handling of the above exception, another exception occurred:\n",
      "\u001b[0;31mKeyError\u001b[0m                                  Traceback (most recent call last)",
      "\u001b[0;32m<ipython-input-255-afbeb9b8deaa>\u001b[0m in \u001b[0;36m<module>\u001b[0;34m()\u001b[0m\n\u001b[0;32m----> 1\u001b[0;31m \u001b[0msample_sub\u001b[0m\u001b[1;33m[\u001b[0m\u001b[1;34m'https://geektimes.ru/post/87455/'\u001b[0m\u001b[1;33m]\u001b[0m\u001b[1;33m\u001b[0m\u001b[0m\n\u001b[0m",
      "\u001b[0;32mC:\\Users\\user\\Anaconda3\\lib\\site-packages\\pandas\\core\\frame.py\u001b[0m in \u001b[0;36m__getitem__\u001b[0;34m(self, key)\u001b[0m\n\u001b[1;32m   1962\u001b[0m             \u001b[1;32mreturn\u001b[0m \u001b[0mself\u001b[0m\u001b[1;33m.\u001b[0m\u001b[0m_getitem_multilevel\u001b[0m\u001b[1;33m(\u001b[0m\u001b[0mkey\u001b[0m\u001b[1;33m)\u001b[0m\u001b[1;33m\u001b[0m\u001b[0m\n\u001b[1;32m   1963\u001b[0m         \u001b[1;32melse\u001b[0m\u001b[1;33m:\u001b[0m\u001b[1;33m\u001b[0m\u001b[0m\n\u001b[0;32m-> 1964\u001b[0;31m             \u001b[1;32mreturn\u001b[0m \u001b[0mself\u001b[0m\u001b[1;33m.\u001b[0m\u001b[0m_getitem_column\u001b[0m\u001b[1;33m(\u001b[0m\u001b[0mkey\u001b[0m\u001b[1;33m)\u001b[0m\u001b[1;33m\u001b[0m\u001b[0m\n\u001b[0m\u001b[1;32m   1965\u001b[0m \u001b[1;33m\u001b[0m\u001b[0m\n\u001b[1;32m   1966\u001b[0m     \u001b[1;32mdef\u001b[0m \u001b[0m_getitem_column\u001b[0m\u001b[1;33m(\u001b[0m\u001b[0mself\u001b[0m\u001b[1;33m,\u001b[0m \u001b[0mkey\u001b[0m\u001b[1;33m)\u001b[0m\u001b[1;33m:\u001b[0m\u001b[1;33m\u001b[0m\u001b[0m\n",
      "\u001b[0;32mC:\\Users\\user\\Anaconda3\\lib\\site-packages\\pandas\\core\\frame.py\u001b[0m in \u001b[0;36m_getitem_column\u001b[0;34m(self, key)\u001b[0m\n\u001b[1;32m   1969\u001b[0m         \u001b[1;31m# get column\u001b[0m\u001b[1;33m\u001b[0m\u001b[1;33m\u001b[0m\u001b[0m\n\u001b[1;32m   1970\u001b[0m         \u001b[1;32mif\u001b[0m \u001b[0mself\u001b[0m\u001b[1;33m.\u001b[0m\u001b[0mcolumns\u001b[0m\u001b[1;33m.\u001b[0m\u001b[0mis_unique\u001b[0m\u001b[1;33m:\u001b[0m\u001b[1;33m\u001b[0m\u001b[0m\n\u001b[0;32m-> 1971\u001b[0;31m             \u001b[1;32mreturn\u001b[0m \u001b[0mself\u001b[0m\u001b[1;33m.\u001b[0m\u001b[0m_get_item_cache\u001b[0m\u001b[1;33m(\u001b[0m\u001b[0mkey\u001b[0m\u001b[1;33m)\u001b[0m\u001b[1;33m\u001b[0m\u001b[0m\n\u001b[0m\u001b[1;32m   1972\u001b[0m \u001b[1;33m\u001b[0m\u001b[0m\n\u001b[1;32m   1973\u001b[0m         \u001b[1;31m# duplicate columns & possible reduce dimensionality\u001b[0m\u001b[1;33m\u001b[0m\u001b[1;33m\u001b[0m\u001b[0m\n",
      "\u001b[0;32mC:\\Users\\user\\Anaconda3\\lib\\site-packages\\pandas\\core\\generic.py\u001b[0m in \u001b[0;36m_get_item_cache\u001b[0;34m(self, item)\u001b[0m\n\u001b[1;32m   1643\u001b[0m         \u001b[0mres\u001b[0m \u001b[1;33m=\u001b[0m \u001b[0mcache\u001b[0m\u001b[1;33m.\u001b[0m\u001b[0mget\u001b[0m\u001b[1;33m(\u001b[0m\u001b[0mitem\u001b[0m\u001b[1;33m)\u001b[0m\u001b[1;33m\u001b[0m\u001b[0m\n\u001b[1;32m   1644\u001b[0m         \u001b[1;32mif\u001b[0m \u001b[0mres\u001b[0m \u001b[1;32mis\u001b[0m \u001b[1;32mNone\u001b[0m\u001b[1;33m:\u001b[0m\u001b[1;33m\u001b[0m\u001b[0m\n\u001b[0;32m-> 1645\u001b[0;31m             \u001b[0mvalues\u001b[0m \u001b[1;33m=\u001b[0m \u001b[0mself\u001b[0m\u001b[1;33m.\u001b[0m\u001b[0m_data\u001b[0m\u001b[1;33m.\u001b[0m\u001b[0mget\u001b[0m\u001b[1;33m(\u001b[0m\u001b[0mitem\u001b[0m\u001b[1;33m)\u001b[0m\u001b[1;33m\u001b[0m\u001b[0m\n\u001b[0m\u001b[1;32m   1646\u001b[0m             \u001b[0mres\u001b[0m \u001b[1;33m=\u001b[0m \u001b[0mself\u001b[0m\u001b[1;33m.\u001b[0m\u001b[0m_box_item_values\u001b[0m\u001b[1;33m(\u001b[0m\u001b[0mitem\u001b[0m\u001b[1;33m,\u001b[0m \u001b[0mvalues\u001b[0m\u001b[1;33m)\u001b[0m\u001b[1;33m\u001b[0m\u001b[0m\n\u001b[1;32m   1647\u001b[0m             \u001b[0mcache\u001b[0m\u001b[1;33m[\u001b[0m\u001b[0mitem\u001b[0m\u001b[1;33m]\u001b[0m \u001b[1;33m=\u001b[0m \u001b[0mres\u001b[0m\u001b[1;33m\u001b[0m\u001b[0m\n",
      "\u001b[0;32mC:\\Users\\user\\Anaconda3\\lib\\site-packages\\pandas\\core\\internals.py\u001b[0m in \u001b[0;36mget\u001b[0;34m(self, item, fastpath)\u001b[0m\n\u001b[1;32m   3588\u001b[0m \u001b[1;33m\u001b[0m\u001b[0m\n\u001b[1;32m   3589\u001b[0m             \u001b[1;32mif\u001b[0m \u001b[1;32mnot\u001b[0m \u001b[0misnull\u001b[0m\u001b[1;33m(\u001b[0m\u001b[0mitem\u001b[0m\u001b[1;33m)\u001b[0m\u001b[1;33m:\u001b[0m\u001b[1;33m\u001b[0m\u001b[0m\n\u001b[0;32m-> 3590\u001b[0;31m                 \u001b[0mloc\u001b[0m \u001b[1;33m=\u001b[0m \u001b[0mself\u001b[0m\u001b[1;33m.\u001b[0m\u001b[0mitems\u001b[0m\u001b[1;33m.\u001b[0m\u001b[0mget_loc\u001b[0m\u001b[1;33m(\u001b[0m\u001b[0mitem\u001b[0m\u001b[1;33m)\u001b[0m\u001b[1;33m\u001b[0m\u001b[0m\n\u001b[0m\u001b[1;32m   3591\u001b[0m             \u001b[1;32melse\u001b[0m\u001b[1;33m:\u001b[0m\u001b[1;33m\u001b[0m\u001b[0m\n\u001b[1;32m   3592\u001b[0m                 \u001b[0mindexer\u001b[0m \u001b[1;33m=\u001b[0m \u001b[0mnp\u001b[0m\u001b[1;33m.\u001b[0m\u001b[0marange\u001b[0m\u001b[1;33m(\u001b[0m\u001b[0mlen\u001b[0m\u001b[1;33m(\u001b[0m\u001b[0mself\u001b[0m\u001b[1;33m.\u001b[0m\u001b[0mitems\u001b[0m\u001b[1;33m)\u001b[0m\u001b[1;33m)\u001b[0m\u001b[1;33m[\u001b[0m\u001b[0misnull\u001b[0m\u001b[1;33m(\u001b[0m\u001b[0mself\u001b[0m\u001b[1;33m.\u001b[0m\u001b[0mitems\u001b[0m\u001b[1;33m)\u001b[0m\u001b[1;33m]\u001b[0m\u001b[1;33m\u001b[0m\u001b[0m\n",
      "\u001b[0;32mC:\\Users\\user\\Anaconda3\\lib\\site-packages\\pandas\\core\\indexes\\base.py\u001b[0m in \u001b[0;36mget_loc\u001b[0;34m(self, key, method, tolerance)\u001b[0m\n\u001b[1;32m   2442\u001b[0m                 \u001b[1;32mreturn\u001b[0m \u001b[0mself\u001b[0m\u001b[1;33m.\u001b[0m\u001b[0m_engine\u001b[0m\u001b[1;33m.\u001b[0m\u001b[0mget_loc\u001b[0m\u001b[1;33m(\u001b[0m\u001b[0mkey\u001b[0m\u001b[1;33m)\u001b[0m\u001b[1;33m\u001b[0m\u001b[0m\n\u001b[1;32m   2443\u001b[0m             \u001b[1;32mexcept\u001b[0m \u001b[0mKeyError\u001b[0m\u001b[1;33m:\u001b[0m\u001b[1;33m\u001b[0m\u001b[0m\n\u001b[0;32m-> 2444\u001b[0;31m                 \u001b[1;32mreturn\u001b[0m \u001b[0mself\u001b[0m\u001b[1;33m.\u001b[0m\u001b[0m_engine\u001b[0m\u001b[1;33m.\u001b[0m\u001b[0mget_loc\u001b[0m\u001b[1;33m(\u001b[0m\u001b[0mself\u001b[0m\u001b[1;33m.\u001b[0m\u001b[0m_maybe_cast_indexer\u001b[0m\u001b[1;33m(\u001b[0m\u001b[0mkey\u001b[0m\u001b[1;33m)\u001b[0m\u001b[1;33m)\u001b[0m\u001b[1;33m\u001b[0m\u001b[0m\n\u001b[0m\u001b[1;32m   2445\u001b[0m \u001b[1;33m\u001b[0m\u001b[0m\n\u001b[1;32m   2446\u001b[0m         \u001b[0mindexer\u001b[0m \u001b[1;33m=\u001b[0m \u001b[0mself\u001b[0m\u001b[1;33m.\u001b[0m\u001b[0mget_indexer\u001b[0m\u001b[1;33m(\u001b[0m\u001b[1;33m[\u001b[0m\u001b[0mkey\u001b[0m\u001b[1;33m]\u001b[0m\u001b[1;33m,\u001b[0m \u001b[0mmethod\u001b[0m\u001b[1;33m=\u001b[0m\u001b[0mmethod\u001b[0m\u001b[1;33m,\u001b[0m \u001b[0mtolerance\u001b[0m\u001b[1;33m=\u001b[0m\u001b[0mtolerance\u001b[0m\u001b[1;33m)\u001b[0m\u001b[1;33m\u001b[0m\u001b[0m\n",
      "\u001b[0;32mpandas\\_libs\\index.pyx\u001b[0m in \u001b[0;36mpandas._libs.index.IndexEngine.get_loc (pandas\\_libs\\index.c:5280)\u001b[0;34m()\u001b[0m\n",
      "\u001b[0;32mpandas\\_libs\\index.pyx\u001b[0m in \u001b[0;36mpandas._libs.index.IndexEngine.get_loc (pandas\\_libs\\index.c:5126)\u001b[0;34m()\u001b[0m\n",
      "\u001b[0;32mpandas\\_libs\\hashtable_class_helper.pxi\u001b[0m in \u001b[0;36mpandas._libs.hashtable.PyObjectHashTable.get_item (pandas\\_libs\\hashtable.c:20523)\u001b[0;34m()\u001b[0m\n",
      "\u001b[0;32mpandas\\_libs\\hashtable_class_helper.pxi\u001b[0m in \u001b[0;36mpandas._libs.hashtable.PyObjectHashTable.get_item (pandas\\_libs\\hashtable.c:20477)\u001b[0;34m()\u001b[0m\n",
      "\u001b[0;31mKeyError\u001b[0m: 'https://geektimes.ru/post/87455/'"
     ]
    }
   ],
   "source": [
    "sample_sub['https://geektimes.ru/post/87455/']"
   ]
  },
  {
   "cell_type": "code",
   "execution_count": 256,
   "metadata": {
    "collapsed": false
   },
   "outputs": [
    {
     "data": {
      "text/html": [
       "<div>\n",
       "<style>\n",
       "    .dataframe thead tr:only-child th {\n",
       "        text-align: right;\n",
       "    }\n",
       "\n",
       "    .dataframe thead th {\n",
       "        text-align: left;\n",
       "    }\n",
       "\n",
       "    .dataframe tbody tr th {\n",
       "        vertical-align: top;\n",
       "    }\n",
       "</style>\n",
       "<table border=\"1\" class=\"dataframe\">\n",
       "  <thead>\n",
       "    <tr style=\"text-align: right;\">\n",
       "      <th></th>\n",
       "      <th>target</th>\n",
       "    </tr>\n",
       "    <tr>\n",
       "      <th>url</th>\n",
       "      <th></th>\n",
       "    </tr>\n",
       "  </thead>\n",
       "  <tbody>\n",
       "    <tr>\n",
       "      <th>https://geektimes.ru/post/87455/</th>\n",
       "      <td>11.620054</td>\n",
       "    </tr>\n",
       "    <tr>\n",
       "      <th>https://geektimes.ru/post/87452/</th>\n",
       "      <td>4.822528</td>\n",
       "    </tr>\n",
       "    <tr>\n",
       "      <th>https://geektimes.ru/post/87459/</th>\n",
       "      <td>0.921104</td>\n",
       "    </tr>\n",
       "    <tr>\n",
       "      <th>https://habrahabr.ru/post/87461/</th>\n",
       "      <td>1.632126</td>\n",
       "    </tr>\n",
       "    <tr>\n",
       "      <th>https://habrahabr.ru/post/5754/</th>\n",
       "      <td>1.952122</td>\n",
       "    </tr>\n",
       "  </tbody>\n",
       "</table>\n",
       "</div>"
      ],
      "text/plain": [
       "                                     target\n",
       "url                                        \n",
       "https://geektimes.ru/post/87455/  11.620054\n",
       "https://geektimes.ru/post/87452/   4.822528\n",
       "https://geektimes.ru/post/87459/   0.921104\n",
       "https://habrahabr.ru/post/87461/   1.632126\n",
       "https://habrahabr.ru/post/5754/    1.952122"
      ]
     },
     "execution_count": 256,
     "metadata": {},
     "output_type": "execute_result"
    }
   ],
   "source": [
    "sample_sub.head()"
   ]
  },
  {
   "cell_type": "code",
   "execution_count": 257,
   "metadata": {
    "collapsed": false
   },
   "outputs": [
    {
     "data": {
      "text/html": [
       "<div>\n",
       "<style>\n",
       "    .dataframe thead tr:only-child th {\n",
       "        text-align: right;\n",
       "    }\n",
       "\n",
       "    .dataframe thead th {\n",
       "        text-align: left;\n",
       "    }\n",
       "\n",
       "    .dataframe tbody tr th {\n",
       "        vertical-align: top;\n",
       "    }\n",
       "</style>\n",
       "<table border=\"1\" class=\"dataframe\">\n",
       "  <thead>\n",
       "    <tr style=\"text-align: right;\">\n",
       "      <th></th>\n",
       "      <th>target</th>\n",
       "      <th>https://geektimes.ru/post/87455/</th>\n",
       "      <th>https://geektimes.ru/post/87452/</th>\n",
       "      <th>https://geektimes.ru/post/87459/</th>\n",
       "      <th>https://habrahabr.ru/post/87461/</th>\n",
       "      <th>https://habrahabr.ru/post/5754/</th>\n",
       "      <th>https://geektimes.ru/post/87460/</th>\n",
       "      <th>https://geektimes.ru/post/87462/</th>\n",
       "      <th>https://habrahabr.ru/post/87467/</th>\n",
       "      <th>https://habrahabr.ru/post/87464/</th>\n",
       "      <th>...</th>\n",
       "      <th>https://geektimes.ru/post/113334/</th>\n",
       "      <th>https://habrahabr.ru/post/113332/</th>\n",
       "      <th>https://habrahabr.ru/post/113335/</th>\n",
       "      <th>https://geektimes.ru/post/7673/</th>\n",
       "      <th>https://geektimes.ru/company/asus/blog/261662/</th>\n",
       "      <th>https://habrahabr.ru/company/twins/blog/113336/</th>\n",
       "      <th>https://habrahabr.ru/post/113337/</th>\n",
       "      <th>https://geektimes.ru/post/113338/</th>\n",
       "      <th>https://habrahabr.ru/post/113339/</th>\n",
       "      <th>https://habrahabr.ru/post/113342/</th>\n",
       "    </tr>\n",
       "    <tr>\n",
       "      <th>url</th>\n",
       "      <th></th>\n",
       "      <th></th>\n",
       "      <th></th>\n",
       "      <th></th>\n",
       "      <th></th>\n",
       "      <th></th>\n",
       "      <th></th>\n",
       "      <th></th>\n",
       "      <th></th>\n",
       "      <th></th>\n",
       "      <th></th>\n",
       "      <th></th>\n",
       "      <th></th>\n",
       "      <th></th>\n",
       "      <th></th>\n",
       "      <th></th>\n",
       "      <th></th>\n",
       "      <th></th>\n",
       "      <th></th>\n",
       "      <th></th>\n",
       "      <th></th>\n",
       "    </tr>\n",
       "  </thead>\n",
       "  <tbody>\n",
       "    <tr>\n",
       "      <th>https://geektimes.ru/post/87455/</th>\n",
       "      <td>1.251891</td>\n",
       "      <td>1.251891</td>\n",
       "      <td>1.932414</td>\n",
       "      <td>1.477674</td>\n",
       "      <td>3.4071</td>\n",
       "      <td>0.0</td>\n",
       "      <td>4.250554</td>\n",
       "      <td>3.570882</td>\n",
       "      <td>4.106386</td>\n",
       "      <td>3.014565</td>\n",
       "      <td>...</td>\n",
       "      <td>4.754907</td>\n",
       "      <td>5.744237</td>\n",
       "      <td>5.117727</td>\n",
       "      <td>2.023568</td>\n",
       "      <td>5.347918</td>\n",
       "      <td>4.897154</td>\n",
       "      <td>1.498438</td>\n",
       "      <td>1.872094</td>\n",
       "      <td>3.130134</td>\n",
       "      <td>2.620596</td>\n",
       "    </tr>\n",
       "    <tr>\n",
       "      <th>https://geektimes.ru/post/87452/</th>\n",
       "      <td>1.932414</td>\n",
       "      <td>1.251891</td>\n",
       "      <td>1.932414</td>\n",
       "      <td>1.477674</td>\n",
       "      <td>3.4071</td>\n",
       "      <td>0.0</td>\n",
       "      <td>4.250554</td>\n",
       "      <td>3.570882</td>\n",
       "      <td>4.106386</td>\n",
       "      <td>3.014565</td>\n",
       "      <td>...</td>\n",
       "      <td>4.754907</td>\n",
       "      <td>5.744237</td>\n",
       "      <td>5.117727</td>\n",
       "      <td>2.023568</td>\n",
       "      <td>5.347918</td>\n",
       "      <td>4.897154</td>\n",
       "      <td>1.498438</td>\n",
       "      <td>1.872094</td>\n",
       "      <td>3.130134</td>\n",
       "      <td>2.620596</td>\n",
       "    </tr>\n",
       "    <tr>\n",
       "      <th>https://geektimes.ru/post/87459/</th>\n",
       "      <td>1.477674</td>\n",
       "      <td>1.251891</td>\n",
       "      <td>1.932414</td>\n",
       "      <td>1.477674</td>\n",
       "      <td>3.4071</td>\n",
       "      <td>0.0</td>\n",
       "      <td>4.250554</td>\n",
       "      <td>3.570882</td>\n",
       "      <td>4.106386</td>\n",
       "      <td>3.014565</td>\n",
       "      <td>...</td>\n",
       "      <td>4.754907</td>\n",
       "      <td>5.744237</td>\n",
       "      <td>5.117727</td>\n",
       "      <td>2.023568</td>\n",
       "      <td>5.347918</td>\n",
       "      <td>4.897154</td>\n",
       "      <td>1.498438</td>\n",
       "      <td>1.872094</td>\n",
       "      <td>3.130134</td>\n",
       "      <td>2.620596</td>\n",
       "    </tr>\n",
       "    <tr>\n",
       "      <th>https://habrahabr.ru/post/87461/</th>\n",
       "      <td>3.407100</td>\n",
       "      <td>1.251891</td>\n",
       "      <td>1.932414</td>\n",
       "      <td>1.477674</td>\n",
       "      <td>3.4071</td>\n",
       "      <td>0.0</td>\n",
       "      <td>4.250554</td>\n",
       "      <td>3.570882</td>\n",
       "      <td>4.106386</td>\n",
       "      <td>3.014565</td>\n",
       "      <td>...</td>\n",
       "      <td>4.754907</td>\n",
       "      <td>5.744237</td>\n",
       "      <td>5.117727</td>\n",
       "      <td>2.023568</td>\n",
       "      <td>5.347918</td>\n",
       "      <td>4.897154</td>\n",
       "      <td>1.498438</td>\n",
       "      <td>1.872094</td>\n",
       "      <td>3.130134</td>\n",
       "      <td>2.620596</td>\n",
       "    </tr>\n",
       "    <tr>\n",
       "      <th>https://habrahabr.ru/post/5754/</th>\n",
       "      <td>0.000000</td>\n",
       "      <td>1.251891</td>\n",
       "      <td>1.932414</td>\n",
       "      <td>1.477674</td>\n",
       "      <td>3.4071</td>\n",
       "      <td>0.0</td>\n",
       "      <td>4.250554</td>\n",
       "      <td>3.570882</td>\n",
       "      <td>4.106386</td>\n",
       "      <td>3.014565</td>\n",
       "      <td>...</td>\n",
       "      <td>4.754907</td>\n",
       "      <td>5.744237</td>\n",
       "      <td>5.117727</td>\n",
       "      <td>2.023568</td>\n",
       "      <td>5.347918</td>\n",
       "      <td>4.897154</td>\n",
       "      <td>1.498438</td>\n",
       "      <td>1.872094</td>\n",
       "      <td>3.130134</td>\n",
       "      <td>2.620596</td>\n",
       "    </tr>\n",
       "  </tbody>\n",
       "</table>\n",
       "<p>5 rows × 16501 columns</p>\n",
       "</div>"
      ],
      "text/plain": [
       "                                    target  https://geektimes.ru/post/87455/  \\\n",
       "url                                                                            \n",
       "https://geektimes.ru/post/87455/  1.251891                          1.251891   \n",
       "https://geektimes.ru/post/87452/  1.932414                          1.251891   \n",
       "https://geektimes.ru/post/87459/  1.477674                          1.251891   \n",
       "https://habrahabr.ru/post/87461/  3.407100                          1.251891   \n",
       "https://habrahabr.ru/post/5754/   0.000000                          1.251891   \n",
       "\n",
       "                                  https://geektimes.ru/post/87452/  \\\n",
       "url                                                                  \n",
       "https://geektimes.ru/post/87455/                          1.932414   \n",
       "https://geektimes.ru/post/87452/                          1.932414   \n",
       "https://geektimes.ru/post/87459/                          1.932414   \n",
       "https://habrahabr.ru/post/87461/                          1.932414   \n",
       "https://habrahabr.ru/post/5754/                           1.932414   \n",
       "\n",
       "                                  https://geektimes.ru/post/87459/  \\\n",
       "url                                                                  \n",
       "https://geektimes.ru/post/87455/                          1.477674   \n",
       "https://geektimes.ru/post/87452/                          1.477674   \n",
       "https://geektimes.ru/post/87459/                          1.477674   \n",
       "https://habrahabr.ru/post/87461/                          1.477674   \n",
       "https://habrahabr.ru/post/5754/                           1.477674   \n",
       "\n",
       "                                  https://habrahabr.ru/post/87461/  \\\n",
       "url                                                                  \n",
       "https://geektimes.ru/post/87455/                            3.4071   \n",
       "https://geektimes.ru/post/87452/                            3.4071   \n",
       "https://geektimes.ru/post/87459/                            3.4071   \n",
       "https://habrahabr.ru/post/87461/                            3.4071   \n",
       "https://habrahabr.ru/post/5754/                             3.4071   \n",
       "\n",
       "                                  https://habrahabr.ru/post/5754/  \\\n",
       "url                                                                 \n",
       "https://geektimes.ru/post/87455/                              0.0   \n",
       "https://geektimes.ru/post/87452/                              0.0   \n",
       "https://geektimes.ru/post/87459/                              0.0   \n",
       "https://habrahabr.ru/post/87461/                              0.0   \n",
       "https://habrahabr.ru/post/5754/                               0.0   \n",
       "\n",
       "                                  https://geektimes.ru/post/87460/  \\\n",
       "url                                                                  \n",
       "https://geektimes.ru/post/87455/                          4.250554   \n",
       "https://geektimes.ru/post/87452/                          4.250554   \n",
       "https://geektimes.ru/post/87459/                          4.250554   \n",
       "https://habrahabr.ru/post/87461/                          4.250554   \n",
       "https://habrahabr.ru/post/5754/                           4.250554   \n",
       "\n",
       "                                  https://geektimes.ru/post/87462/  \\\n",
       "url                                                                  \n",
       "https://geektimes.ru/post/87455/                          3.570882   \n",
       "https://geektimes.ru/post/87452/                          3.570882   \n",
       "https://geektimes.ru/post/87459/                          3.570882   \n",
       "https://habrahabr.ru/post/87461/                          3.570882   \n",
       "https://habrahabr.ru/post/5754/                           3.570882   \n",
       "\n",
       "                                  https://habrahabr.ru/post/87467/  \\\n",
       "url                                                                  \n",
       "https://geektimes.ru/post/87455/                          4.106386   \n",
       "https://geektimes.ru/post/87452/                          4.106386   \n",
       "https://geektimes.ru/post/87459/                          4.106386   \n",
       "https://habrahabr.ru/post/87461/                          4.106386   \n",
       "https://habrahabr.ru/post/5754/                           4.106386   \n",
       "\n",
       "                                  https://habrahabr.ru/post/87464/  \\\n",
       "url                                                                  \n",
       "https://geektimes.ru/post/87455/                          3.014565   \n",
       "https://geektimes.ru/post/87452/                          3.014565   \n",
       "https://geektimes.ru/post/87459/                          3.014565   \n",
       "https://habrahabr.ru/post/87461/                          3.014565   \n",
       "https://habrahabr.ru/post/5754/                           3.014565   \n",
       "\n",
       "                                                ...                  \\\n",
       "url                                             ...                   \n",
       "https://geektimes.ru/post/87455/                ...                   \n",
       "https://geektimes.ru/post/87452/                ...                   \n",
       "https://geektimes.ru/post/87459/                ...                   \n",
       "https://habrahabr.ru/post/87461/                ...                   \n",
       "https://habrahabr.ru/post/5754/                 ...                   \n",
       "\n",
       "                                  https://geektimes.ru/post/113334/  \\\n",
       "url                                                                   \n",
       "https://geektimes.ru/post/87455/                           4.754907   \n",
       "https://geektimes.ru/post/87452/                           4.754907   \n",
       "https://geektimes.ru/post/87459/                           4.754907   \n",
       "https://habrahabr.ru/post/87461/                           4.754907   \n",
       "https://habrahabr.ru/post/5754/                            4.754907   \n",
       "\n",
       "                                  https://habrahabr.ru/post/113332/  \\\n",
       "url                                                                   \n",
       "https://geektimes.ru/post/87455/                           5.744237   \n",
       "https://geektimes.ru/post/87452/                           5.744237   \n",
       "https://geektimes.ru/post/87459/                           5.744237   \n",
       "https://habrahabr.ru/post/87461/                           5.744237   \n",
       "https://habrahabr.ru/post/5754/                            5.744237   \n",
       "\n",
       "                                  https://habrahabr.ru/post/113335/  \\\n",
       "url                                                                   \n",
       "https://geektimes.ru/post/87455/                           5.117727   \n",
       "https://geektimes.ru/post/87452/                           5.117727   \n",
       "https://geektimes.ru/post/87459/                           5.117727   \n",
       "https://habrahabr.ru/post/87461/                           5.117727   \n",
       "https://habrahabr.ru/post/5754/                            5.117727   \n",
       "\n",
       "                                  https://geektimes.ru/post/7673/  \\\n",
       "url                                                                 \n",
       "https://geektimes.ru/post/87455/                         2.023568   \n",
       "https://geektimes.ru/post/87452/                         2.023568   \n",
       "https://geektimes.ru/post/87459/                         2.023568   \n",
       "https://habrahabr.ru/post/87461/                         2.023568   \n",
       "https://habrahabr.ru/post/5754/                          2.023568   \n",
       "\n",
       "                                  https://geektimes.ru/company/asus/blog/261662/  \\\n",
       "url                                                                                \n",
       "https://geektimes.ru/post/87455/                                        5.347918   \n",
       "https://geektimes.ru/post/87452/                                        5.347918   \n",
       "https://geektimes.ru/post/87459/                                        5.347918   \n",
       "https://habrahabr.ru/post/87461/                                        5.347918   \n",
       "https://habrahabr.ru/post/5754/                                         5.347918   \n",
       "\n",
       "                                  https://habrahabr.ru/company/twins/blog/113336/  \\\n",
       "url                                                                                 \n",
       "https://geektimes.ru/post/87455/                                         4.897154   \n",
       "https://geektimes.ru/post/87452/                                         4.897154   \n",
       "https://geektimes.ru/post/87459/                                         4.897154   \n",
       "https://habrahabr.ru/post/87461/                                         4.897154   \n",
       "https://habrahabr.ru/post/5754/                                          4.897154   \n",
       "\n",
       "                                  https://habrahabr.ru/post/113337/  \\\n",
       "url                                                                   \n",
       "https://geektimes.ru/post/87455/                           1.498438   \n",
       "https://geektimes.ru/post/87452/                           1.498438   \n",
       "https://geektimes.ru/post/87459/                           1.498438   \n",
       "https://habrahabr.ru/post/87461/                           1.498438   \n",
       "https://habrahabr.ru/post/5754/                            1.498438   \n",
       "\n",
       "                                  https://geektimes.ru/post/113338/  \\\n",
       "url                                                                   \n",
       "https://geektimes.ru/post/87455/                           1.872094   \n",
       "https://geektimes.ru/post/87452/                           1.872094   \n",
       "https://geektimes.ru/post/87459/                           1.872094   \n",
       "https://habrahabr.ru/post/87461/                           1.872094   \n",
       "https://habrahabr.ru/post/5754/                            1.872094   \n",
       "\n",
       "                                  https://habrahabr.ru/post/113339/  \\\n",
       "url                                                                   \n",
       "https://geektimes.ru/post/87455/                           3.130134   \n",
       "https://geektimes.ru/post/87452/                           3.130134   \n",
       "https://geektimes.ru/post/87459/                           3.130134   \n",
       "https://habrahabr.ru/post/87461/                           3.130134   \n",
       "https://habrahabr.ru/post/5754/                            3.130134   \n",
       "\n",
       "                                  https://habrahabr.ru/post/113342/  \n",
       "url                                                                  \n",
       "https://geektimes.ru/post/87455/                           2.620596  \n",
       "https://geektimes.ru/post/87452/                           2.620596  \n",
       "https://geektimes.ru/post/87459/                           2.620596  \n",
       "https://habrahabr.ru/post/87461/                           2.620596  \n",
       "https://habrahabr.ru/post/5754/                            2.620596  \n",
       "\n",
       "[5 rows x 16501 columns]"
      ]
     },
     "execution_count": 257,
     "metadata": {},
     "output_type": "execute_result"
    }
   ],
   "source": [
    "your_submission.head()"
   ]
  },
  {
   "cell_type": "code",
   "execution_count": 258,
   "metadata": {
    "collapsed": true
   },
   "outputs": [],
   "source": [
    "your_submission3 = sample_sub.copy()\n",
    "your_submission3['target'] = valid_predictiontest"
   ]
  },
  {
   "cell_type": "code",
   "execution_count": 259,
   "metadata": {
    "collapsed": false
   },
   "outputs": [
    {
     "data": {
      "text/plain": [
       "count    52913.0\n",
       "mean         0.0\n",
       "std          0.0\n",
       "min          0.0\n",
       "25%          0.0\n",
       "50%          0.0\n",
       "75%          0.0\n",
       "max          0.0\n",
       "Name: target, dtype: float64"
      ]
     },
     "execution_count": 259,
     "metadata": {},
     "output_type": "execute_result"
    }
   ],
   "source": [
    "(your_submission.target-your_submission3.target).describe()"
   ]
  },
  {
   "cell_type": "code",
   "execution_count": 260,
   "metadata": {
    "collapsed": true
   },
   "outputs": [],
   "source": [
    "your_submission = your_submission3"
   ]
  },
  {
   "cell_type": "code",
   "execution_count": 261,
   "metadata": {
    "collapsed": false
   },
   "outputs": [
    {
     "ename": "KeyError",
     "evalue": "'https://geektimes.ru/post/87455/'",
     "output_type": "error",
     "traceback": [
      "\u001b[0;31m---------------------------------------------------------------------------\u001b[0m",
      "\u001b[0;31mKeyError\u001b[0m                                  Traceback (most recent call last)",
      "\u001b[0;32mC:\\Users\\user\\Anaconda3\\lib\\site-packages\\pandas\\core\\indexes\\base.py\u001b[0m in \u001b[0;36mget_loc\u001b[0;34m(self, key, method, tolerance)\u001b[0m\n\u001b[1;32m   2441\u001b[0m             \u001b[1;32mtry\u001b[0m\u001b[1;33m:\u001b[0m\u001b[1;33m\u001b[0m\u001b[0m\n\u001b[0;32m-> 2442\u001b[0;31m                 \u001b[1;32mreturn\u001b[0m \u001b[0mself\u001b[0m\u001b[1;33m.\u001b[0m\u001b[0m_engine\u001b[0m\u001b[1;33m.\u001b[0m\u001b[0mget_loc\u001b[0m\u001b[1;33m(\u001b[0m\u001b[0mkey\u001b[0m\u001b[1;33m)\u001b[0m\u001b[1;33m\u001b[0m\u001b[0m\n\u001b[0m\u001b[1;32m   2443\u001b[0m             \u001b[1;32mexcept\u001b[0m \u001b[0mKeyError\u001b[0m\u001b[1;33m:\u001b[0m\u001b[1;33m\u001b[0m\u001b[0m\n",
      "\u001b[0;32mpandas\\_libs\\index.pyx\u001b[0m in \u001b[0;36mpandas._libs.index.IndexEngine.get_loc (pandas\\_libs\\index.c:5280)\u001b[0;34m()\u001b[0m\n",
      "\u001b[0;32mpandas\\_libs\\index.pyx\u001b[0m in \u001b[0;36mpandas._libs.index.IndexEngine.get_loc (pandas\\_libs\\index.c:5126)\u001b[0;34m()\u001b[0m\n",
      "\u001b[0;32mpandas\\_libs\\hashtable_class_helper.pxi\u001b[0m in \u001b[0;36mpandas._libs.hashtable.PyObjectHashTable.get_item (pandas\\_libs\\hashtable.c:20523)\u001b[0;34m()\u001b[0m\n",
      "\u001b[0;32mpandas\\_libs\\hashtable_class_helper.pxi\u001b[0m in \u001b[0;36mpandas._libs.hashtable.PyObjectHashTable.get_item (pandas\\_libs\\hashtable.c:20477)\u001b[0;34m()\u001b[0m\n",
      "\u001b[0;31mKeyError\u001b[0m: 'https://geektimes.ru/post/87455/'",
      "\nDuring handling of the above exception, another exception occurred:\n",
      "\u001b[0;31mKeyError\u001b[0m                                  Traceback (most recent call last)",
      "\u001b[0;32m<ipython-input-261-a8e0314bba9b>\u001b[0m in \u001b[0;36m<module>\u001b[0;34m()\u001b[0m\n\u001b[0;32m----> 1\u001b[0;31m \u001b[0myour_submission\u001b[0m\u001b[1;33m[\u001b[0m\u001b[0myour_submission\u001b[0m\u001b[1;33m.\u001b[0m\u001b[0mindex\u001b[0m\u001b[1;33m[\u001b[0m\u001b[1;36m0\u001b[0m\u001b[1;33m]\u001b[0m\u001b[1;33m]\u001b[0m\u001b[1;33m\u001b[0m\u001b[0m\n\u001b[0m",
      "\u001b[0;32mC:\\Users\\user\\Anaconda3\\lib\\site-packages\\pandas\\core\\frame.py\u001b[0m in \u001b[0;36m__getitem__\u001b[0;34m(self, key)\u001b[0m\n\u001b[1;32m   1962\u001b[0m             \u001b[1;32mreturn\u001b[0m \u001b[0mself\u001b[0m\u001b[1;33m.\u001b[0m\u001b[0m_getitem_multilevel\u001b[0m\u001b[1;33m(\u001b[0m\u001b[0mkey\u001b[0m\u001b[1;33m)\u001b[0m\u001b[1;33m\u001b[0m\u001b[0m\n\u001b[1;32m   1963\u001b[0m         \u001b[1;32melse\u001b[0m\u001b[1;33m:\u001b[0m\u001b[1;33m\u001b[0m\u001b[0m\n\u001b[0;32m-> 1964\u001b[0;31m             \u001b[1;32mreturn\u001b[0m \u001b[0mself\u001b[0m\u001b[1;33m.\u001b[0m\u001b[0m_getitem_column\u001b[0m\u001b[1;33m(\u001b[0m\u001b[0mkey\u001b[0m\u001b[1;33m)\u001b[0m\u001b[1;33m\u001b[0m\u001b[0m\n\u001b[0m\u001b[1;32m   1965\u001b[0m \u001b[1;33m\u001b[0m\u001b[0m\n\u001b[1;32m   1966\u001b[0m     \u001b[1;32mdef\u001b[0m \u001b[0m_getitem_column\u001b[0m\u001b[1;33m(\u001b[0m\u001b[0mself\u001b[0m\u001b[1;33m,\u001b[0m \u001b[0mkey\u001b[0m\u001b[1;33m)\u001b[0m\u001b[1;33m:\u001b[0m\u001b[1;33m\u001b[0m\u001b[0m\n",
      "\u001b[0;32mC:\\Users\\user\\Anaconda3\\lib\\site-packages\\pandas\\core\\frame.py\u001b[0m in \u001b[0;36m_getitem_column\u001b[0;34m(self, key)\u001b[0m\n\u001b[1;32m   1969\u001b[0m         \u001b[1;31m# get column\u001b[0m\u001b[1;33m\u001b[0m\u001b[1;33m\u001b[0m\u001b[0m\n\u001b[1;32m   1970\u001b[0m         \u001b[1;32mif\u001b[0m \u001b[0mself\u001b[0m\u001b[1;33m.\u001b[0m\u001b[0mcolumns\u001b[0m\u001b[1;33m.\u001b[0m\u001b[0mis_unique\u001b[0m\u001b[1;33m:\u001b[0m\u001b[1;33m\u001b[0m\u001b[0m\n\u001b[0;32m-> 1971\u001b[0;31m             \u001b[1;32mreturn\u001b[0m \u001b[0mself\u001b[0m\u001b[1;33m.\u001b[0m\u001b[0m_get_item_cache\u001b[0m\u001b[1;33m(\u001b[0m\u001b[0mkey\u001b[0m\u001b[1;33m)\u001b[0m\u001b[1;33m\u001b[0m\u001b[0m\n\u001b[0m\u001b[1;32m   1972\u001b[0m \u001b[1;33m\u001b[0m\u001b[0m\n\u001b[1;32m   1973\u001b[0m         \u001b[1;31m# duplicate columns & possible reduce dimensionality\u001b[0m\u001b[1;33m\u001b[0m\u001b[1;33m\u001b[0m\u001b[0m\n",
      "\u001b[0;32mC:\\Users\\user\\Anaconda3\\lib\\site-packages\\pandas\\core\\generic.py\u001b[0m in \u001b[0;36m_get_item_cache\u001b[0;34m(self, item)\u001b[0m\n\u001b[1;32m   1643\u001b[0m         \u001b[0mres\u001b[0m \u001b[1;33m=\u001b[0m \u001b[0mcache\u001b[0m\u001b[1;33m.\u001b[0m\u001b[0mget\u001b[0m\u001b[1;33m(\u001b[0m\u001b[0mitem\u001b[0m\u001b[1;33m)\u001b[0m\u001b[1;33m\u001b[0m\u001b[0m\n\u001b[1;32m   1644\u001b[0m         \u001b[1;32mif\u001b[0m \u001b[0mres\u001b[0m \u001b[1;32mis\u001b[0m \u001b[1;32mNone\u001b[0m\u001b[1;33m:\u001b[0m\u001b[1;33m\u001b[0m\u001b[0m\n\u001b[0;32m-> 1645\u001b[0;31m             \u001b[0mvalues\u001b[0m \u001b[1;33m=\u001b[0m \u001b[0mself\u001b[0m\u001b[1;33m.\u001b[0m\u001b[0m_data\u001b[0m\u001b[1;33m.\u001b[0m\u001b[0mget\u001b[0m\u001b[1;33m(\u001b[0m\u001b[0mitem\u001b[0m\u001b[1;33m)\u001b[0m\u001b[1;33m\u001b[0m\u001b[0m\n\u001b[0m\u001b[1;32m   1646\u001b[0m             \u001b[0mres\u001b[0m \u001b[1;33m=\u001b[0m \u001b[0mself\u001b[0m\u001b[1;33m.\u001b[0m\u001b[0m_box_item_values\u001b[0m\u001b[1;33m(\u001b[0m\u001b[0mitem\u001b[0m\u001b[1;33m,\u001b[0m \u001b[0mvalues\u001b[0m\u001b[1;33m)\u001b[0m\u001b[1;33m\u001b[0m\u001b[0m\n\u001b[1;32m   1647\u001b[0m             \u001b[0mcache\u001b[0m\u001b[1;33m[\u001b[0m\u001b[0mitem\u001b[0m\u001b[1;33m]\u001b[0m \u001b[1;33m=\u001b[0m \u001b[0mres\u001b[0m\u001b[1;33m\u001b[0m\u001b[0m\n",
      "\u001b[0;32mC:\\Users\\user\\Anaconda3\\lib\\site-packages\\pandas\\core\\internals.py\u001b[0m in \u001b[0;36mget\u001b[0;34m(self, item, fastpath)\u001b[0m\n\u001b[1;32m   3588\u001b[0m \u001b[1;33m\u001b[0m\u001b[0m\n\u001b[1;32m   3589\u001b[0m             \u001b[1;32mif\u001b[0m \u001b[1;32mnot\u001b[0m \u001b[0misnull\u001b[0m\u001b[1;33m(\u001b[0m\u001b[0mitem\u001b[0m\u001b[1;33m)\u001b[0m\u001b[1;33m:\u001b[0m\u001b[1;33m\u001b[0m\u001b[0m\n\u001b[0;32m-> 3590\u001b[0;31m                 \u001b[0mloc\u001b[0m \u001b[1;33m=\u001b[0m \u001b[0mself\u001b[0m\u001b[1;33m.\u001b[0m\u001b[0mitems\u001b[0m\u001b[1;33m.\u001b[0m\u001b[0mget_loc\u001b[0m\u001b[1;33m(\u001b[0m\u001b[0mitem\u001b[0m\u001b[1;33m)\u001b[0m\u001b[1;33m\u001b[0m\u001b[0m\n\u001b[0m\u001b[1;32m   3591\u001b[0m             \u001b[1;32melse\u001b[0m\u001b[1;33m:\u001b[0m\u001b[1;33m\u001b[0m\u001b[0m\n\u001b[1;32m   3592\u001b[0m                 \u001b[0mindexer\u001b[0m \u001b[1;33m=\u001b[0m \u001b[0mnp\u001b[0m\u001b[1;33m.\u001b[0m\u001b[0marange\u001b[0m\u001b[1;33m(\u001b[0m\u001b[0mlen\u001b[0m\u001b[1;33m(\u001b[0m\u001b[0mself\u001b[0m\u001b[1;33m.\u001b[0m\u001b[0mitems\u001b[0m\u001b[1;33m)\u001b[0m\u001b[1;33m)\u001b[0m\u001b[1;33m[\u001b[0m\u001b[0misnull\u001b[0m\u001b[1;33m(\u001b[0m\u001b[0mself\u001b[0m\u001b[1;33m.\u001b[0m\u001b[0mitems\u001b[0m\u001b[1;33m)\u001b[0m\u001b[1;33m]\u001b[0m\u001b[1;33m\u001b[0m\u001b[0m\n",
      "\u001b[0;32mC:\\Users\\user\\Anaconda3\\lib\\site-packages\\pandas\\core\\indexes\\base.py\u001b[0m in \u001b[0;36mget_loc\u001b[0;34m(self, key, method, tolerance)\u001b[0m\n\u001b[1;32m   2442\u001b[0m                 \u001b[1;32mreturn\u001b[0m \u001b[0mself\u001b[0m\u001b[1;33m.\u001b[0m\u001b[0m_engine\u001b[0m\u001b[1;33m.\u001b[0m\u001b[0mget_loc\u001b[0m\u001b[1;33m(\u001b[0m\u001b[0mkey\u001b[0m\u001b[1;33m)\u001b[0m\u001b[1;33m\u001b[0m\u001b[0m\n\u001b[1;32m   2443\u001b[0m             \u001b[1;32mexcept\u001b[0m \u001b[0mKeyError\u001b[0m\u001b[1;33m:\u001b[0m\u001b[1;33m\u001b[0m\u001b[0m\n\u001b[0;32m-> 2444\u001b[0;31m                 \u001b[1;32mreturn\u001b[0m \u001b[0mself\u001b[0m\u001b[1;33m.\u001b[0m\u001b[0m_engine\u001b[0m\u001b[1;33m.\u001b[0m\u001b[0mget_loc\u001b[0m\u001b[1;33m(\u001b[0m\u001b[0mself\u001b[0m\u001b[1;33m.\u001b[0m\u001b[0m_maybe_cast_indexer\u001b[0m\u001b[1;33m(\u001b[0m\u001b[0mkey\u001b[0m\u001b[1;33m)\u001b[0m\u001b[1;33m)\u001b[0m\u001b[1;33m\u001b[0m\u001b[0m\n\u001b[0m\u001b[1;32m   2445\u001b[0m \u001b[1;33m\u001b[0m\u001b[0m\n\u001b[1;32m   2446\u001b[0m         \u001b[0mindexer\u001b[0m \u001b[1;33m=\u001b[0m \u001b[0mself\u001b[0m\u001b[1;33m.\u001b[0m\u001b[0mget_indexer\u001b[0m\u001b[1;33m(\u001b[0m\u001b[1;33m[\u001b[0m\u001b[0mkey\u001b[0m\u001b[1;33m]\u001b[0m\u001b[1;33m,\u001b[0m \u001b[0mmethod\u001b[0m\u001b[1;33m=\u001b[0m\u001b[0mmethod\u001b[0m\u001b[1;33m,\u001b[0m \u001b[0mtolerance\u001b[0m\u001b[1;33m=\u001b[0m\u001b[0mtolerance\u001b[0m\u001b[1;33m)\u001b[0m\u001b[1;33m\u001b[0m\u001b[0m\n",
      "\u001b[0;32mpandas\\_libs\\index.pyx\u001b[0m in \u001b[0;36mpandas._libs.index.IndexEngine.get_loc (pandas\\_libs\\index.c:5280)\u001b[0;34m()\u001b[0m\n",
      "\u001b[0;32mpandas\\_libs\\index.pyx\u001b[0m in \u001b[0;36mpandas._libs.index.IndexEngine.get_loc (pandas\\_libs\\index.c:5126)\u001b[0;34m()\u001b[0m\n",
      "\u001b[0;32mpandas\\_libs\\hashtable_class_helper.pxi\u001b[0m in \u001b[0;36mpandas._libs.hashtable.PyObjectHashTable.get_item (pandas\\_libs\\hashtable.c:20523)\u001b[0;34m()\u001b[0m\n",
      "\u001b[0;32mpandas\\_libs\\hashtable_class_helper.pxi\u001b[0m in \u001b[0;36mpandas._libs.hashtable.PyObjectHashTable.get_item (pandas\\_libs\\hashtable.c:20477)\u001b[0;34m()\u001b[0m\n",
      "\u001b[0;31mKeyError\u001b[0m: 'https://geektimes.ru/post/87455/'"
     ]
    }
   ],
   "source": [
    "your_submission[your_submission.index[0]]"
   ]
  },
  {
   "cell_type": "code",
   "execution_count": 281,
   "metadata": {
    "collapsed": false
   },
   "outputs": [
    {
     "data": {
      "text/html": [
       "<div>\n",
       "<style>\n",
       "    .dataframe thead tr:only-child th {\n",
       "        text-align: right;\n",
       "    }\n",
       "\n",
       "    .dataframe thead th {\n",
       "        text-align: left;\n",
       "    }\n",
       "\n",
       "    .dataframe tbody tr th {\n",
       "        vertical-align: top;\n",
       "    }\n",
       "</style>\n",
       "<table border=\"1\" class=\"dataframe\">\n",
       "  <thead>\n",
       "    <tr style=\"text-align: right;\">\n",
       "      <th></th>\n",
       "      <th>target</th>\n",
       "    </tr>\n",
       "    <tr>\n",
       "      <th>url</th>\n",
       "      <th></th>\n",
       "    </tr>\n",
       "  </thead>\n",
       "  <tbody>\n",
       "    <tr>\n",
       "      <th>https://geektimes.ru/post/87455/</th>\n",
       "      <td>1.251891</td>\n",
       "    </tr>\n",
       "    <tr>\n",
       "      <th>https://geektimes.ru/post/87452/</th>\n",
       "      <td>1.932414</td>\n",
       "    </tr>\n",
       "    <tr>\n",
       "      <th>https://geektimes.ru/post/87459/</th>\n",
       "      <td>1.477674</td>\n",
       "    </tr>\n",
       "    <tr>\n",
       "      <th>https://habrahabr.ru/post/87461/</th>\n",
       "      <td>3.407100</td>\n",
       "    </tr>\n",
       "    <tr>\n",
       "      <th>https://habrahabr.ru/post/5754/</th>\n",
       "      <td>0.000000</td>\n",
       "    </tr>\n",
       "    <tr>\n",
       "      <th>https://geektimes.ru/post/87460/</th>\n",
       "      <td>4.250554</td>\n",
       "    </tr>\n",
       "    <tr>\n",
       "      <th>https://geektimes.ru/post/87462/</th>\n",
       "      <td>3.570882</td>\n",
       "    </tr>\n",
       "    <tr>\n",
       "      <th>https://habrahabr.ru/post/87467/</th>\n",
       "      <td>4.106386</td>\n",
       "    </tr>\n",
       "    <tr>\n",
       "      <th>https://habrahabr.ru/post/87464/</th>\n",
       "      <td>3.014565</td>\n",
       "    </tr>\n",
       "    <tr>\n",
       "      <th>https://habrahabr.ru/post/87471/</th>\n",
       "      <td>4.612565</td>\n",
       "    </tr>\n",
       "  </tbody>\n",
       "</table>\n",
       "</div>"
      ],
      "text/plain": [
       "                                    target\n",
       "url                                       \n",
       "https://geektimes.ru/post/87455/  1.251891\n",
       "https://geektimes.ru/post/87452/  1.932414\n",
       "https://geektimes.ru/post/87459/  1.477674\n",
       "https://habrahabr.ru/post/87461/  3.407100\n",
       "https://habrahabr.ru/post/5754/   0.000000\n",
       "https://geektimes.ru/post/87460/  4.250554\n",
       "https://geektimes.ru/post/87462/  3.570882\n",
       "https://habrahabr.ru/post/87467/  4.106386\n",
       "https://habrahabr.ru/post/87464/  3.014565\n",
       "https://habrahabr.ru/post/87471/  4.612565"
      ]
     },
     "execution_count": 281,
     "metadata": {},
     "output_type": "execute_result"
    }
   ],
   "source": [
    "your_submission.head(10)"
   ]
  },
  {
   "cell_type": "code",
   "execution_count": 285,
   "metadata": {
    "collapsed": false
   },
   "outputs": [],
   "source": [
    "train_target.describe()\n",
    "trr = train_target"
   ]
  },
  {
   "cell_type": "code",
   "execution_count": 286,
   "metadata": {
    "collapsed": false
   },
   "outputs": [
    {
     "data": {
      "text/plain": [
       "(target    2.828131\n",
       " dtype: float64, target    2.944439\n",
       " dtype: float64)"
      ]
     },
     "execution_count": 286,
     "metadata": {},
     "output_type": "execute_result"
    }
   ],
   "source": [
    "train_target.mean(), train_target.median()"
   ]
  },
  {
   "cell_type": "code",
   "execution_count": 287,
   "metadata": {
    "collapsed": true
   },
   "outputs": [],
   "source": [
    "trr['antitarget'] = 2.9"
   ]
  },
  {
   "cell_type": "code",
   "execution_count": 288,
   "metadata": {
    "collapsed": false
   },
   "outputs": [
    {
     "data": {
      "text/plain": [
       "1.4126459856166664"
      ]
     },
     "execution_count": 288,
     "metadata": {},
     "output_type": "execute_result"
    }
   ],
   "source": [
    "sklearn.metrics.mean_absolute_error(trr.target, trr.antitarget)"
   ]
  },
  {
   "cell_type": "code",
   "execution_count": 303,
   "metadata": {
    "collapsed": false
   },
   "outputs": [
    {
     "data": {
      "text/html": [
       "<div>\n",
       "<style>\n",
       "    .dataframe thead tr:only-child th {\n",
       "        text-align: right;\n",
       "    }\n",
       "\n",
       "    .dataframe thead th {\n",
       "        text-align: left;\n",
       "    }\n",
       "\n",
       "    .dataframe tbody tr th {\n",
       "        vertical-align: top;\n",
       "    }\n",
       "</style>\n",
       "<table border=\"1\" class=\"dataframe\">\n",
       "  <thead>\n",
       "    <tr style=\"text-align: right;\">\n",
       "      <th></th>\n",
       "      <th>target</th>\n",
       "    </tr>\n",
       "  </thead>\n",
       "  <tbody>\n",
       "    <tr>\n",
       "      <th>count</th>\n",
       "      <td>52913.000000</td>\n",
       "    </tr>\n",
       "    <tr>\n",
       "      <th>mean</th>\n",
       "      <td>4.003422</td>\n",
       "    </tr>\n",
       "    <tr>\n",
       "      <th>std</th>\n",
       "      <td>1.343091</td>\n",
       "    </tr>\n",
       "    <tr>\n",
       "      <th>min</th>\n",
       "      <td>0.000000</td>\n",
       "    </tr>\n",
       "    <tr>\n",
       "      <th>25%</th>\n",
       "      <td>3.088488</td>\n",
       "    </tr>\n",
       "    <tr>\n",
       "      <th>50%</th>\n",
       "      <td>3.999583</td>\n",
       "    </tr>\n",
       "    <tr>\n",
       "      <th>75%</th>\n",
       "      <td>4.927497</td>\n",
       "    </tr>\n",
       "    <tr>\n",
       "      <th>max</th>\n",
       "      <td>9.080687</td>\n",
       "    </tr>\n",
       "  </tbody>\n",
       "</table>\n",
       "</div>"
      ],
      "text/plain": [
       "             target\n",
       "count  52913.000000\n",
       "mean       4.003422\n",
       "std        1.343091\n",
       "min        0.000000\n",
       "25%        3.088488\n",
       "50%        3.999583\n",
       "75%        4.927497\n",
       "max        9.080687"
      ]
     },
     "execution_count": 303,
     "metadata": {},
     "output_type": "execute_result"
    }
   ],
   "source": [
    "your_submission2.describe()"
   ]
  },
  {
   "cell_type": "code",
   "execution_count": 307,
   "metadata": {
    "collapsed": false
   },
   "outputs": [
    {
     "ename": "NameError",
     "evalue": "name 'plt' is not defined",
     "output_type": "error",
     "traceback": [
      "\u001b[0;31m---------------------------------------------------------------------------\u001b[0m",
      "\u001b[0;31mNameError\u001b[0m                                 Traceback (most recent call last)",
      "\u001b[0;32m<ipython-input-307-dedf30c7f273>\u001b[0m in \u001b[0;36m<module>\u001b[0;34m()\u001b[0m\n\u001b[1;32m      1\u001b[0m \u001b[0mtrain_target\u001b[0m\u001b[1;33m.\u001b[0m\u001b[0mtarget\u001b[0m\u001b[1;33m.\u001b[0m\u001b[0mplot\u001b[0m\u001b[1;33m(\u001b[0m\u001b[1;33m)\u001b[0m\u001b[1;33m\u001b[0m\u001b[0m\n\u001b[0;32m----> 2\u001b[0;31m \u001b[0mplt\u001b[0m\u001b[1;33m.\u001b[0m\u001b[0mshow\u001b[0m\u001b[1;33m(\u001b[0m\u001b[1;33m)\u001b[0m\u001b[1;33m\u001b[0m\u001b[0m\n\u001b[0m",
      "\u001b[0;31mNameError\u001b[0m: name 'plt' is not defined"
     ]
    }
   ],
   "source": [
    "train_target.target.plot()\n",
    "plt.show()"
   ]
  },
  {
   "cell_type": "code",
   "execution_count": 97,
   "metadata": {
    "collapsed": false
   },
   "outputs": [],
   "source": [
    "def MiniCvScript(trainfile, testfile, traintab, testtab):\n",
    "    with open(trainfile, 'r') as pred_file:\n",
    "        valid_predictiontrain = [float(label) \n",
    "                             for label in pred_file.readlines()]\n",
    "    with open(testfile, 'r') as pred_file:\n",
    "        valid_predictiontest = [float(label) \n",
    "                             for label in pred_file.readlines()]\n",
    "    print(sklearn.metrics.mean_absolute_error(valid_predictiontrain, traintab.target), sklearn.metrics.mean_absolute_error(valid_predictiontest, testtab.target))"
   ]
  },
  {
   "cell_type": "code",
   "execution_count": 333,
   "metadata": {
    "collapsed": false
   },
   "outputs": [
    {
     "name": "stdout",
     "output_type": "stream",
     "text": [
      "0.843517558316 0.979019967668\n"
     ]
    }
   ],
   "source": [
    "MiniCvScript('D:/habr_minitrain_alt2_model.txt', 'D:/habr_minitest_alt2_model.txt', traintarget, testtarget)"
   ]
  },
  {
   "cell_type": "code",
   "execution_count": 348,
   "metadata": {
    "collapsed": false
   },
   "outputs": [
    {
     "name": "stdout",
     "output_type": "stream",
     "text": [
      "0.851518806688 0.958816180384\n",
      "0.829707766616 0.947782659315\n",
      "0.838839090834 0.96282187792\n",
      "0.853342504042 0.982119794895\n",
      "0.843517558316 0.979019967668\n",
      "0.810883589709 0.955540020111\n",
      "0.779618837879 0.93489977384\n",
      "0.740431456613 0.910741492375\n",
      "0.715175012429 0.911313081026\n",
      "0.718366043512 0.89981409647\n"
     ]
    }
   ],
   "source": [
    "MiniCvScript('D:/habr_minitrain_alt2_model_pt1.txt', 'D:/habr_minitest_alt2_model_pt1.txt', traintarget, testtarget)\n",
    "MiniCvScript('D:/habr_minitrain_alt2_model_pt2.txt', 'D:/habr_minitest_alt2_model_pt2.txt', traintarget, testtarget)\n",
    "MiniCvScript('D:/habr_minitrain_alt2_model_pt3.txt', 'D:/habr_minitest_alt2_model_pt3.txt', traintarget, testtarget)\n",
    "MiniCvScript('D:/habr_minitrain_alt2_model_pt4.txt', 'D:/habr_minitest_alt2_model_pt4.txt', traintarget, testtarget)\n",
    "MiniCvScript('D:/habr_minitrain_alt2_model_pt5.txt', 'D:/habr_minitest_alt2_model_pt5.txt', traintarget, testtarget)\n",
    "MiniCvScript('D:/habr_minitrain_alt2_model_pt6.txt', 'D:/habr_minitest_alt2_model_pt6.txt', traintarget, testtarget)\n",
    "MiniCvScript('D:/habr_minitrain_alt2_model_pt7.txt', 'D:/habr_minitest_alt2_model_pt7.txt', traintarget, testtarget)\n",
    "MiniCvScript('D:/habr_minitrain_alt2_model_pt8.txt', 'D:/habr_minitest_alt2_model_pt8.txt', traintarget, testtarget)\n",
    "MiniCvScript('D:/habr_minitrain_alt2_model_pt9.txt', 'D:/habr_minitest_alt2_model_pt9.txt', traintarget, testtarget)\n",
    "MiniCvScript('D:/habr_minitrain_alt2_model_pt85.txt', 'D:/habr_minitest_alt2_model_pt85.txt', traintarget, testtarget)#!!!!"
   ]
  },
  {
   "cell_type": "code",
   "execution_count": null,
   "metadata": {
    "collapsed": true
   },
   "outputs": [],
   "source": [
    "#power_t = 0.85  is the best????"
   ]
  },
  {
   "cell_type": "code",
   "execution_count": 350,
   "metadata": {
    "collapsed": false
   },
   "outputs": [
    {
     "name": "stdout",
     "output_type": "stream",
     "text": [
      "0.932412628817 1.00190528202\n",
      "0.820752729342 0.926643218799\n",
      "0.771529067334 0.909447423044\n",
      "0.740200473148 0.902266524513\n",
      "0.718366043512 0.89981409647\n",
      "0.702066406386 0.899655122358\n",
      "0.68894068677 0.900214108358\n",
      "0.678042158609 0.901220746951\n",
      "0.668999061489 0.902451043304\n",
      "0.709689270003 0.899603524819\n"
     ]
    }
   ],
   "source": [
    "MiniCvScript('D:/habr_minitrain_alt2_model_pt85_lr1.txt', 'D:/habr_minitest_alt2_model_pt85_lr1.txt', traintarget, testtarget)\n",
    "MiniCvScript('D:/habr_minitrain_alt2_model_pt85_lr2.txt', 'D:/habr_minitest_alt2_model_pt85_lr2.txt', traintarget, testtarget)\n",
    "MiniCvScript('D:/habr_minitrain_alt2_model_pt85_lr3.txt', 'D:/habr_minitest_alt2_model_pt85_lr3.txt', traintarget, testtarget)\n",
    "MiniCvScript('D:/habr_minitrain_alt2_model_pt85_lr4.txt', 'D:/habr_minitest_alt2_model_pt85_lr4.txt', traintarget, testtarget)\n",
    "MiniCvScript('D:/habr_minitrain_alt2_model_pt85_lr5.txt', 'D:/habr_minitest_alt2_model_pt85_lr5.txt', traintarget, testtarget)\n",
    "MiniCvScript('D:/habr_minitrain_alt2_model_pt85_lr6.txt', 'D:/habr_minitest_alt2_model_pt85_lr6.txt', traintarget, testtarget)\n",
    "MiniCvScript('D:/habr_minitrain_alt2_model_pt85_lr7.txt', 'D:/habr_minitest_alt2_model_pt85_lr7.txt', traintarget, testtarget)\n",
    "MiniCvScript('D:/habr_minitrain_alt2_model_pt85_lr8.txt', 'D:/habr_minitest_alt2_model_pt85_lr8.txt', traintarget, testtarget)\n",
    "MiniCvScript('D:/habr_minitrain_alt2_model_pt85_lr9.txt', 'D:/habr_minitest_alt2_model_pt85_lr9.txt', traintarget, testtarget)\n",
    "MiniCvScript('D:/habr_minitrain_alt2_model_pt85_lr55.txt', 'D:/habr_minitest_alt2_model_pt85_lr55.txt', traintarget, testtarget)\n"
   ]
  },
  {
   "cell_type": "code",
   "execution_count": null,
   "metadata": {
    "collapsed": true
   },
   "outputs": [],
   "source": [
    "#pt = 0.85, lr = 0.55"
   ]
  },
  {
   "cell_type": "code",
   "execution_count": 360,
   "metadata": {
    "collapsed": false
   },
   "outputs": [
    {
     "name": "stdout",
     "output_type": "stream",
     "text": [
      "1.5475439007 1.55219324888\n",
      "1.51274418503 1.51758066359\n",
      "1.48912797127 1.49381907794\n",
      "3.68714640289 3.6892509737\n",
      "2.61139434965 2.62590668684\n",
      "2.03918458159 2.05085485331\n",
      "1.5369198618 1.54229153468\n",
      "1.28037285265 1.29010235702\n",
      "1.11690728582 1.13181472392\n",
      "1.04364236053 1.06236815033\n",
      "1.00322277099 1.03314192828\n",
      "0.947848077846 0.991588086192\n",
      "0.89861079089 0.968636755812\n",
      "0.83548664927 0.942942241854\n",
      "0.781276225479 0.926305259576\n",
      "0.740450795081 0.913373181273\n",
      "0.709689270003 0.899603524819\n",
      "0.696900717211 0.894967809783\n",
      "0.689962279491 0.892316342657\n",
      "0.68665937185 0.89052796364\n",
      "0.684097719913 0.889699957751\n",
      "0.68304645341 0.888945022083\n",
      "0.682446119835 0.88873948382\n",
      "0.682148121228 0.888544792061\n",
      "0.681897447601 0.888306670759\n",
      "0.681892195729 0.888310560679\n",
      "0.681864554495 0.888293639954\n",
      "0.681878212074 0.888310367573\n"
     ]
    }
   ],
   "source": [
    "MiniCvScript('D:/habr_minitrain_alt2_model_pt85_lr55_b2.txt', 'D:/habr_minitest_alt2_model_pt85_lr55_b2.txt', traintarget, testtarget)\n",
    "MiniCvScript('D:/habr_minitrain_alt2_model_pt85_lr55_b3.txt', 'D:/habr_minitest_alt2_model_pt85_lr55_b3.txt', traintarget, testtarget)\n",
    "MiniCvScript('D:/habr_minitrain_alt2_model_pt85_lr55_b4.txt', 'D:/habr_minitest_alt2_model_pt85_lr55_b4.txt', traintarget, testtarget)\n",
    "MiniCvScript('D:/habr_minitrain_alt2_model_pt85_lr55_b5.txt', 'D:/habr_minitest_alt2_model_pt85_lr55_b5.txt', traintarget, testtarget)\n",
    "MiniCvScript('D:/habr_minitrain_alt2_model_pt85_lr55_b6.txt', 'D:/habr_minitest_alt2_model_pt85_lr55_b6.txt', traintarget, testtarget)\n",
    "MiniCvScript('D:/habr_minitrain_alt2_model_pt85_lr55_b7.txt', 'D:/habr_minitest_alt2_model_pt85_lr55_b7.txt', traintarget, testtarget)\n",
    "MiniCvScript('D:/habr_minitrain_alt2_model_pt85_lr55_b8.txt', 'D:/habr_minitest_alt2_model_pt85_lr55_b8.txt', traintarget, testtarget)\n",
    "MiniCvScript('D:/habr_minitrain_alt2_model_pt85_lr55_b9.txt', 'D:/habr_minitest_alt2_model_pt85_lr55_b9.txt', traintarget, testtarget)\n",
    "MiniCvScript('D:/habr_minitrain_alt2_model_pt85_lr55_b10.txt', 'D:/habr_minitest_alt2_model_pt85_lr55_b10.txt', traintarget, testtarget)\n",
    "MiniCvScript('D:/habr_minitrain_alt2_model_pt85_lr55_b11.txt', 'D:/habr_minitest_alt2_model_pt85_lr55_b11.txt', traintarget, testtarget)\n",
    "MiniCvScript('D:/habr_minitrain_alt2_model_pt85_lr55_b12.txt', 'D:/habr_minitest_alt2_model_pt85_lr55_b12.txt', traintarget, testtarget)\n",
    "MiniCvScript('D:/habr_minitrain_alt2_model_pt85_lr55_b13.txt', 'D:/habr_minitest_alt2_model_pt85_lr55_b13.txt', traintarget, testtarget)\n",
    "MiniCvScript('D:/habr_minitrain_alt2_model_pt85_lr55_b14.txt', 'D:/habr_minitest_alt2_model_pt85_lr55_b14.txt', traintarget, testtarget)\n",
    "MiniCvScript('D:/habr_minitrain_alt2_model_pt85_lr55_b15.txt', 'D:/habr_minitest_alt2_model_pt85_lr55_b15.txt', traintarget, testtarget)\n",
    "MiniCvScript('D:/habr_minitrain_alt2_model_pt85_lr55_b16.txt', 'D:/habr_minitest_alt2_model_pt85_lr55_b16.txt', traintarget, testtarget)\n",
    "MiniCvScript('D:/habr_minitrain_alt2_model_pt85_lr55_b17.txt', 'D:/habr_minitest_alt2_model_pt85_lr55_b17.txt', traintarget, testtarget)\n",
    "MiniCvScript('D:/habr_minitrain_alt2_model_pt85_lr55_b18.txt', 'D:/habr_minitest_alt2_model_pt85_lr55_b18.txt', traintarget, testtarget)\n",
    "MiniCvScript('D:/habr_minitrain_alt2_model_pt85_lr55_b19.txt', 'D:/habr_minitest_alt2_model_pt85_lr55_b19.txt', traintarget, testtarget)\n",
    "MiniCvScript('D:/habr_minitrain_alt2_model_pt85_lr55_b20.txt', 'D:/habr_minitest_alt2_model_pt85_lr55_b20.txt', traintarget, testtarget)\n",
    "MiniCvScript('D:/habr_minitrain_alt2_model_pt85_lr55_b21.txt', 'D:/habr_minitest_alt2_model_pt85_lr55_b21.txt', traintarget, testtarget)\n",
    "MiniCvScript('D:/habr_minitrain_alt2_model_pt85_lr55_b22.txt', 'D:/habr_minitest_alt2_model_pt85_lr55_b22.txt', traintarget, testtarget)\n",
    "MiniCvScript('D:/habr_minitrain_alt2_model_pt85_lr55_b23.txt', 'D:/habr_minitest_alt2_model_pt85_lr55_b23.txt', traintarget, testtarget)\n",
    "MiniCvScript('D:/habr_minitrain_alt2_model_pt85_lr55_b24.txt', 'D:/habr_minitest_alt2_model_pt85_lr55_b24.txt', traintarget, testtarget)\n",
    "MiniCvScript('D:/habr_minitrain_alt2_model_pt85_lr55_b25.txt', 'D:/habr_minitest_alt2_model_pt85_lr55_b25.txt', traintarget, testtarget)\n",
    "MiniCvScript('D:/habr_minitrain_alt2_model_pt85_lr55_b26.txt', 'D:/habr_minitest_alt2_model_pt85_lr55_b26.txt', traintarget, testtarget)\n",
    "MiniCvScript('D:/habr_minitrain_alt2_model_pt85_lr55_b27.txt', 'D:/habr_minitest_alt2_model_pt85_lr55_b27.txt', traintarget, testtarget)\n",
    "MiniCvScript('D:/habr_minitrain_alt2_model_pt85_lr55_b28.txt', 'D:/habr_minitest_alt2_model_pt85_lr55_b28.txt', traintarget, testtarget)\n",
    "MiniCvScript('D:/habr_minitrain_alt2_model_pt85_lr55_b29.txt', 'D:/habr_minitest_alt2_model_pt85_lr55_b29.txt', traintarget, testtarget)\n"
   ]
  },
  {
   "cell_type": "code",
   "execution_count": null,
   "metadata": {
    "collapsed": true
   },
   "outputs": [],
   "source": [
    "#pt 0.85, lr 0.55, b 26"
   ]
  },
  {
   "cell_type": "code",
   "execution_count": 359,
   "metadata": {
    "collapsed": false
   },
   "outputs": [
    {
     "name": "stdout",
     "output_type": "stream",
     "text": [
      "0.546619736199 0.891587938391\n",
      "0.591757129918 0.914509784312\n"
     ]
    }
   ],
   "source": [
    "MiniCvScript('D:/habr_minitrain_alt2_model_pt85_lr55_b26_q.txt', 'D:/habr_minitest_alt2_model_pt85_lr55_b26_q.txt', traintarget, testtarget)\n",
    "MiniCvScript('D:/habr_minitrain_alt2_model_pt85_lr55_b18_q.txt', 'D:/habr_minitest_alt2_model_pt85_lr55_b18_q.txt', traintarget, testtarget)\n"
   ]
  },
  {
   "cell_type": "code",
   "execution_count": 366,
   "metadata": {
    "collapsed": false
   },
   "outputs": [
    {
     "name": "stdout",
     "output_type": "stream",
     "text": [
      "0.915657749949 0.995934988723\n",
      "0.799033195598 0.91806811883\n",
      "0.747241694104 0.899871101192\n",
      "0.714226072715 0.892083194245\n",
      "0.691146696925 0.888924083442\n",
      "0.673703696996 0.888026120997\n",
      "0.659552918213 0.887913585928\n",
      "0.647757601019 0.88834396389\n",
      "0.63788660296 0.889092091192\n"
     ]
    }
   ],
   "source": [
    "MiniCvScript('D:/habr_minitrain_alt2_model_pt85_lr1_b26.txt', 'D:/habr_minitest_alt2_model_pt85_lr1_b26.txt', traintarget, testtarget)\n",
    "MiniCvScript('D:/habr_minitrain_alt2_model_pt85_lr2_b26.txt', 'D:/habr_minitest_alt2_model_pt85_lr2_b26.txt', traintarget, testtarget)\n",
    "MiniCvScript('D:/habr_minitrain_alt2_model_pt85_lr3_b26.txt', 'D:/habr_minitest_alt2_model_pt85_lr3_b26.txt', traintarget, testtarget)\n",
    "MiniCvScript('D:/habr_minitrain_alt2_model_pt85_lr4_b26.txt', 'D:/habr_minitest_alt2_model_pt85_lr4_b26.txt', traintarget, testtarget)\n",
    "MiniCvScript('D:/habr_minitrain_alt2_model_pt85_lr5_b26.txt', 'D:/habr_minitest_alt2_model_pt85_lr5_b26.txt', traintarget, testtarget)\n",
    "MiniCvScript('D:/habr_minitrain_alt2_model_pt85_lr6_b26.txt', 'D:/habr_minitest_alt2_model_pt85_lr6_b26.txt', traintarget, testtarget)\n",
    "MiniCvScript('D:/habr_minitrain_alt2_model_pt85_lr7_b26.txt', 'D:/habr_minitest_alt2_model_pt85_lr7_b26.txt', traintarget, testtarget)\n",
    "MiniCvScript('D:/habr_minitrain_alt2_model_pt85_lr8_b26.txt', 'D:/habr_minitest_alt2_model_pt85_lr8_b26.txt', traintarget, testtarget)\n",
    "MiniCvScript('D:/habr_minitrain_alt2_model_pt85_lr9_b26.txt', 'D:/habr_minitest_alt2_model_pt85_lr9_b26.txt', traintarget, testtarget)\n"
   ]
  },
  {
   "cell_type": "code",
   "execution_count": 368,
   "metadata": {
    "collapsed": false
   },
   "outputs": [
    {
     "name": "stdout",
     "output_type": "stream",
     "text": [
      "0.835826768926 0.959415923308\n",
      "0.803048714104 0.942419239243\n",
      "0.797997799176 0.949030076748\n",
      "0.810380504863 0.969431193745\n",
      "0.802778617031 0.971257895197\n",
      "0.765245082132 0.946574985556\n",
      "0.723594208788 0.919827184217\n",
      "0.683549579055 0.89753579845\n",
      "0.652632163026 0.902410404405\n",
      "0.659552918213 0.887913585928\n"
     ]
    }
   ],
   "source": [
    "MiniCvScript('D:/habr_minitrain_alt2_model_pt1_lr7_b26.txt', 'D:/habr_minitest_alt2_model_pt1_lr7_b26.txt', traintarget, testtarget)\n",
    "MiniCvScript('D:/habr_minitrain_alt2_model_pt2_lr7_b26.txt', 'D:/habr_minitest_alt2_model_pt2_lr7_b26.txt', traintarget, testtarget)\n",
    "MiniCvScript('D:/habr_minitrain_alt2_model_pt3_lr7_b26.txt', 'D:/habr_minitest_alt2_model_pt3_lr7_b26.txt', traintarget, testtarget)\n",
    "MiniCvScript('D:/habr_minitrain_alt2_model_pt4_lr7_b26.txt', 'D:/habr_minitest_alt2_model_pt4_lr7_b26.txt', traintarget, testtarget)\n",
    "MiniCvScript('D:/habr_minitrain_alt2_model_pt5_lr7_b26.txt', 'D:/habr_minitest_alt2_model_pt5_lr7_b26.txt', traintarget, testtarget)\n",
    "MiniCvScript('D:/habr_minitrain_alt2_model_pt6_lr7_b26.txt', 'D:/habr_minitest_alt2_model_pt6_lr7_b26.txt', traintarget, testtarget)\n",
    "MiniCvScript('D:/habr_minitrain_alt2_model_pt7_lr7_b26.txt', 'D:/habr_minitest_alt2_model_pt7_lr7_b26.txt', traintarget, testtarget)\n",
    "MiniCvScript('D:/habr_minitrain_alt2_model_pt8_lr7_b26.txt', 'D:/habr_minitest_alt2_model_pt8_lr7_b26.txt', traintarget, testtarget)\n",
    "MiniCvScript('D:/habr_minitrain_alt2_model_pt9_lr7_b26.txt', 'D:/habr_minitest_alt2_model_pt9_lr7_b26.txt', traintarget, testtarget)\n",
    "MiniCvScript('D:/habr_minitrain_alt2_model_pt85_lr7_b26.txt', 'D:/habr_minitest_alt2_model_pt85_lr7_b26.txt', traintarget, testtarget)\n"
   ]
  },
  {
   "cell_type": "code",
   "execution_count": null,
   "metadata": {
    "collapsed": true
   },
   "outputs": [],
   "source": [
    "####we try quantile loss function"
   ]
  },
  {
   "cell_type": "code",
   "execution_count": 377,
   "metadata": {
    "collapsed": false
   },
   "outputs": [
    {
     "name": "stdout",
     "output_type": "stream",
     "text": [
      "0.906133904666 0.966965662093\n",
      "0.893773106775 0.969067795895\n",
      "0.890154294075 0.981856009611\n",
      "0.87480823755 0.987831228466\n",
      "0.828805071203 0.970857321241\n",
      "0.768366795486 0.948115698953\n",
      "0.692797305873 0.921172559484\n",
      "0.622998288837 0.907675521041\n",
      "0.575930682901 0.933626918724\n",
      "0.593531435839 0.910480048582\n"
     ]
    }
   ],
   "source": [
    "MiniCvScript('D:/habr_minirain_alt2_model_pt1_lr5_b18_q.txt', 'D:/habr_minitest_alt2_model_pt1_lr5_b18_q.txt', traintarget, testtarget)\n",
    "MiniCvScript('D:/habr_minirain_alt2_model_pt2_lr5_b18_q.txt', 'D:/habr_minitest_alt2_model_pt2_lr5_b18_q.txt', traintarget, testtarget)\n",
    "MiniCvScript('D:/habr_minirain_alt2_model_pt3_lr5_b18_q.txt', 'D:/habr_minitest_alt2_model_pt3_lr5_b18_q.txt', traintarget, testtarget)\n",
    "MiniCvScript('D:/habr_minirain_alt2_model_pt4_lr5_b18_q.txt', 'D:/habr_minitest_alt2_model_pt4_lr5_b18_q.txt', traintarget, testtarget)\n",
    "MiniCvScript('D:/habr_minirain_alt2_model_pt5_lr5_b18_q.txt', 'D:/habr_minitest_alt2_model_pt5_lr5_b18_q.txt', traintarget, testtarget)\n",
    "MiniCvScript('D:/habr_minirain_alt2_model_pt6_lr5_b18_q.txt', 'D:/habr_minitest_alt2_model_pt6_lr5_b18_q.txt', traintarget, testtarget)\n",
    "MiniCvScript('D:/habr_minirain_alt2_model_pt7_lr5_b18_q.txt', 'D:/habr_minitest_alt2_model_pt7_lr5_b18_q.txt', traintarget, testtarget)\n",
    "MiniCvScript('D:/habr_minirain_alt2_model_pt8_lr5_b18_q.txt', 'D:/habr_minitest_alt2_model_pt8_lr5_b18_q.txt', traintarget, testtarget)\n",
    "MiniCvScript('D:/habr_minirain_alt2_model_pt9_lr5_b18_q.txt', 'D:/habr_minitest_alt2_model_pt9_lr5_b18_q.txt', traintarget, testtarget)\n",
    "MiniCvScript('D:/habr_minirain_alt2_model_pt85_lr5_b18_q.txt', 'D:/habr_minitest_alt2_model_pt85_lr5_b18_q.txt', traintarget, testtarget)\n"
   ]
  },
  {
   "cell_type": "code",
   "execution_count": 378,
   "metadata": {
    "collapsed": false
   },
   "outputs": [
    {
     "name": "stdout",
     "output_type": "stream",
     "text": [
      "0.759054479768 0.887787159079\n",
      "0.688018253741 0.883090560151\n",
      "0.65291864046 0.890443121636\n",
      "0.6329131658 0.898826274409\n",
      "0.622998288837 0.907675521041\n",
      "0.617358030405 0.914771389267\n",
      "0.616080995833 0.921956786895\n",
      "0.616180545887 0.928135429488\n",
      "0.617767768271 0.933902734813\n"
     ]
    }
   ],
   "source": [
    "MiniCvScript('D:/habr_minirain_alt2_model_pt8_lr1_b18_q.txt', 'D:/habr_minitest_alt2_model_pt8_lr1_b18_q.txt', traintarget, testtarget)\n",
    "MiniCvScript('D:/habr_minirain_alt2_model_pt8_lr2_b18_q.txt', 'D:/habr_minitest_alt2_model_pt8_lr2_b18_q.txt', traintarget, testtarget)\n",
    "MiniCvScript('D:/habr_minirain_alt2_model_pt8_lr3_b18_q.txt', 'D:/habr_minitest_alt2_model_pt8_lr3_b18_q.txt', traintarget, testtarget)\n",
    "MiniCvScript('D:/habr_minirain_alt2_model_pt8_lr4_b18_q.txt', 'D:/habr_minitest_alt2_model_pt8_lr4_b18_q.txt', traintarget, testtarget)\n",
    "MiniCvScript('D:/habr_minirain_alt2_model_pt8_lr5_b18_q.txt', 'D:/habr_minitest_alt2_model_pt8_lr5_b18_q.txt', traintarget, testtarget)\n",
    "MiniCvScript('D:/habr_minirain_alt2_model_pt8_lr6_b18_q.txt', 'D:/habr_minitest_alt2_model_pt8_lr6_b18_q.txt', traintarget, testtarget)\n",
    "MiniCvScript('D:/habr_minirain_alt2_model_pt8_lr7_b18_q.txt', 'D:/habr_minitest_alt2_model_pt8_lr7_b18_q.txt', traintarget, testtarget)\n",
    "MiniCvScript('D:/habr_minirain_alt2_model_pt8_lr8_b18_q.txt', 'D:/habr_minitest_alt2_model_pt8_lr8_b18_q.txt', traintarget, testtarget)\n",
    "MiniCvScript('D:/habr_minirain_alt2_model_pt8_lr9_b18_q.txt', 'D:/habr_minitest_alt2_model_pt8_lr9_b18_q.txt', traintarget, testtarget)\n"
   ]
  },
  {
   "cell_type": "code",
   "execution_count": 380,
   "metadata": {
    "collapsed": false
   },
   "outputs": [
    {
     "name": "stdout",
     "output_type": "stream",
     "text": [
      "0.937916065096 0.9859732008\n",
      "0.88512053053 0.960201406072\n",
      "0.817257992309 0.926639487764\n",
      "0.76479223586 0.911715026916\n",
      "0.723198121787 0.900327336463\n",
      "0.688018253741 0.883090560151\n",
      "0.673689337921 0.878008161829\n",
      "0.665095658294 0.87550942446\n",
      "0.660635108287 0.873698891336\n",
      "0.657634222657 0.872646986306\n",
      "0.656681474125 0.872274708647\n",
      "0.655802789021 0.872000577651\n",
      "0.655596109644 0.871829290992\n",
      "0.655249997179 0.871599600983\n",
      "0.655252910094 0.871626783312\n",
      "0.655244337159 0.871653101997\n"
     ]
    }
   ],
   "source": [
    "MiniCvScript('D:/habr_minirain_alt2_model_pt8_lr2_b13_q.txt', 'D:/habr_minitest_alt2_model_pt8_lr2_b13_q.txt', traintarget, testtarget)\n",
    "MiniCvScript('D:/habr_minirain_alt2_model_pt8_lr2_b14_q.txt', 'D:/habr_minitest_alt2_model_pt8_lr2_b14_q.txt', traintarget, testtarget)\n",
    "MiniCvScript('D:/habr_minirain_alt2_model_pt8_lr2_b15_q.txt', 'D:/habr_minitest_alt2_model_pt8_lr2_b15_q.txt', traintarget, testtarget)\n",
    "MiniCvScript('D:/habr_minirain_alt2_model_pt8_lr2_b16_q.txt', 'D:/habr_minitest_alt2_model_pt8_lr2_b16_q.txt', traintarget, testtarget)\n",
    "MiniCvScript('D:/habr_minirain_alt2_model_pt8_lr2_b17_q.txt', 'D:/habr_minitest_alt2_model_pt8_lr2_b17_q.txt', traintarget, testtarget)\n",
    "MiniCvScript('D:/habr_minirain_alt2_model_pt8_lr2_b18_q.txt', 'D:/habr_minitest_alt2_model_pt8_lr2_b18_q.txt', traintarget, testtarget)\n",
    "MiniCvScript('D:/habr_minirain_alt2_model_pt8_lr2_b19_q.txt', 'D:/habr_minitest_alt2_model_pt8_lr2_b19_q.txt', traintarget, testtarget)\n",
    "MiniCvScript('D:/habr_minirain_alt2_model_pt8_lr2_b20_q.txt', 'D:/habr_minitest_alt2_model_pt8_lr2_b20_q.txt', traintarget, testtarget)\n",
    "MiniCvScript('D:/habr_minirain_alt2_model_pt8_lr2_b21_q.txt', 'D:/habr_minitest_alt2_model_pt8_lr2_b21_q.txt', traintarget, testtarget)\n",
    "MiniCvScript('D:/habr_minirain_alt2_model_pt8_lr2_b22_q.txt', 'D:/habr_minitest_alt2_model_pt8_lr2_b22_q.txt', traintarget, testtarget)\n",
    "MiniCvScript('D:/habr_minirain_alt2_model_pt8_lr2_b23_q.txt', 'D:/habr_minitest_alt2_model_pt8_lr2_b23_q.txt', traintarget, testtarget)\n",
    "MiniCvScript('D:/habr_minirain_alt2_model_pt8_lr2_b24_q.txt', 'D:/habr_minitest_alt2_model_pt8_lr2_b24_q.txt', traintarget, testtarget)\n",
    "\n",
    "MiniCvScript('D:/habr_minirain_alt2_model_pt8_lr2_b25_q.txt', 'D:/habr_minitest_alt2_model_pt8_lr2_b25_q.txt', traintarget, testtarget)\n",
    "\n",
    "MiniCvScript('D:/habr_minirain_alt2_model_pt8_lr2_b26_q.txt', 'D:/habr_minitest_alt2_model_pt8_lr2_b26_q.txt', traintarget, testtarget)\n",
    "\n",
    "MiniCvScript('D:/habr_minirain_alt2_model_pt8_lr2_b27_q.txt', 'D:/habr_minitest_alt2_model_pt8_lr2_b27_q.txt', traintarget, testtarget)\n",
    "\n",
    "MiniCvScript('D:/habr_minirain_alt2_model_pt8_lr2_b28_q.txt', 'D:/habr_minitest_alt2_model_pt8_lr2_b28_q.txt', traintarget, testtarget)\n"
   ]
  },
  {
   "cell_type": "code",
   "execution_count": 381,
   "metadata": {
    "collapsed": false
   },
   "outputs": [
    {
     "name": "stdout",
     "output_type": "stream",
     "text": [
      "0.734208838891 0.879210551985\n",
      "0.655249997179 0.871599600983\n",
      "0.616147487899 0.876029279464\n",
      "0.593409391957 0.881232430432\n",
      "0.580759462077 0.886604367823\n"
     ]
    }
   ],
   "source": [
    "MiniCvScript('D:/habr_minirain_alt2_model_pt8_lr1_b26_q.txt', 'D:/habr_minitest_alt2_model_pt8_lr1_b26_q.txt', traintarget, testtarget)\n",
    "MiniCvScript('D:/habr_minirain_alt2_model_pt8_lr2_b26_q.txt', 'D:/habr_minitest_alt2_model_pt8_lr2_b26_q.txt', traintarget, testtarget)\n",
    "MiniCvScript('D:/habr_minirain_alt2_model_pt8_lr3_b26_q.txt', 'D:/habr_minitest_alt2_model_pt8_lr3_b26_q.txt', traintarget, testtarget)\n",
    "MiniCvScript('D:/habr_minirain_alt2_model_pt8_lr4_b26_q.txt', 'D:/habr_minitest_alt2_model_pt8_lr4_b26_q.txt', traintarget, testtarget)\n",
    "MiniCvScript('D:/habr_minirain_alt2_model_pt8_lr5_b26_q.txt', 'D:/habr_minitest_alt2_model_pt8_lr5_b26_q.txt', traintarget, testtarget)\n"
   ]
  },
  {
   "cell_type": "code",
   "execution_count": 398,
   "metadata": {
    "collapsed": false
   },
   "outputs": [
    {
     "name": "stdout",
     "output_type": "stream",
     "text": [
      "0.803154344611 1.01239238643\n",
      "0.536930358576 0.873726579067\n",
      "0.508829278313 0.871303713952\n",
      "0.79155594469 1.00715974203\n",
      "0.428732842403 0.851956604317\n",
      "0.465216684996 0.85129435874\n"
     ]
    }
   ],
   "source": [
    "MiniCvScript('D:/habr_minitrain_alt2_model_pt5_lr5_b18_nq.txt', 'D:/habr_minitest_alt2_model_pt5_lr5_b18_nq.txt', traintarget, testtarget)\n",
    "MiniCvScript('D:/habr_minitrain_alt2_model_pt85_lr5_b26_nq.txt', 'D:/habr_minitest_alt2_model_pt85_lr5_b26_nq.txt', traintarget, testtarget)\n",
    "MiniCvScript('D:/habr_minitrain_alt2_model_pt85_lr7_b26_nq.txt', 'D:/habr_minitest_alt2_model_pt85_lr7_b26_nq.txt', traintarget, testtarget)\n",
    "MiniCvScript('D:/habr_minitrain_alt2_model_pt5_lr5_b18_nqq.txt', 'D:/habr_minitest_alt2_model_pt5_lr5_b18_nqq.txt', traintarget, testtarget)\n",
    "MiniCvScript('D:/habr_minitrain_alt2_model_pt8_lr5_b26_nqq.txt', 'D:/habr_minitest_alt2_model_pt8_lr5_b26_nqq.txt', traintarget, testtarget)\n",
    "MiniCvScript('D:/habr_minitrain_alt2_model_pt8_lr2_b26_nqq.txt', 'D:/habr_minitest_alt2_model_pt8_lr2_b26_nqq.txt', traintarget, testtarget)\n"
   ]
  },
  {
   "cell_type": "code",
   "execution_count": 400,
   "metadata": {
    "collapsed": false
   },
   "outputs": [
    {
     "name": "stdout",
     "output_type": "stream",
     "text": [
      "0.464638269575 0.8512396179\n",
      "0.464719496589 0.851366645899\n",
      "0.464810977119 0.851260262993\n",
      "0.465216684996 0.85129435874\n",
      "0.465739541542 0.85150807697\n",
      "0.467018106192 0.851921815894\n",
      "0.469228841808 0.853502936391\n",
      "0.475326536125 0.857154024722\n",
      "0.488459048239 0.86293771948\n",
      "0.507604157871 0.871925263854\n",
      "0.584535784081 0.914643302103\n",
      "0.614264910035 0.918328228355\n",
      "0.692969413731 0.938800999222\n",
      "0.782258580209 0.964871254854\n"
     ]
    }
   ],
   "source": [
    "MiniCvScript('D:/habr_minitrain_alt2_model_pt8_lr2_b29_nqq.txt', 'D:/habr_minitest_alt2_model_pt8_lr2_b29_nqq.txt', traintarget, testtarget)\n",
    "MiniCvScript('D:/habr_minitrain_alt2_model_pt8_lr2_b28_nqq.txt', 'D:/habr_minitest_alt2_model_pt8_lr2_b28_nqq.txt', traintarget, testtarget)\n",
    "MiniCvScript('D:/habr_minitrain_alt2_model_pt8_lr2_b27_nqq.txt', 'D:/habr_minitest_alt2_model_pt8_lr2_b27_nqq.txt', traintarget, testtarget)\n",
    "\n",
    "MiniCvScript('D:/habr_minitrain_alt2_model_pt8_lr2_b26_nqq.txt', 'D:/habr_minitest_alt2_model_pt8_lr2_b26_nqq.txt', traintarget, testtarget)\n",
    "MiniCvScript('D:/habr_minitrain_alt2_model_pt8_lr2_b25_nqq.txt', 'D:/habr_minitest_alt2_model_pt8_lr2_b25_nqq.txt', traintarget, testtarget)\n",
    "MiniCvScript('D:/habr_minitrain_alt2_model_pt8_lr2_b24_nqq.txt', 'D:/habr_minitest_alt2_model_pt8_lr2_b24_nqq.txt', traintarget, testtarget)\n",
    "MiniCvScript('D:/habr_minitrain_alt2_model_pt8_lr2_b23_nqq.txt', 'D:/habr_minitest_alt2_model_pt8_lr2_b23_nqq.txt', traintarget, testtarget)\n",
    "MiniCvScript('D:/habr_minitrain_alt2_model_pt8_lr2_b22_nqq.txt', 'D:/habr_minitest_alt2_model_pt8_lr2_b22_nqq.txt', traintarget, testtarget)\n",
    "MiniCvScript('D:/habr_minitrain_alt2_model_pt8_lr2_b21_nqq.txt', 'D:/habr_minitest_alt2_model_pt8_lr2_b21_nqq.txt', traintarget, testtarget)\n",
    "MiniCvScript('D:/habr_minitrain_alt2_model_pt8_lr2_b20_nqq.txt', 'D:/habr_minitest_alt2_model_pt8_lr2_b20_nqq.txt', traintarget, testtarget)\n",
    "MiniCvScript('D:/habr_minitrain_alt2_model_pt8_lr2_b19_nqq.txt', 'D:/habr_minitest_alt2_model_pt8_lr2_b19_nqq.txt', traintarget, testtarget)\n",
    "MiniCvScript('D:/habr_minitrain_alt2_model_pt8_lr2_b18_nqq.txt', 'D:/habr_minitest_alt2_model_pt8_lr2_b18_nqq.txt', traintarget, testtarget)\n",
    "MiniCvScript('D:/habr_minitrain_alt2_model_pt8_lr2_b17_nqq.txt', 'D:/habr_minitest_alt2_model_pt8_lr2_b17_nqq.txt', traintarget, testtarget)\n",
    "MiniCvScript('D:/habr_minitrain_alt2_model_pt8_lr2_b16_nqq.txt', 'D:/habr_minitest_alt2_model_pt8_lr2_b16_nqq.txt', traintarget, testtarget)\n"
   ]
  },
  {
   "cell_type": "code",
   "execution_count": 402,
   "metadata": {
    "collapsed": false
   },
   "outputs": [
    {
     "name": "stdout",
     "output_type": "stream",
     "text": [
      "0.541618674651 0.858054928863\n",
      "0.464638269575 0.8512396179\n",
      "0.441041368612 0.85137812658\n",
      "0.43120456059 0.851086414933\n",
      "0.428398172026 0.851919469765\n",
      "0.427150841593 0.852453680314\n",
      "0.426418119501 0.852805546846\n",
      "0.4262582338 0.853155215494\n",
      "0.424740725937 0.852597710258\n"
     ]
    }
   ],
   "source": [
    "MiniCvScript('D:/habr_minitrain_alt2_model_pt8_lr1_b29_nqq.txt', 'D:/habr_minitest_alt2_model_pt8_lr1_b29_nqq.txt', traintarget, testtarget)\n",
    "MiniCvScript('D:/habr_minitrain_alt2_model_pt8_lr2_b29_nqq.txt', 'D:/habr_minitest_alt2_model_pt8_lr2_b29_nqq.txt', traintarget, testtarget)\n",
    "MiniCvScript('D:/habr_minitrain_alt2_model_pt8_lr3_b29_nqq.txt', 'D:/habr_minitest_alt2_model_pt8_lr3_b29_nqq.txt', traintarget, testtarget)\n",
    "MiniCvScript('D:/habr_minitrain_alt2_model_pt8_lr4_b29_nqq.txt', 'D:/habr_minitest_alt2_model_pt8_lr4_b29_nqq.txt', traintarget, testtarget)\n",
    "MiniCvScript('D:/habr_minitrain_alt2_model_pt8_lr5_b29_nqq.txt', 'D:/habr_minitest_alt2_model_pt8_lr5_b29_nqq.txt', traintarget, testtarget)\n",
    "MiniCvScript('D:/habr_minitrain_alt2_model_pt8_lr6_b29_nqq.txt', 'D:/habr_minitest_alt2_model_pt8_lr6_b29_nqq.txt', traintarget, testtarget)\n",
    "MiniCvScript('D:/habr_minitrain_alt2_model_pt8_lr7_b29_nqq.txt', 'D:/habr_minitest_alt2_model_pt8_lr7_b29_nqq.txt', traintarget, testtarget)\n",
    "MiniCvScript('D:/habr_minitrain_alt2_model_pt8_lr8_b29_nqq.txt', 'D:/habr_minitest_alt2_model_pt8_lr8_b29_nqq.txt', traintarget, testtarget)\n",
    "MiniCvScript('D:/habr_minitrain_alt2_model_pt8_lr9_b29_nqq.txt', 'D:/habr_minitest_alt2_model_pt8_lr9_b29_nqq.txt', traintarget, testtarget)\n"
   ]
  },
  {
   "cell_type": "code",
   "execution_count": 403,
   "metadata": {
    "collapsed": false
   },
   "outputs": [
    {
     "name": "stdout",
     "output_type": "stream",
     "text": [
      "0.915289580221 0.991404481792\n",
      "0.899507220741 1.0014909335\n",
      "0.865812942571 1.00292812747\n",
      "0.808809769259 0.992069455404\n",
      "0.730082275753 0.967960419488\n",
      "0.632007824438 0.929818708064\n",
      "0.531369521649 0.889676299131\n",
      "0.43120456059 0.851086414933\n",
      "0.348876589805 0.843791558818\n"
     ]
    }
   ],
   "source": [
    "MiniCvScript('D:/habr_minitrain_alt2_model_pt1_lr4_b29_nqq.txt', 'D:/habr_minitest_alt2_model_pt1_lr4_b29_nqq.txt', traintarget, testtarget)\n",
    "MiniCvScript('D:/habr_minitrain_alt2_model_pt2_lr4_b29_nqq.txt', 'D:/habr_minitest_alt2_model_pt2_lr4_b29_nqq.txt', traintarget, testtarget)\n",
    "MiniCvScript('D:/habr_minitrain_alt2_model_pt3_lr4_b29_nqq.txt', 'D:/habr_minitest_alt2_model_pt3_lr4_b29_nqq.txt', traintarget, testtarget)\n",
    "MiniCvScript('D:/habr_minitrain_alt2_model_pt4_lr4_b29_nqq.txt', 'D:/habr_minitest_alt2_model_pt4_lr4_b29_nqq.txt', traintarget, testtarget)\n",
    "MiniCvScript('D:/habr_minitrain_alt2_model_pt5_lr4_b29_nqq.txt', 'D:/habr_minitest_alt2_model_pt5_lr4_b29_nqq.txt', traintarget, testtarget)\n",
    "MiniCvScript('D:/habr_minitrain_alt2_model_pt6_lr4_b29_nqq.txt', 'D:/habr_minitest_alt2_model_pt6_lr4_b29_nqq.txt', traintarget, testtarget)\n",
    "MiniCvScript('D:/habr_minitrain_alt2_model_pt7_lr4_b29_nqq.txt', 'D:/habr_minitest_alt2_model_pt7_lr4_b29_nqq.txt', traintarget, testtarget)\n",
    "MiniCvScript('D:/habr_minitrain_alt2_model_pt8_lr4_b29_nqq.txt', 'D:/habr_minitest_alt2_model_pt8_lr4_b29_nqq.txt', traintarget, testtarget)\n",
    "MiniCvScript('D:/habr_minitrain_alt2_model_pt9_lr4_b29_nqq.txt', 'D:/habr_minitest_alt2_model_pt9_lr4_b29_nqq.txt', traintarget, testtarget)\n"
   ]
  },
  {
   "cell_type": "code",
   "execution_count": 438,
   "metadata": {
    "collapsed": false
   },
   "outputs": [
    {
     "name": "stdout",
     "output_type": "stream",
     "text": [
      "0.348876589805 0.843791558818\n",
      "0.328458024917 0.895720771951\n",
      "0.338778588233 1.01569983767\n",
      "0.386285446898 0.838974204828\n",
      "0.362551134275 0.838440237938\n"
     ]
    }
   ],
   "source": [
    "MiniCvScript('D:/habr_minitrain_alt2_model_pt9_lr4_b29_nqq.txt', 'D:/habr_minitest_alt2_model_pt9_lr4_b29_nqq.txt', traintarget, testtarget)\n",
    "MiniCvScript('D:/habr_minitrain_alt2_model_pt95_lr4_b29_nqq.txt', 'D:/habr_minitest_alt2_model_pt95_lr4_b29_nqq.txt', traintarget, testtarget)\n",
    "MiniCvScript('D:/habr_minitrain_alt2_model_pt99_lr4_b29_nqq.txt', 'D:/habr_minitest_alt2_model_pt99_lr4_b29_nqq.txt', traintarget, testtarget)\n",
    "MiniCvScript('D:/habr_minitrain_alt2_model_pt85_lr4_b29_nqq.txt', 'D:/habr_minitest_alt2_model_pt85_lr4_b29_nqq.txt', traintarget, testtarget)\n",
    "MiniCvScript('D:/habr_minitrain_alt2_model_pt88_lr4_b29_nqq.txt', 'D:/habr_minitest_alt2_model_pt88_lr4_b29_nqq.txt', traintarget, testtarget)\n"
   ]
  },
  {
   "cell_type": "code",
   "execution_count": 439,
   "metadata": {
    "collapsed": false
   },
   "outputs": [
    {
     "name": "stdout",
     "output_type": "stream",
     "text": [
      "0.408110142002 0.838352287242\n",
      "0.390788014595 0.83817220855\n",
      "0.386285446898 0.838974204828\n",
      "0.38479129467 0.839535323935\n"
     ]
    }
   ],
   "source": [
    "MiniCvScript('D:/habr_minitrain_alt2_model_pt85_lr2_b29_nqq.txt', 'D:/habr_minitest_alt2_model_pt85_lr2_b29_nqq.txt', traintarget, testtarget)\n",
    "MiniCvScript('D:/habr_minitrain_alt2_model_pt85_lr3_b29_nqq.txt', 'D:/habr_minitest_alt2_model_pt85_lr3_b29_nqq.txt', traintarget, testtarget)\n",
    "MiniCvScript('D:/habr_minitrain_alt2_model_pt85_lr4_b29_nqq.txt', 'D:/habr_minitest_alt2_model_pt85_lr4_b29_nqq.txt', traintarget, testtarget)\n",
    "MiniCvScript('D:/habr_minitrain_alt2_model_pt85_lr5_b29_nqq.txt', 'D:/habr_minitest_alt2_model_pt85_lr5_b29_nqq.txt', traintarget, testtarget)\n"
   ]
  },
  {
   "cell_type": "code",
   "execution_count": 440,
   "metadata": {
    "collapsed": false
   },
   "outputs": [
    {
     "name": "stdout",
     "output_type": "stream",
     "text": [
      "0.441041368612 0.85137812658\n",
      "0.390788014595 0.83817220855\n",
      "0.351460051429 0.843102760173\n"
     ]
    }
   ],
   "source": [
    "MiniCvScript('D:/habr_minitrain_alt2_model_pt8_lr3_b29_nqq.txt', 'D:/habr_minitest_alt2_model_pt8_lr3_b29_nqq.txt', traintarget, testtarget)\n",
    "MiniCvScript('D:/habr_minitrain_alt2_model_pt85_lr3_b29_nqq.txt', 'D:/habr_minitest_alt2_model_pt85_lr3_b29_nqq.txt', traintarget, testtarget)\n",
    "MiniCvScript('D:/habr_minitrain_alt2_model_pt9_lr3_b29_nqq.txt', 'D:/habr_minitest_alt2_model_pt9_lr3_b29_nqq.txt', traintarget, testtarget)\n"
   ]
  },
  {
   "cell_type": "code",
   "execution_count": 447,
   "metadata": {
    "collapsed": false
   },
   "outputs": [
    {
     "name": "stdout",
     "output_type": "stream",
     "text": [
      "0.39110227761 0.838212425655\n",
      "0.390843321897 0.8383124091\n",
      "0.390788014595 0.83817220855\n",
      "0.39075824117 0.838173423599\n"
     ]
    }
   ],
   "source": [
    "MiniCvScript('D:/habr_minitrain_alt2_model_pt85_lr3_b26_nqq.txt', 'D:/habr_minitest_alt2_model_pt85_lr3_b26_nqq.txt', traintarget, testtarget)\n",
    "MiniCvScript('D:/habr_minitrain_alt2_model_pt85_lr3_b28_nqq.txt', 'D:/habr_minitest_alt2_model_pt85_lr3_b28_nqq.txt', traintarget, testtarget)\n",
    "MiniCvScript('D:/habr_minitrain_alt2_model_pt85_lr3_b29_nqq.txt', 'D:/habr_minitest_alt2_model_pt85_lr3_b29_nqq.txt', traintarget, testtarget)\n",
    "MiniCvScript('D:/habr_minitrain_alt2_model_pt85_lr3_b30_nqq.txt', 'D:/habr_minitest_alt2_model_pt85_lr3_b30_nqq.txt', traintarget, testtarget)\n"
   ]
  },
  {
   "cell_type": "code",
   "execution_count": 448,
   "metadata": {
    "collapsed": false
   },
   "outputs": [
    {
     "name": "stdout",
     "output_type": "stream",
     "text": [
      "0.430446199848 0.847979060943\n",
      "0.420012172943 0.844874022388\n",
      "0.409845276741 0.842101832699\n",
      "0.400045230015 0.839818455182\n",
      "0.390788014595 0.83817220855\n",
      "0.382082546435 0.837199339518\n",
      "0.373684001214 0.83696554529\n",
      "0.365715617186 0.837712145468\n",
      "0.358237351207 0.839693170079\n"
     ]
    }
   ],
   "source": [
    "MiniCvScript('D:/habr_minitrain_alt2_model_pt81_lr3_b29_nqq.txt', 'D:/habr_minitest_alt2_model_pt81_lr3_b29_nqq.txt', traintarget, testtarget)\n",
    "MiniCvScript('D:/habr_minitrain_alt2_model_pt82_lr3_b29_nqq.txt', 'D:/habr_minitest_alt2_model_pt82_lr3_b29_nqq.txt', traintarget, testtarget)\n",
    "MiniCvScript('D:/habr_minitrain_alt2_model_pt83_lr3_b29_nqq.txt', 'D:/habr_minitest_alt2_model_pt83_lr3_b29_nqq.txt', traintarget, testtarget)\n",
    "MiniCvScript('D:/habr_minitrain_alt2_model_pt84_lr3_b29_nqq.txt', 'D:/habr_minitest_alt2_model_pt84_lr3_b29_nqq.txt', traintarget, testtarget)\n",
    "MiniCvScript('D:/habr_minitrain_alt2_model_pt85_lr3_b29_nqq.txt', 'D:/habr_minitest_alt2_model_pt85_lr3_b29_nqq.txt', traintarget, testtarget)\n",
    "MiniCvScript('D:/habr_minitrain_alt2_model_pt86_lr3_b29_nqq.txt', 'D:/habr_minitest_alt2_model_pt86_lr3_b29_nqq.txt', traintarget, testtarget)\n",
    "MiniCvScript('D:/habr_minitrain_alt2_model_pt87_lr3_b29_nqq.txt', 'D:/habr_minitest_alt2_model_pt87_lr3_b29_nqq.txt', traintarget, testtarget)\n",
    "MiniCvScript('D:/habr_minitrain_alt2_model_pt88_lr3_b29_nqq.txt', 'D:/habr_minitest_alt2_model_pt88_lr3_b29_nqq.txt', traintarget, testtarget)\n",
    "MiniCvScript('D:/habr_minitrain_alt2_model_pt89_lr3_b29_nqq.txt', 'D:/habr_minitest_alt2_model_pt89_lr3_b29_nqq.txt', traintarget, testtarget)\n"
   ]
  },
  {
   "cell_type": "code",
   "execution_count": 451,
   "metadata": {
    "collapsed": false
   },
   "outputs": [
    {
     "name": "stdout",
     "output_type": "stream",
     "text": [
      "0.452943350992 0.839853877892\n",
      "0.388281892201 0.836827084998\n",
      "0.373684001214 0.83696554529\n",
      "0.370078662734 0.837639982889\n",
      "0.397996333218 0.836877904947\n"
     ]
    }
   ],
   "source": [
    "MiniCvScript('D:/habr_minitrain_alt2_model_pt87_lr1_b29_nqq.txt', 'D:/habr_minitest_alt2_model_pt87_lr1_b29_nqq.txt', traintarget, testtarget)\n",
    "MiniCvScript('D:/habr_minitrain_alt2_model_pt87_lr2_b29_nqq.txt', 'D:/habr_minitest_alt2_model_pt87_lr2_b29_nqq.txt', traintarget, testtarget)\n",
    "MiniCvScript('D:/habr_minitrain_alt2_model_pt87_lr3_b29_nqq.txt', 'D:/habr_minitest_alt2_model_pt87_lr3_b29_nqq.txt', traintarget, testtarget)\n",
    "MiniCvScript('D:/habr_minitrain_alt2_model_pt87_lr4_b29_nqq.txt', 'D:/habr_minitest_alt2_model_pt87_lr4_b29_nqq.txt', traintarget, testtarget)\n",
    "MiniCvScript('D:/habr_minitrain_alt2_model_pt87_lr17_b29_nqq.txt', 'D:/habr_minitest_alt2_model_pt87_lr17_b29_nqq.txt', traintarget, testtarget)\n",
    "####pt 87, lr 2, b 29"
   ]
  },
  {
   "cell_type": "code",
   "execution_count": 533,
   "metadata": {
    "collapsed": false
   },
   "outputs": [
    {
     "name": "stdout",
     "output_type": "stream",
     "text": [
      "1.01000921804 1.11920563945\n",
      "0.362084870689 1.23751834868\n"
     ]
    }
   ],
   "source": [
    "MiniCvScript('D:/habr_minitrain_alt2_model_pt5_lr5_b18_inter.txt', 'D:/habr_minitest_alt2_model_pt5_lr5_b18_inter.txt', traintarget, testtarget)\n",
    "MiniCvScript('D:/habr_minitrain_alt2_model_pt87_lr2_b29_inter.txt', 'D:/habr_minitest_alt2_model_pt87_lr2_b29_inter.txt', traintarget, testtarget)\n"
   ]
  },
  {
   "cell_type": "code",
   "execution_count": 8,
   "metadata": {
    "collapsed": false
   },
   "outputs": [],
   "source": [
    "def MiniCvScriptPasses(trainfile, testfile, traintab, testtab, numpasses = 4, control = 1):\n",
    "    with open(trainfile, 'r') as pred_file:\n",
    "        valid_predictiontrain = [float(label) \n",
    "                             for label in pred_file.readlines()]\n",
    "    with open(testfile, 'r') as pred_file:\n",
    "        valid_predictiontest = [float(label) \n",
    "                             for label in pred_file.readlines()]\n",
    "    valid_predictiontrain = np.array(valid_predictiontrain)\n",
    "    valid_predictiontest = np.array(valid_predictiontest)\n",
    "    mlen = int(len(valid_predictiontrain)/numpasses)\n",
    "    trainarr = valid_predictiontrain[0:mlen]\n",
    "    testarr = valid_predictiontest[0:mlen]\n",
    "    for j in range(1,numpasses):\n",
    "        trainarr += valid_predictiontrain[j*mlen:(j+1)*mlen]\n",
    "    trainarr = trainarr/4\n",
    "    mlen = int(len(valid_predictiontest)/numpasses)    \n",
    "    testarr = valid_predictiontest[0:mlen]\n",
    "    for j in range(1,numpasses):\n",
    "        testarr += valid_predictiontest[j*mlen:(j+1)*mlen]\n",
    "    testarr = testarr/4\n",
    "\n",
    "    print(len(trainarr))\n",
    "    print(sklearn.metrics.mean_absolute_error(trainarr, traintab.target))\n",
    "    print(sklearn.metrics.mean_absolute_error(testarr, testtab.target))\n",
    "    if control == 0:\n",
    "        return(trainarr, testarr)\n",
    "    \n",
    "    #print(sklearn.metrics.mean_absolute_error(valid_predictiontrain, traintab.target), sklearn.metrics.mean_absolute_error(valid_predictiontest, testtab.target))    "
   ]
  },
  {
   "cell_type": "code",
   "execution_count": 118,
   "metadata": {
    "collapsed": false
   },
   "outputs": [
    {
     "name": "stdout",
     "output_type": "stream",
     "text": [
      "0.536478617829 0.855776675231\n",
      "0.363819803391 0.80208172498\n",
      "0.305860595817 0.796296677203\n",
      "0.277169678865 0.79597841685\n",
      "0.0991036716866 0.787864473015\n",
      "0.0959156351385 0.790322591595\n",
      "0.0935635086727 0.792999394989\n",
      "0.091873384576 0.795863911586\n"
     ]
    }
   ],
   "source": [
    "MiniCvScript('D:/habr_mymodel_p5l5b29minitrain.txt', 'D:/habr_mymodel_p5l5b29minitest.txt', traintarget, testtarget)\n",
    "MiniCvScript('D:/habr_mymodel_p8l2b29minitrain.txt', 'D:/habr_mymodel_p8l2b29minitest.txt', traintarget, testtarget)\n",
    "MiniCvScript('D:/habr_mymodel_p88l17b29minitrain.txt', 'D:/habr_mymodel_p88l17b29minitest.txt', traintarget, testtarget)\n",
    "MiniCvScript('D:/habr_mymodel_p91l17b29minitrain.txt', 'D:/habr_mymodel_p91l17b29minitest.txt', traintarget, testtarget)\n",
    "MiniCvScript('D:/habr_mymodel_p92l17b29minitrain.txt', 'D:/habr_mymodel_p92l17b29minitest.txt', traintarget, testtarget)\n",
    "MiniCvScript('D:/habr_mymodel_p93l17b29minitrain.txt', 'D:/habr_mymodel_p93l17b29minitest.txt', traintarget, testtarget)\n",
    "MiniCvScript('D:/habr_mymodel_p94l17b29minitrain.txt', 'D:/habr_mymodel_p94l17b29minitest.txt', traintarget, testtarget)\n",
    "MiniCvScript('D:/habr_mymodel_p95l17b29minitrain.txt', 'D:/habr_mymodel_p95l17b29minitest.txt', traintarget, testtarget)\n"
   ]
  },
  {
   "cell_type": "code",
   "execution_count": 152,
   "metadata": {
    "collapsed": false
   },
   "outputs": [
    {
     "name": "stdout",
     "output_type": "stream",
     "text": [
      "0.173259682532 0.784900663426\n",
      "0.13505359315 0.786998233327\n",
      "0.127734272718 0.789862174856\n"
     ]
    }
   ],
   "source": [
    "MiniCvScript('D:/habr_mymodel_p92l18b29minitrain__3.txt', 'D:/habr_mymodel_p92l18b29minitest__3.txt', traintarget, testtarget)\n",
    "MiniCvScript('D:/habr_mymodel_p92l18b29minitrain__4.txt', 'D:/habr_mymodel_p92l18b29minitest__4.txt', traintarget, testtarget)\n",
    "MiniCvScript('D:/habr_mymodel_p92l18b29minitrain__5.txt', 'D:/habr_mymodel_p92l18b29minitest__5.txt', traintarget, testtarget)\n"
   ]
  },
  {
   "cell_type": "code",
   "execution_count": 129,
   "metadata": {
    "collapsed": false
   },
   "outputs": [
    {
     "name": "stdout",
     "output_type": "stream",
     "text": [
      "0.099423349147 0.787886048749\n",
      "0.0991036716866 0.787864473015\n",
      "0.0988455353278 0.787855334407\n",
      "0.0985334101954 0.787896855087\n",
      "0.0991767834974 0.787910063582\n",
      "0.0947376089477 0.790700477515\n",
      "0.0903519865236 0.785051232188\n",
      "0.0967422421695 0.781564756368\n",
      "0.0949880081668 0.777241027916\n",
      "0.0992719926428 0.776007448821\n",
      "0.282582284599 0.788495667426\n",
      "0.292775145359 0.789999838254\n",
      "0.320165159276 0.795100609289\n",
      "0.099423464577 0.776142834449\n",
      "0.0991575267444 0.775885884948\n"
     ]
    }
   ],
   "source": [
    "MiniCvScript('D:/habr_mymodel_p92l16b29minitrain.txt', 'D:/habr_mymodel_p92l16b29minitest.txt', traintarget, testtarget)\n",
    "MiniCvScript('D:/habr_mymodel_p92l17b29minitrain.txt', 'D:/habr_mymodel_p92l17b29minitest.txt', traintarget, testtarget)\n",
    "MiniCvScript('D:/habr_mymodel_p92l18b29minitrain.txt', 'D:/habr_mymodel_p92l18b29minitest.txt', traintarget, testtarget)\n",
    "MiniCvScript('D:/habr_mymodel_p92l2b29minitrain.txt', 'D:/habr_mymodel_p92l2b29minitest.txt', traintarget, testtarget)\n",
    "MiniCvScript('D:/habr_mymodel_p92l18b26minitrain.txt', 'D:/habr_mymodel_p92l18b26minitest.txt', traintarget, testtarget)\n",
    "#92, 18, 29\n",
    "MiniCvScript('D:/habr_mymodel_p92l18b29_3minitrain.txt', 'D:/habr_mymodel_p92l18b29_3minitest.txt', traintarget, testtarget)\n",
    "MiniCvScript('D:/habr_mymodel_p9l2b29_3minitrain.txt', 'D:/habr_mymodel_p9l2b29_3minitest.txt', traintarget, testtarget)\n",
    "MiniCvScript('D:/habr_mymodel_p88l17b29_3minitrain.txt', 'D:/habr_mymodel_p88l17b29_3minitest.txt', traintarget, testtarget)\n",
    "MiniCvScript('D:/habr_mymodel_p86l17b29_3minitrain.txt', 'D:/habr_mymodel_p86l17b29_3minitest.txt', traintarget, testtarget)\n",
    "MiniCvScript('D:/habr_mymodel_p85l17b29_3minitrain.txt', 'D:/habr_mymodel_p85l17b29_3minitest.txt', traintarget, testtarget)\n",
    "MiniCvScript('D:/habr_mymodel_p84l17b29_3minitrain.txt', 'D:/habr_mymodel_p84l17b29_3minitest.txt', traintarget, testtarget)\n",
    "MiniCvScript('D:/habr_mymodel_p83l17b29_3minitrain.txt', 'D:/habr_mymodel_p83l17b29_3minitest.txt', traintarget, testtarget)\n",
    "MiniCvScript('D:/habr_mymodel_p8l17b29_3minitrain.txt', 'D:/habr_mymodel_p8l17b29_3minitest.txt', traintarget, testtarget)\n",
    "\n",
    "MiniCvScript('D:/habr_mymodel_p85l16b29_3minitrain.txt', 'D:/habr_mymodel_p85l16b29_3minitest.txt', traintarget, testtarget)\n",
    "MiniCvScript('D:/habr_mymodel_p85l18b29_3minitrain.txt', 'D:/habr_mymodel_p85l18b29_3minitest.txt', traintarget, testtarget)\n"
   ]
  },
  {
   "cell_type": "code",
   "execution_count": 154,
   "metadata": {
    "collapsed": false
   },
   "outputs": [
    {
     "name": "stdout",
     "output_type": "stream",
     "text": [
      "0.174796904463 0.77248148432\n",
      "0.136339436493 0.774397152551\n",
      "0.132869135573 0.77844062376\n"
     ]
    }
   ],
   "source": [
    "MiniCvScript('D:/habr_mymodel_p85l3b29minitrain_33.txt', 'D:/habr_mymodel_p85l3b29minitest_33.txt', traintarget, testtarget)\n",
    "MiniCvScript('D:/habr_mymodel_p85l3b29minitrain_34.txt', 'D:/habr_mymodel_p85l3b29minitest_34.txt', traintarget, testtarget)\n",
    "MiniCvScript('D:/habr_mymodel_p85l3b29minitrain_35.txt', 'D:/habr_mymodel_p85l3b29minitest_35.txt', traintarget, testtarget)\n"
   ]
  },
  {
   "cell_type": "code",
   "execution_count": 170,
   "metadata": {
    "collapsed": false
   },
   "outputs": [
    {
     "name": "stdout",
     "output_type": "stream",
     "text": [
      "0.175818332242 0.772720361907\n",
      "0.265214279444 0.786030417016\n"
     ]
    }
   ],
   "source": [
    "MiniCvScript('D:/habr_mymodel_p85l2b29minitrain_2.txt', 'D:/habr_mymodel_p85l2b29minitest_2.txt', traintarget, testtarget)\n",
    "MiniCvScript('D:/habr_mymodel_p85l3b29minitrain_21.txt', 'D:/habr_mymodel_p85l3b29minitest_21.txt', traintarget, testtarget)"
   ]
  },
  {
   "cell_type": "code",
   "execution_count": 175,
   "metadata": {
    "collapsed": false
   },
   "outputs": [
    {
     "name": "stdout",
     "output_type": "stream",
     "text": [
      "0.240045995071 0.775120699092\n",
      "0.212690585102 0.772342450126\n",
      "0.199271829748 0.771783842477\n",
      "0.18651464977 0.771836138691\n",
      "0.174796904463 0.77248148432\n",
      "0.16432990488 0.773710131913\n"
     ]
    }
   ],
   "source": [
    "MiniCvScript('D:/habr_mymodel_p8l3b29minitrain_2.txt', 'D:/habr_mymodel_p8l3b29minitest_2.txt', traintarget, testtarget)\n",
    "MiniCvScript('D:/habr_mymodel_p82l3b29minitrain_2.txt', 'D:/habr_mymodel_p82l3b29minitest_2.txt', traintarget, testtarget)\n",
    "\n",
    "MiniCvScript('D:/habr_mymodel_p83l3b29minitrain_2.txt', 'D:/habr_mymodel_p83l3b29minitest_2.txt', traintarget, testtarget)\n",
    "MiniCvScript('D:/habr_mymodel_p84l3b29minitrain_2.txt', 'D:/habr_mymodel_p84l3b29minitest_2.txt', traintarget, testtarget)\n",
    "MiniCvScript('D:/habr_mymodel_p85l3b29minitrain_2.txt', 'D:/habr_mymodel_p85l3b29minitest_2.txt', traintarget, testtarget)\n",
    "MiniCvScript('D:/habr_mymodel_p86l3b29minitrain_2.txt', 'D:/habr_mymodel_p86l3b29minitest_2.txt', traintarget, testtarget)\n"
   ]
  },
  {
   "cell_type": "code",
   "execution_count": 178,
   "metadata": {
    "collapsed": false
   },
   "outputs": [
    {
     "name": "stdout",
     "output_type": "stream",
     "text": [
      "0.199601060429 0.77178627827\n",
      "0.199271829748 0.771783842477\n",
      "0.199281780081 0.771779607566\n",
      "0.199342615936 0.771802585095\n",
      "0.212621209955 0.772356953029\n",
      "0.199281780081 0.771779607566\n",
      "0.186557059155 0.77181514419\n"
     ]
    }
   ],
   "source": [
    "MiniCvScript('D:/habr_mymodel_p83l25b29minitrain_2.txt', 'D:/habr_mymodel_p83l25b29minitest_2.txt', traintarget, testtarget)\n",
    "MiniCvScript('D:/habr_mymodel_p83l3b29minitrain_2.txt', 'D:/habr_mymodel_p83l3b29minitest_2.txt', traintarget, testtarget)\n",
    "MiniCvScript('D:/habr_mymodel_p83l35b29minitrain_2.txt', 'D:/habr_mymodel_p83l35b29minitest_2.txt', traintarget, testtarget)\n",
    "MiniCvScript('D:/habr_mymodel_p83l4b29minitrain_2.txt', 'D:/habr_mymodel_p83l4b29minitest_2.txt', traintarget, testtarget)\n",
    "\n",
    "\n",
    "MiniCvScript('D:/habr_mymodel_p82l35b29minitrain_2.txt', 'D:/habr_mymodel_p82l35b29minitest_2.txt', traintarget, testtarget)\n",
    "MiniCvScript('D:/habr_mymodel_p83l35b29minitrain_2.txt', 'D:/habr_mymodel_p83l35b29minitest_2.txt', traintarget, testtarget)\n",
    "MiniCvScript('D:/habr_mymodel_p84l35b29minitrain_2.txt', 'D:/habr_mymodel_p84l35b29minitest_2.txt', traintarget, testtarget)\n",
    "#pt 83 lr 35 b 29"
   ]
  },
  {
   "cell_type": "code",
   "execution_count": 145,
   "metadata": {
    "collapsed": false
   },
   "outputs": [
    {
     "name": "stdout",
     "output_type": "stream",
     "text": [
      "0.0990373749092 0.775726209883\n",
      "0.0990261206324 0.775589931835\n",
      "0.0990392274789 0.775647915586\n",
      "0.0990490233574 0.775701778562\n",
      "0.279858554066 0.787965578289\n",
      "0.0990373749092 0.775726209883\n"
     ]
    },
    {
     "ename": "FileNotFoundError",
     "evalue": "[Errno 2] No such file or directory: 'D:/habr_mymodel_p86l2b29minitest_3.txt'",
     "output_type": "error",
     "traceback": [
      "\u001b[0;31m---------------------------------------------------------------------------\u001b[0m",
      "\u001b[0;31mFileNotFoundError\u001b[0m                         Traceback (most recent call last)",
      "\u001b[0;32m<ipython-input-145-dcfd05044dde>\u001b[0m in \u001b[0;36m<module>\u001b[0;34m()\u001b[0m\n\u001b[1;32m      6\u001b[0m \u001b[0mMiniCvScript\u001b[0m\u001b[1;33m(\u001b[0m\u001b[1;34m'D:/habr_mymodel_p84l2b29minitrain_3.txt'\u001b[0m\u001b[1;33m,\u001b[0m \u001b[1;34m'D:/habr_mymodel_p84l2b29minitest_3.txt'\u001b[0m\u001b[1;33m,\u001b[0m \u001b[0mtraintarget\u001b[0m\u001b[1;33m,\u001b[0m \u001b[0mtesttarget\u001b[0m\u001b[1;33m)\u001b[0m\u001b[1;33m\u001b[0m\u001b[0m\n\u001b[1;32m      7\u001b[0m \u001b[0mMiniCvScript\u001b[0m\u001b[1;33m(\u001b[0m\u001b[1;34m'D:/habr_mymodel_p85l2b29minitrain_3.txt'\u001b[0m\u001b[1;33m,\u001b[0m \u001b[1;34m'D:/habr_mymodel_p85l2b29minitest_3.txt'\u001b[0m\u001b[1;33m,\u001b[0m \u001b[0mtraintarget\u001b[0m\u001b[1;33m,\u001b[0m \u001b[0mtesttarget\u001b[0m\u001b[1;33m)\u001b[0m\u001b[1;33m\u001b[0m\u001b[0m\n\u001b[0;32m----> 8\u001b[0;31m \u001b[0mMiniCvScript\u001b[0m\u001b[1;33m(\u001b[0m\u001b[1;34m'D:/habr_mymodel_p86l2b29minitrain_3.txt'\u001b[0m\u001b[1;33m,\u001b[0m \u001b[1;34m'D:/habr_mymodel_p86l2b29minitest_3.txt'\u001b[0m\u001b[1;33m,\u001b[0m \u001b[0mtraintarget\u001b[0m\u001b[1;33m,\u001b[0m \u001b[0mtesttarget\u001b[0m\u001b[1;33m)\u001b[0m\u001b[1;33m\u001b[0m\u001b[0m\n\u001b[0m",
      "\u001b[0;32m<ipython-input-97-a0f884180529>\u001b[0m in \u001b[0;36mMiniCvScript\u001b[0;34m(trainfile, testfile, traintab, testtab)\u001b[0m\n\u001b[1;32m      3\u001b[0m         valid_predictiontrain = [float(label) \n\u001b[1;32m      4\u001b[0m                              for label in pred_file.readlines()]\n\u001b[0;32m----> 5\u001b[0;31m     \u001b[1;32mwith\u001b[0m \u001b[0mopen\u001b[0m\u001b[1;33m(\u001b[0m\u001b[0mtestfile\u001b[0m\u001b[1;33m,\u001b[0m \u001b[1;34m'r'\u001b[0m\u001b[1;33m)\u001b[0m \u001b[1;32mas\u001b[0m \u001b[0mpred_file\u001b[0m\u001b[1;33m:\u001b[0m\u001b[1;33m\u001b[0m\u001b[0m\n\u001b[0m\u001b[1;32m      6\u001b[0m         valid_predictiontest = [float(label) \n\u001b[1;32m      7\u001b[0m                              for label in pred_file.readlines()]\n",
      "\u001b[0;31mFileNotFoundError\u001b[0m: [Errno 2] No such file or directory: 'D:/habr_mymodel_p86l2b29minitest_3.txt'"
     ]
    }
   ],
   "source": [
    "MiniCvScript('D:/habr_mymodel_p85l2b29minitrain_3.txt', 'D:/habr_mymodel_p85l2b29minitest_3.txt', traintarget, testtarget)\n",
    "MiniCvScript('D:/habr_mymodel_p85l25b29minitrain_3.txt', 'D:/habr_mymodel_p85l25b29minitest_3.txt', traintarget, testtarget)\n",
    "MiniCvScript('D:/habr_mymodel_p85l3b29minitrain_3.txt', 'D:/habr_mymodel_p85l3b29minitest_3.txt', traintarget, testtarget)\n",
    "MiniCvScript('D:/habr_mymodel_p85l4b29minitrain_3.txt', 'D:/habr_mymodel_p85l4b29minitest_3.txt', traintarget, testtarget)\n",
    "\n",
    "MiniCvScript('D:/habr_mymodel_p84l2b29minitrain_3.txt', 'D:/habr_mymodel_p84l2b29minitest_3.txt', traintarget, testtarget)\n",
    "MiniCvScript('D:/habr_mymodel_p85l2b29minitrain_3.txt', 'D:/habr_mymodel_p85l2b29minitest_3.txt', traintarget, testtarget)\n",
    "MiniCvScript('D:/habr_mymodel_p86l2b29minitrain_3.txt', 'D:/habr_mymodel_p86l2b29minitest_3.txt', traintarget, testtarget)\n"
   ]
  },
  {
   "cell_type": "code",
   "execution_count": 132,
   "metadata": {
    "collapsed": false
   },
   "outputs": [
    {
     "name": "stdout",
     "output_type": "stream",
     "text": [
      "0.59220399494 0.852107547318\n",
      "0.589836088418 0.855399264937\n",
      "0.589313884046 0.853342954918\n"
     ]
    }
   ],
   "source": [
    "MiniCvScript('D:/habr_mymodel_p2l2b29minitrain.txt', 'D:/habr_mymodel_p2l2b29minitest.txt', traintarget, testtarget)\n",
    "MiniCvScript('D:/habr_mymodel_p2l5b29minitrain.txt', 'D:/habr_mymodel_p2l5b29minitest.txt', traintarget, testtarget)\n",
    "MiniCvScript('D:/habr_mymodel_p2l8b29minitrain.txt', 'D:/habr_mymodel_p2l8b29minitest.txt', traintarget, testtarget)\n"
   ]
  },
  {
   "cell_type": "code",
   "execution_count": 499,
   "metadata": {
    "collapsed": false
   },
   "outputs": [
    {
     "name": "stdout",
     "output_type": "stream",
     "text": [
      "83999\n",
      "0.30008459934\n",
      "0.811825629871\n",
      "83999\n",
      "0.352096406886\n",
      "0.813318379823\n",
      "83999\n",
      "0.381833664817\n",
      "0.817195168134\n"
     ]
    }
   ],
   "source": [
    "#MiniCvScriptPasses('D:/habr_minitrain_alt2_model_pt87_lr2_b29_nqq.txt', 'D:/habr_minitest_alt2_model_pt87_lr2_b29_nqq.txt', traintarget, testtarget)\n",
    "MiniCvScriptPasses('D:/habr_minitrain_alt2_model_pt87_lr2_b29_nqqp25.txt', 'D:/habr_minitest_alt2_model_pt87_lr2_b29_nqqp25.txt', traintarget, testtarget)\n",
    "MiniCvScriptPasses('D:/habr_minitrain_alt2_model_pt87_lr2_b29_nqqp25p.txt', 'D:/habr_minitest_alt2_model_pt87_lr2_b29_nqqp25p.txt', traintarget, testtarget)\n",
    "MiniCvScriptPasses('D:/habr_minitrain_alt2_model_pt87_lr2_b29_nqqp25p4.txt', 'D:/habr_minitest_alt2_model_pt87_lr2_b29_nqqp25p4.txt', traintarget, testtarget)\n"
   ]
  },
  {
   "cell_type": "code",
   "execution_count": 539,
   "metadata": {
    "collapsed": false
   },
   "outputs": [
    {
     "name": "stdout",
     "output_type": "stream",
     "text": [
      "83999\n",
      "0.352096406886\n",
      "0.813318379823\n",
      "83999\n",
      "0.352096406886\n",
      "0.813318379823\n",
      "0.352096406886 0.813318379823\n",
      "83999\n",
      "0.36799914974\n",
      "0.809379125191\n"
     ]
    }
   ],
   "source": [
    "MiniCvScriptPasses('D:/habr_minitrain_alt2_model_pt87_lr2_b29_nqqp.txt', 'D:/habr_minitest_alt2_model_pt87_lr2_b29_nqqp.txt', traintarget, testtarget)\n",
    "MiniCvScriptPasses('D:/habr_minitrain_alt2_model_pt87_lr2_b29_nqqp2.txt', 'D:/habr_minitest_alt2_model_pt87_lr2_b29_nqqp2.txt', traintarget, testtarget)\n",
    "MiniCvScript('D:/habr_minitrain_alt2_model_pt87_lr2_b29_nqqp3.txt', 'D:/habr_minitest_alt2_model_pt87_lr2_b29_nqqp3.txt', traintarget, testtarget)\n",
    "MiniCvScriptPasses('D:/habr_minitrain_alt0_model_pt87_lr2_b29_nqqp.txt', 'D:/habr_minitest_alt0_model_pt87_lr2_b29_nqqp.txt', traintarget, testtarget)\n"
   ]
  },
  {
   "cell_type": "code",
   "execution_count": 544,
   "metadata": {
    "collapsed": false
   },
   "outputs": [
    {
     "name": "stdout",
     "output_type": "stream",
     "text": [
      "83999\n",
      "0.36799914974\n",
      "0.809379125191\n",
      "83999\n",
      "0.368497834093\n",
      "0.809579064637\n",
      "83999\n",
      "0.404512933916\n",
      "0.837628504375\n",
      "83999\n",
      "0.61694526792\n",
      "0.915670396572\n",
      "83999\n",
      "0.989075800676\n",
      "1.03270844907\n"
     ]
    }
   ],
   "source": [
    "MiniCvScriptPasses('D:/habr_minitrain_alt0_model_pt87_lr2_b29_nqqp.txt', 'D:/habr_minitest_alt0_model_pt87_lr2_b29_nqqp.txt', traintarget, testtarget)\n",
    "MiniCvScriptPasses('D:/habr_minitrain_alt0_model_pt87_lr2_b26_nqqp.txt', 'D:/habr_minitest_alt0_model_pt87_lr2_b26_nqqp.txt', traintarget, testtarget)\n",
    "MiniCvScriptPasses('D:/habr_minitrain_alt0_model_pt87_lr2_b20_nqqp.txt', 'D:/habr_minitest_alt0_model_pt87_lr2_b20_nqqp.txt', traintarget, testtarget)\n",
    "MiniCvScriptPasses('D:/habr_minitrain_alt0_model_pt87_lr2_b18_nqqp.txt', 'D:/habr_minitest_alt0_model_pt87_lr2_b18_nqqp.txt', traintarget, testtarget)\n",
    "MiniCvScriptPasses('D:/habr_minitrain_alt0_model_pt87_lr2_b12_nqqp.txt', 'D:/habr_minitest_alt0_model_pt87_lr2_b12_nqqp.txt', traintarget, testtarget)\n"
   ]
  },
  {
   "cell_type": "code",
   "execution_count": 545,
   "metadata": {
    "collapsed": false
   },
   "outputs": [
    {
     "name": "stdout",
     "output_type": "stream",
     "text": [
      "83999\n",
      "0.593823506566\n",
      "0.876449218327\n",
      "83999\n",
      "0.519225476994\n",
      "0.850290262687\n",
      "83999\n",
      "0.42446562046\n",
      "0.822002975278\n",
      "83999\n",
      "0.384021979643\n",
      "0.81179311308\n",
      "83999\n",
      "0.36799914974\n",
      "0.809379125191\n",
      "83999\n",
      "0.344741902023\n",
      "0.810610361073\n"
     ]
    }
   ],
   "source": [
    "MiniCvScriptPasses('D:/habr_minitrain_alt0_model_pt5_lr2_b29_nqqp.txt', 'D:/habr_minitest_alt0_model_pt5_lr2_b29_nqqp.txt', traintarget, testtarget)\n",
    "MiniCvScriptPasses('D:/habr_minitrain_alt0_model_pt7_lr2_b29_nqqp.txt', 'D:/habr_minitest_alt0_model_pt7_lr2_b29_nqqp.txt', traintarget, testtarget)\n",
    "MiniCvScriptPasses('D:/habr_minitrain_alt0_model_pt8_lr2_b29_nqqp.txt', 'D:/habr_minitest_alt0_model_pt8_lr2_b29_nqqp.txt', traintarget, testtarget)\n",
    "MiniCvScriptPasses('D:/habr_minitrain_alt0_model_pt85_lr2_b29_nqqp.txt', 'D:/habr_minitest_alt0_model_pt85_lr2_b29_nqqp.txt', traintarget, testtarget)\n",
    "MiniCvScriptPasses('D:/habr_minitrain_alt0_model_pt87_lr2_b29_nqqp.txt', 'D:/habr_minitest_alt0_model_pt87_lr2_b29_nqqp.txt', traintarget, testtarget)\n",
    "MiniCvScriptPasses('D:/habr_minitrain_alt0_model_pt9_lr2_b29_nqqp.txt', 'D:/habr_minitest_alt0_model_pt9_lr2_b29_nqqp.txt', traintarget, testtarget)\n"
   ]
  },
  {
   "cell_type": "code",
   "execution_count": 546,
   "metadata": {
    "collapsed": false
   },
   "outputs": [
    {
     "name": "stdout",
     "output_type": "stream",
     "text": [
      "83999\n",
      "0.406179921332\n",
      "0.811325897475\n",
      "83999\n",
      "0.36799914974\n",
      "0.809379125191\n",
      "83999\n",
      "0.361233522804\n",
      "0.810187336491\n",
      "83999\n",
      "0.358970397505\n",
      "0.810423821866\n",
      "83999\n",
      "0.358633259051\n",
      "0.810663485125\n"
     ]
    }
   ],
   "source": [
    "MiniCvScriptPasses('D:/habr_minitrain_alt0_model_pt87_lr1_b29_nqqp.txt', 'D:/habr_minitest_alt0_model_pt87_lr1_b29_nqqp.txt', traintarget, testtarget)\n",
    "MiniCvScriptPasses('D:/habr_minitrain_alt0_model_pt87_lr2_b29_nqqp.txt', 'D:/habr_minitest_alt0_model_pt87_lr2_b29_nqqp.txt', traintarget, testtarget)\n",
    "MiniCvScriptPasses('D:/habr_minitrain_alt0_model_pt87_lr3_b29_nqqp.txt', 'D:/habr_minitest_alt0_model_pt87_lr3_b29_nqqp.txt', traintarget, testtarget)\n",
    "MiniCvScriptPasses('D:/habr_minitrain_alt0_model_pt87_lr4_b29_nqqp.txt', 'D:/habr_minitest_alt0_model_pt87_lr4_b29_nqqp.txt', traintarget, testtarget)\n",
    "MiniCvScriptPasses('D:/habr_minitrain_alt0_model_pt87_lr5_b29_nqqp.txt', 'D:/habr_minitest_alt0_model_pt87_lr5_b29_nqqp.txt', traintarget, testtarget)\n"
   ]
  },
  {
   "cell_type": "code",
   "execution_count": 547,
   "metadata": {
    "collapsed": false
   },
   "outputs": [
    {
     "name": "stdout",
     "output_type": "stream",
     "text": [
      "83999\n",
      "0.384021979643\n",
      "0.81179311308\n",
      "83999\n",
      "0.375972456541\n",
      "0.810405860476\n",
      "83999\n",
      "0.36799914974\n",
      "0.809379125191\n",
      "83999\n",
      "0.360142946273\n",
      "0.808948381434\n",
      "83999\n",
      "0.352363608162\n",
      "0.809298658982\n",
      "83999\n",
      "0.344741902023\n",
      "0.810610361073\n"
     ]
    }
   ],
   "source": [
    "MiniCvScriptPasses('D:/habr_minitrain_alt0_model_pt85_lr2_b29_nqqp.txt', 'D:/habr_minitest_alt0_model_pt85_lr2_b29_nqqp.txt', traintarget, testtarget)\n",
    "MiniCvScriptPasses('D:/habr_minitrain_alt0_model_pt86_lr2_b29_nqqp.txt', 'D:/habr_minitest_alt0_model_pt86_lr2_b29_nqqp.txt', traintarget, testtarget)\n",
    "MiniCvScriptPasses('D:/habr_minitrain_alt0_model_pt87_lr2_b29_nqqp.txt', 'D:/habr_minitest_alt0_model_pt87_lr2_b29_nqqp.txt', traintarget, testtarget)\n",
    "MiniCvScriptPasses('D:/habr_minitrain_alt0_model_pt88_lr2_b29_nqqp.txt', 'D:/habr_minitest_alt0_model_pt88_lr2_b29_nqqp.txt', traintarget, testtarget)\n",
    "MiniCvScriptPasses('D:/habr_minitrain_alt0_model_pt89_lr2_b29_nqqp.txt', 'D:/habr_minitest_alt0_model_pt89_lr2_b29_nqqp.txt', traintarget, testtarget)\n",
    "MiniCvScriptPasses('D:/habr_minitrain_alt0_model_pt9_lr2_b29_nqqp.txt', 'D:/habr_minitest_alt0_model_pt9_lr2_b29_nqqp.txt', traintarget, testtarget)\n"
   ]
  },
  {
   "cell_type": "code",
   "execution_count": 548,
   "metadata": {
    "collapsed": false
   },
   "outputs": [
    {
     "name": "stdout",
     "output_type": "stream",
     "text": [
      "83999\n",
      "0.369686249872\n",
      "0.808724227438\n",
      "83999\n",
      "0.364820236158\n",
      "0.808718967418\n",
      "83999\n",
      "0.360142946273\n",
      "0.808948381434\n",
      "83999\n",
      "0.357521522471\n",
      "0.809297356462\n",
      "83999\n",
      "0.356333367231\n",
      "0.809509650399\n"
     ]
    }
   ],
   "source": [
    "MiniCvScriptPasses('D:/habr_minitrain_alt0_model_pt88_lr15_b29_nqqp.txt', 'D:/habr_minitest_alt0_model_pt88_lr15_b29_nqqp.txt', traintarget, testtarget)\n",
    "MiniCvScriptPasses('D:/habr_minitrain_alt0_model_pt88_lr17_b29_nqqp.txt', 'D:/habr_minitest_alt0_model_pt88_lr17_b29_nqqp.txt', traintarget, testtarget)\n",
    "MiniCvScriptPasses('D:/habr_minitrain_alt0_model_pt88_lr2_b29_nqqp.txt', 'D:/habr_minitest_alt0_model_pt88_lr2_b29_nqqp.txt', traintarget, testtarget)\n",
    "MiniCvScriptPasses('D:/habr_minitrain_alt0_model_pt88_lr23_b29_nqqp.txt', 'D:/habr_minitest_alt0_model_pt88_lr23_b29_nqqp.txt', traintarget, testtarget)\n",
    "MiniCvScriptPasses('D:/habr_minitrain_alt0_model_pt88_lr25_b29_nqqp.txt', 'D:/habr_minitest_alt0_model_pt88_lr25_b29_nqqp.txt', traintarget, testtarget)\n"
   ]
  },
  {
   "cell_type": "code",
   "execution_count": 555,
   "metadata": {
    "collapsed": false
   },
   "outputs": [
    {
     "name": "stdout",
     "output_type": "stream",
     "text": [
      "83999\n",
      "0.368077390064\n",
      "0.818841733952\n",
      "83999\n",
      "0.313982939559\n",
      "0.806266499764\n",
      "83999\n",
      "0.317085798914\n",
      "0.806469582984\n",
      "83999\n",
      "0.361345037048\n",
      "0.813365160079\n",
      "83999\n",
      "0.0917257155204\n",
      "0.786536816227\n"
     ]
    }
   ],
   "source": [
    "MiniCvScriptPasses('D:/habr_minitrain_alt0up_model_pt88_lr17_b29_nqqp.txt', 'D:/habr_minitest_alt0up_model_pt88_lr17_b29_nqqp.txt', traintarget, testtarget)\n",
    "MiniCvScriptPasses('D:/habr_minitrain_alt0_model_pt88_lr17_b29_nqqp1.txt', 'D:/habr_minitest_alt0_model_pt88_lr17_b29_nqqp1.txt', traintarget, testtarget)\n",
    "MiniCvScriptPasses('D:/habr_minitrain_alt0_model_pt87_lr2_b29_nqqp1.txt', 'D:/habr_minitest_alt0_model_pt87_lr2_b29_nqqp1.txt', traintarget, testtarget)\n",
    "MiniCvScriptPasses('D:/habr_minitrain_alt0_model_pt85_lr7_b29_nqqp1.txt', 'D:/habr_minitest_alt0_model_pt85_lr7_b29_nqqp1.txt', traintarget, testtarget)\n",
    "MiniCvScriptPasses('D:/habr_minitrain_alt0_model_pt88_lr17_b29_nqqp2.txt', 'D:/habr_minitest_alt0_model_pt88_lr17_b29_nqqp2.txt', traintarget, testtarget)\n"
   ]
  },
  {
   "cell_type": "code",
   "execution_count": 581,
   "metadata": {
    "collapsed": false
   },
   "outputs": [
    {
     "name": "stdout",
     "output_type": "stream",
     "text": [
      "83999\n",
      "0.168699552197\n",
      "0.792080784812\n",
      "83999\n",
      "0.0681995687449\n",
      "0.785037995056\n",
      "83999\n",
      "0.0543655211729\n",
      "0.783838584067\n",
      "83999\n",
      "0.2875957677\n",
      "0.80478316569\n",
      "83999\n",
      "17.670922413\n",
      "17.7354987083\n"
     ]
    }
   ],
   "source": [
    "MiniCvScriptPasses('D:/habr_minitrain_alt0_model_pt88_lr17_b29_nqq_t2.txt', 'D:/habr_minitest_alt0_model_pt88_lr17_b29_nqq_t2.txt', traintarget, testtarget)\n",
    "MiniCvScriptPasses('D:/habr_minitrain_alt0_model_pt88_lr17_b29_nqq_t15.txt', 'D:/habr_minitest_alt0_model_pt88_lr17_b29_nqq_t15.txt', traintarget, testtarget)\n",
    "MiniCvScriptPasses('D:/habr_minitrain_alt0_model_pt88_lr17_b29_nqq_t20.txt', 'D:/habr_minitest_alt0_model_pt88_lr17_b29_nqq_t20.txt', traintarget, testtarget)\n",
    "MiniCvScriptPasses('D:/habr_minitrain_alt0_model_pt88_lr17_b29_nqq0_t20.txt', 'D:/habr_minitest_alt0_model_pt88_lr17_b29_nqq0_t20.txt', traintarget, testtarget)\n",
    "MiniCvScriptPasses('D:/habr_minitrain_alt0_model_pt88_lr17_b29_nqq0_toff.txt', 'D:/habr_minitest_alt0_model_pt88_lr17_b29_nqq0_toff.txt', traintarget, testtarget, numpasses=29)\n"
   ]
  },
  {
   "cell_type": "code",
   "execution_count": 601,
   "metadata": {
    "collapsed": false
   },
   "outputs": [
    {
     "name": "stdout",
     "output_type": "stream",
     "text": [
      "83999\n",
      "0.309367966726\n",
      "0.813485314713\n",
      "83999\n",
      "0.301542712532\n",
      "0.817202551124\n",
      "83999\n",
      "0.306200179431\n",
      "0.807636753118\n"
     ]
    }
   ],
   "source": [
    "MiniCvScriptPasses('D:/habr_minitrain_alt0up2_model_pt88_lr17_b29_nqq.txt', 'D:/habr_minitest_alt0up2_model_pt88_lr17_b29_nqq.txt', traintarget, testtarget)\n",
    "MiniCvScriptPasses('D:/habr_minitrain_alt0up3_model_pt88_lr17_b29_nqq.txt', 'D:/habr_minitest_alt0up3_model_pt88_lr17_b29_nqq.txt', traintarget, testtarget)\n",
    "MiniCvScriptPasses('D:/habr_minitrain_alt0up4_model_pt88_lr17_b29_nqq.txt', 'D:/habr_minitest_alt0up4_model_pt88_lr17_b29_nqq.txt', traintarget, testtarget)\n"
   ]
  },
  {
   "cell_type": "code",
   "execution_count": 607,
   "metadata": {
    "collapsed": false
   },
   "outputs": [
    {
     "name": "stdout",
     "output_type": "stream",
     "text": [
      "83999\n",
      "1.22006529409\n",
      "0.806266499764\n",
      "83999\n",
      "0.298396295611\n",
      "0.805207463959\n",
      "83999\n",
      "0.313982939559\n",
      "0.806266499764\n",
      "83999\n",
      "0.270941007917\n",
      "0.803726944529\n",
      "83999\n",
      "0.0600136390552\n",
      "0.794941505958\n",
      "83999\n",
      "0.0973207783069\n",
      "0.79763917269\n"
     ]
    },
    {
     "data": {
      "text/plain": [
       "(array([ 0.669951,  1.080408,  0.      , ...,  1.609439,  3.044522,\n",
       "         4.110874]),\n",
       " array([ 0.597797,  0.009977,  1.431846, ...,  0.65376 ,  1.857215,\n",
       "         2.410227]))"
      ]
     },
     "execution_count": 607,
     "metadata": {},
     "output_type": "execute_result"
    }
   ],
   "source": [
    "MiniCvScriptPasses('D:/habr_minitrain_alt0_model_pt88_lr17_b29_nqq_t1.txt', 'D:/habr_minitest_alt0_model_pt88_lr17_b29_nqq_t1.txt', traintarget, testtarget, control = 0)\n",
    "MiniCvScriptPasses('D:/habr_minitrain_alt0_model_pt88_lr17_b29_nqq_t2.txt', 'D:/habr_minitest_alt0_model_pt88_lr17_b29_nqq_t2.txt', traintarget, testtarget, control = 0)\n",
    "MiniCvScriptPasses('D:/habr_minitrain_alt0_model_pt88_lr17_b29_nqq_t0.txt', 'D:/habr_minitest_alt0_model_pt88_lr17_b29_nqq_t0.txt', traintarget, testtarget, control = 0)\n",
    "MiniCvScriptPasses('D:/habr_minitrain_alt0_model_pt88_lr17_b29_nqq_tt1.txt', 'D:/habr_minitest_alt0_model_pt88_lr17_b29_nqq_tt1.txt', traintarget, testtarget, control = 0)\n",
    "MiniCvScriptPasses('D:/habr_minitrain_alt0_model_pt88_lr17_b29_nqq_tt2.txt', 'D:/habr_minitest_alt0_model_pt88_lr17_b29_nqq_tt2.txt', traintarget, testtarget, control = 0)\n",
    "MiniCvScriptPasses('D:/habr_minitrain_alt0_model_pt88_lr17_b29_nqq_tt3.txt', 'D:/habr_minitest_alt0_model_pt88_lr17_b29_nqq_tt3.txt', traintarget, testtarget, control = 0)\n"
   ]
  },
  {
   "cell_type": "code",
   "execution_count": 572,
   "metadata": {
    "collapsed": false
   },
   "outputs": [
    {
     "name": "stdout",
     "output_type": "stream",
     "text": [
      "83999\n",
      "0.313982939559\n",
      "0.806266499764\n",
      "83999\n",
      "0.0917257155204\n",
      "0.786536816227\n",
      "0.199093616781 0.786625316977\n"
     ]
    }
   ],
   "source": [
    "r1 = MiniCvScriptPasses('D:/habr_minitrain_alt0_model_pt88_lr17_b29_nqqp1.txt', 'D:/habr_minitest_alt0_model_pt88_lr17_b29_nqqp1.txt', traintarget, testtarget, control = 0)\n",
    "r2 = MiniCvScriptPasses('D:/habr_minitrain_alt0_model_pt88_lr17_b29_nqqp2.txt', 'D:/habr_minitest_alt0_model_pt88_lr17_b29_nqqp2.txt', traintarget, testtarget, control = 0)\n",
    "rt1 = (r1[0] + r2[0])/2\n",
    "rt2 = (r1[1] + r2[1])/2\n",
    "print(sklearn.metrics.mean_absolute_error(rt1, traintarget.target),\n",
    "sklearn.metrics.mean_absolute_error(rt2, testtarget.target))\n"
   ]
  },
  {
   "cell_type": "code",
   "execution_count": null,
   "metadata": {
    "collapsed": true
   },
   "outputs": [],
   "source": [
    "#pt 88, lr 17, b 29 --- 0.806266499764 instead of 0.809379125191, later triplets"
   ]
  },
  {
   "cell_type": "code",
   "execution_count": 518,
   "metadata": {
    "collapsed": false
   },
   "outputs": [
    {
     "name": "stdout",
     "output_type": "stream",
     "text": [
      "84000\n"
     ]
    }
   ],
   "source": [
    "len(train_target), len(traintarget)\n",
    "traintargetnew = train_target[0:84000]\n",
    "print(len(traintargetnew))\n",
    "testtargetnew = train_target[84000:]\n",
    "testtargetnew.reset_index(drop = True, inplace=True)"
   ]
  },
  {
   "cell_type": "code",
   "execution_count": 532,
   "metadata": {
    "collapsed": false
   },
   "outputs": [
    {
     "name": "stdout",
     "output_type": "stream",
     "text": [
      "0.866371437298 0.943272809444\n",
      "0.631022864988 0.946870442194\n",
      "0.601879969798 0.962735238806\n",
      "0.381382214571 0.941469307694\n",
      "84000\n",
      "0.3419669025\n",
      "0.958929784167\n",
      "0.718901341655 0.947662552222\n"
     ]
    }
   ],
   "source": [
    "#here we want to compare old models on a new train-test split\n",
    "#first vw model\n",
    "MiniCvScript('D:/habr_minitrain_altnew_model.txt', 'D:/habr_minitest_altnew_model.txt', traintargetnew, testtargetnew)\n",
    "#second vw model pt = 0.85, lr = 0.7, b = 26\n",
    "MiniCvScript('D:/habr_minitrain_altnew_model_pt85_lr7_b26.txt', 'D:/habr_minitest_altnew_model_pt85_lr7_b26.txt', traintargetnew, testtargetnew)\n",
    "#third model quantile pt = 0.8, lr = 0.2, b = 29\n",
    "MiniCvScript('D:/habr_minitrain_altnew_model_pt8_lr2_b29.txt', 'D:/habr_minitest_altnew_model_pt8_lr2_b29.txt', traintargetnew, testtargetnew)\n",
    "#fourth model quantile, ngrams pt = 0.87, lr = 0.2, b =29\n",
    "MiniCvScript('D:/habr_minitrain_altnew_model_pt87_lr2_b29.txt', 'D:/habr_minitest_altnew_model_pt87_lr2_b29.txt', traintargetnew, testtargetnew)\n",
    "#passes\n",
    "MiniCvScriptPasses('D:/habr_minitrain_altnew_model_pt87_lr2_b29_up.txt', 'D:/habr_minitest_altnew_model_pt87_lr2_b29_up.txt', traintargetnew, testtargetnew)\n",
    "MiniCvScript('D:/habr_minitrain_altnew_model_pt5_lr5_b29.txt', 'D:/habr_minitest_altnew_model_pt5_lr5_b29.txt', traintargetnew, testtargetnew)\n"
   ]
  },
  {
   "cell_type": "code",
   "execution_count": 531,
   "metadata": {
    "collapsed": false
   },
   "outputs": [
    {
     "name": "stdout",
     "output_type": "stream",
     "text": [
      "0.381382214571 0.941469307694\n",
      "0.383170366774 0.942482249\n",
      "0.512139612726 0.985166792833\n",
      "0.962871299202 1.10233468167\n"
     ]
    }
   ],
   "source": [
    "MiniCvScript('D:/habr_minitrain_altnew_model_pt87_lr2_b29.txt', 'D:/habr_minitest_altnew_model_pt87_lr2_b29.txt', traintargetnew, testtargetnew)\n",
    "MiniCvScript('D:/habr_minitrain_altnew_model_pt87_lr2_b24.txt', 'D:/habr_minitest_altnew_model_pt87_lr2_b24.txt', traintargetnew, testtargetnew)\n",
    "MiniCvScript('D:/habr_minitrain_altnew_model_pt87_lr2_b18.txt', 'D:/habr_minitest_altnew_model_pt87_lr2_b18.txt', traintargetnew, testtargetnew)\n",
    "MiniCvScript('D:/habr_minitrain_altnew_model_pt87_lr2_b12.txt', 'D:/habr_minitest_altnew_model_pt87_lr2_b12.txt', traintargetnew, testtargetnew)\n"
   ]
  },
  {
   "cell_type": "code",
   "execution_count": null,
   "metadata": {
    "collapsed": true
   },
   "outputs": [],
   "source": []
  },
  {
   "cell_type": "code",
   "execution_count": 452,
   "metadata": {
    "collapsed": false
   },
   "outputs": [
    {
     "name": "stdout",
     "output_type": "stream",
     "text": [
      "0.388281892201 0.836827084998\n",
      "0.337460898904 0.83190611983\n",
      "0.313149289134 0.833065322241\n"
     ]
    }
   ],
   "source": [
    "MiniCvScript('D:/habr_minitrain_alt2_model_pt87_lr2_b29_nqq.txt', 'D:/habr_minitest_alt2_model_pt87_lr2_b29_nqq.txt', traintarget, testtarget)\n",
    "MiniCvScript('D:/habr_minitrain_alt2_model_pt87_lr2_b29_nqq3.txt', 'D:/habr_minitest_alt2_model_pt87_lr2_b29_nqq3.txt', traintarget, testtarget)\n",
    "MiniCvScript('D:/habr_minitrain_alt2_model_pt87_lr2_b29_nqq4.txt', 'D:/habr_minitest_alt2_model_pt87_lr2_b29_nqq4.txt', traintarget, testtarget)\n"
   ]
  },
  {
   "cell_type": "code",
   "execution_count": 453,
   "metadata": {
    "collapsed": false
   },
   "outputs": [
    {
     "name": "stdout",
     "output_type": "stream",
     "text": [
      "0.406636551376 0.850607261659\n",
      "0.35502078945 0.835093622899\n",
      "0.337460898904 0.83190611983\n",
      "0.314617084108 0.832730367962\n"
     ]
    }
   ],
   "source": [
    "MiniCvScript('D:/habr_minitrain_alt2_model_pt8_lr2_b29_nqq3.txt', 'D:/habr_minitest_alt2_model_pt8_lr2_b29_nqq3.txt', traintarget, testtarget)\n",
    "MiniCvScript('D:/habr_minitrain_alt2_model_pt85_lr2_b29_nqq3.txt', 'D:/habr_minitest_alt2_model_pt85_lr2_b29_nqq3.txt', traintarget, testtarget)\n",
    "MiniCvScript('D:/habr_minitrain_alt2_model_pt87_lr2_b29_nqq3.txt', 'D:/habr_minitest_alt2_model_pt87_lr2_b29_nqq3.txt', traintarget, testtarget)\n",
    "MiniCvScript('D:/habr_minitrain_alt2_model_pt9_lr2_b29_nqq3.txt', 'D:/habr_minitest_alt2_model_pt9_lr2_b29_nqq3.txt', traintarget, testtarget)\n"
   ]
  },
  {
   "cell_type": "code",
   "execution_count": 455,
   "metadata": {
    "collapsed": false
   },
   "outputs": [
    {
     "name": "stdout",
     "output_type": "stream",
     "text": [
      "0.376240145799 0.836893533096\n",
      "0.337460898904 0.83190611983\n",
      "0.330595159085 0.830765064082\n",
      "0.328909199764 0.830579950779\n",
      "0.328807692484 0.836893533096\n",
      "0.328529950916 0.836893533096\n",
      "0.32776554003 0.836893533096\n",
      "0.32781201175 0.836893533096\n",
      "0.376240145799 0.836893533096\n"
     ]
    }
   ],
   "source": [
    "MiniCvScript('D:/habr_minitrain_alt2_model_pt87_lr1_b29_nqq3.txt', 'D:/habr_minitest_alt2_model_pt87_lr1_b29_nqq3.txt', traintarget, testtarget)\n",
    "MiniCvScript('D:/habr_minitrain_alt2_model_pt87_lr2_b29_nqq3.txt', 'D:/habr_minitest_alt2_model_pt87_lr2_b29_nqq3.txt', traintarget, testtarget)\n",
    "MiniCvScript('D:/habr_minitrain_alt2_model_pt87_lr3_b29_nqq3.txt', 'D:/habr_minitest_alt2_model_pt87_lr3_b29_nqq3.txt', traintarget, testtarget)\n",
    "MiniCvScript('D:/habr_minitrain_alt2_model_pt87_lr4_b29_nqq3.txt', 'D:/habr_minitest_alt2_model_pt87_lr4_b29_nqq3.txt', traintarget, testtarget)\n",
    "MiniCvScript('D:/habr_minitrain_alt2_model_pt87_lr5_b29_nqq3.txt', 'D:/habr_minitest_alt2_model_pt87_lr5_b29_nqq3.txt', traintarget, testtarget)\n",
    "MiniCvScript('D:/habr_minitrain_alt2_model_pt87_lr6_b29_nqq3.txt', 'D:/habr_minitest_alt2_model_pt87_lr6_b29_nqq3.txt', traintarget, testtarget)\n",
    "MiniCvScript('D:/habr_minitrain_alt2_model_pt87_lr7_b29_nqq3.txt', 'D:/habr_minitest_alt2_model_pt87_lr7_b29_nqq3.txt', traintarget, testtarget)\n",
    "MiniCvScript('D:/habr_minitrain_alt2_model_pt87_lr8_b29_nqq3.txt', 'D:/habr_minitest_alt2_model_pt87_lr8_b29_nqq3.txt', traintarget, testtarget)\n",
    "MiniCvScript('D:/habr_minitrain_alt2_model_pt87_lr9_b29_nqq3.txt', 'D:/habr_minitest_alt2_model_pt87_lr9_b29_nqq3.txt', traintarget, testtarget)\n"
   ]
  },
  {
   "cell_type": "code",
   "execution_count": 456,
   "metadata": {
    "collapsed": false
   },
   "outputs": [
    {
     "name": "stdout",
     "output_type": "stream",
     "text": [
      "0.390589092549 0.848452083192\n",
      "0.344782817593 0.833545930252\n",
      "0.328909199764 0.830579950779\n",
      "0.308290909987 0.831848099858\n"
     ]
    }
   ],
   "source": [
    "MiniCvScript('D:/habr_minitrain_alt2_model_pt8_lr4_b29_nqq3.txt', 'D:/habr_minitest_alt2_model_pt8_lr4_b29_nqq3.txt', traintarget, testtarget)\n",
    "MiniCvScript('D:/habr_minitrain_alt2_model_pt85_lr4_b29_nqq3.txt', 'D:/habr_minitest_alt2_model_pt85_lr4_b29_nqq3.txt', traintarget, testtarget)\n",
    "MiniCvScript('D:/habr_minitrain_alt2_model_pt87_lr4_b29_nqq3.txt', 'D:/habr_minitest_alt2_model_pt87_lr4_b29_nqq3.txt', traintarget, testtarget)\n",
    "MiniCvScript('D:/habr_minitrain_alt2_model_pt9_lr4_b29_nqq3.txt', 'D:/habr_minitest_alt2_model_pt9_lr4_b29_nqq3.txt', traintarget, testtarget)\n"
   ]
  },
  {
   "cell_type": "code",
   "execution_count": 457,
   "metadata": {
    "collapsed": false
   },
   "outputs": [
    {
     "name": "stdout",
     "output_type": "stream",
     "text": [
      "0.513174656924 0.943788091442\n"
     ]
    }
   ],
   "source": [
    "MiniCvScript('D:/habr_minitrain_alt2_model_pt87_lr4_b18_nqq3.txt', 'D:/habr_minitest_alt2_model_pt87_lr4_b18_nqq3.txt', traintarget, testtarget)\n"
   ]
  },
  {
   "cell_type": "code",
   "execution_count": null,
   "metadata": {
    "collapsed": true
   },
   "outputs": [],
   "source": [
    "#0.83057995 # 0.8319 vs. 0.83817220855"
   ]
  },
  {
   "cell_type": "code",
   "execution_count": 382,
   "metadata": {
    "collapsed": false
   },
   "outputs": [
    {
     "name": "stdout",
     "output_type": "stream",
     "text": [
      "0.746304901856 0.903138599594\n",
      "0.655249997179 0.871599600983\n",
      "0.589298245039 0.888542220827\n"
     ]
    }
   ],
   "source": [
    "MiniCvScript('D:/habr_minirain_alt2_model_pt7_lr2_b26_q.txt', 'D:/habr_minitest_alt2_model_pt7_lr2_b26_q.txt', traintarget, testtarget)\n",
    "MiniCvScript('D:/habr_minirain_alt2_model_pt8_lr2_b26_q.txt', 'D:/habr_minitest_alt2_model_pt8_lr2_b26_q.txt', traintarget, testtarget)\n",
    "MiniCvScript('D:/habr_minirain_alt2_model_pt9_lr2_b26_q.txt', 'D:/habr_minitest_alt2_model_pt9_lr2_b26_q.txt', traintarget, testtarget)\n"
   ]
  },
  {
   "cell_type": "code",
   "execution_count": null,
   "metadata": {
    "collapsed": true
   },
   "outputs": [],
   "source": []
  },
  {
   "cell_type": "code",
   "execution_count": 423,
   "metadata": {
    "collapsed": false
   },
   "outputs": [
    {
     "name": "stdout",
     "output_type": "stream",
     "text": [
      "0.407601768342 0.850985150468\n"
     ]
    }
   ],
   "source": [
    "MiniCvScript('D:/habr_minitrain_alt2_model_pt8_lr2_b26_nqq3.txt', 'D:/habr_minitest_alt2_model_pt8_lr2_b26_nqq3.txt', traintarget, testtarget)\n"
   ]
  },
  {
   "cell_type": "code",
   "execution_count": 391,
   "metadata": {
    "collapsed": false
   },
   "outputs": [
    {
     "name": "stdout",
     "output_type": "stream",
     "text": [
      "0.659552918213\n",
      "0.655249997179\n",
      "0.65325300806\n",
      "0.887913585928\n",
      "0.871599600983\n",
      "0.874580421072\n"
     ]
    }
   ],
   "source": [
    "with open('D:/habr_minitrain_alt2_model_pt85_lr7_b26.txt', 'r') as pred_file:\n",
    "        valid_predictiontrain1 = [float(label) \n",
    "                             for label in pred_file.readlines()]\n",
    "with open('D:/habr_minitest_alt2_model_pt85_lr7_b26.txt', 'r') as pred_file:\n",
    "        valid_predictiontest1 = [float(label) \n",
    "                             for label in pred_file.readlines()]\n",
    "with open('D:/habr_minirain_alt2_model_pt8_lr2_b26_q.txt', 'r') as pred_file:\n",
    "        valid_predictiontrain2 = [float(label) \n",
    "                             for label in pred_file.readlines()]\n",
    "with open('D:/habr_minitest_alt2_model_pt8_lr2_b26_q.txt', 'r') as pred_file:\n",
    "        valid_predictiontest2 = [float(label) \n",
    "                             for label in pred_file.readlines()]\n",
    "        \n",
    "valid_predictiontrain3 = (np.array(valid_predictiontrain1) + np.array(valid_predictiontrain2))/2\n",
    "valid_predictiontest3 = (np.array(valid_predictiontest1) + np.array(valid_predictiontest2))/2\n",
    "print(sklearn.metrics.mean_absolute_error(valid_predictiontrain1, traintarget.target))\n",
    "print(sklearn.metrics.mean_absolute_error(valid_predictiontrain2, traintarget.target))\n",
    "print(sklearn.metrics.mean_absolute_error(valid_predictiontrain3, traintarget.target))\n",
    "print(sklearn.metrics.mean_absolute_error(valid_predictiontest1, testtarget.target))\n",
    "print(sklearn.metrics.mean_absolute_error(valid_predictiontest2, testtarget.target))\n",
    "print(sklearn.metrics.mean_absolute_error(valid_predictiontest3, testtarget.target))"
   ]
  },
  {
   "cell_type": "code",
   "execution_count": 341,
   "metadata": {
    "collapsed": false
   },
   "outputs": [],
   "source": [
    "with open('D:/habr_train_alt2_model_pt9.txt', 'r') as pred_file:\n",
    "        valid_predictiontrain = [float(label) \n",
    "                             for label in pred_file.readlines()]\n",
    "with open('D:/habr_test_alt2_model_pt9.txt', 'r') as pred_file:\n",
    "        valid_predictiontest = [float(label) \n",
    "                             for label in pred_file.readlines()]\n"
   ]
  },
  {
   "cell_type": "code",
   "execution_count": 342,
   "metadata": {
    "collapsed": false
   },
   "outputs": [
    {
     "data": {
      "text/plain": [
       "0.72229588502499986"
      ]
     },
     "execution_count": 342,
     "metadata": {},
     "output_type": "execute_result"
    }
   ],
   "source": [
    "sklearn.metrics.mean_absolute_error(valid_predictiontrain, train_target.target)"
   ]
  },
  {
   "cell_type": "code",
   "execution_count": 343,
   "metadata": {
    "collapsed": false
   },
   "outputs": [],
   "source": [
    "your_submission3 = sample_sub.copy()\n",
    "your_submission3['target'] = valid_predictiontest"
   ]
  },
  {
   "cell_type": "code",
   "execution_count": 346,
   "metadata": {
    "collapsed": false
   },
   "outputs": [
    {
     "data": {
      "text/plain": [
       "(             target\n",
       " count  52913.000000\n",
       " mean       2.402597\n",
       " std        1.185989\n",
       " min        0.000000\n",
       " 25%        1.549127\n",
       " 50%        2.370944\n",
       " 75%        3.174151\n",
       " max        9.080687,              target\n",
       " count  52913.000000\n",
       " mean       2.310127\n",
       " std        1.089067\n",
       " min        0.000000\n",
       " 25%        1.497322\n",
       " 50%        2.262579\n",
       " 75%        3.095786\n",
       " max        9.080687,              target\n",
       " count  52913.000000\n",
       " mean       2.310127\n",
       " std        1.089067\n",
       " min        0.000000\n",
       " 25%        1.497322\n",
       " 50%        2.262579\n",
       " 75%        3.095786\n",
       " max        9.080687)"
      ]
     },
     "execution_count": 346,
     "metadata": {},
     "output_type": "execute_result"
    }
   ],
   "source": [
    "your_submission3.describe(), your_submission.describe(), your_submissionbi.describe()"
   ]
  },
  {
   "cell_type": "code",
   "execution_count": 347,
   "metadata": {
    "collapsed": true
   },
   "outputs": [],
   "source": [
    "your_submission3.to_csv('D:/submission4.csv')"
   ]
  },
  {
   "cell_type": "code",
   "execution_count": 353,
   "metadata": {
    "collapsed": true
   },
   "outputs": [],
   "source": [
    "with open('D:/habr_train_alt2_model_pt85_lr55_b26.txt', 'r') as pred_file:\n",
    "        valid_predictiontrain = [float(label) \n",
    "                             for label in pred_file.readlines()]\n",
    "with open('D:/habr_test_alt2_model_pt85_lr55_b26.txt', 'r') as pred_file:\n",
    "        valid_predictiontest = [float(label) \n",
    "                             for label in pred_file.readlines()]"
   ]
  },
  {
   "cell_type": "code",
   "execution_count": 354,
   "metadata": {
    "collapsed": false
   },
   "outputs": [
    {
     "data": {
      "text/plain": [
       "0.68677406215000003"
      ]
     },
     "execution_count": 354,
     "metadata": {},
     "output_type": "execute_result"
    }
   ],
   "source": [
    "sklearn.metrics.mean_absolute_error(valid_predictiontrain, train_target.target)"
   ]
  },
  {
   "cell_type": "code",
   "execution_count": 355,
   "metadata": {
    "collapsed": true
   },
   "outputs": [],
   "source": [
    "your_submission4 = sample_sub.copy()\n",
    "your_submission4['target'] = valid_predictiontest"
   ]
  },
  {
   "cell_type": "code",
   "execution_count": 356,
   "metadata": {
    "collapsed": false
   },
   "outputs": [
    {
     "data": {
      "text/plain": [
       "(             target\n",
       " count  52913.000000\n",
       " mean       2.396705\n",
       " std        1.116346\n",
       " min        0.000000\n",
       " 25%        1.574642\n",
       " 50%        2.390123\n",
       " 75%        3.177296\n",
       " max        9.080687,              target\n",
       " count  52913.000000\n",
       " mean       2.402597\n",
       " std        1.185989\n",
       " min        0.000000\n",
       " 25%        1.549127\n",
       " 50%        2.370944\n",
       " 75%        3.174151\n",
       " max        9.080687,              target\n",
       " count  52913.000000\n",
       " mean       2.310127\n",
       " std        1.089067\n",
       " min        0.000000\n",
       " 25%        1.497322\n",
       " 50%        2.262579\n",
       " 75%        3.095786\n",
       " max        9.080687,              target\n",
       " count  52913.000000\n",
       " mean       2.310127\n",
       " std        1.089067\n",
       " min        0.000000\n",
       " 25%        1.497322\n",
       " 50%        2.262579\n",
       " 75%        3.095786\n",
       " max        9.080687)"
      ]
     },
     "execution_count": 356,
     "metadata": {},
     "output_type": "execute_result"
    }
   ],
   "source": [
    "your_submission4.describe(), your_submission3.describe(), your_submission.describe(), your_submissionbi.describe()"
   ]
  },
  {
   "cell_type": "code",
   "execution_count": 357,
   "metadata": {
    "collapsed": true
   },
   "outputs": [],
   "source": [
    "your_submission4.to_csv('D:/submission5.csv')"
   ]
  },
  {
   "cell_type": "code",
   "execution_count": 361,
   "metadata": {
    "collapsed": true
   },
   "outputs": [],
   "source": [
    "with open('D:/habr_train_alt2_model_pt85_lr55.txt', 'r') as pred_file:\n",
    "        valid_predictiontrain = [float(label) \n",
    "                             for label in pred_file.readlines()]\n",
    "with open('D:/habr_test_alt2_model_pt85_lr55.txt', 'r') as pred_file:\n",
    "        valid_predictiontest = [float(label) \n",
    "                             for label in pred_file.readlines()]"
   ]
  },
  {
   "cell_type": "code",
   "execution_count": 362,
   "metadata": {
    "collapsed": false
   },
   "outputs": [
    {
     "data": {
      "text/plain": [
       "0.71756506365833339"
      ]
     },
     "execution_count": 362,
     "metadata": {},
     "output_type": "execute_result"
    }
   ],
   "source": [
    "sklearn.metrics.mean_absolute_error(valid_predictiontrain, train_target.target)"
   ]
  },
  {
   "cell_type": "code",
   "execution_count": 363,
   "metadata": {
    "collapsed": true
   },
   "outputs": [],
   "source": [
    "your_submission5 = sample_sub.copy()\n",
    "your_submission5['target'] = valid_predictiontest"
   ]
  },
  {
   "cell_type": "code",
   "execution_count": 364,
   "metadata": {
    "collapsed": false
   },
   "outputs": [
    {
     "data": {
      "text/plain": [
       "(             target\n",
       " count  52913.000000\n",
       " mean       2.398280\n",
       " std        1.121467\n",
       " min        0.000000\n",
       " 25%        1.569046\n",
       " 50%        2.393540\n",
       " 75%        3.180255\n",
       " max        9.080687,              target\n",
       " count  52913.000000\n",
       " mean       2.396705\n",
       " std        1.116346\n",
       " min        0.000000\n",
       " 25%        1.574642\n",
       " 50%        2.390123\n",
       " 75%        3.177296\n",
       " max        9.080687,              target\n",
       " count  52913.000000\n",
       " mean       2.402597\n",
       " std        1.185989\n",
       " min        0.000000\n",
       " 25%        1.549127\n",
       " 50%        2.370944\n",
       " 75%        3.174151\n",
       " max        9.080687,              target\n",
       " count  52913.000000\n",
       " mean       2.310127\n",
       " std        1.089067\n",
       " min        0.000000\n",
       " 25%        1.497322\n",
       " 50%        2.262579\n",
       " 75%        3.095786\n",
       " max        9.080687,              target\n",
       " count  52913.000000\n",
       " mean       2.310127\n",
       " std        1.089067\n",
       " min        0.000000\n",
       " 25%        1.497322\n",
       " 50%        2.262579\n",
       " 75%        3.095786\n",
       " max        9.080687)"
      ]
     },
     "execution_count": 364,
     "metadata": {},
     "output_type": "execute_result"
    }
   ],
   "source": [
    "your_submission5.describe(), your_submission4.describe(), your_submission3.describe(), your_submission.describe(), your_submissionbi.describe()"
   ]
  },
  {
   "cell_type": "code",
   "execution_count": 365,
   "metadata": {
    "collapsed": true
   },
   "outputs": [],
   "source": [
    "your_submission5.to_csv('D:/submission6.csv')"
   ]
  },
  {
   "cell_type": "code",
   "execution_count": 369,
   "metadata": {
    "collapsed": true
   },
   "outputs": [],
   "source": [
    "with open('D:/habr_train_alt2_model_pt85_lr7_b26.txt', 'r') as pred_file:\n",
    "        valid_predictiontrain = [float(label) \n",
    "                             for label in pred_file.readlines()]\n",
    "with open('D:/habr_test_alt2_model_pt85_lr7_b26.txt', 'r') as pred_file:\n",
    "        valid_predictiontest = [float(label) \n",
    "                             for label in pred_file.readlines()]"
   ]
  },
  {
   "cell_type": "code",
   "execution_count": 370,
   "metadata": {
    "collapsed": false
   },
   "outputs": [
    {
     "data": {
      "text/plain": [
       "0.66510065227499993"
      ]
     },
     "execution_count": 370,
     "metadata": {},
     "output_type": "execute_result"
    }
   ],
   "source": [
    "sklearn.metrics.mean_absolute_error(valid_predictiontrain, train_target.target)"
   ]
  },
  {
   "cell_type": "code",
   "execution_count": 371,
   "metadata": {
    "collapsed": true
   },
   "outputs": [],
   "source": [
    "your_submission6 = sample_sub.copy()\n",
    "your_submission6['target'] = valid_predictiontest"
   ]
  },
  {
   "cell_type": "code",
   "execution_count": 372,
   "metadata": {
    "collapsed": false
   },
   "outputs": [
    {
     "data": {
      "text/plain": [
       "(             target\n",
       " count  52913.000000\n",
       " mean       2.400095\n",
       " std        1.133678\n",
       " min        0.000000\n",
       " 25%        1.569993\n",
       " 50%        2.388282\n",
       " 75%        3.187404\n",
       " max        9.080687,              target\n",
       " count  52913.000000\n",
       " mean       2.398280\n",
       " std        1.121467\n",
       " min        0.000000\n",
       " 25%        1.569046\n",
       " 50%        2.393540\n",
       " 75%        3.180255\n",
       " max        9.080687,              target\n",
       " count  52913.000000\n",
       " mean       2.396705\n",
       " std        1.116346\n",
       " min        0.000000\n",
       " 25%        1.574642\n",
       " 50%        2.390123\n",
       " 75%        3.177296\n",
       " max        9.080687,              target\n",
       " count  52913.000000\n",
       " mean       2.402597\n",
       " std        1.185989\n",
       " min        0.000000\n",
       " 25%        1.549127\n",
       " 50%        2.370944\n",
       " 75%        3.174151\n",
       " max        9.080687,              target\n",
       " count  52913.000000\n",
       " mean       2.310127\n",
       " std        1.089067\n",
       " min        0.000000\n",
       " 25%        1.497322\n",
       " 50%        2.262579\n",
       " 75%        3.095786\n",
       " max        9.080687,              target\n",
       " count  52913.000000\n",
       " mean       2.310127\n",
       " std        1.089067\n",
       " min        0.000000\n",
       " 25%        1.497322\n",
       " 50%        2.262579\n",
       " 75%        3.095786\n",
       " max        9.080687)"
      ]
     },
     "execution_count": 372,
     "metadata": {},
     "output_type": "execute_result"
    }
   ],
   "source": [
    "your_submission6.describe(), your_submission5.describe(), your_submission4.describe(), your_submission3.describe(), your_submission.describe(), your_submissionbi.describe()"
   ]
  },
  {
   "cell_type": "code",
   "execution_count": 373,
   "metadata": {
    "collapsed": true
   },
   "outputs": [],
   "source": [
    "your_submission6.to_csv('D:/submission7.csv')"
   ]
  },
  {
   "cell_type": "code",
   "execution_count": 383,
   "metadata": {
    "collapsed": true
   },
   "outputs": [],
   "source": [
    "with open('D:/habr_train_alt2_model_pt8_lr2_b26_q.txt', 'r') as pred_file:\n",
    "        valid_predictiontrain = [float(label) \n",
    "                             for label in pred_file.readlines()]\n",
    "with open('D:/habr_test_alt2_model_pt8_lr2_b26_q.txt', 'r') as pred_file:\n",
    "        valid_predictiontest = [float(label) \n",
    "                             for label in pred_file.readlines()]"
   ]
  },
  {
   "cell_type": "code",
   "execution_count": 384,
   "metadata": {
    "collapsed": false
   },
   "outputs": [
    {
     "data": {
      "text/plain": [
       "0.66270571067499995"
      ]
     },
     "execution_count": 384,
     "metadata": {},
     "output_type": "execute_result"
    }
   ],
   "source": [
    "sklearn.metrics.mean_absolute_error(valid_predictiontrain, train_target.target)"
   ]
  },
  {
   "cell_type": "code",
   "execution_count": 385,
   "metadata": {
    "collapsed": true
   },
   "outputs": [],
   "source": [
    "your_submission7 = sample_sub.copy()\n",
    "your_submission7['target'] = valid_predictiontest"
   ]
  },
  {
   "cell_type": "code",
   "execution_count": 386,
   "metadata": {
    "collapsed": false
   },
   "outputs": [
    {
     "data": {
      "text/plain": [
       "(             target\n",
       " count  52913.000000\n",
       " mean       2.401993\n",
       " std        1.152917\n",
       " min        0.000000\n",
       " 25%        1.548429\n",
       " 50%        2.445313\n",
       " 75%        3.228436\n",
       " max        8.390436,              target\n",
       " count  52913.000000\n",
       " mean       2.400095\n",
       " std        1.133678\n",
       " min        0.000000\n",
       " 25%        1.569993\n",
       " 50%        2.388282\n",
       " 75%        3.187404\n",
       " max        9.080687,              target\n",
       " count  52913.000000\n",
       " mean       2.398280\n",
       " std        1.121467\n",
       " min        0.000000\n",
       " 25%        1.569046\n",
       " 50%        2.393540\n",
       " 75%        3.180255\n",
       " max        9.080687,              target\n",
       " count  52913.000000\n",
       " mean       2.396705\n",
       " std        1.116346\n",
       " min        0.000000\n",
       " 25%        1.574642\n",
       " 50%        2.390123\n",
       " 75%        3.177296\n",
       " max        9.080687,              target\n",
       " count  52913.000000\n",
       " mean       2.402597\n",
       " std        1.185989\n",
       " min        0.000000\n",
       " 25%        1.549127\n",
       " 50%        2.370944\n",
       " 75%        3.174151\n",
       " max        9.080687)"
      ]
     },
     "execution_count": 386,
     "metadata": {},
     "output_type": "execute_result"
    }
   ],
   "source": [
    "your_submission7.describe(), your_submission6.describe(), your_submission5.describe(), your_submission4.describe(), your_submission3.describe()"
   ]
  },
  {
   "cell_type": "code",
   "execution_count": 387,
   "metadata": {
    "collapsed": true
   },
   "outputs": [],
   "source": [
    "your_submission7.to_csv('D:/submission8.csv')"
   ]
  },
  {
   "cell_type": "code",
   "execution_count": 404,
   "metadata": {
    "collapsed": true
   },
   "outputs": [],
   "source": [
    "with open('D:/habr_train_alt2_model_pt8_lr4_b29_nqq.txt', 'r') as pred_file:\n",
    "        valid_predictiontrain = [float(label) \n",
    "                             for label in pred_file.readlines()]\n",
    "with open('D:/habr_test_alt2_model_pt8_lr4_b29_nqq.txt', 'r') as pred_file:\n",
    "        valid_predictiontest = [float(label) \n",
    "                             for label in pred_file.readlines()]"
   ]
  },
  {
   "cell_type": "code",
   "execution_count": 405,
   "metadata": {
    "collapsed": false
   },
   "outputs": [
    {
     "data": {
      "text/plain": [
       "0.43911228925833329"
      ]
     },
     "execution_count": 405,
     "metadata": {},
     "output_type": "execute_result"
    }
   ],
   "source": [
    "sklearn.metrics.mean_absolute_error(valid_predictiontrain, train_target.target)"
   ]
  },
  {
   "cell_type": "code",
   "execution_count": 406,
   "metadata": {
    "collapsed": true
   },
   "outputs": [],
   "source": [
    "your_submission8 = sample_sub.copy()\n",
    "your_submission8['target'] = valid_predictiontest"
   ]
  },
  {
   "cell_type": "code",
   "execution_count": 408,
   "metadata": {
    "collapsed": false
   },
   "outputs": [
    {
     "data": {
      "text/plain": [
       "(             target\n",
       " count  52913.000000\n",
       " mean       2.412789\n",
       " std        1.147967\n",
       " min        0.000000\n",
       " 25%        1.556433\n",
       " 50%        2.429637\n",
       " 75%        3.238431\n",
       " max        8.022839,              target\n",
       " count  52913.000000\n",
       " mean       2.401993\n",
       " std        1.152917\n",
       " min        0.000000\n",
       " 25%        1.548429\n",
       " 50%        2.445313\n",
       " 75%        3.228436\n",
       " max        8.390436,              target\n",
       " count  52913.000000\n",
       " mean       2.400095\n",
       " std        1.133678\n",
       " min        0.000000\n",
       " 25%        1.569993\n",
       " 50%        2.388282\n",
       " 75%        3.187404\n",
       " max        9.080687,              target\n",
       " count  52913.000000\n",
       " mean       2.398280\n",
       " std        1.121467\n",
       " min        0.000000\n",
       " 25%        1.569046\n",
       " 50%        2.393540\n",
       " 75%        3.180255\n",
       " max        9.080687,              target\n",
       " count  52913.000000\n",
       " mean       2.396705\n",
       " std        1.116346\n",
       " min        0.000000\n",
       " 25%        1.574642\n",
       " 50%        2.390123\n",
       " 75%        3.177296\n",
       " max        9.080687,              target\n",
       " count  52913.000000\n",
       " mean       2.402597\n",
       " std        1.185989\n",
       " min        0.000000\n",
       " 25%        1.549127\n",
       " 50%        2.370944\n",
       " 75%        3.174151\n",
       " max        9.080687)"
      ]
     },
     "execution_count": 408,
     "metadata": {},
     "output_type": "execute_result"
    }
   ],
   "source": [
    "your_submission8.describe(), your_submission7.describe(), your_submission6.describe(), your_submission5.describe(), your_submission4.describe(), your_submission3.describe()"
   ]
  },
  {
   "cell_type": "code",
   "execution_count": 409,
   "metadata": {
    "collapsed": true
   },
   "outputs": [],
   "source": [
    "your_submission8.to_csv('D:/submission9.csv')"
   ]
  },
  {
   "cell_type": "code",
   "execution_count": 410,
   "metadata": {
    "collapsed": false
   },
   "outputs": [
    {
     "data": {
      "text/html": [
       "<div>\n",
       "<style>\n",
       "    .dataframe thead tr:only-child th {\n",
       "        text-align: right;\n",
       "    }\n",
       "\n",
       "    .dataframe thead th {\n",
       "        text-align: left;\n",
       "    }\n",
       "\n",
       "    .dataframe tbody tr th {\n",
       "        vertical-align: top;\n",
       "    }\n",
       "</style>\n",
       "<table border=\"1\" class=\"dataframe\">\n",
       "  <thead>\n",
       "    <tr style=\"text-align: right;\">\n",
       "      <th></th>\n",
       "      <th>target</th>\n",
       "      <th>antitarget</th>\n",
       "    </tr>\n",
       "  </thead>\n",
       "  <tbody>\n",
       "    <tr>\n",
       "      <th>count</th>\n",
       "      <td>120000.000000</td>\n",
       "      <td>1.200000e+05</td>\n",
       "    </tr>\n",
       "    <tr>\n",
       "      <th>mean</th>\n",
       "      <td>2.828131</td>\n",
       "      <td>2.900000e+00</td>\n",
       "    </tr>\n",
       "    <tr>\n",
       "      <th>std</th>\n",
       "      <td>1.696940</td>\n",
       "      <td>2.649447e-12</td>\n",
       "    </tr>\n",
       "    <tr>\n",
       "      <th>min</th>\n",
       "      <td>0.000000</td>\n",
       "      <td>2.900000e+00</td>\n",
       "    </tr>\n",
       "    <tr>\n",
       "      <th>25%</th>\n",
       "      <td>1.609438</td>\n",
       "      <td>2.900000e+00</td>\n",
       "    </tr>\n",
       "    <tr>\n",
       "      <th>50%</th>\n",
       "      <td>2.944439</td>\n",
       "      <td>2.900000e+00</td>\n",
       "    </tr>\n",
       "    <tr>\n",
       "      <th>75%</th>\n",
       "      <td>4.127134</td>\n",
       "      <td>2.900000e+00</td>\n",
       "    </tr>\n",
       "    <tr>\n",
       "      <th>max</th>\n",
       "      <td>9.080687</td>\n",
       "      <td>2.900000e+00</td>\n",
       "    </tr>\n",
       "  </tbody>\n",
       "</table>\n",
       "</div>"
      ],
      "text/plain": [
       "              target    antitarget\n",
       "count  120000.000000  1.200000e+05\n",
       "mean        2.828131  2.900000e+00\n",
       "std         1.696940  2.649447e-12\n",
       "min         0.000000  2.900000e+00\n",
       "25%         1.609438  2.900000e+00\n",
       "50%         2.944439  2.900000e+00\n",
       "75%         4.127134  2.900000e+00\n",
       "max         9.080687  2.900000e+00"
      ]
     },
     "execution_count": 410,
     "metadata": {},
     "output_type": "execute_result"
    }
   ],
   "source": [
    "train_target.describe()"
   ]
  },
  {
   "cell_type": "code",
   "execution_count": 412,
   "metadata": {
    "collapsed": false
   },
   "outputs": [],
   "source": [
    "with open('D:/habr_train_alt2_model_pt8_lr2_b26_nqq.txt', 'r') as pred_file:\n",
    "        valid_predictiontrain = [float(label) \n",
    "                             for label in pred_file.readlines()]\n",
    "with open('D:/habr_test_alt2_model_pt8_lr2_b26_nqq.txt', 'r') as pred_file:\n",
    "        valid_predictiontest = [float(label) \n",
    "                             for label in pred_file.readlines()]"
   ]
  },
  {
   "cell_type": "code",
   "execution_count": 413,
   "metadata": {
    "collapsed": false
   },
   "outputs": [
    {
     "data": {
      "text/plain": [
       "0.47384692548333335"
      ]
     },
     "execution_count": 413,
     "metadata": {},
     "output_type": "execute_result"
    }
   ],
   "source": [
    "sklearn.metrics.mean_absolute_error(valid_predictiontrain, train_target.target)"
   ]
  },
  {
   "cell_type": "code",
   "execution_count": 414,
   "metadata": {
    "collapsed": true
   },
   "outputs": [],
   "source": [
    "your_submission9 = sample_sub.copy()\n",
    "your_submission9['target'] = valid_predictiontest"
   ]
  },
  {
   "cell_type": "code",
   "execution_count": 415,
   "metadata": {
    "collapsed": false
   },
   "outputs": [
    {
     "data": {
      "text/plain": [
       "(             target\n",
       " count  52913.000000\n",
       " mean       2.415621\n",
       " std        1.131536\n",
       " min        0.000000\n",
       " 25%        1.569363\n",
       " 50%        2.448641\n",
       " 75%        3.237877\n",
       " max        8.003355,              target\n",
       " count  52913.000000\n",
       " mean       2.412789\n",
       " std        1.147967\n",
       " min        0.000000\n",
       " 25%        1.556433\n",
       " 50%        2.429637\n",
       " 75%        3.238431\n",
       " max        8.022839,              target\n",
       " count  52913.000000\n",
       " mean       2.401993\n",
       " std        1.152917\n",
       " min        0.000000\n",
       " 25%        1.548429\n",
       " 50%        2.445313\n",
       " 75%        3.228436\n",
       " max        8.390436,              target\n",
       " count  52913.000000\n",
       " mean       2.400095\n",
       " std        1.133678\n",
       " min        0.000000\n",
       " 25%        1.569993\n",
       " 50%        2.388282\n",
       " 75%        3.187404\n",
       " max        9.080687,              target\n",
       " count  52913.000000\n",
       " mean       2.398280\n",
       " std        1.121467\n",
       " min        0.000000\n",
       " 25%        1.569046\n",
       " 50%        2.393540\n",
       " 75%        3.180255\n",
       " max        9.080687,              target\n",
       " count  52913.000000\n",
       " mean       2.396705\n",
       " std        1.116346\n",
       " min        0.000000\n",
       " 25%        1.574642\n",
       " 50%        2.390123\n",
       " 75%        3.177296\n",
       " max        9.080687,              target\n",
       " count  52913.000000\n",
       " mean       2.402597\n",
       " std        1.185989\n",
       " min        0.000000\n",
       " 25%        1.549127\n",
       " 50%        2.370944\n",
       " 75%        3.174151\n",
       " max        9.080687)"
      ]
     },
     "execution_count": 415,
     "metadata": {},
     "output_type": "execute_result"
    }
   ],
   "source": [
    "your_submission9.describe(), your_submission8.describe(), your_submission7.describe(), your_submission6.describe(), your_submission5.describe(), your_submission4.describe(), your_submission3.describe()"
   ]
  },
  {
   "cell_type": "code",
   "execution_count": 416,
   "metadata": {
    "collapsed": true
   },
   "outputs": [],
   "source": [
    "your_submission9.to_csv('D:/submission10.csv')"
   ]
  },
  {
   "cell_type": "code",
   "execution_count": 417,
   "metadata": {
    "collapsed": true
   },
   "outputs": [],
   "source": [
    "with open('D:/habr_train_alt2_model_pt85_lr7_b26_nq.txt', 'r') as pred_file:\n",
    "        valid_predictiontrain = [float(label) \n",
    "                             for label in pred_file.readlines()]\n",
    "with open('D:/habr_test_alt2_model_pt85_lr7_b26_nq.txt', 'r') as pred_file:\n",
    "        valid_predictiontest = [float(label) \n",
    "                             for label in pred_file.readlines()]"
   ]
  },
  {
   "cell_type": "code",
   "execution_count": 418,
   "metadata": {
    "collapsed": false
   },
   "outputs": [
    {
     "data": {
      "text/plain": [
       "0.50885518103333338"
      ]
     },
     "execution_count": 418,
     "metadata": {},
     "output_type": "execute_result"
    }
   ],
   "source": [
    "sklearn.metrics.mean_absolute_error(valid_predictiontrain, train_target.target)"
   ]
  },
  {
   "cell_type": "code",
   "execution_count": 419,
   "metadata": {
    "collapsed": true
   },
   "outputs": [],
   "source": [
    "your_submission10 = sample_sub.copy()\n",
    "your_submission10['target'] = valid_predictiontest"
   ]
  },
  {
   "cell_type": "code",
   "execution_count": 420,
   "metadata": {
    "collapsed": false
   },
   "outputs": [
    {
     "data": {
      "text/plain": [
       "(             target\n",
       " count  52913.000000\n",
       " mean       2.416969\n",
       " std        1.093079\n",
       " min        0.000000\n",
       " 25%        1.600574\n",
       " 50%        2.409858\n",
       " 75%        3.194322\n",
       " max        8.733557,              target\n",
       " count  52913.000000\n",
       " mean       2.415621\n",
       " std        1.131536\n",
       " min        0.000000\n",
       " 25%        1.569363\n",
       " 50%        2.448641\n",
       " 75%        3.237877\n",
       " max        8.003355,              target\n",
       " count  52913.000000\n",
       " mean       2.412789\n",
       " std        1.147967\n",
       " min        0.000000\n",
       " 25%        1.556433\n",
       " 50%        2.429637\n",
       " 75%        3.238431\n",
       " max        8.022839,              target\n",
       " count  52913.000000\n",
       " mean       2.401993\n",
       " std        1.152917\n",
       " min        0.000000\n",
       " 25%        1.548429\n",
       " 50%        2.445313\n",
       " 75%        3.228436\n",
       " max        8.390436,              target\n",
       " count  52913.000000\n",
       " mean       2.400095\n",
       " std        1.133678\n",
       " min        0.000000\n",
       " 25%        1.569993\n",
       " 50%        2.388282\n",
       " 75%        3.187404\n",
       " max        9.080687,              target\n",
       " count  52913.000000\n",
       " mean       2.398280\n",
       " std        1.121467\n",
       " min        0.000000\n",
       " 25%        1.569046\n",
       " 50%        2.393540\n",
       " 75%        3.180255\n",
       " max        9.080687,              target\n",
       " count  52913.000000\n",
       " mean       2.396705\n",
       " std        1.116346\n",
       " min        0.000000\n",
       " 25%        1.574642\n",
       " 50%        2.390123\n",
       " 75%        3.177296\n",
       " max        9.080687,              target\n",
       " count  52913.000000\n",
       " mean       2.402597\n",
       " std        1.185989\n",
       " min        0.000000\n",
       " 25%        1.549127\n",
       " 50%        2.370944\n",
       " 75%        3.174151\n",
       " max        9.080687)"
      ]
     },
     "execution_count": 420,
     "metadata": {},
     "output_type": "execute_result"
    }
   ],
   "source": [
    "your_submission10.describe(), your_submission9.describe(), your_submission8.describe(), your_submission7.describe(), your_submission6.describe(), your_submission5.describe(), your_submission4.describe(), your_submission3.describe()"
   ]
  },
  {
   "cell_type": "code",
   "execution_count": 421,
   "metadata": {
    "collapsed": true
   },
   "outputs": [],
   "source": [
    "your_submission10.to_csv('D:/submission11.csv')"
   ]
  },
  {
   "cell_type": "code",
   "execution_count": 441,
   "metadata": {
    "collapsed": false
   },
   "outputs": [],
   "source": [
    "with open('D:/habr_train_alt2_model_pt85_lr3_b29_nqq.txt', 'r') as pred_file:\n",
    "        valid_predictiontrain = [float(label) \n",
    "                             for label in pred_file.readlines()]\n",
    "with open('D:/habr_test_alt2_model_pt85_lr3_b29_nqq.txt', 'r') as pred_file:\n",
    "        valid_predictiontest = [float(label) \n",
    "                             for label in pred_file.readlines()]"
   ]
  },
  {
   "cell_type": "code",
   "execution_count": 442,
   "metadata": {
    "collapsed": false
   },
   "outputs": [
    {
     "data": {
      "text/plain": [
       "0.399207711425"
      ]
     },
     "execution_count": 442,
     "metadata": {},
     "output_type": "execute_result"
    }
   ],
   "source": [
    "sklearn.metrics.mean_absolute_error(valid_predictiontrain, train_target.target)"
   ]
  },
  {
   "cell_type": "code",
   "execution_count": 443,
   "metadata": {
    "collapsed": true
   },
   "outputs": [],
   "source": [
    "your_submission11 = sample_sub.copy()\n",
    "your_submission11['target'] = valid_predictiontest"
   ]
  },
  {
   "cell_type": "code",
   "execution_count": 444,
   "metadata": {
    "collapsed": false
   },
   "outputs": [
    {
     "data": {
      "text/plain": [
       "(             target\n",
       " count  52913.000000\n",
       " mean       2.434291\n",
       " std        1.170792\n",
       " min        0.000000\n",
       " 25%        1.571639\n",
       " 50%        2.451507\n",
       " 75%        3.260686\n",
       " max        8.825754,              target\n",
       " count  52913.000000\n",
       " mean       2.416969\n",
       " std        1.093079\n",
       " min        0.000000\n",
       " 25%        1.600574\n",
       " 50%        2.409858\n",
       " 75%        3.194322\n",
       " max        8.733557,              target\n",
       " count  52913.000000\n",
       " mean       2.415621\n",
       " std        1.131536\n",
       " min        0.000000\n",
       " 25%        1.569363\n",
       " 50%        2.448641\n",
       " 75%        3.237877\n",
       " max        8.003355,              target\n",
       " count  52913.000000\n",
       " mean       2.412789\n",
       " std        1.147967\n",
       " min        0.000000\n",
       " 25%        1.556433\n",
       " 50%        2.429637\n",
       " 75%        3.238431\n",
       " max        8.022839,              target\n",
       " count  52913.000000\n",
       " mean       2.401993\n",
       " std        1.152917\n",
       " min        0.000000\n",
       " 25%        1.548429\n",
       " 50%        2.445313\n",
       " 75%        3.228436\n",
       " max        8.390436,              target\n",
       " count  52913.000000\n",
       " mean       2.400095\n",
       " std        1.133678\n",
       " min        0.000000\n",
       " 25%        1.569993\n",
       " 50%        2.388282\n",
       " 75%        3.187404\n",
       " max        9.080687,              target\n",
       " count  52913.000000\n",
       " mean       2.398280\n",
       " std        1.121467\n",
       " min        0.000000\n",
       " 25%        1.569046\n",
       " 50%        2.393540\n",
       " 75%        3.180255\n",
       " max        9.080687,              target\n",
       " count  52913.000000\n",
       " mean       2.396705\n",
       " std        1.116346\n",
       " min        0.000000\n",
       " 25%        1.574642\n",
       " 50%        2.390123\n",
       " 75%        3.177296\n",
       " max        9.080687,              target\n",
       " count  52913.000000\n",
       " mean       2.402597\n",
       " std        1.185989\n",
       " min        0.000000\n",
       " 25%        1.549127\n",
       " 50%        2.370944\n",
       " 75%        3.174151\n",
       " max        9.080687)"
      ]
     },
     "execution_count": 444,
     "metadata": {},
     "output_type": "execute_result"
    }
   ],
   "source": [
    "your_submission11.describe(), your_submission10.describe(), your_submission9.describe(), your_submission8.describe(), your_submission7.describe(), your_submission6.describe(), your_submission5.describe(), your_submission4.describe(), your_submission3.describe()"
   ]
  },
  {
   "cell_type": "code",
   "execution_count": 445,
   "metadata": {
    "collapsed": true
   },
   "outputs": [],
   "source": [
    "your_submission11.to_csv('D:/submission12.csv')"
   ]
  },
  {
   "cell_type": "code",
   "execution_count": 458,
   "metadata": {
    "collapsed": true
   },
   "outputs": [],
   "source": [
    "with open('D:/habr_train_alt2_model_pt87_lr4_b29_nqq3.txt', 'r') as pred_file:\n",
    "        valid_predictiontrain = [float(label) \n",
    "                             for label in pred_file.readlines()]\n",
    "with open('D:/habr_test_alt2_model_pt87_lr4_b29_nqq3.txt', 'r') as pred_file:\n",
    "        valid_predictiontest = [float(label) \n",
    "                             for label in pred_file.readlines()]"
   ]
  },
  {
   "cell_type": "code",
   "execution_count": 459,
   "metadata": {
    "collapsed": false
   },
   "outputs": [
    {
     "data": {
      "text/plain": [
       "0.33392182323333341"
      ]
     },
     "execution_count": 459,
     "metadata": {},
     "output_type": "execute_result"
    }
   ],
   "source": [
    "sklearn.metrics.mean_absolute_error(valid_predictiontrain, train_target.target)\n"
   ]
  },
  {
   "cell_type": "code",
   "execution_count": 460,
   "metadata": {
    "collapsed": true
   },
   "outputs": [],
   "source": [
    "your_submission12 = sample_sub.copy()\n",
    "your_submission12['target'] = valid_predictiontest"
   ]
  },
  {
   "cell_type": "code",
   "execution_count": 461,
   "metadata": {
    "collapsed": false
   },
   "outputs": [
    {
     "data": {
      "text/plain": [
       "(             target\n",
       " count  52913.000000\n",
       " mean       2.482600\n",
       " std        1.141198\n",
       " min        0.000000\n",
       " 25%        1.662531\n",
       " 50%        2.511976\n",
       " 75%        3.279460\n",
       " max        9.080687,              target\n",
       " count  52913.000000\n",
       " mean       2.434291\n",
       " std        1.170792\n",
       " min        0.000000\n",
       " 25%        1.571639\n",
       " 50%        2.451507\n",
       " 75%        3.260686\n",
       " max        8.825754,              target\n",
       " count  52913.000000\n",
       " mean       2.416969\n",
       " std        1.093079\n",
       " min        0.000000\n",
       " 25%        1.600574\n",
       " 50%        2.409858\n",
       " 75%        3.194322\n",
       " max        8.733557,              target\n",
       " count  52913.000000\n",
       " mean       2.415621\n",
       " std        1.131536\n",
       " min        0.000000\n",
       " 25%        1.569363\n",
       " 50%        2.448641\n",
       " 75%        3.237877\n",
       " max        8.003355,              target\n",
       " count  52913.000000\n",
       " mean       2.412789\n",
       " std        1.147967\n",
       " min        0.000000\n",
       " 25%        1.556433\n",
       " 50%        2.429637\n",
       " 75%        3.238431\n",
       " max        8.022839,              target\n",
       " count  52913.000000\n",
       " mean       2.401993\n",
       " std        1.152917\n",
       " min        0.000000\n",
       " 25%        1.548429\n",
       " 50%        2.445313\n",
       " 75%        3.228436\n",
       " max        8.390436,              target\n",
       " count  52913.000000\n",
       " mean       2.400095\n",
       " std        1.133678\n",
       " min        0.000000\n",
       " 25%        1.569993\n",
       " 50%        2.388282\n",
       " 75%        3.187404\n",
       " max        9.080687,              target\n",
       " count  52913.000000\n",
       " mean       2.398280\n",
       " std        1.121467\n",
       " min        0.000000\n",
       " 25%        1.569046\n",
       " 50%        2.393540\n",
       " 75%        3.180255\n",
       " max        9.080687,              target\n",
       " count  52913.000000\n",
       " mean       2.396705\n",
       " std        1.116346\n",
       " min        0.000000\n",
       " 25%        1.574642\n",
       " 50%        2.390123\n",
       " 75%        3.177296\n",
       " max        9.080687,              target\n",
       " count  52913.000000\n",
       " mean       2.402597\n",
       " std        1.185989\n",
       " min        0.000000\n",
       " 25%        1.549127\n",
       " 50%        2.370944\n",
       " 75%        3.174151\n",
       " max        9.080687)"
      ]
     },
     "execution_count": 461,
     "metadata": {},
     "output_type": "execute_result"
    }
   ],
   "source": [
    "your_submission12.describe(), your_submission11.describe(), your_submission10.describe(), your_submission9.describe(), your_submission8.describe(), your_submission7.describe(), your_submission6.describe(), your_submission5.describe(), your_submission4.describe(), your_submission3.describe()"
   ]
  },
  {
   "cell_type": "code",
   "execution_count": 462,
   "metadata": {
    "collapsed": true
   },
   "outputs": [],
   "source": [
    "your_submission12.to_csv('D:/submission13.csv')"
   ]
  },
  {
   "cell_type": "code",
   "execution_count": 155,
   "metadata": {
    "collapsed": true
   },
   "outputs": [],
   "source": [
    "def MiniCvScriptPassesWar(trainfile, testfile, traintab, numpasses = 4):\n",
    "    with open(trainfile, 'r') as pred_file:\n",
    "        valid_predictiontrain = [float(label) \n",
    "                             for label in pred_file.readlines()]\n",
    "    with open(testfile, 'r') as pred_file:\n",
    "        valid_predictiontest = [float(label) \n",
    "                             for label in pred_file.readlines()]\n",
    "    valid_predictiontrain = np.array(valid_predictiontrain)\n",
    "    valid_predictiontest = np.array(valid_predictiontest)\n",
    "    #mlen = int(len(valid_predictiontrain)/numpasses)\n",
    "    #trainarr = valid_predictiontrain[0:mlen]\n",
    "    #testarr = valid_predictiontest[0:mlen]\n",
    "    #for j in range(1,numpasses):\n",
    "    #    trainarr += valid_predictiontrain[j*mlen:(j+1)*mlen]\n",
    "    #trainarr = trainarr/4\n",
    "    #mlen = int(len(valid_predictiontest)/numpasses)    \n",
    "    #testarr = valid_predictiontest[0:mlen]\n",
    "    #for j in range(1,numpasses):\n",
    "    #    testarr += valid_predictiontest[j*mlen:(j+1)*mlen]\n",
    "    #testarr = testarr/4\n",
    "\n",
    "    trainarr = valid_predictiontrain\n",
    "    testarr = valid_predictiontest\n",
    "    \n",
    "    print(len(trainarr))\n",
    "    print(sklearn.metrics.mean_absolute_error(trainarr, traintab.target))\n",
    "    return(testarr)\n",
    "    #print(sklearn.metrics.mean_absolute_error(valid_predictiontrain, traintab.target), sklearn.metrics.mean_absolute_error(valid_predictiontest, testtab.target))    "
   ]
  },
  {
   "cell_type": "code",
   "execution_count": 524,
   "metadata": {
    "collapsed": false
   },
   "outputs": [
    {
     "name": "stdout",
     "output_type": "stream",
     "text": [
      "120000\n",
      "0.366588698617\n"
     ]
    }
   ],
   "source": [
    "newpred = MiniCvScriptPassesWar('D:/habr_train_alt_model_pt87_lr2_b29_up.txt', 'D:/habr_test_alt_model_pt87_lr2_b29_up.txt', train_target)"
   ]
  },
  {
   "cell_type": "code",
   "execution_count": 528,
   "metadata": {
    "collapsed": false
   },
   "outputs": [],
   "source": [
    "your_submission13 = sample_sub.copy()\n",
    "your_submission13['target'] = newpred\n"
   ]
  },
  {
   "cell_type": "code",
   "execution_count": 530,
   "metadata": {
    "collapsed": false
   },
   "outputs": [
    {
     "data": {
      "text/plain": [
       "(             target\n",
       " count  52913.000000\n",
       " mean       2.523937\n",
       " std        1.196939\n",
       " min        0.000000\n",
       " 25%        1.668195\n",
       " 50%        2.556087\n",
       " 75%        3.352897\n",
       " max        9.080687,              target\n",
       " count  52913.000000\n",
       " mean       2.482600\n",
       " std        1.141198\n",
       " min        0.000000\n",
       " 25%        1.662531\n",
       " 50%        2.511976\n",
       " 75%        3.279460\n",
       " max        9.080687)"
      ]
     },
     "execution_count": 530,
     "metadata": {},
     "output_type": "execute_result"
    }
   ],
   "source": [
    "your_submission13.describe(), your_submission12.describe()"
   ]
  },
  {
   "cell_type": "code",
   "execution_count": 536,
   "metadata": {
    "collapsed": true
   },
   "outputs": [],
   "source": [
    "your_submission13.to_csv('D:/submission14.csv')"
   ]
  },
  {
   "cell_type": "code",
   "execution_count": 541,
   "metadata": {
    "collapsed": false
   },
   "outputs": [
    {
     "name": "stdout",
     "output_type": "stream",
     "text": [
      "120000\n",
      "0.379550111383\n"
     ]
    }
   ],
   "source": [
    "newpred = MiniCvScriptPassesWar('D:/habr_train_alt0_model_pt87_lr2_b29_nqqp.txt', 'D:/habr_test_alt0_model_pt87_lr2_b29_nqqp.txt', train_target)"
   ]
  },
  {
   "cell_type": "code",
   "execution_count": 542,
   "metadata": {
    "collapsed": false
   },
   "outputs": [
    {
     "data": {
      "text/plain": [
       "52913"
      ]
     },
     "execution_count": 542,
     "metadata": {},
     "output_type": "execute_result"
    }
   ],
   "source": [
    "your_submission14 = sample_sub.copy()\n",
    "your_submission14['target'] = newpred\n",
    "len(newpred)"
   ]
  },
  {
   "cell_type": "code",
   "execution_count": 543,
   "metadata": {
    "collapsed": true
   },
   "outputs": [],
   "source": [
    "your_submission14.to_csv('D:/submission15.csv')"
   ]
  },
  {
   "cell_type": "code",
   "execution_count": 60,
   "metadata": {
    "collapsed": false
   },
   "outputs": [
    {
     "name": "stdout",
     "output_type": "stream",
     "text": [
      "120000\n",
      "0.325696955442\n"
     ]
    }
   ],
   "source": [
    "newpred = MiniCvScriptPassesWar('D:/habr_train_alt0_model_pt88_lr17_b29_nqqp1.txt', 'D:/habr_test_alt0_model_pt88_lr17_b29_nqqp1.txt', train_target)"
   ]
  },
  {
   "cell_type": "code",
   "execution_count": 61,
   "metadata": {
    "collapsed": false
   },
   "outputs": [
    {
     "data": {
      "text/plain": [
       "52913"
      ]
     },
     "execution_count": 61,
     "metadata": {},
     "output_type": "execute_result"
    }
   ],
   "source": [
    "your_submission15 = sample_sub.copy()\n",
    "your_submission15['target'] = newpred\n",
    "len(newpred)"
   ]
  },
  {
   "cell_type": "code",
   "execution_count": 560,
   "metadata": {
    "collapsed": false
   },
   "outputs": [
    {
     "data": {
      "text/plain": [
       "(             target\n",
       " count  52913.000000\n",
       " mean       2.511292\n",
       " std        1.185394\n",
       " min        0.000000\n",
       " 25%        1.658423\n",
       " 50%        2.548477\n",
       " 75%        3.342152\n",
       " max        8.932331,              target\n",
       " count  52913.000000\n",
       " mean       2.519580\n",
       " std        1.193069\n",
       " min        0.000000\n",
       " 25%        1.663498\n",
       " 50%        2.553678\n",
       " 75%        3.352393\n",
       " max        9.080687)"
      ]
     },
     "execution_count": 560,
     "metadata": {},
     "output_type": "execute_result"
    }
   ],
   "source": [
    "your_submission14.describe(), your_submission15.describe()"
   ]
  },
  {
   "cell_type": "code",
   "execution_count": 561,
   "metadata": {
    "collapsed": true
   },
   "outputs": [],
   "source": [
    "your_submission15.to_csv('D:/submission16.csv')"
   ]
  },
  {
   "cell_type": "code",
   "execution_count": 562,
   "metadata": {
    "collapsed": false
   },
   "outputs": [
    {
     "name": "stdout",
     "output_type": "stream",
     "text": [
      "120000\n",
      "0.0948860983583\n"
     ]
    }
   ],
   "source": [
    "newpred = MiniCvScriptPassesWar('D:/habr_train_alt0_model_pt88_lr17_b29_nqqp2.txt', 'D:/habr_test_alt0_model_pt88_lr17_b29_nqqp2.txt', train_target)"
   ]
  },
  {
   "cell_type": "code",
   "execution_count": 563,
   "metadata": {
    "collapsed": false
   },
   "outputs": [
    {
     "data": {
      "text/plain": [
       "52913"
      ]
     },
     "execution_count": 563,
     "metadata": {},
     "output_type": "execute_result"
    }
   ],
   "source": [
    "your_submission16 = sample_sub.copy()\n",
    "your_submission16['target'] = newpred\n",
    "len(newpred)"
   ]
  },
  {
   "cell_type": "code",
   "execution_count": 564,
   "metadata": {
    "collapsed": false
   },
   "outputs": [
    {
     "data": {
      "text/plain": [
       "(             target\n",
       " count  52913.000000\n",
       " mean       2.511292\n",
       " std        1.185394\n",
       " min        0.000000\n",
       " 25%        1.658423\n",
       " 50%        2.548477\n",
       " 75%        3.342152\n",
       " max        8.932331,              target\n",
       " count  52913.000000\n",
       " mean       2.519580\n",
       " std        1.193069\n",
       " min        0.000000\n",
       " 25%        1.663498\n",
       " 50%        2.553678\n",
       " 75%        3.352393\n",
       " max        9.080687,              target\n",
       " count  52913.000000\n",
       " mean       2.714724\n",
       " std        1.156414\n",
       " min        0.000000\n",
       " 25%        1.918919\n",
       " 50%        2.765654\n",
       " 75%        3.518524\n",
       " max        8.976396)"
      ]
     },
     "execution_count": 564,
     "metadata": {},
     "output_type": "execute_result"
    }
   ],
   "source": [
    "your_submission14.describe(), your_submission15.describe(), your_submission16.describe()"
   ]
  },
  {
   "cell_type": "code",
   "execution_count": 565,
   "metadata": {
    "collapsed": true
   },
   "outputs": [],
   "source": [
    "your_submission16.to_csv('D:/submission17.csv')"
   ]
  },
  {
   "cell_type": "code",
   "execution_count": 573,
   "metadata": {
    "collapsed": true
   },
   "outputs": [],
   "source": [
    "your_submission17 = sample_sub.copy()\n",
    "your_submission17['target'] = (your_submission16.target + your_submission15.target)/2"
   ]
  },
  {
   "cell_type": "code",
   "execution_count": 574,
   "metadata": {
    "collapsed": false
   },
   "outputs": [
    {
     "data": {
      "text/plain": [
       "(             target\n",
       " count  52913.000000\n",
       " mean       2.617152\n",
       " std        1.171663\n",
       " min        0.000000\n",
       " 25%        1.790750\n",
       " 50%        2.659937\n",
       " 75%        3.433495\n",
       " max        9.021225,              target\n",
       " count  52913.000000\n",
       " mean       2.714724\n",
       " std        1.156414\n",
       " min        0.000000\n",
       " 25%        1.918919\n",
       " 50%        2.765654\n",
       " 75%        3.518524\n",
       " max        8.976396,              target\n",
       " count  52913.000000\n",
       " mean       2.519580\n",
       " std        1.193069\n",
       " min        0.000000\n",
       " 25%        1.663498\n",
       " 50%        2.553678\n",
       " 75%        3.352393\n",
       " max        9.080687)"
      ]
     },
     "execution_count": 574,
     "metadata": {},
     "output_type": "execute_result"
    }
   ],
   "source": [
    "your_submission17.describe(), your_submission16.describe(), your_submission15.describe()"
   ]
  },
  {
   "cell_type": "code",
   "execution_count": 575,
   "metadata": {
    "collapsed": true
   },
   "outputs": [],
   "source": [
    "your_submission17.to_csv('D:/submission18.csv')"
   ]
  },
  {
   "cell_type": "code",
   "execution_count": 589,
   "metadata": {
    "collapsed": true
   },
   "outputs": [],
   "source": [
    "your_submission18 = sample_sub.copy()\n",
    "your_submission18['target'] = (0.525*your_submission16.target + 0.475*your_submission15.target)"
   ]
  },
  {
   "cell_type": "code",
   "execution_count": 590,
   "metadata": {
    "collapsed": false
   },
   "outputs": [
    {
     "data": {
      "text/plain": [
       "(             target\n",
       " count  52913.000000\n",
       " mean       2.622031\n",
       " std        1.170752\n",
       " min        0.000000\n",
       " 25%        1.797972\n",
       " 50%        2.665186\n",
       " 75%        3.437979\n",
       " max        9.018984,              target\n",
       " count  52913.000000\n",
       " mean       2.617152\n",
       " std        1.171663\n",
       " min        0.000000\n",
       " 25%        1.790750\n",
       " 50%        2.659937\n",
       " 75%        3.433495\n",
       " max        9.021225,              target\n",
       " count  52913.000000\n",
       " mean       2.714724\n",
       " std        1.156414\n",
       " min        0.000000\n",
       " 25%        1.918919\n",
       " 50%        2.765654\n",
       " 75%        3.518524\n",
       " max        8.976396,              target\n",
       " count  52913.000000\n",
       " mean       2.519580\n",
       " std        1.193069\n",
       " min        0.000000\n",
       " 25%        1.663498\n",
       " 50%        2.553678\n",
       " 75%        3.352393\n",
       " max        9.080687)"
      ]
     },
     "execution_count": 590,
     "metadata": {},
     "output_type": "execute_result"
    }
   ],
   "source": [
    "your_submission18.describe(), your_submission17.describe(), your_submission16.describe(), your_submission15.describe()"
   ]
  },
  {
   "cell_type": "code",
   "execution_count": 591,
   "metadata": {
    "collapsed": true
   },
   "outputs": [],
   "source": [
    "your_submission18.to_csv('D:/submission19.csv')"
   ]
  },
  {
   "cell_type": "code",
   "execution_count": 608,
   "metadata": {
    "collapsed": false
   },
   "outputs": [
    {
     "name": "stdout",
     "output_type": "stream",
     "text": [
      "120000\n",
      "0.310893552683\n",
      "120000\n",
      "0.093649326675\n"
     ]
    }
   ],
   "source": [
    "newpred1 = MiniCvScriptPassesWar('D:/habr_train_alt0_model_pt88_lr17_b29_nqq_sf1.txt', 'D:/habr_test_alt0_model_pt88_lr17_b29_nqq_sf1.txt', train_target)\n",
    "newpred2 = MiniCvScriptPassesWar('D:/habr_train_alt0_model_pt88_lr17_b29_nqq_sf2.txt', 'D:/habr_test_alt0_model_pt88_lr17_b29_nqq_sf2.txt', train_target)\n"
   ]
  },
  {
   "cell_type": "code",
   "execution_count": 610,
   "metadata": {
    "collapsed": false
   },
   "outputs": [],
   "source": [
    "your_submission19 = sample_sub.copy()\n",
    "your_submission19['target'] = (np.array(newpred1) + np.array(newpred2))/2"
   ]
  },
  {
   "cell_type": "code",
   "execution_count": 611,
   "metadata": {
    "collapsed": false
   },
   "outputs": [
    {
     "data": {
      "text/html": [
       "<div>\n",
       "<style>\n",
       "    .dataframe thead tr:only-child th {\n",
       "        text-align: right;\n",
       "    }\n",
       "\n",
       "    .dataframe thead th {\n",
       "        text-align: left;\n",
       "    }\n",
       "\n",
       "    .dataframe tbody tr th {\n",
       "        vertical-align: top;\n",
       "    }\n",
       "</style>\n",
       "<table border=\"1\" class=\"dataframe\">\n",
       "  <thead>\n",
       "    <tr style=\"text-align: right;\">\n",
       "      <th></th>\n",
       "      <th>target</th>\n",
       "    </tr>\n",
       "  </thead>\n",
       "  <tbody>\n",
       "    <tr>\n",
       "      <th>count</th>\n",
       "      <td>52913.000000</td>\n",
       "    </tr>\n",
       "    <tr>\n",
       "      <th>mean</th>\n",
       "      <td>2.626787</td>\n",
       "    </tr>\n",
       "    <tr>\n",
       "      <th>std</th>\n",
       "      <td>1.173781</td>\n",
       "    </tr>\n",
       "    <tr>\n",
       "      <th>min</th>\n",
       "      <td>0.000000</td>\n",
       "    </tr>\n",
       "    <tr>\n",
       "      <th>25%</th>\n",
       "      <td>1.799338</td>\n",
       "    </tr>\n",
       "    <tr>\n",
       "      <th>50%</th>\n",
       "      <td>2.678384</td>\n",
       "    </tr>\n",
       "    <tr>\n",
       "      <th>75%</th>\n",
       "      <td>3.446311</td>\n",
       "    </tr>\n",
       "    <tr>\n",
       "      <th>max</th>\n",
       "      <td>8.911058</td>\n",
       "    </tr>\n",
       "  </tbody>\n",
       "</table>\n",
       "</div>"
      ],
      "text/plain": [
       "             target\n",
       "count  52913.000000\n",
       "mean       2.626787\n",
       "std        1.173781\n",
       "min        0.000000\n",
       "25%        1.799338\n",
       "50%        2.678384\n",
       "75%        3.446311\n",
       "max        8.911058"
      ]
     },
     "execution_count": 611,
     "metadata": {},
     "output_type": "execute_result"
    }
   ],
   "source": [
    "your_submission19.describe()"
   ]
  },
  {
   "cell_type": "code",
   "execution_count": 612,
   "metadata": {
    "collapsed": true
   },
   "outputs": [],
   "source": [
    "your_submission19.to_csv('D:/submission20.csv')"
   ]
  },
  {
   "cell_type": "code",
   "execution_count": 613,
   "metadata": {
    "collapsed": false
   },
   "outputs": [
    {
     "name": "stdout",
     "output_type": "stream",
     "text": [
      "120000\n",
      "0.302982759058\n",
      "120000\n",
      "0.0583795785833\n"
     ]
    }
   ],
   "source": [
    "newpred1 = MiniCvScriptPassesWar('D:/habr_train_alt0_model_pt88_lr17_b29_nqq_h202.txt', 'D:/habr_test_alt0_model_pt88_lr17_b29_nqq_h202.txt', train_target)\n",
    "newpred2 = MiniCvScriptPassesWar('D:/habr_train_alt0_model_pt88_lr17_b29_nqq_h203.txt', 'D:/habr_test_alt0_model_pt88_lr17_b29_nqq_h203.txt', train_target)\n"
   ]
  },
  {
   "cell_type": "code",
   "execution_count": 614,
   "metadata": {
    "collapsed": true
   },
   "outputs": [],
   "source": [
    "your_submission20 = sample_sub.copy()\n",
    "your_submission20['target'] = (np.array(newpred1) + np.array(newpred2))/2"
   ]
  },
  {
   "cell_type": "code",
   "execution_count": 615,
   "metadata": {
    "collapsed": false
   },
   "outputs": [
    {
     "data": {
      "text/html": [
       "<div>\n",
       "<style>\n",
       "    .dataframe thead tr:only-child th {\n",
       "        text-align: right;\n",
       "    }\n",
       "\n",
       "    .dataframe thead th {\n",
       "        text-align: left;\n",
       "    }\n",
       "\n",
       "    .dataframe tbody tr th {\n",
       "        vertical-align: top;\n",
       "    }\n",
       "</style>\n",
       "<table border=\"1\" class=\"dataframe\">\n",
       "  <thead>\n",
       "    <tr style=\"text-align: right;\">\n",
       "      <th></th>\n",
       "      <th>target</th>\n",
       "    </tr>\n",
       "  </thead>\n",
       "  <tbody>\n",
       "    <tr>\n",
       "      <th>count</th>\n",
       "      <td>52913.000000</td>\n",
       "    </tr>\n",
       "    <tr>\n",
       "      <th>mean</th>\n",
       "      <td>2.622149</td>\n",
       "    </tr>\n",
       "    <tr>\n",
       "      <th>std</th>\n",
       "      <td>1.177189</td>\n",
       "    </tr>\n",
       "    <tr>\n",
       "      <th>min</th>\n",
       "      <td>0.000000</td>\n",
       "    </tr>\n",
       "    <tr>\n",
       "      <th>25%</th>\n",
       "      <td>1.788918</td>\n",
       "    </tr>\n",
       "    <tr>\n",
       "      <th>50%</th>\n",
       "      <td>2.669519</td>\n",
       "    </tr>\n",
       "    <tr>\n",
       "      <th>75%</th>\n",
       "      <td>3.446921</td>\n",
       "    </tr>\n",
       "    <tr>\n",
       "      <th>max</th>\n",
       "      <td>9.003546</td>\n",
       "    </tr>\n",
       "  </tbody>\n",
       "</table>\n",
       "</div>"
      ],
      "text/plain": [
       "             target\n",
       "count  52913.000000\n",
       "mean       2.622149\n",
       "std        1.177189\n",
       "min        0.000000\n",
       "25%        1.788918\n",
       "50%        2.669519\n",
       "75%        3.446921\n",
       "max        9.003546"
      ]
     },
     "execution_count": 615,
     "metadata": {},
     "output_type": "execute_result"
    }
   ],
   "source": [
    "your_submission20.describe()"
   ]
  },
  {
   "cell_type": "code",
   "execution_count": 616,
   "metadata": {
    "collapsed": true
   },
   "outputs": [],
   "source": [
    "your_submission20.to_csv('D:/submission21.csv')"
   ]
  },
  {
   "cell_type": "code",
   "execution_count": 617,
   "metadata": {
    "collapsed": false
   },
   "outputs": [
    {
     "name": "stdout",
     "output_type": "stream",
     "text": [
      "120000\n",
      "0.319404217433\n",
      "120000\n",
      "0.0946544323167\n"
     ]
    }
   ],
   "source": [
    "newpred1 = MiniCvScriptPassesWar('D:/habr_train_alt0_model_pt88_lr2_b29_nqq.txt', 'D:/habr_test_alt0_model_pt88_lr2_b29_nqq.txt', train_target)\n",
    "newpred2 = MiniCvScriptPassesWar('D:/habr_train_alt0_model_pt88_lr2_b29_nqq2.txt', 'D:/habr_test_alt0_model_pt88_lr2_b29_nqq2.txt', train_target)\n"
   ]
  },
  {
   "cell_type": "code",
   "execution_count": 618,
   "metadata": {
    "collapsed": true
   },
   "outputs": [],
   "source": [
    "your_submission21 = sample_sub.copy()\n",
    "your_submission21['target'] = (np.array(newpred1) + np.array(newpred2))/2"
   ]
  },
  {
   "cell_type": "code",
   "execution_count": 619,
   "metadata": {
    "collapsed": false
   },
   "outputs": [
    {
     "data": {
      "text/html": [
       "<div>\n",
       "<style>\n",
       "    .dataframe thead tr:only-child th {\n",
       "        text-align: right;\n",
       "    }\n",
       "\n",
       "    .dataframe thead th {\n",
       "        text-align: left;\n",
       "    }\n",
       "\n",
       "    .dataframe tbody tr th {\n",
       "        vertical-align: top;\n",
       "    }\n",
       "</style>\n",
       "<table border=\"1\" class=\"dataframe\">\n",
       "  <thead>\n",
       "    <tr style=\"text-align: right;\">\n",
       "      <th></th>\n",
       "      <th>target</th>\n",
       "    </tr>\n",
       "  </thead>\n",
       "  <tbody>\n",
       "    <tr>\n",
       "      <th>count</th>\n",
       "      <td>52913.000000</td>\n",
       "    </tr>\n",
       "    <tr>\n",
       "      <th>mean</th>\n",
       "      <td>2.616157</td>\n",
       "    </tr>\n",
       "    <tr>\n",
       "      <th>std</th>\n",
       "      <td>1.174122</td>\n",
       "    </tr>\n",
       "    <tr>\n",
       "      <th>min</th>\n",
       "      <td>0.000000</td>\n",
       "    </tr>\n",
       "    <tr>\n",
       "      <th>25%</th>\n",
       "      <td>1.786822</td>\n",
       "    </tr>\n",
       "    <tr>\n",
       "      <th>50%</th>\n",
       "      <td>2.658640</td>\n",
       "    </tr>\n",
       "    <tr>\n",
       "      <th>75%</th>\n",
       "      <td>3.435538</td>\n",
       "    </tr>\n",
       "    <tr>\n",
       "      <th>max</th>\n",
       "      <td>9.021659</td>\n",
       "    </tr>\n",
       "  </tbody>\n",
       "</table>\n",
       "</div>"
      ],
      "text/plain": [
       "             target\n",
       "count  52913.000000\n",
       "mean       2.616157\n",
       "std        1.174122\n",
       "min        0.000000\n",
       "25%        1.786822\n",
       "50%        2.658640\n",
       "75%        3.435538\n",
       "max        9.021659"
      ]
     },
     "execution_count": 619,
     "metadata": {},
     "output_type": "execute_result"
    }
   ],
   "source": [
    "your_submission21.describe()"
   ]
  },
  {
   "cell_type": "code",
   "execution_count": 620,
   "metadata": {
    "collapsed": true
   },
   "outputs": [],
   "source": [
    "your_submission21.to_csv('D:/submission22.csv')"
   ]
  },
  {
   "cell_type": "code",
   "execution_count": 622,
   "metadata": {
    "collapsed": false
   },
   "outputs": [
    {
     "name": "stdout",
     "output_type": "stream",
     "text": [
      "120000\n",
      "0.353234450333\n",
      "120000\n",
      "0.300611807267\n"
     ]
    }
   ],
   "source": [
    "newpred1 = MiniCvScriptPassesWar('D:/habr_train_alt0_model_pt85_lr17_b29_nqq.txt', 'D:/habr_test_alt0_model_pt85_lr17_b29_nqq.txt', train_target)\n",
    "newpred2 = MiniCvScriptPassesWar('D:/habr_train_alt0_model_pt85_lr17_b29_nqq2.txt', 'D:/habr_test_alt0_model_pt85_lr17_b29_nqq2.txt', train_target)\n"
   ]
  },
  {
   "cell_type": "code",
   "execution_count": 623,
   "metadata": {
    "collapsed": true
   },
   "outputs": [],
   "source": [
    "your_submission22 = sample_sub.copy()\n",
    "your_submission22['target'] = (np.array(newpred1) + np.array(newpred2))/2"
   ]
  },
  {
   "cell_type": "code",
   "execution_count": 624,
   "metadata": {
    "collapsed": false
   },
   "outputs": [
    {
     "data": {
      "text/html": [
       "<div>\n",
       "<style>\n",
       "    .dataframe thead tr:only-child th {\n",
       "        text-align: right;\n",
       "    }\n",
       "\n",
       "    .dataframe thead th {\n",
       "        text-align: left;\n",
       "    }\n",
       "\n",
       "    .dataframe tbody tr th {\n",
       "        vertical-align: top;\n",
       "    }\n",
       "</style>\n",
       "<table border=\"1\" class=\"dataframe\">\n",
       "  <thead>\n",
       "    <tr style=\"text-align: right;\">\n",
       "      <th></th>\n",
       "      <th>target</th>\n",
       "    </tr>\n",
       "  </thead>\n",
       "  <tbody>\n",
       "    <tr>\n",
       "      <th>count</th>\n",
       "      <td>52913.000000</td>\n",
       "    </tr>\n",
       "    <tr>\n",
       "      <th>mean</th>\n",
       "      <td>2.527730</td>\n",
       "    </tr>\n",
       "    <tr>\n",
       "      <th>std</th>\n",
       "      <td>1.150397</td>\n",
       "    </tr>\n",
       "    <tr>\n",
       "      <th>min</th>\n",
       "      <td>0.000000</td>\n",
       "    </tr>\n",
       "    <tr>\n",
       "      <th>25%</th>\n",
       "      <td>1.708311</td>\n",
       "    </tr>\n",
       "    <tr>\n",
       "      <th>50%</th>\n",
       "      <td>2.583778</td>\n",
       "    </tr>\n",
       "    <tr>\n",
       "      <th>75%</th>\n",
       "      <td>3.350817</td>\n",
       "    </tr>\n",
       "    <tr>\n",
       "      <th>max</th>\n",
       "      <td>8.244503</td>\n",
       "    </tr>\n",
       "  </tbody>\n",
       "</table>\n",
       "</div>"
      ],
      "text/plain": [
       "             target\n",
       "count  52913.000000\n",
       "mean       2.527730\n",
       "std        1.150397\n",
       "min        0.000000\n",
       "25%        1.708311\n",
       "50%        2.583778\n",
       "75%        3.350817\n",
       "max        8.244503"
      ]
     },
     "execution_count": 624,
     "metadata": {},
     "output_type": "execute_result"
    }
   ],
   "source": [
    "your_submission22.describe()"
   ]
  },
  {
   "cell_type": "code",
   "execution_count": 625,
   "metadata": {
    "collapsed": true
   },
   "outputs": [],
   "source": [
    "your_submission22.to_csv('D:/submission23.csv')"
   ]
  },
  {
   "cell_type": "code",
   "execution_count": 85,
   "metadata": {
    "collapsed": false
   },
   "outputs": [
    {
     "name": "stdout",
     "output_type": "stream",
     "text": [
      "120000\n",
      "0.298599071233\n",
      "120000\n",
      "0.0934039205167\n"
     ]
    }
   ],
   "source": [
    "newpred1 = MiniCvScriptPassesWar('D:/habr_train_alt0_model_pt91_lr17_b29_nqq.txt', 'D:/habr_test_alt0_model_pt91_lr17_b29_nqq.txt', train_target)\n",
    "newpred2 = MiniCvScriptPassesWar('D:/habr_train_alt0_model_pt91_lr17_b29_nqq2.txt', 'D:/habr_test_alt0_model_pt91_lr17_b29_nqq2.txt', train_target)\n"
   ]
  },
  {
   "cell_type": "code",
   "execution_count": 86,
   "metadata": {
    "collapsed": true
   },
   "outputs": [],
   "source": [
    "your_submission23 = sample_sub.copy()\n",
    "your_submission23['target'] = (np.array(newpred1) + np.array(newpred2))/2"
   ]
  },
  {
   "cell_type": "code",
   "execution_count": 87,
   "metadata": {
    "collapsed": false
   },
   "outputs": [
    {
     "data": {
      "text/html": [
       "<div>\n",
       "<style>\n",
       "    .dataframe thead tr:only-child th {\n",
       "        text-align: right;\n",
       "    }\n",
       "\n",
       "    .dataframe thead th {\n",
       "        text-align: left;\n",
       "    }\n",
       "\n",
       "    .dataframe tbody tr th {\n",
       "        vertical-align: top;\n",
       "    }\n",
       "</style>\n",
       "<table border=\"1\" class=\"dataframe\">\n",
       "  <thead>\n",
       "    <tr style=\"text-align: right;\">\n",
       "      <th></th>\n",
       "      <th>target</th>\n",
       "    </tr>\n",
       "  </thead>\n",
       "  <tbody>\n",
       "    <tr>\n",
       "      <th>count</th>\n",
       "      <td>52913.000000</td>\n",
       "    </tr>\n",
       "    <tr>\n",
       "      <th>mean</th>\n",
       "      <td>2.622841</td>\n",
       "    </tr>\n",
       "    <tr>\n",
       "      <th>std</th>\n",
       "      <td>1.190220</td>\n",
       "    </tr>\n",
       "    <tr>\n",
       "      <th>min</th>\n",
       "      <td>0.000000</td>\n",
       "    </tr>\n",
       "    <tr>\n",
       "      <th>25%</th>\n",
       "      <td>1.790247</td>\n",
       "    </tr>\n",
       "    <tr>\n",
       "      <th>50%</th>\n",
       "      <td>2.643789</td>\n",
       "    </tr>\n",
       "    <tr>\n",
       "      <th>75%</th>\n",
       "      <td>3.422678</td>\n",
       "    </tr>\n",
       "    <tr>\n",
       "      <th>max</th>\n",
       "      <td>9.080687</td>\n",
       "    </tr>\n",
       "  </tbody>\n",
       "</table>\n",
       "</div>"
      ],
      "text/plain": [
       "             target\n",
       "count  52913.000000\n",
       "mean       2.622841\n",
       "std        1.190220\n",
       "min        0.000000\n",
       "25%        1.790247\n",
       "50%        2.643789\n",
       "75%        3.422678\n",
       "max        9.080687"
      ]
     },
     "execution_count": 87,
     "metadata": {},
     "output_type": "execute_result"
    }
   ],
   "source": [
    "your_submission23.describe()"
   ]
  },
  {
   "cell_type": "code",
   "execution_count": 629,
   "metadata": {
    "collapsed": true
   },
   "outputs": [],
   "source": [
    "your_submission23.to_csv('D:/submission24.csv')"
   ]
  },
  {
   "cell_type": "code",
   "execution_count": 646,
   "metadata": {
    "collapsed": false
   },
   "outputs": [
    {
     "name": "stdout",
     "output_type": "stream",
     "text": [
      "120000\n",
      "0.305842408167\n",
      "120000\n",
      "0.0938269930083\n"
     ]
    }
   ],
   "source": [
    "newpred1 = MiniCvScriptPassesWar('D:/habr_train_alt0_model_pt91_lr14_b29_nqq1.txt', 'D:/habr_test_alt0_model_pt91_lr14_b29_nqq1.txt', train_target)\n",
    "newpred2 = MiniCvScriptPassesWar('D:/habr_train_alt0_model_pt91_lr14_b29_nqq2.txt', 'D:/habr_test_alt0_model_pt91_lr14_b29_nqq2.txt', train_target)\n"
   ]
  },
  {
   "cell_type": "code",
   "execution_count": 647,
   "metadata": {
    "collapsed": true
   },
   "outputs": [],
   "source": [
    "your_submission24 = sample_sub.copy()\n",
    "your_submission24['target'] = (np.array(newpred1) + np.array(newpred2))/2"
   ]
  },
  {
   "cell_type": "code",
   "execution_count": 648,
   "metadata": {
    "collapsed": false
   },
   "outputs": [
    {
     "data": {
      "text/html": [
       "<div>\n",
       "<style>\n",
       "    .dataframe thead tr:only-child th {\n",
       "        text-align: right;\n",
       "    }\n",
       "\n",
       "    .dataframe thead th {\n",
       "        text-align: left;\n",
       "    }\n",
       "\n",
       "    .dataframe tbody tr th {\n",
       "        vertical-align: top;\n",
       "    }\n",
       "</style>\n",
       "<table border=\"1\" class=\"dataframe\">\n",
       "  <thead>\n",
       "    <tr style=\"text-align: right;\">\n",
       "      <th></th>\n",
       "      <th>target</th>\n",
       "    </tr>\n",
       "  </thead>\n",
       "  <tbody>\n",
       "    <tr>\n",
       "      <th>count</th>\n",
       "      <td>52913.000000</td>\n",
       "    </tr>\n",
       "    <tr>\n",
       "      <th>mean</th>\n",
       "      <td>2.624733</td>\n",
       "    </tr>\n",
       "    <tr>\n",
       "      <th>std</th>\n",
       "      <td>1.187155</td>\n",
       "    </tr>\n",
       "    <tr>\n",
       "      <th>min</th>\n",
       "      <td>0.000000</td>\n",
       "    </tr>\n",
       "    <tr>\n",
       "      <th>25%</th>\n",
       "      <td>1.794069</td>\n",
       "    </tr>\n",
       "    <tr>\n",
       "      <th>50%</th>\n",
       "      <td>2.645288</td>\n",
       "    </tr>\n",
       "    <tr>\n",
       "      <th>75%</th>\n",
       "      <td>3.421878</td>\n",
       "    </tr>\n",
       "    <tr>\n",
       "      <th>max</th>\n",
       "      <td>9.080687</td>\n",
       "    </tr>\n",
       "  </tbody>\n",
       "</table>\n",
       "</div>"
      ],
      "text/plain": [
       "             target\n",
       "count  52913.000000\n",
       "mean       2.624733\n",
       "std        1.187155\n",
       "min        0.000000\n",
       "25%        1.794069\n",
       "50%        2.645288\n",
       "75%        3.421878\n",
       "max        9.080687"
      ]
     },
     "execution_count": 648,
     "metadata": {},
     "output_type": "execute_result"
    }
   ],
   "source": [
    "your_submission24.describe()"
   ]
  },
  {
   "cell_type": "code",
   "execution_count": 649,
   "metadata": {
    "collapsed": true
   },
   "outputs": [],
   "source": [
    "your_submission24.to_csv('D:/submission25.csv')"
   ]
  },
  {
   "cell_type": "code",
   "execution_count": 653,
   "metadata": {
    "collapsed": false
   },
   "outputs": [
    {
     "name": "stdout",
     "output_type": "stream",
     "text": [
      "120000\n",
      "0.273460814267\n",
      "120000\n",
      "0.0965939985\n"
     ]
    }
   ],
   "source": [
    "newpred1 = MiniCvScriptPassesWar('D:/habr_train_alt0_model_pt94_lr17_b29_nqq1.txt', 'D:/habr_test_alt0_model_pt94_lr17_b29_nqq1.txt', train_target)\n",
    "newpred2 = MiniCvScriptPassesWar('D:/habr_train_alt0_model_pt94_lr17_b29_nqq2.txt', 'D:/habr_test_alt0_model_pt94_lr17_b29_nqq2.txt', train_target)\n"
   ]
  },
  {
   "cell_type": "code",
   "execution_count": 654,
   "metadata": {
    "collapsed": true
   },
   "outputs": [],
   "source": [
    "your_submission25 = sample_sub.copy()\n",
    "your_submission25['target'] = (np.array(newpred1) + np.array(newpred2))/2"
   ]
  },
  {
   "cell_type": "code",
   "execution_count": 655,
   "metadata": {
    "collapsed": false
   },
   "outputs": [
    {
     "data": {
      "text/html": [
       "<div>\n",
       "<style>\n",
       "    .dataframe thead tr:only-child th {\n",
       "        text-align: right;\n",
       "    }\n",
       "\n",
       "    .dataframe thead th {\n",
       "        text-align: left;\n",
       "    }\n",
       "\n",
       "    .dataframe tbody tr th {\n",
       "        vertical-align: top;\n",
       "    }\n",
       "</style>\n",
       "<table border=\"1\" class=\"dataframe\">\n",
       "  <thead>\n",
       "    <tr style=\"text-align: right;\">\n",
       "      <th></th>\n",
       "      <th>target</th>\n",
       "    </tr>\n",
       "  </thead>\n",
       "  <tbody>\n",
       "    <tr>\n",
       "      <th>count</th>\n",
       "      <td>52913.000000</td>\n",
       "    </tr>\n",
       "    <tr>\n",
       "      <th>mean</th>\n",
       "      <td>2.627801</td>\n",
       "    </tr>\n",
       "    <tr>\n",
       "      <th>std</th>\n",
       "      <td>1.227498</td>\n",
       "    </tr>\n",
       "    <tr>\n",
       "      <th>min</th>\n",
       "      <td>0.000000</td>\n",
       "    </tr>\n",
       "    <tr>\n",
       "      <th>25%</th>\n",
       "      <td>1.779082</td>\n",
       "    </tr>\n",
       "    <tr>\n",
       "      <th>50%</th>\n",
       "      <td>2.611610</td>\n",
       "    </tr>\n",
       "    <tr>\n",
       "      <th>75%</th>\n",
       "      <td>3.410500</td>\n",
       "    </tr>\n",
       "    <tr>\n",
       "      <th>max</th>\n",
       "      <td>9.080687</td>\n",
       "    </tr>\n",
       "  </tbody>\n",
       "</table>\n",
       "</div>"
      ],
      "text/plain": [
       "             target\n",
       "count  52913.000000\n",
       "mean       2.627801\n",
       "std        1.227498\n",
       "min        0.000000\n",
       "25%        1.779082\n",
       "50%        2.611610\n",
       "75%        3.410500\n",
       "max        9.080687"
      ]
     },
     "execution_count": 655,
     "metadata": {},
     "output_type": "execute_result"
    }
   ],
   "source": [
    "your_submission25.describe()"
   ]
  },
  {
   "cell_type": "code",
   "execution_count": 656,
   "metadata": {
    "collapsed": false
   },
   "outputs": [
    {
     "data": {
      "text/plain": [
       "52913"
      ]
     },
     "execution_count": 656,
     "metadata": {},
     "output_type": "execute_result"
    }
   ],
   "source": [
    "len(your_submission25)"
   ]
  },
  {
   "cell_type": "code",
   "execution_count": 657,
   "metadata": {
    "collapsed": true
   },
   "outputs": [],
   "source": [
    "your_submission25.to_csv('D:/submission26.csv')"
   ]
  },
  {
   "cell_type": "code",
   "execution_count": 6,
   "metadata": {
    "collapsed": false
   },
   "outputs": [],
   "source": [
    "mytrain = pd.DataFrame(traintargetan, columns = ['target'])\n",
    "mytest = pd.DataFrame(testtargetan, columns = ['target'])\n"
   ]
  },
  {
   "cell_type": "code",
   "execution_count": 11,
   "metadata": {
    "collapsed": false
   },
   "outputs": [
    {
     "name": "stdout",
     "output_type": "stream",
     "text": [
      "84000\n",
      "0.522228474393\n",
      "0.930222871917\n",
      "84000\n",
      "0.62247904794\n",
      "0.935949071139\n",
      "84000\n",
      "0.5098774975\n",
      "0.93147848175\n",
      "84000\n",
      "0.61482999256\n",
      "0.935204435639\n"
     ]
    }
   ],
   "source": [
    "#test1 what is better square or quantile\n",
    "import sklearn\n",
    "MiniCvScriptPasses('D:/habr_minitrain_alt0_an_model_pt5_lr5_b29_new1.txt', 'D:/habr_minitest_alt0_an_model_pt5_lr5_b29_new1.txt', mytrain, mytest)\n",
    "MiniCvScriptPasses('D:/habr_minitrain_alt0_an_model_pt5_lr5_b29_new2.txt', 'D:/habr_minitest_alt0_an_model_pt5_lr5_b29_new2.txt', mytrain, mytest)\n",
    "#so squared is a bit better.\n",
    "#test2 with sort features or not\n",
    "MiniCvScriptPasses('D:/habr_minitrain_alt0_an_model_pt5_lr5_b29_new3.txt', 'D:/habr_minitest_alt0_an_model_pt5_lr5_b29_new3.txt', mytrain, mytest)\n",
    "MiniCvScriptPasses('D:/habr_minitrain_alt0_an_model_pt5_lr5_b29_new4.txt', 'D:/habr_minitest_alt0_an_model_pt5_lr5_b29_new4.txt', mytrain, mytest)\n",
    "#mean, without sort features"
   ]
  },
  {
   "cell_type": "code",
   "execution_count": 12,
   "metadata": {
    "collapsed": false
   },
   "outputs": [
    {
     "name": "stdout",
     "output_type": "stream",
     "text": [
      "84000\n",
      "0.352515304464\n",
      "0.97425099125\n",
      "84000\n",
      "0.440319663202\n",
      "0.946911778389\n",
      "84000\n",
      "0.476383863524\n",
      "0.938655803889\n",
      "84000\n",
      "0.528465177976\n",
      "0.932590812583\n",
      "84000\n",
      "0.522228474393\n",
      "0.930222871917\n",
      "84000\n",
      "0.615357335357\n",
      "0.926505578639\n",
      "84000\n",
      "0.612159711\n",
      "0.925752185028\n",
      "84000\n",
      "0.609814703286\n",
      "0.925456511806\n",
      "84000\n",
      "0.608106213583\n",
      "0.92538208975\n"
     ]
    }
   ],
   "source": [
    "#choice of optimal learning rate\n",
    "MiniCvScriptPasses('D:/habr_minitrain_alt0_an_model_pt5_lr1_b29_new1.txt', 'D:/habr_minitest_alt0_an_model_pt5_lr1_b29_new1.txt', mytrain, mytest)\n",
    "MiniCvScriptPasses('D:/habr_minitrain_alt0_an_model_pt5_lr2_b29_new1.txt', 'D:/habr_minitest_alt0_an_model_pt5_lr2_b29_new1.txt', mytrain, mytest)\n",
    "MiniCvScriptPasses('D:/habr_minitrain_alt0_an_model_pt5_lr3_b29_new1.txt', 'D:/habr_minitest_alt0_an_model_pt5_lr3_b29_new1.txt', mytrain, mytest)\n",
    "MiniCvScriptPasses('D:/habr_minitrain_alt0_an_model_pt5_lr4_b29_new1.txt', 'D:/habr_minitest_alt0_an_model_pt5_lr4_b29_new1.txt', mytrain, mytest)\n",
    "MiniCvScriptPasses('D:/habr_minitrain_alt0_an_model_pt5_lr5_b29_new1.txt', 'D:/habr_minitest_alt0_an_model_pt5_lr5_b29_new1.txt', mytrain, mytest)\n",
    "MiniCvScriptPasses('D:/habr_minitrain_alt0_an_model_pt5_lr6_b29_new1.txt', 'D:/habr_minitest_alt0_an_model_pt5_lr6_b29_new1.txt', mytrain, mytest)\n",
    "MiniCvScriptPasses('D:/habr_minitrain_alt0_an_model_pt5_lr7_b29_new1.txt', 'D:/habr_minitest_alt0_an_model_pt5_lr7_b29_new1.txt', mytrain, mytest)\n",
    "MiniCvScriptPasses('D:/habr_minitrain_alt0_an_model_pt5_lr8_b29_new1.txt', 'D:/habr_minitest_alt0_an_model_pt5_lr8_b29_new1.txt', mytrain, mytest)\n",
    "MiniCvScriptPasses('D:/habr_minitrain_alt0_an_model_pt5_lr9_b29_new1.txt', 'D:/habr_minitest_alt0_an_model_pt5_lr9_b29_new1.txt', mytrain, mytest)\n",
    "###lr = 0.9 ????"
   ]
  },
  {
   "cell_type": "code",
   "execution_count": 13,
   "metadata": {
    "collapsed": false
   },
   "outputs": [
    {
     "name": "stdout",
     "output_type": "stream",
     "text": [
      "84000\n",
      "0.846375969238\n",
      "0.9186078785\n",
      "84000\n",
      "0.842766383976\n",
      "0.915187498056\n",
      "84000\n",
      "0.803093321536\n",
      "0.918302270861\n",
      "84000\n",
      "0.759949587\n",
      "0.921063984222\n",
      "84000\n",
      "0.608106213583\n",
      "0.92538208975\n",
      "84000\n",
      "0.47591757531\n",
      "0.933853586722\n",
      "84000\n",
      "0.392026715548\n",
      "0.943426791806\n",
      "84000\n",
      "0.342075988095\n",
      "0.949605893083\n",
      "84000\n",
      "0.286373409393\n",
      "0.945371380306\n"
     ]
    }
   ],
   "source": [
    "#choice of power_t\n",
    "MiniCvScriptPasses('D:/habr_minitrain_alt0_an_model_pt1_lr9_b29_new1.txt', 'D:/habr_minitest_alt0_an_model_pt1_lr9_b29_new1.txt', mytrain, mytest)\n",
    "MiniCvScriptPasses('D:/habr_minitrain_alt0_an_model_pt2_lr9_b29_new1.txt', 'D:/habr_minitest_alt0_an_model_pt2_lr9_b29_new1.txt', mytrain, mytest)\n",
    "MiniCvScriptPasses('D:/habr_minitrain_alt0_an_model_pt3_lr9_b29_new1.txt', 'D:/habr_minitest_alt0_an_model_pt3_lr9_b29_new1.txt', mytrain, mytest)\n",
    "MiniCvScriptPasses('D:/habr_minitrain_alt0_an_model_pt4_lr9_b29_new1.txt', 'D:/habr_minitest_alt0_an_model_pt4_lr9_b29_new1.txt', mytrain, mytest)\n",
    "MiniCvScriptPasses('D:/habr_minitrain_alt0_an_model_pt5_lr9_b29_new1.txt', 'D:/habr_minitest_alt0_an_model_pt5_lr9_b29_new1.txt', mytrain, mytest)\n",
    "MiniCvScriptPasses('D:/habr_minitrain_alt0_an_model_pt6_lr9_b29_new1.txt', 'D:/habr_minitest_alt0_an_model_pt6_lr9_b29_new1.txt', mytrain, mytest)\n",
    "MiniCvScriptPasses('D:/habr_minitrain_alt0_an_model_pt7_lr9_b29_new1.txt', 'D:/habr_minitest_alt0_an_model_pt7_lr9_b29_new1.txt', mytrain, mytest)\n",
    "MiniCvScriptPasses('D:/habr_minitrain_alt0_an_model_pt8_lr9_b29_new1.txt', 'D:/habr_minitest_alt0_an_model_pt8_lr9_b29_new1.txt', mytrain, mytest)\n",
    "MiniCvScriptPasses('D:/habr_minitrain_alt0_an_model_pt9_lr9_b29_new1.txt', 'D:/habr_minitest_alt0_an_model_pt9_lr9_b29_new1.txt', mytrain, mytest)\n"
   ]
  },
  {
   "cell_type": "code",
   "execution_count": 15,
   "metadata": {
    "collapsed": false,
    "scrolled": true
   },
   "outputs": [
    {
     "name": "stdout",
     "output_type": "stream",
     "text": [
      "84000\n",
      "0.68081970244\n",
      "0.918325969417\n",
      "84000\n",
      "0.816303984833\n",
      "0.916730162944\n",
      "84000\n",
      "0.838843251929\n",
      "0.915910620056\n",
      "84000\n",
      "0.856661355905\n",
      "0.915531984667\n",
      "84000\n",
      "0.846709911952\n",
      "0.915035787278\n",
      "84000\n",
      "0.86136563344\n",
      "0.915163702556\n",
      "84000\n",
      "0.853342850952\n",
      "0.915037889722\n",
      "84000\n",
      "0.847296784286\n",
      "0.915082816583\n",
      "84000\n",
      "0.842766383976\n",
      "0.915187498056\n",
      "84000\n",
      "0.840985641917\n",
      "0.915259803\n"
     ]
    }
   ],
   "source": [
    "MiniCvScriptPasses('D:/habr_minitrain_alt0_an_model_pt2_lr1_b29_new1.txt', 'D:/habr_minitest_alt0_an_model_pt2_lr1_b29_new1.txt', mytrain, mytest)\n",
    "MiniCvScriptPasses('D:/habr_minitrain_alt0_an_model_pt2_lr2_b29_new1.txt', 'D:/habr_minitest_alt0_an_model_pt2_lr2_b29_new1.txt', mytrain, mytest)\n",
    "MiniCvScriptPasses('D:/habr_minitrain_alt0_an_model_pt2_lr3_b29_new1.txt', 'D:/habr_minitest_alt0_an_model_pt2_lr3_b29_new1.txt', mytrain, mytest)\n",
    "MiniCvScriptPasses('D:/habr_minitrain_alt0_an_model_pt2_lr4_b29_new1.txt', 'D:/habr_minitest_alt0_an_model_pt2_lr4_b29_new1.txt', mytrain, mytest)\n",
    "MiniCvScriptPasses('D:/habr_minitrain_alt0_an_model_pt2_lr5_b29_new1.txt', 'D:/habr_minitest_alt0_an_model_pt2_lr5_b29_new1.txt', mytrain, mytest)\n",
    "MiniCvScriptPasses('D:/habr_minitrain_alt0_an_model_pt2_lr6_b29_new1.txt', 'D:/habr_minitest_alt0_an_model_pt2_lr6_b29_new1.txt', mytrain, mytest)\n",
    "MiniCvScriptPasses('D:/habr_minitrain_alt0_an_model_pt2_lr7_b29_new1.txt', 'D:/habr_minitest_alt0_an_model_pt2_lr7_b29_new1.txt', mytrain, mytest)\n",
    "MiniCvScriptPasses('D:/habr_minitrain_alt0_an_model_pt2_lr8_b29_new1.txt', 'D:/habr_minitest_alt0_an_model_pt2_lr8_b29_new1.txt', mytrain, mytest)\n",
    "MiniCvScriptPasses('D:/habr_minitrain_alt0_an_model_pt2_lr9_b29_new1.txt', 'D:/habr_minitest_alt0_an_model_pt2_lr9_b29_new1.txt', mytrain, mytest)\n",
    "MiniCvScriptPasses('D:/habr_minitrain_alt0_an_model_pt2_lr95_b29_new1.txt', 'D:/habr_minitest_alt0_an_model_pt2_lr95_b29_new1.txt', mytrain, mytest)\n"
   ]
  },
  {
   "cell_type": "code",
   "execution_count": 16,
   "metadata": {
    "collapsed": false
   },
   "outputs": [
    {
     "name": "stdout",
     "output_type": "stream",
     "text": [
      "84000\n",
      "0.120850829738\n",
      "0.997276805167\n"
     ]
    }
   ],
   "source": [
    "MiniCvScriptPasses('D:/habr_minitrain_alt0_an_model_pt85_lr4_b29_new1.txt', 'D:/habr_minitest_alt0_an_model_pt85_lr4_b29_new1.txt', mytrain, mytest)\n"
   ]
  },
  {
   "cell_type": "code",
   "execution_count": 17,
   "metadata": {
    "collapsed": false
   },
   "outputs": [
    {
     "name": "stdout",
     "output_type": "stream",
     "text": [
      "84000\n",
      "0.862476740571\n",
      "0.915525298111\n",
      "84000\n",
      "0.846709911952\n",
      "0.915035787278\n",
      "84000\n",
      "0.810933663214\n",
      "0.918166028389\n",
      "84000\n",
      "0.664877559952\n",
      "0.921696985639\n",
      "84000\n",
      "0.522228474393\n",
      "0.930222871917\n",
      "84000\n",
      "0.412482799214\n",
      "0.943043677778\n",
      "84000\n",
      "0.362989328107\n",
      "0.955505727194\n",
      "84000\n",
      "0.360250229083\n",
      "0.963010765611\n",
      "84000\n",
      "0.122167353857\n",
      "0.949605893083\n"
     ]
    }
   ],
   "source": [
    "#OK power t = 0.2, lr = 0.5\n",
    "MiniCvScriptPasses('D:/habr_minitrain_alt0_an_model_pt1_lr5_b29_new1.txt', 'D:/habr_minitest_alt0_an_model_pt1_lr5_b29_new1.txt', mytrain, mytest)\n",
    "MiniCvScriptPasses('D:/habr_minitrain_alt0_an_model_pt2_lr5_b29_new1.txt', 'D:/habr_minitest_alt0_an_model_pt2_lr5_b29_new1.txt', mytrain, mytest)\n",
    "MiniCvScriptPasses('D:/habr_minitrain_alt0_an_model_pt3_lr5_b29_new1.txt', 'D:/habr_minitest_alt0_an_model_pt3_lr5_b29_new1.txt', mytrain, mytest)\n",
    "MiniCvScriptPasses('D:/habr_minitrain_alt0_an_model_pt4_lr5_b29_new1.txt', 'D:/habr_minitest_alt0_an_model_pt4_lr5_b29_new1.txt', mytrain, mytest)\n",
    "MiniCvScriptPasses('D:/habr_minitrain_alt0_an_model_pt5_lr5_b29_new1.txt', 'D:/habr_minitest_alt0_an_model_pt5_lr5_b29_new1.txt', mytrain, mytest)\n",
    "MiniCvScriptPasses('D:/habr_minitrain_alt0_an_model_pt6_lr5_b29_new1.txt', 'D:/habr_minitest_alt0_an_model_pt6_lr5_b29_new1.txt', mytrain, mytest)\n",
    "MiniCvScriptPasses('D:/habr_minitrain_alt0_an_model_pt7_lr5_b29_new1.txt', 'D:/habr_minitest_alt0_an_model_pt7_lr5_b29_new1.txt', mytrain, mytest)\n",
    "MiniCvScriptPasses('D:/habr_minitrain_alt0_an_model_pt8_lr5_b29_new1.txt', 'D:/habr_minitest_alt0_an_model_pt8_lr5_b29_new1.txt', mytrain, mytest)\n",
    "MiniCvScriptPasses('D:/habr_minitrain_alt0_an_model_pt9_lr5_b29_new1.txt', 'D:/habr_minitest_alt0_an_model_pt9_lr5_b29_new1.txt', mytrain, mytest)\n"
   ]
  },
  {
   "cell_type": "code",
   "execution_count": 30,
   "metadata": {
    "collapsed": false
   },
   "outputs": [
    {
     "name": "stdout",
     "output_type": "stream",
     "text": [
      "84000\n",
      "0.833226438202\n",
      "0.919477778083\n"
     ]
    }
   ],
   "source": [
    "#with trigrams\n",
    "MiniCvScriptPasses('D:/habr_minitrain_alt0_an_model_pt2_lr5_b29_new11.txt', 'D:/habr_minitest_alt0_an_model_pt2_lr5_b29_new11.txt', mytrain, mytest)\n"
   ]
  },
  {
   "cell_type": "code",
   "execution_count": 20,
   "metadata": {
    "collapsed": false
   },
   "outputs": [
    {
     "name": "stdout",
     "output_type": "stream",
     "text": [
      "120000\n",
      "0.623915588317\n"
     ]
    }
   ],
   "source": [
    "newpred = MiniCvScriptPassesWar('D:/habr_train_alt0_model_pt2_lr5_b29_new1.txt', 'D:/habr_test_alt0_model_pt2_lr5_b29_new1.txt', train_target)\n"
   ]
  },
  {
   "cell_type": "code",
   "execution_count": 23,
   "metadata": {
    "collapsed": false
   },
   "outputs": [],
   "source": [
    "your_submission26 = sample_sub.copy()\n",
    "your_submission26['target'] = newpred"
   ]
  },
  {
   "cell_type": "code",
   "execution_count": 29,
   "metadata": {
    "collapsed": false
   },
   "outputs": [
    {
     "data": {
      "text/html": [
       "<div>\n",
       "<style>\n",
       "    .dataframe thead tr:only-child th {\n",
       "        text-align: right;\n",
       "    }\n",
       "\n",
       "    .dataframe thead th {\n",
       "        text-align: left;\n",
       "    }\n",
       "\n",
       "    .dataframe tbody tr th {\n",
       "        vertical-align: top;\n",
       "    }\n",
       "</style>\n",
       "<table border=\"1\" class=\"dataframe\">\n",
       "  <thead>\n",
       "    <tr style=\"text-align: right;\">\n",
       "      <th></th>\n",
       "      <th>target</th>\n",
       "    </tr>\n",
       "  </thead>\n",
       "  <tbody>\n",
       "    <tr>\n",
       "      <th>count</th>\n",
       "      <td>52913.000000</td>\n",
       "    </tr>\n",
       "    <tr>\n",
       "      <th>mean</th>\n",
       "      <td>2.526300</td>\n",
       "    </tr>\n",
       "    <tr>\n",
       "      <th>std</th>\n",
       "      <td>1.131510</td>\n",
       "    </tr>\n",
       "    <tr>\n",
       "      <th>min</th>\n",
       "      <td>0.000000</td>\n",
       "    </tr>\n",
       "    <tr>\n",
       "      <th>25%</th>\n",
       "      <td>1.695763</td>\n",
       "    </tr>\n",
       "    <tr>\n",
       "      <th>50%</th>\n",
       "      <td>2.481793</td>\n",
       "    </tr>\n",
       "    <tr>\n",
       "      <th>75%</th>\n",
       "      <td>3.331515</td>\n",
       "    </tr>\n",
       "    <tr>\n",
       "      <th>max</th>\n",
       "      <td>8.256542</td>\n",
       "    </tr>\n",
       "  </tbody>\n",
       "</table>\n",
       "</div>"
      ],
      "text/plain": [
       "             target\n",
       "count  52913.000000\n",
       "mean       2.526300\n",
       "std        1.131510\n",
       "min        0.000000\n",
       "25%        1.695763\n",
       "50%        2.481793\n",
       "75%        3.331515\n",
       "max        8.256542"
      ]
     },
     "execution_count": 29,
     "metadata": {},
     "output_type": "execute_result"
    }
   ],
   "source": [
    "your_submission26.describe()"
   ]
  },
  {
   "cell_type": "code",
   "execution_count": 25,
   "metadata": {
    "collapsed": false
   },
   "outputs": [
    {
     "name": "stdout",
     "output_type": "stream",
     "text": [
      "120000\n",
      "0.568141554925\n"
     ]
    }
   ],
   "source": [
    "newpred = MiniCvScriptPassesWar('D:/habr_train_alt0_model_pt5_lr5_b29_new1.txt', 'D:/habr_test_alt0_model_pt5_lr5_b29_new1.txt', train_target)\n"
   ]
  },
  {
   "cell_type": "code",
   "execution_count": 26,
   "metadata": {
    "collapsed": true
   },
   "outputs": [],
   "source": [
    "your_submission27 = sample_sub.copy()\n",
    "your_submission27['target'] = newpred"
   ]
  },
  {
   "cell_type": "code",
   "execution_count": 27,
   "metadata": {
    "collapsed": false
   },
   "outputs": [
    {
     "data": {
      "text/html": [
       "<div>\n",
       "<style>\n",
       "    .dataframe thead tr:only-child th {\n",
       "        text-align: right;\n",
       "    }\n",
       "\n",
       "    .dataframe thead th {\n",
       "        text-align: left;\n",
       "    }\n",
       "\n",
       "    .dataframe tbody tr th {\n",
       "        vertical-align: top;\n",
       "    }\n",
       "</style>\n",
       "<table border=\"1\" class=\"dataframe\">\n",
       "  <thead>\n",
       "    <tr style=\"text-align: right;\">\n",
       "      <th></th>\n",
       "      <th>target</th>\n",
       "    </tr>\n",
       "  </thead>\n",
       "  <tbody>\n",
       "    <tr>\n",
       "      <th>count</th>\n",
       "      <td>52913.000000</td>\n",
       "    </tr>\n",
       "    <tr>\n",
       "      <th>mean</th>\n",
       "      <td>2.346060</td>\n",
       "    </tr>\n",
       "    <tr>\n",
       "      <th>std</th>\n",
       "      <td>1.061850</td>\n",
       "    </tr>\n",
       "    <tr>\n",
       "      <th>min</th>\n",
       "      <td>0.000000</td>\n",
       "    </tr>\n",
       "    <tr>\n",
       "      <th>25%</th>\n",
       "      <td>1.555201</td>\n",
       "    </tr>\n",
       "    <tr>\n",
       "      <th>50%</th>\n",
       "      <td>2.323987</td>\n",
       "    </tr>\n",
       "    <tr>\n",
       "      <th>75%</th>\n",
       "      <td>3.112196</td>\n",
       "    </tr>\n",
       "    <tr>\n",
       "      <th>max</th>\n",
       "      <td>7.622062</td>\n",
       "    </tr>\n",
       "  </tbody>\n",
       "</table>\n",
       "</div>"
      ],
      "text/plain": [
       "             target\n",
       "count  52913.000000\n",
       "mean       2.346060\n",
       "std        1.061850\n",
       "min        0.000000\n",
       "25%        1.555201\n",
       "50%        2.323987\n",
       "75%        3.112196\n",
       "max        7.622062"
      ]
     },
     "execution_count": 27,
     "metadata": {},
     "output_type": "execute_result"
    }
   ],
   "source": [
    "your_submission27.describe()"
   ]
  },
  {
   "cell_type": "code",
   "execution_count": 28,
   "metadata": {
    "collapsed": true
   },
   "outputs": [],
   "source": [
    "your_submission26.to_csv('D:/submission27.csv')"
   ]
  },
  {
   "cell_type": "code",
   "execution_count": 36,
   "metadata": {
    "collapsed": true
   },
   "outputs": [],
   "source": [
    "your_submission27.to_csv('D:/submission28.csv')"
   ]
  },
  {
   "cell_type": "code",
   "execution_count": 32,
   "metadata": {
    "collapsed": false
   },
   "outputs": [
    {
     "name": "stdout",
     "output_type": "stream",
     "text": [
      "84000\n",
      "0.3662503875\n",
      "0.994160848667\n",
      "84000\n",
      "0.438200809976\n",
      "0.977683414528\n",
      "84000\n",
      "0.536111428929\n",
      "0.955358395306\n",
      "84000\n",
      "0.526685098357\n",
      "0.945323991194\n",
      "84000\n",
      "0.61482999256\n",
      "0.935204435639\n",
      "84000\n",
      "0.609338695512\n",
      "0.931345208083\n",
      "84000\n",
      "0.607578820607\n",
      "0.92899057375\n",
      "84000\n",
      "0.601337942643\n",
      "0.927870530167\n",
      "84000\n",
      "0.597379687512\n",
      "0.927084901194\n"
     ]
    }
   ],
   "source": [
    "#OK, suppose we have quantile with sort features...\n",
    "MiniCvScriptPasses('D:/habr_minitrain_alt0_an_model_pt5_lr1_b29_new4.txt', 'D:/habr_minitest_alt0_an_model_pt5_lr1_b29_new4.txt', mytrain, mytest)\n",
    "MiniCvScriptPasses('D:/habr_minitrain_alt0_an_model_pt5_lr2_b29_new4.txt', 'D:/habr_minitest_alt0_an_model_pt5_lr2_b29_new4.txt', mytrain, mytest)\n",
    "MiniCvScriptPasses('D:/habr_minitrain_alt0_an_model_pt5_lr3_b29_new4.txt', 'D:/habr_minitest_alt0_an_model_pt5_lr3_b29_new4.txt', mytrain, mytest)\n",
    "MiniCvScriptPasses('D:/habr_minitrain_alt0_an_model_pt5_lr4_b29_new4.txt', 'D:/habr_minitest_alt0_an_model_pt5_lr4_b29_new4.txt', mytrain, mytest)\n",
    "MiniCvScriptPasses('D:/habr_minitrain_alt0_an_model_pt5_lr5_b29_new4.txt', 'D:/habr_minitest_alt0_an_model_pt5_lr5_b29_new4.txt', mytrain, mytest)\n",
    "MiniCvScriptPasses('D:/habr_minitrain_alt0_an_model_pt5_lr6_b29_new4.txt', 'D:/habr_minitest_alt0_an_model_pt5_lr6_b29_new4.txt', mytrain, mytest)\n",
    "MiniCvScriptPasses('D:/habr_minitrain_alt0_an_model_pt5_lr7_b29_new4.txt', 'D:/habr_minitest_alt0_an_model_pt5_lr7_b29_new4.txt', mytrain, mytest)\n",
    "MiniCvScriptPasses('D:/habr_minitrain_alt0_an_model_pt5_lr8_b29_new4.txt', 'D:/habr_minitest_alt0_an_model_pt5_lr8_b29_new4.txt', mytrain, mytest)\n",
    "MiniCvScriptPasses('D:/habr_minitrain_alt0_an_model_pt5_lr9_b29_new4.txt', 'D:/habr_minitest_alt0_an_model_pt5_lr9_b29_new4.txt', mytrain, mytest)\n"
   ]
  },
  {
   "cell_type": "code",
   "execution_count": 34,
   "metadata": {
    "collapsed": false
   },
   "outputs": [
    {
     "name": "stdout",
     "output_type": "stream",
     "text": [
      "84000\n",
      "0.999831059988\n",
      "0.925420878194\n",
      "84000\n",
      "0.939729814667\n",
      "0.92350713175\n",
      "84000\n",
      "0.846570085512\n",
      "0.924845981778\n",
      "84000\n",
      "0.717512880762\n",
      "0.928988566972\n",
      "84000\n",
      "0.61482999256\n",
      "0.935204435639\n",
      "84000\n",
      "0.441818052798\n",
      "0.945541411083\n",
      "84000\n",
      "0.342750500976\n",
      "0.954649288639\n",
      "84000\n",
      "0.310069121226\n",
      "0.954331736833\n",
      "84000\n",
      "0.255405027702\n",
      "0.943450090139\n"
     ]
    },
    {
     "data": {
      "text/plain": [
       "(84000, 36000)"
      ]
     },
     "execution_count": 34,
     "metadata": {},
     "output_type": "execute_result"
    }
   ],
   "source": [
    "MiniCvScriptPasses('D:/habr_minitrain_alt0_an_model_pt1_lr5_b29_new4.txt', 'D:/habr_minitest_alt0_an_model_pt1_lr5_b29_new4.txt', mytrain, mytest)\n",
    "MiniCvScriptPasses('D:/habr_minitrain_alt0_an_model_pt2_lr5_b29_new4.txt', 'D:/habr_minitest_alt0_an_model_pt2_lr5_b29_new4.txt', mytrain, mytest)\n",
    "MiniCvScriptPasses('D:/habr_minitrain_alt0_an_model_pt3_lr5_b29_new4.txt', 'D:/habr_minitest_alt0_an_model_pt3_lr5_b29_new4.txt', mytrain, mytest)\n",
    "MiniCvScriptPasses('D:/habr_minitrain_alt0_an_model_pt4_lr5_b29_new4.txt', 'D:/habr_minitest_alt0_an_model_pt4_lr5_b29_new4.txt', mytrain, mytest)\n",
    "MiniCvScriptPasses('D:/habr_minitrain_alt0_an_model_pt5_lr5_b29_new4.txt', 'D:/habr_minitest_alt0_an_model_pt5_lr5_b29_new4.txt', mytrain, mytest)\n",
    "MiniCvScriptPasses('D:/habr_minitrain_alt0_an_model_pt6_lr5_b29_new4.txt', 'D:/habr_minitest_alt0_an_model_pt6_lr5_b29_new4.txt', mytrain, mytest)\n",
    "MiniCvScriptPasses('D:/habr_minitrain_alt0_an_model_pt7_lr5_b29_new4.txt', 'D:/habr_minitest_alt0_an_model_pt7_lr5_b29_new4.txt', mytrain, mytest)\n",
    "MiniCvScriptPasses('D:/habr_minitrain_alt0_an_model_pt8_lr5_b29_new4.txt', 'D:/habr_minitest_alt0_an_model_pt8_lr5_b29_new4.txt', mytrain, mytest)\n",
    "MiniCvScriptPasses('D:/habr_minitrain_alt0_an_model_pt9_lr5_b29_new4.txt', 'D:/habr_minitest_alt0_an_model_pt9_lr5_b29_new4.txt', mytrain, mytest)\n",
    "len(mytrain), len(mytest)"
   ]
  },
  {
   "cell_type": "code",
   "execution_count": 35,
   "metadata": {
    "collapsed": false
   },
   "outputs": [
    {
     "name": "stdout",
     "output_type": "stream",
     "text": [
      "84000\n",
      "0.328954191857\n",
      "0.962572698806\n"
     ]
    }
   ],
   "source": [
    "MiniCvScriptPasses('D:/habr_minitrain_alt0_an_model_pt8_lr2_b29_new4.txt', 'D:/habr_minitest_alt0_an_model_pt8_lr2_b29_new4.txt', mytrain, mytest)\n"
   ]
  },
  {
   "cell_type": "code",
   "execution_count": 46,
   "metadata": {
    "collapsed": true
   },
   "outputs": [],
   "source": [
    "myres = pd.read_csv('D:\\\\submission16.csv')"
   ]
  },
  {
   "cell_type": "code",
   "execution_count": 47,
   "metadata": {
    "collapsed": false
   },
   "outputs": [
    {
     "data": {
      "text/html": [
       "<div>\n",
       "<style>\n",
       "    .dataframe thead tr:only-child th {\n",
       "        text-align: right;\n",
       "    }\n",
       "\n",
       "    .dataframe thead th {\n",
       "        text-align: left;\n",
       "    }\n",
       "\n",
       "    .dataframe tbody tr th {\n",
       "        vertical-align: top;\n",
       "    }\n",
       "</style>\n",
       "<table border=\"1\" class=\"dataframe\">\n",
       "  <thead>\n",
       "    <tr style=\"text-align: right;\">\n",
       "      <th></th>\n",
       "      <th>target</th>\n",
       "    </tr>\n",
       "  </thead>\n",
       "  <tbody>\n",
       "    <tr>\n",
       "      <th>count</th>\n",
       "      <td>52913.000000</td>\n",
       "    </tr>\n",
       "    <tr>\n",
       "      <th>mean</th>\n",
       "      <td>2.519580</td>\n",
       "    </tr>\n",
       "    <tr>\n",
       "      <th>std</th>\n",
       "      <td>1.193069</td>\n",
       "    </tr>\n",
       "    <tr>\n",
       "      <th>min</th>\n",
       "      <td>0.000000</td>\n",
       "    </tr>\n",
       "    <tr>\n",
       "      <th>25%</th>\n",
       "      <td>1.663498</td>\n",
       "    </tr>\n",
       "    <tr>\n",
       "      <th>50%</th>\n",
       "      <td>2.553678</td>\n",
       "    </tr>\n",
       "    <tr>\n",
       "      <th>75%</th>\n",
       "      <td>3.352393</td>\n",
       "    </tr>\n",
       "    <tr>\n",
       "      <th>max</th>\n",
       "      <td>9.080687</td>\n",
       "    </tr>\n",
       "  </tbody>\n",
       "</table>\n",
       "</div>"
      ],
      "text/plain": [
       "             target\n",
       "count  52913.000000\n",
       "mean       2.519580\n",
       "std        1.193069\n",
       "min        0.000000\n",
       "25%        1.663498\n",
       "50%        2.553678\n",
       "75%        3.352393\n",
       "max        9.080687"
      ]
     },
     "execution_count": 47,
     "metadata": {},
     "output_type": "execute_result"
    }
   ],
   "source": [
    "myres.describe()"
   ]
  },
  {
   "cell_type": "code",
   "execution_count": 55,
   "metadata": {
    "collapsed": false
   },
   "outputs": [],
   "source": [
    "myres2 = sample_sub.copy()\n",
    "myres2.target = myres.target + 0.03"
   ]
  },
  {
   "cell_type": "code",
   "execution_count": 56,
   "metadata": {
    "collapsed": false
   },
   "outputs": [
    {
     "data": {
      "text/html": [
       "<div>\n",
       "<style>\n",
       "    .dataframe thead tr:only-child th {\n",
       "        text-align: right;\n",
       "    }\n",
       "\n",
       "    .dataframe thead th {\n",
       "        text-align: left;\n",
       "    }\n",
       "\n",
       "    .dataframe tbody tr th {\n",
       "        vertical-align: top;\n",
       "    }\n",
       "</style>\n",
       "<table border=\"1\" class=\"dataframe\">\n",
       "  <thead>\n",
       "    <tr style=\"text-align: right;\">\n",
       "      <th></th>\n",
       "      <th>target</th>\n",
       "    </tr>\n",
       "  </thead>\n",
       "  <tbody>\n",
       "    <tr>\n",
       "      <th>count</th>\n",
       "      <td>0.0</td>\n",
       "    </tr>\n",
       "    <tr>\n",
       "      <th>mean</th>\n",
       "      <td>NaN</td>\n",
       "    </tr>\n",
       "    <tr>\n",
       "      <th>std</th>\n",
       "      <td>NaN</td>\n",
       "    </tr>\n",
       "    <tr>\n",
       "      <th>min</th>\n",
       "      <td>NaN</td>\n",
       "    </tr>\n",
       "    <tr>\n",
       "      <th>25%</th>\n",
       "      <td>NaN</td>\n",
       "    </tr>\n",
       "    <tr>\n",
       "      <th>50%</th>\n",
       "      <td>NaN</td>\n",
       "    </tr>\n",
       "    <tr>\n",
       "      <th>75%</th>\n",
       "      <td>NaN</td>\n",
       "    </tr>\n",
       "    <tr>\n",
       "      <th>max</th>\n",
       "      <td>NaN</td>\n",
       "    </tr>\n",
       "  </tbody>\n",
       "</table>\n",
       "</div>"
      ],
      "text/plain": [
       "       target\n",
       "count     0.0\n",
       "mean      NaN\n",
       "std       NaN\n",
       "min       NaN\n",
       "25%       NaN\n",
       "50%       NaN\n",
       "75%       NaN\n",
       "max       NaN"
      ]
     },
     "execution_count": 56,
     "metadata": {},
     "output_type": "execute_result"
    }
   ],
   "source": [
    "myres2.describe()"
   ]
  },
  {
   "cell_type": "code",
   "execution_count": 57,
   "metadata": {
    "collapsed": false
   },
   "outputs": [
    {
     "data": {
      "text/html": [
       "<div>\n",
       "<style>\n",
       "    .dataframe thead tr:only-child th {\n",
       "        text-align: right;\n",
       "    }\n",
       "\n",
       "    .dataframe thead th {\n",
       "        text-align: left;\n",
       "    }\n",
       "\n",
       "    .dataframe tbody tr th {\n",
       "        vertical-align: top;\n",
       "    }\n",
       "</style>\n",
       "<table border=\"1\" class=\"dataframe\">\n",
       "  <thead>\n",
       "    <tr style=\"text-align: right;\">\n",
       "      <th></th>\n",
       "      <th>target</th>\n",
       "    </tr>\n",
       "    <tr>\n",
       "      <th>url</th>\n",
       "      <th></th>\n",
       "    </tr>\n",
       "  </thead>\n",
       "  <tbody>\n",
       "    <tr>\n",
       "      <th>https://geektimes.ru/post/87455/</th>\n",
       "      <td>11.620054</td>\n",
       "    </tr>\n",
       "    <tr>\n",
       "      <th>https://geektimes.ru/post/87452/</th>\n",
       "      <td>4.822528</td>\n",
       "    </tr>\n",
       "    <tr>\n",
       "      <th>https://geektimes.ru/post/87459/</th>\n",
       "      <td>0.921104</td>\n",
       "    </tr>\n",
       "    <tr>\n",
       "      <th>https://habrahabr.ru/post/87461/</th>\n",
       "      <td>1.632126</td>\n",
       "    </tr>\n",
       "    <tr>\n",
       "      <th>https://habrahabr.ru/post/5754/</th>\n",
       "      <td>1.952122</td>\n",
       "    </tr>\n",
       "  </tbody>\n",
       "</table>\n",
       "</div>"
      ],
      "text/plain": [
       "                                     target\n",
       "url                                        \n",
       "https://geektimes.ru/post/87455/  11.620054\n",
       "https://geektimes.ru/post/87452/   4.822528\n",
       "https://geektimes.ru/post/87459/   0.921104\n",
       "https://habrahabr.ru/post/87461/   1.632126\n",
       "https://habrahabr.ru/post/5754/    1.952122"
      ]
     },
     "execution_count": 57,
     "metadata": {},
     "output_type": "execute_result"
    }
   ],
   "source": [
    "sample_sub.head()"
   ]
  },
  {
   "cell_type": "code",
   "execution_count": 58,
   "metadata": {
    "collapsed": true
   },
   "outputs": [],
   "source": [
    "myres2 = sample_sub"
   ]
  },
  {
   "cell_type": "code",
   "execution_count": 59,
   "metadata": {
    "collapsed": false
   },
   "outputs": [
    {
     "ename": "AttributeError",
     "evalue": "can't set attribute",
     "output_type": "error",
     "traceback": [
      "\u001b[0;31m---------------------------------------------------------------------------\u001b[0m",
      "\u001b[0;31mAttributeError\u001b[0m                            Traceback (most recent call last)",
      "\u001b[0;32mC:\\Users\\user\\Anaconda3\\lib\\site-packages\\pandas\\core\\generic.py\u001b[0m in \u001b[0;36m__setattr__\u001b[0;34m(self, name, value)\u001b[0m\n\u001b[1;32m   3111\u001b[0m                 \u001b[1;32melse\u001b[0m\u001b[1;33m:\u001b[0m\u001b[1;33m\u001b[0m\u001b[0m\n\u001b[0;32m-> 3112\u001b[0;31m                     \u001b[0mobject\u001b[0m\u001b[1;33m.\u001b[0m\u001b[0m__setattr__\u001b[0m\u001b[1;33m(\u001b[0m\u001b[0mself\u001b[0m\u001b[1;33m,\u001b[0m \u001b[0mname\u001b[0m\u001b[1;33m,\u001b[0m \u001b[0mvalue\u001b[0m\u001b[1;33m)\u001b[0m\u001b[1;33m\u001b[0m\u001b[0m\n\u001b[0m\u001b[1;32m   3113\u001b[0m             \u001b[1;32mexcept\u001b[0m \u001b[1;33m(\u001b[0m\u001b[0mAttributeError\u001b[0m\u001b[1;33m,\u001b[0m \u001b[0mTypeError\u001b[0m\u001b[1;33m)\u001b[0m\u001b[1;33m:\u001b[0m\u001b[1;33m\u001b[0m\u001b[0m\n",
      "\u001b[0;31mAttributeError\u001b[0m: can't set attribute",
      "\nDuring handling of the above exception, another exception occurred:\n",
      "\u001b[0;31mAttributeError\u001b[0m                            Traceback (most recent call last)",
      "\u001b[0;32m<ipython-input-59-cb29762ec84d>\u001b[0m in \u001b[0;36m<module>\u001b[0;34m()\u001b[0m\n\u001b[0;32m----> 1\u001b[0;31m \u001b[0mmyres2\u001b[0m\u001b[1;33m.\u001b[0m\u001b[0mtarget\u001b[0m\u001b[1;33m.\u001b[0m\u001b[0mvalues\u001b[0m \u001b[1;33m=\u001b[0m \u001b[0mmyres\u001b[0m\u001b[1;33m.\u001b[0m\u001b[0mtarget\u001b[0m\u001b[1;33m.\u001b[0m\u001b[0mvalues\u001b[0m\u001b[1;33m\u001b[0m\u001b[0m\n\u001b[0m",
      "\u001b[0;32mC:\\Users\\user\\Anaconda3\\lib\\site-packages\\pandas\\core\\generic.py\u001b[0m in \u001b[0;36m__setattr__\u001b[0;34m(self, name, value)\u001b[0m\n\u001b[1;32m   3112\u001b[0m                     \u001b[0mobject\u001b[0m\u001b[1;33m.\u001b[0m\u001b[0m__setattr__\u001b[0m\u001b[1;33m(\u001b[0m\u001b[0mself\u001b[0m\u001b[1;33m,\u001b[0m \u001b[0mname\u001b[0m\u001b[1;33m,\u001b[0m \u001b[0mvalue\u001b[0m\u001b[1;33m)\u001b[0m\u001b[1;33m\u001b[0m\u001b[0m\n\u001b[1;32m   3113\u001b[0m             \u001b[1;32mexcept\u001b[0m \u001b[1;33m(\u001b[0m\u001b[0mAttributeError\u001b[0m\u001b[1;33m,\u001b[0m \u001b[0mTypeError\u001b[0m\u001b[1;33m)\u001b[0m\u001b[1;33m:\u001b[0m\u001b[1;33m\u001b[0m\u001b[0m\n\u001b[0;32m-> 3114\u001b[0;31m                 \u001b[0mobject\u001b[0m\u001b[1;33m.\u001b[0m\u001b[0m__setattr__\u001b[0m\u001b[1;33m(\u001b[0m\u001b[0mself\u001b[0m\u001b[1;33m,\u001b[0m \u001b[0mname\u001b[0m\u001b[1;33m,\u001b[0m \u001b[0mvalue\u001b[0m\u001b[1;33m)\u001b[0m\u001b[1;33m\u001b[0m\u001b[0m\n\u001b[0m\u001b[1;32m   3115\u001b[0m \u001b[1;33m\u001b[0m\u001b[0m\n\u001b[1;32m   3116\u001b[0m     \u001b[1;31m# ----------------------------------------------------------------------\u001b[0m\u001b[1;33m\u001b[0m\u001b[1;33m\u001b[0m\u001b[0m\n",
      "\u001b[0;31mAttributeError\u001b[0m: can't set attribute"
     ]
    }
   ],
   "source": [
    "myres2.target.values = myres.target.values"
   ]
  },
  {
   "cell_type": "code",
   "execution_count": 62,
   "metadata": {
    "collapsed": false
   },
   "outputs": [
    {
     "data": {
      "text/html": [
       "<div>\n",
       "<style>\n",
       "    .dataframe thead tr:only-child th {\n",
       "        text-align: right;\n",
       "    }\n",
       "\n",
       "    .dataframe thead th {\n",
       "        text-align: left;\n",
       "    }\n",
       "\n",
       "    .dataframe tbody tr th {\n",
       "        vertical-align: top;\n",
       "    }\n",
       "</style>\n",
       "<table border=\"1\" class=\"dataframe\">\n",
       "  <thead>\n",
       "    <tr style=\"text-align: right;\">\n",
       "      <th></th>\n",
       "      <th>target</th>\n",
       "    </tr>\n",
       "  </thead>\n",
       "  <tbody>\n",
       "    <tr>\n",
       "      <th>count</th>\n",
       "      <td>52913.000000</td>\n",
       "    </tr>\n",
       "    <tr>\n",
       "      <th>mean</th>\n",
       "      <td>2.519580</td>\n",
       "    </tr>\n",
       "    <tr>\n",
       "      <th>std</th>\n",
       "      <td>1.193069</td>\n",
       "    </tr>\n",
       "    <tr>\n",
       "      <th>min</th>\n",
       "      <td>0.000000</td>\n",
       "    </tr>\n",
       "    <tr>\n",
       "      <th>25%</th>\n",
       "      <td>1.663498</td>\n",
       "    </tr>\n",
       "    <tr>\n",
       "      <th>50%</th>\n",
       "      <td>2.553678</td>\n",
       "    </tr>\n",
       "    <tr>\n",
       "      <th>75%</th>\n",
       "      <td>3.352393</td>\n",
       "    </tr>\n",
       "    <tr>\n",
       "      <th>max</th>\n",
       "      <td>9.080687</td>\n",
       "    </tr>\n",
       "  </tbody>\n",
       "</table>\n",
       "</div>"
      ],
      "text/plain": [
       "             target\n",
       "count  52913.000000\n",
       "mean       2.519580\n",
       "std        1.193069\n",
       "min        0.000000\n",
       "25%        1.663498\n",
       "50%        2.553678\n",
       "75%        3.352393\n",
       "max        9.080687"
      ]
     },
     "execution_count": 62,
     "metadata": {},
     "output_type": "execute_result"
    }
   ],
   "source": [
    "myres.describe()"
   ]
  },
  {
   "cell_type": "code",
   "execution_count": 63,
   "metadata": {
    "collapsed": false
   },
   "outputs": [
    {
     "data": {
      "text/html": [
       "<div>\n",
       "<style>\n",
       "    .dataframe thead tr:only-child th {\n",
       "        text-align: right;\n",
       "    }\n",
       "\n",
       "    .dataframe thead th {\n",
       "        text-align: left;\n",
       "    }\n",
       "\n",
       "    .dataframe tbody tr th {\n",
       "        vertical-align: top;\n",
       "    }\n",
       "</style>\n",
       "<table border=\"1\" class=\"dataframe\">\n",
       "  <thead>\n",
       "    <tr style=\"text-align: right;\">\n",
       "      <th></th>\n",
       "      <th>target</th>\n",
       "    </tr>\n",
       "  </thead>\n",
       "  <tbody>\n",
       "    <tr>\n",
       "      <th>count</th>\n",
       "      <td>52913.000000</td>\n",
       "    </tr>\n",
       "    <tr>\n",
       "      <th>mean</th>\n",
       "      <td>2.519580</td>\n",
       "    </tr>\n",
       "    <tr>\n",
       "      <th>std</th>\n",
       "      <td>1.193069</td>\n",
       "    </tr>\n",
       "    <tr>\n",
       "      <th>min</th>\n",
       "      <td>0.000000</td>\n",
       "    </tr>\n",
       "    <tr>\n",
       "      <th>25%</th>\n",
       "      <td>1.663498</td>\n",
       "    </tr>\n",
       "    <tr>\n",
       "      <th>50%</th>\n",
       "      <td>2.553678</td>\n",
       "    </tr>\n",
       "    <tr>\n",
       "      <th>75%</th>\n",
       "      <td>3.352393</td>\n",
       "    </tr>\n",
       "    <tr>\n",
       "      <th>max</th>\n",
       "      <td>9.080687</td>\n",
       "    </tr>\n",
       "  </tbody>\n",
       "</table>\n",
       "</div>"
      ],
      "text/plain": [
       "             target\n",
       "count  52913.000000\n",
       "mean       2.519580\n",
       "std        1.193069\n",
       "min        0.000000\n",
       "25%        1.663498\n",
       "50%        2.553678\n",
       "75%        3.352393\n",
       "max        9.080687"
      ]
     },
     "execution_count": 63,
     "metadata": {},
     "output_type": "execute_result"
    }
   ],
   "source": [
    "your_submission15.describe()"
   ]
  },
  {
   "cell_type": "code",
   "execution_count": 81,
   "metadata": {
    "collapsed": true
   },
   "outputs": [],
   "source": [
    "myres2 = your_submission15.copy()\n",
    "myres2.target += 0.3"
   ]
  },
  {
   "cell_type": "code",
   "execution_count": 82,
   "metadata": {
    "collapsed": false
   },
   "outputs": [
    {
     "data": {
      "text/html": [
       "<div>\n",
       "<style>\n",
       "    .dataframe thead tr:only-child th {\n",
       "        text-align: right;\n",
       "    }\n",
       "\n",
       "    .dataframe thead th {\n",
       "        text-align: left;\n",
       "    }\n",
       "\n",
       "    .dataframe tbody tr th {\n",
       "        vertical-align: top;\n",
       "    }\n",
       "</style>\n",
       "<table border=\"1\" class=\"dataframe\">\n",
       "  <thead>\n",
       "    <tr style=\"text-align: right;\">\n",
       "      <th></th>\n",
       "      <th>target</th>\n",
       "    </tr>\n",
       "  </thead>\n",
       "  <tbody>\n",
       "    <tr>\n",
       "      <th>count</th>\n",
       "      <td>52913.000000</td>\n",
       "    </tr>\n",
       "    <tr>\n",
       "      <th>mean</th>\n",
       "      <td>2.819580</td>\n",
       "    </tr>\n",
       "    <tr>\n",
       "      <th>std</th>\n",
       "      <td>1.193069</td>\n",
       "    </tr>\n",
       "    <tr>\n",
       "      <th>min</th>\n",
       "      <td>0.300000</td>\n",
       "    </tr>\n",
       "    <tr>\n",
       "      <th>25%</th>\n",
       "      <td>1.963498</td>\n",
       "    </tr>\n",
       "    <tr>\n",
       "      <th>50%</th>\n",
       "      <td>2.853678</td>\n",
       "    </tr>\n",
       "    <tr>\n",
       "      <th>75%</th>\n",
       "      <td>3.652393</td>\n",
       "    </tr>\n",
       "    <tr>\n",
       "      <th>max</th>\n",
       "      <td>9.380687</td>\n",
       "    </tr>\n",
       "  </tbody>\n",
       "</table>\n",
       "</div>"
      ],
      "text/plain": [
       "             target\n",
       "count  52913.000000\n",
       "mean       2.819580\n",
       "std        1.193069\n",
       "min        0.300000\n",
       "25%        1.963498\n",
       "50%        2.853678\n",
       "75%        3.652393\n",
       "max        9.380687"
      ]
     },
     "execution_count": 82,
     "metadata": {},
     "output_type": "execute_result"
    }
   ],
   "source": [
    "myres2.describe()"
   ]
  },
  {
   "cell_type": "code",
   "execution_count": 91,
   "metadata": {
    "collapsed": false
   },
   "outputs": [
    {
     "data": {
      "text/plain": [
       "(             target\n",
       " count  52913.000000\n",
       " mean       2.819580\n",
       " std        1.193069\n",
       " min        0.300000\n",
       " 25%        1.963498\n",
       " 50%        2.853678\n",
       " 75%        3.652393\n",
       " max        9.380687,              target\n",
       " count  52913.000000\n",
       " mean       2.519580\n",
       " std        1.193069\n",
       " min        0.000000\n",
       " 25%        1.663498\n",
       " 50%        2.553678\n",
       " 75%        3.352393\n",
       " max        9.080687)"
      ]
     },
     "execution_count": 91,
     "metadata": {},
     "output_type": "execute_result"
    }
   ],
   "source": [
    "myres2.describe(), your_submission15.describe()"
   ]
  },
  {
   "cell_type": "code",
   "execution_count": 90,
   "metadata": {
    "collapsed": false
   },
   "outputs": [
    {
     "data": {
      "text/html": [
       "<div>\n",
       "<style>\n",
       "    .dataframe thead tr:only-child th {\n",
       "        text-align: right;\n",
       "    }\n",
       "\n",
       "    .dataframe thead th {\n",
       "        text-align: left;\n",
       "    }\n",
       "\n",
       "    .dataframe tbody tr th {\n",
       "        vertical-align: top;\n",
       "    }\n",
       "</style>\n",
       "<table border=\"1\" class=\"dataframe\">\n",
       "  <thead>\n",
       "    <tr style=\"text-align: right;\">\n",
       "      <th></th>\n",
       "      <th>target</th>\n",
       "    </tr>\n",
       "  </thead>\n",
       "  <tbody>\n",
       "    <tr>\n",
       "      <th>count</th>\n",
       "      <td>52913.000000</td>\n",
       "    </tr>\n",
       "    <tr>\n",
       "      <th>mean</th>\n",
       "      <td>2.622841</td>\n",
       "    </tr>\n",
       "    <tr>\n",
       "      <th>std</th>\n",
       "      <td>1.190220</td>\n",
       "    </tr>\n",
       "    <tr>\n",
       "      <th>min</th>\n",
       "      <td>0.000000</td>\n",
       "    </tr>\n",
       "    <tr>\n",
       "      <th>25%</th>\n",
       "      <td>1.790247</td>\n",
       "    </tr>\n",
       "    <tr>\n",
       "      <th>50%</th>\n",
       "      <td>2.643789</td>\n",
       "    </tr>\n",
       "    <tr>\n",
       "      <th>75%</th>\n",
       "      <td>3.422678</td>\n",
       "    </tr>\n",
       "    <tr>\n",
       "      <th>max</th>\n",
       "      <td>9.080687</td>\n",
       "    </tr>\n",
       "  </tbody>\n",
       "</table>\n",
       "</div>"
      ],
      "text/plain": [
       "             target\n",
       "count  52913.000000\n",
       "mean       2.622841\n",
       "std        1.190220\n",
       "min        0.000000\n",
       "25%        1.790247\n",
       "50%        2.643789\n",
       "75%        3.422678\n",
       "max        9.080687"
      ]
     },
     "execution_count": 90,
     "metadata": {},
     "output_type": "execute_result"
    }
   ],
   "source": [
    "your_submission23.describe()"
   ]
  },
  {
   "cell_type": "code",
   "execution_count": 84,
   "metadata": {
    "collapsed": true
   },
   "outputs": [],
   "source": [
    "myres2.to_csv('D:/submission34.csv')"
   ]
  },
  {
   "cell_type": "code",
   "execution_count": 156,
   "metadata": {
    "collapsed": false
   },
   "outputs": [
    {
     "name": "stdout",
     "output_type": "stream",
     "text": [
      "120000\n",
      "0.188446434658\n"
     ]
    }
   ],
   "source": [
    "newpred = MiniCvScriptPassesWar('D:/habr_mymodel_p92l18b29train_1.txt', 'D:/habr_mymodel_p92l18b29test_1.txt', train_target)"
   ]
  },
  {
   "cell_type": "code",
   "execution_count": 157,
   "metadata": {
    "collapsed": true
   },
   "outputs": [],
   "source": [
    "your_submission35 = sample_sub.copy()\n",
    "your_submission35['target'] = newpred"
   ]
  },
  {
   "cell_type": "code",
   "execution_count": 159,
   "metadata": {
    "collapsed": false
   },
   "outputs": [
    {
     "data": {
      "text/html": [
       "<div>\n",
       "<style>\n",
       "    .dataframe thead tr:only-child th {\n",
       "        text-align: right;\n",
       "    }\n",
       "\n",
       "    .dataframe thead th {\n",
       "        text-align: left;\n",
       "    }\n",
       "\n",
       "    .dataframe tbody tr th {\n",
       "        vertical-align: top;\n",
       "    }\n",
       "</style>\n",
       "<table border=\"1\" class=\"dataframe\">\n",
       "  <thead>\n",
       "    <tr style=\"text-align: right;\">\n",
       "      <th></th>\n",
       "      <th>target</th>\n",
       "    </tr>\n",
       "  </thead>\n",
       "  <tbody>\n",
       "    <tr>\n",
       "      <th>count</th>\n",
       "      <td>52913.000000</td>\n",
       "    </tr>\n",
       "    <tr>\n",
       "      <th>mean</th>\n",
       "      <td>2.663775</td>\n",
       "    </tr>\n",
       "    <tr>\n",
       "      <th>std</th>\n",
       "      <td>1.260969</td>\n",
       "    </tr>\n",
       "    <tr>\n",
       "      <th>min</th>\n",
       "      <td>0.000000</td>\n",
       "    </tr>\n",
       "    <tr>\n",
       "      <th>25%</th>\n",
       "      <td>1.754152</td>\n",
       "    </tr>\n",
       "    <tr>\n",
       "      <th>50%</th>\n",
       "      <td>2.687346</td>\n",
       "    </tr>\n",
       "    <tr>\n",
       "      <th>75%</th>\n",
       "      <td>3.574576</td>\n",
       "    </tr>\n",
       "    <tr>\n",
       "      <th>max</th>\n",
       "      <td>8.091794</td>\n",
       "    </tr>\n",
       "  </tbody>\n",
       "</table>\n",
       "</div>"
      ],
      "text/plain": [
       "             target\n",
       "count  52913.000000\n",
       "mean       2.663775\n",
       "std        1.260969\n",
       "min        0.000000\n",
       "25%        1.754152\n",
       "50%        2.687346\n",
       "75%        3.574576\n",
       "max        8.091794"
      ]
     },
     "execution_count": 159,
     "metadata": {},
     "output_type": "execute_result"
    }
   ],
   "source": [
    "your_submission35.describe()"
   ]
  },
  {
   "cell_type": "code",
   "execution_count": 160,
   "metadata": {
    "collapsed": false
   },
   "outputs": [
    {
     "name": "stdout",
     "output_type": "stream",
     "text": [
      "120000\n",
      "0.187109807108\n"
     ]
    }
   ],
   "source": [
    "newpred = MiniCvScriptPassesWar('D:/habr_mymodel_p85l3b29train_2.txt', 'D:/habr_mymodel_p85l3b29test_2.txt', train_target)"
   ]
  },
  {
   "cell_type": "code",
   "execution_count": 161,
   "metadata": {
    "collapsed": true
   },
   "outputs": [],
   "source": [
    "your_submission36 = sample_sub.copy()\n",
    "your_submission36['target'] = newpred"
   ]
  },
  {
   "cell_type": "code",
   "execution_count": 162,
   "metadata": {
    "collapsed": false
   },
   "outputs": [
    {
     "data": {
      "text/html": [
       "<div>\n",
       "<style>\n",
       "    .dataframe thead tr:only-child th {\n",
       "        text-align: right;\n",
       "    }\n",
       "\n",
       "    .dataframe thead th {\n",
       "        text-align: left;\n",
       "    }\n",
       "\n",
       "    .dataframe tbody tr th {\n",
       "        vertical-align: top;\n",
       "    }\n",
       "</style>\n",
       "<table border=\"1\" class=\"dataframe\">\n",
       "  <thead>\n",
       "    <tr style=\"text-align: right;\">\n",
       "      <th></th>\n",
       "      <th>target</th>\n",
       "    </tr>\n",
       "  </thead>\n",
       "  <tbody>\n",
       "    <tr>\n",
       "      <th>count</th>\n",
       "      <td>52913.000000</td>\n",
       "    </tr>\n",
       "    <tr>\n",
       "      <th>mean</th>\n",
       "      <td>2.653217</td>\n",
       "    </tr>\n",
       "    <tr>\n",
       "      <th>std</th>\n",
       "      <td>1.227022</td>\n",
       "    </tr>\n",
       "    <tr>\n",
       "      <th>min</th>\n",
       "      <td>0.000000</td>\n",
       "    </tr>\n",
       "    <tr>\n",
       "      <th>25%</th>\n",
       "      <td>1.782784</td>\n",
       "    </tr>\n",
       "    <tr>\n",
       "      <th>50%</th>\n",
       "      <td>2.656468</td>\n",
       "    </tr>\n",
       "    <tr>\n",
       "      <th>75%</th>\n",
       "      <td>3.571192</td>\n",
       "    </tr>\n",
       "    <tr>\n",
       "      <th>max</th>\n",
       "      <td>7.819062</td>\n",
       "    </tr>\n",
       "  </tbody>\n",
       "</table>\n",
       "</div>"
      ],
      "text/plain": [
       "             target\n",
       "count  52913.000000\n",
       "mean       2.653217\n",
       "std        1.227022\n",
       "min        0.000000\n",
       "25%        1.782784\n",
       "50%        2.656468\n",
       "75%        3.571192\n",
       "max        7.819062"
      ]
     },
     "execution_count": 162,
     "metadata": {},
     "output_type": "execute_result"
    }
   ],
   "source": [
    "your_submission36.describe()"
   ]
  },
  {
   "cell_type": "code",
   "execution_count": 164,
   "metadata": {
    "collapsed": false
   },
   "outputs": [],
   "source": [
    "your_submission35.describe()\n",
    "your_submission35.to_csv('submission100.csv')"
   ]
  },
  {
   "cell_type": "code",
   "execution_count": 166,
   "metadata": {
    "collapsed": false
   },
   "outputs": [
    {
     "name": "stdout",
     "output_type": "stream",
     "text": [
      "             target\n",
      "count  52913.000000\n",
      "mean       2.663775\n",
      "std        1.260969\n",
      "min        0.000000\n",
      "25%        1.754152\n",
      "50%        2.687346\n",
      "75%        3.574576\n",
      "max        8.091794\n"
     ]
    }
   ],
   "source": [
    "print(your_submission35.describe())\n",
    "your_submission35.to_csv('D:/your_submissionlast.csv')"
   ]
  },
  {
   "cell_type": "code",
   "execution_count": 167,
   "metadata": {
    "collapsed": false
   },
   "outputs": [
    {
     "name": "stdout",
     "output_type": "stream",
     "text": [
      "             target\n",
      "count  52913.000000\n",
      "mean       2.653217\n",
      "std        1.227022\n",
      "min        0.000000\n",
      "25%        1.782784\n",
      "50%        2.656468\n",
      "75%        3.571192\n",
      "max        7.819062\n"
     ]
    }
   ],
   "source": [
    "print(your_submission36.describe())\n",
    "your_submission36.to_csv('D:/your_submissionlast2.csv')"
   ]
  },
  {
   "cell_type": "code",
   "execution_count": 179,
   "metadata": {
    "collapsed": false
   },
   "outputs": [
    {
     "name": "stdout",
     "output_type": "stream",
     "text": [
      "120000\n",
      "0.213492474908\n"
     ]
    }
   ],
   "source": [
    "newpred = MiniCvScriptPassesWar('D:/habr_mymodel_p83l35b29train_2.txt', 'D:/habr_mymodel_p83l35b29test_2.txt', train_target)\n"
   ]
  },
  {
   "cell_type": "code",
   "execution_count": 180,
   "metadata": {
    "collapsed": false
   },
   "outputs": [
    {
     "data": {
      "text/html": [
       "<div>\n",
       "<style>\n",
       "    .dataframe thead tr:only-child th {\n",
       "        text-align: right;\n",
       "    }\n",
       "\n",
       "    .dataframe thead th {\n",
       "        text-align: left;\n",
       "    }\n",
       "\n",
       "    .dataframe tbody tr th {\n",
       "        vertical-align: top;\n",
       "    }\n",
       "</style>\n",
       "<table border=\"1\" class=\"dataframe\">\n",
       "  <thead>\n",
       "    <tr style=\"text-align: right;\">\n",
       "      <th></th>\n",
       "      <th>target</th>\n",
       "    </tr>\n",
       "  </thead>\n",
       "  <tbody>\n",
       "    <tr>\n",
       "      <th>count</th>\n",
       "      <td>52913.000000</td>\n",
       "    </tr>\n",
       "    <tr>\n",
       "      <th>mean</th>\n",
       "      <td>2.620701</td>\n",
       "    </tr>\n",
       "    <tr>\n",
       "      <th>std</th>\n",
       "      <td>1.224971</td>\n",
       "    </tr>\n",
       "    <tr>\n",
       "      <th>min</th>\n",
       "      <td>0.000000</td>\n",
       "    </tr>\n",
       "    <tr>\n",
       "      <th>25%</th>\n",
       "      <td>1.748191</td>\n",
       "    </tr>\n",
       "    <tr>\n",
       "      <th>50%</th>\n",
       "      <td>2.622624</td>\n",
       "    </tr>\n",
       "    <tr>\n",
       "      <th>75%</th>\n",
       "      <td>3.540504</td>\n",
       "    </tr>\n",
       "    <tr>\n",
       "      <th>max</th>\n",
       "      <td>7.701097</td>\n",
       "    </tr>\n",
       "  </tbody>\n",
       "</table>\n",
       "</div>"
      ],
      "text/plain": [
       "             target\n",
       "count  52913.000000\n",
       "mean       2.620701\n",
       "std        1.224971\n",
       "min        0.000000\n",
       "25%        1.748191\n",
       "50%        2.622624\n",
       "75%        3.540504\n",
       "max        7.701097"
      ]
     },
     "execution_count": 180,
     "metadata": {},
     "output_type": "execute_result"
    }
   ],
   "source": [
    "your_submission37 = sample_sub.copy()\n",
    "your_submission37['target'] = newpred\n",
    "your_submission37.describe()"
   ]
  },
  {
   "cell_type": "code",
   "execution_count": 181,
   "metadata": {
    "collapsed": true
   },
   "outputs": [],
   "source": [
    "your_submission37.to_csv('D:/your_submission239.csv')"
   ]
  },
  {
   "cell_type": "markdown",
   "metadata": {},
   "source": [
    "myres2 = sample_sub"
   ]
  }
 ],
 "metadata": {
  "kernelspec": {
   "display_name": "Python [default]",
   "language": "python",
   "name": "python3"
  },
  "language_info": {
   "codemirror_mode": {
    "name": "ipython",
    "version": 3
   },
   "file_extension": ".py",
   "mimetype": "text/x-python",
   "name": "python",
   "nbconvert_exporter": "python",
   "pygments_lexer": "ipython3",
   "version": "3.5.2"
  }
 },
 "nbformat": 4,
 "nbformat_minor": 2
}
