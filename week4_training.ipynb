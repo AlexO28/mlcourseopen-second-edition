{
 "cells": [
  {
   "cell_type": "markdown",
   "metadata": {},
   "source": [
    "<center>\n",
    "<img src=\"https://habrastorage.org/web/677/8e1/337/6778e1337c3d4b159d7e99df94227cb2.jpg\"/>\n",
    "## Специализация \"Машинное обучение и анализ данных\"\n",
    "</center>\n",
    "<center>Автор материала: программист-исследователь Mail.ru Group, старший преподаватель Факультета Компьютерных Наук ВШЭ Юрий Кашницкий"
   ]
  },
  {
   "cell_type": "markdown",
   "metadata": {},
   "source": [
    "# <center> Capstone проект №1. Идентификация пользователей по посещенным веб-страницам\n",
    "<img src='http://i.istockimg.com/file_thumbview_approve/21546327/5/stock-illustration-21546327-identification-de-l-utilisateur.jpg'>\n",
    "\n",
    "# <center>Неделя 4.  Сравнение алгоритмов классификации\n",
    "\n",
    "Теперь мы наконец подойдем к обучению моделей классификации, сравним на кросс-валидации несколько алгоритмов, разберемся, какие параметры длины сессии (*session_length* и *window_size*) лучше использовать. Также для выбранного алгоритма построим кривые валидации (как качество классификации зависит от одного из гиперпараметров алгоритма) и кривые обучения (как качество классификации зависит от объема выборки).\n",
    "\n",
    "**План 4 недели:**\n",
    "- Часть 1. Сравнение нескольких алгоритмов на сессиях из 10 сайтов\n",
    "- Часть 2. Выбор параметров – длины сессии и ширины окна\n",
    "- Часть 3. Идентификация  конкретного пользователя и кривые обучения\n",
    " \n",
    "\n",
    "\n",
    "**В этой части проекта Вам могут быть полезны видеозаписи следующих лекций курса \"Обучение на размеченных данных\":**\n",
    "   - [Линейная классификация](https://www.coursera.org/learn/supervised-learning/lecture/jqLcO/linieinaia-klassifikatsiia)\n",
    "   - [Сравнение алгоритмов и выбор гиперпараметров](https://www.coursera.org/learn/supervised-learning/lecture/aF79U/sravnieniie-alghoritmov-i-vybor-ghipierparamietrov)\n",
    "   - [Кросс-валидация. Sklearn.cross_validation](https://www.coursera.org/learn/supervised-learning/lecture/XbHEk/kross-validatsiia-sklearn-cross-validation)\n",
    "   - [Линейные модели. Sklearn.linear_model. Классификация](https://www.coursera.org/learn/supervised-learning/lecture/EBg9t/linieinyie-modieli-sklearn-linear-model-klassifikatsiia)\n",
    "   - и многие другие\n"
   ]
  },
  {
   "cell_type": "markdown",
   "metadata": {},
   "source": [
    "<font color='red'>**Задание:**</font> заполните код в этой тетрадке и выберите ответы в [веб-форме](https://docs.google.com/forms/d/12VB7kmzDoSVzSpQNaJp0tR-2t8K8PynQopP3dypf7i4). "
   ]
  },
  {
   "cell_type": "code",
   "execution_count": 1,
   "metadata": {
    "collapsed": true
   },
   "outputs": [],
   "source": [
    "from __future__ import division, print_function\n",
    "# отключим всякие предупреждения Anaconda\n",
    "import warnings\n",
    "warnings.filterwarnings('ignore')\n",
    "from time import time\n",
    "import itertools\n",
    "import os\n",
    "import numpy as np\n",
    "import pandas as pd\n",
    "import seaborn as sns\n",
    "%matplotlib inline\n",
    "from matplotlib import pyplot as plt\n",
    "import pickle\n",
    "from scipy.sparse import csr_matrix\n",
    "from sklearn.model_selection import train_test_split, cross_val_score, StratifiedKFold, GridSearchCV\n",
    "from sklearn.metrics import accuracy_score, f1_score"
   ]
  },
  {
   "cell_type": "code",
   "execution_count": 2,
   "metadata": {
    "collapsed": true
   },
   "outputs": [],
   "source": [
    "# Поменяйте на свой путь к данным\n",
    "PATH_TO_DATA = '~/capstone_user_identification'"
   ]
  },
  {
   "cell_type": "markdown",
   "metadata": {},
   "source": [
    "## Часть 1. Сравнение нескольких алгоритмов на сессиях из 10 сайтов"
   ]
  },
  {
   "cell_type": "markdown",
   "metadata": {},
   "source": [
    "**Загрузим сериализованные ранее объекты *X_sparse_10users* и *y_10users*, соответствующие обучающей выборке для 10 пользователей.**"
   ]
  },
  {
   "cell_type": "code",
   "execution_count": 3,
   "metadata": {
    "collapsed": false
   },
   "outputs": [],
   "source": [
    "rrr = pickle.load(open('save3.p', \"rb\"))"
   ]
  },
  {
   "cell_type": "code",
   "execution_count": 4,
   "metadata": {
    "collapsed": false
   },
   "outputs": [],
   "source": [
    "y_10users = pickle.load(open('saveuser3.p', \"rb\"))\n",
    "X_sparse_10users = rrr[:, range(1, 4914)]"
   ]
  },
  {
   "cell_type": "code",
   "execution_count": 5,
   "metadata": {
    "collapsed": false
   },
   "outputs": [
    {
     "data": {
      "text/plain": [
       "(14061, 4913)"
      ]
     },
     "execution_count": 5,
     "metadata": {},
     "output_type": "execute_result"
    }
   ],
   "source": [
    "len(y_10users), X_sparse_10users.shape[1]"
   ]
  },
  {
   "cell_type": "markdown",
   "metadata": {},
   "source": [
    "**Здесь более 14 тысяч сессий и почти 5 тысяч уникальных посещенных сайтов.**"
   ]
  },
  {
   "cell_type": "code",
   "execution_count": 6,
   "metadata": {
    "collapsed": false
   },
   "outputs": [
    {
     "data": {
      "text/plain": [
       "(14061, 4913)"
      ]
     },
     "execution_count": 6,
     "metadata": {},
     "output_type": "execute_result"
    }
   ],
   "source": [
    "X_sparse_10users.shape"
   ]
  },
  {
   "cell_type": "markdown",
   "metadata": {},
   "source": [
    "**Разобьем выборку на 2 части. На одной будем проводить кросс-валидацию, на второй – оценивать модель, обученную после кросс-валидации.**"
   ]
  },
  {
   "cell_type": "code",
   "execution_count": 7,
   "metadata": {
    "collapsed": true
   },
   "outputs": [],
   "source": [
    "X_train, X_valid, y_train, y_valid = train_test_split(X_sparse_10users, y_10users, \n",
    "                                                      test_size=0.3, \n",
    "                                                     random_state=17, stratify=y_10users)"
   ]
  },
  {
   "cell_type": "code",
   "execution_count": 8,
   "metadata": {
    "collapsed": false
   },
   "outputs": [],
   "source": [
    "y_train.reset_index(drop = True, inplace = True)\n",
    "y_valid.reset_index(drop = True, inplace = True)"
   ]
  },
  {
   "cell_type": "code",
   "execution_count": 9,
   "metadata": {
    "collapsed": false
   },
   "outputs": [
    {
     "name": "stdout",
     "output_type": "stream",
     "text": [
      "  (0, 7)\t7\n",
      "  (0, 0)\t3\n"
     ]
    }
   ],
   "source": [
    "print(X_train[6,:])"
   ]
  },
  {
   "cell_type": "markdown",
   "metadata": {},
   "source": [
    "**Зададим заранее тип кросс-валидации: 3-кратная, с перемешиванием, параметр random_state=17 – для воспроизводимости.**"
   ]
  },
  {
   "cell_type": "code",
   "execution_count": 10,
   "metadata": {
    "collapsed": true
   },
   "outputs": [],
   "source": [
    "skf = StratifiedKFold(n_splits=3, shuffle=True, random_state=17)"
   ]
  },
  {
   "cell_type": "markdown",
   "metadata": {},
   "source": [
    "**Вспомогательная функция для отрисовки кривых валидации после запуска GridSearchCV (или RandomizedCV).**"
   ]
  },
  {
   "cell_type": "code",
   "execution_count": 11,
   "metadata": {
    "collapsed": true
   },
   "outputs": [],
   "source": [
    "def plot_validation_curves(param_values, grid_cv_results_):\n",
    "    train_mu, train_std = grid_cv_results_['mean_train_score'], grid_cv_results_['std_train_score']\n",
    "    valid_mu, valid_std = grid_cv_results_['mean_test_score'], grid_cv_results_['std_test_score']\n",
    "    train_line = plt.plot(param_values, train_mu, '-', label='train', color='green')\n",
    "    valid_line = plt.plot(param_values, valid_mu, '-', label='test', color='red')\n",
    "    plt.fill_between(param_values, train_mu - train_std, train_mu + train_std, edgecolor='none',\n",
    "                     facecolor=train_line[0].get_color(), alpha=0.2)\n",
    "    plt.fill_between(param_values, valid_mu - valid_std, valid_mu + valid_std, edgecolor='none',\n",
    "                     facecolor=valid_line[0].get_color(), alpha=0.2)\n",
    "    plt.legend()"
   ]
  },
  {
   "cell_type": "markdown",
   "metadata": {},
   "source": [
    "**1. Обучите `KNeighborsClassifier` со 100 ближайшими соседями (остальные параметры оставьте по умолчанию, только `n_jobs`=-1 для распараллеливания) и посмотрите на долю правильных ответов на 3-кратной кросс-валидации (ради воспроизводимости используйте для этого объект `StratifiedKFold` `skf`) по выборке `(X_train, y_train)` и отдельно на выборке `(X_valid, y_valid)`.**"
   ]
  },
  {
   "cell_type": "code",
   "execution_count": 12,
   "metadata": {
    "collapsed": true
   },
   "outputs": [],
   "source": [
    "from sklearn.neighbors import KNeighborsClassifier"
   ]
  },
  {
   "cell_type": "code",
   "execution_count": 13,
   "metadata": {
    "collapsed": false
   },
   "outputs": [
    {
     "data": {
      "text/plain": [
       "0.56471888700633621"
      ]
     },
     "execution_count": 13,
     "metadata": {},
     "output_type": "execute_result"
    }
   ],
   "source": [
    "knn = KNeighborsClassifier(n_jobs=-1, n_neighbors=100)\n",
    "cross_val_score(knn,\n",
    "                X=X_train,\n",
    "                y=y_train,\n",
    "                cv=skf).mean()"
   ]
  },
  {
   "cell_type": "code",
   "execution_count": 14,
   "metadata": {
    "collapsed": false
   },
   "outputs": [
    {
     "ename": "NotFittedError",
     "evalue": "Must fit neighbors before querying.",
     "output_type": "error",
     "traceback": [
      "\u001b[0;31m---------------------------------------------------------------------------\u001b[0m",
      "\u001b[0;31mNotFittedError\u001b[0m                            Traceback (most recent call last)",
      "\u001b[0;32m<ipython-input-14-851038211a45>\u001b[0m in \u001b[0;36m<module>\u001b[0;34m()\u001b[0m\n\u001b[0;32m----> 1\u001b[0;31m \u001b[0mah\u001b[0m\u001b[1;33m=\u001b[0m\u001b[0mknn\u001b[0m\u001b[1;33m.\u001b[0m\u001b[0mpredict\u001b[0m\u001b[1;33m(\u001b[0m\u001b[0mX_valid\u001b[0m\u001b[1;33m)\u001b[0m\u001b[1;33m\u001b[0m\u001b[0m\n\u001b[0m",
      "\u001b[0;32mC:\\Users\\user\\Anaconda3\\lib\\site-packages\\sklearn\\neighbors\\classification.py\u001b[0m in \u001b[0;36mpredict\u001b[0;34m(self, X)\u001b[0m\n\u001b[1;32m    143\u001b[0m         \u001b[0mX\u001b[0m \u001b[1;33m=\u001b[0m \u001b[0mcheck_array\u001b[0m\u001b[1;33m(\u001b[0m\u001b[0mX\u001b[0m\u001b[1;33m,\u001b[0m \u001b[0maccept_sparse\u001b[0m\u001b[1;33m=\u001b[0m\u001b[1;34m'csr'\u001b[0m\u001b[1;33m)\u001b[0m\u001b[1;33m\u001b[0m\u001b[0m\n\u001b[1;32m    144\u001b[0m \u001b[1;33m\u001b[0m\u001b[0m\n\u001b[0;32m--> 145\u001b[0;31m         \u001b[0mneigh_dist\u001b[0m\u001b[1;33m,\u001b[0m \u001b[0mneigh_ind\u001b[0m \u001b[1;33m=\u001b[0m \u001b[0mself\u001b[0m\u001b[1;33m.\u001b[0m\u001b[0mkneighbors\u001b[0m\u001b[1;33m(\u001b[0m\u001b[0mX\u001b[0m\u001b[1;33m)\u001b[0m\u001b[1;33m\u001b[0m\u001b[0m\n\u001b[0m\u001b[1;32m    146\u001b[0m \u001b[1;33m\u001b[0m\u001b[0m\n\u001b[1;32m    147\u001b[0m         \u001b[0mclasses_\u001b[0m \u001b[1;33m=\u001b[0m \u001b[0mself\u001b[0m\u001b[1;33m.\u001b[0m\u001b[0mclasses_\u001b[0m\u001b[1;33m\u001b[0m\u001b[0m\n",
      "\u001b[0;32mC:\\Users\\user\\Anaconda3\\lib\\site-packages\\sklearn\\neighbors\\base.py\u001b[0m in \u001b[0;36mkneighbors\u001b[0;34m(self, X, n_neighbors, return_distance)\u001b[0m\n\u001b[1;32m    321\u001b[0m         \"\"\"\n\u001b[1;32m    322\u001b[0m         \u001b[1;32mif\u001b[0m \u001b[0mself\u001b[0m\u001b[1;33m.\u001b[0m\u001b[0m_fit_method\u001b[0m \u001b[1;32mis\u001b[0m \u001b[1;32mNone\u001b[0m\u001b[1;33m:\u001b[0m\u001b[1;33m\u001b[0m\u001b[0m\n\u001b[0;32m--> 323\u001b[0;31m             \u001b[1;32mraise\u001b[0m \u001b[0mNotFittedError\u001b[0m\u001b[1;33m(\u001b[0m\u001b[1;34m\"Must fit neighbors before querying.\"\u001b[0m\u001b[1;33m)\u001b[0m\u001b[1;33m\u001b[0m\u001b[0m\n\u001b[0m\u001b[1;32m    324\u001b[0m \u001b[1;33m\u001b[0m\u001b[0m\n\u001b[1;32m    325\u001b[0m         \u001b[1;32mif\u001b[0m \u001b[0mn_neighbors\u001b[0m \u001b[1;32mis\u001b[0m \u001b[1;32mNone\u001b[0m\u001b[1;33m:\u001b[0m\u001b[1;33m\u001b[0m\u001b[0m\n",
      "\u001b[0;31mNotFittedError\u001b[0m: Must fit neighbors before querying."
     ]
    }
   ],
   "source": [
    "ah=knn.predict(X_valid)"
   ]
  },
  {
   "cell_type": "code",
   "execution_count": 14,
   "metadata": {
    "collapsed": false
   },
   "outputs": [],
   "source": [
    "knn = KNeighborsClassifier(n_jobs=-1)\n",
    "sss = GridSearchCV(knn, {'n_neighbors':[100]}, cv = skf)"
   ]
  },
  {
   "cell_type": "code",
   "execution_count": 15,
   "metadata": {
    "collapsed": false
   },
   "outputs": [
    {
     "data": {
      "text/plain": [
       "GridSearchCV(cv=StratifiedKFold(n_splits=3, random_state=17, shuffle=True),\n",
       "       error_score='raise',\n",
       "       estimator=KNeighborsClassifier(algorithm='auto', leaf_size=30, metric='minkowski',\n",
       "           metric_params=None, n_jobs=-1, n_neighbors=5, p=2,\n",
       "           weights='uniform'),\n",
       "       fit_params=None, iid=True, n_jobs=1,\n",
       "       param_grid={'n_neighbors': [100]}, pre_dispatch='2*n_jobs',\n",
       "       refit=True, return_train_score='warn', scoring=None, verbose=0)"
      ]
     },
     "execution_count": 15,
     "metadata": {},
     "output_type": "execute_result"
    }
   ],
   "source": [
    "sss.fit(X_train, y_train)"
   ]
  },
  {
   "cell_type": "code",
   "execution_count": 16,
   "metadata": {
    "collapsed": false
   },
   "outputs": [
    {
     "data": {
      "text/plain": [
       "0.56472261735419627"
      ]
     },
     "execution_count": 16,
     "metadata": {},
     "output_type": "execute_result"
    }
   ],
   "source": [
    "sss.best_score_"
   ]
  },
  {
   "cell_type": "code",
   "execution_count": 17,
   "metadata": {
    "collapsed": false
   },
   "outputs": [],
   "source": [
    "modres1=sss.predict(X_valid)"
   ]
  },
  {
   "cell_type": "code",
   "execution_count": 18,
   "metadata": {
    "collapsed": false
   },
   "outputs": [
    {
     "data": {
      "text/plain": [
       "0.58402465039108797"
      ]
     },
     "execution_count": 18,
     "metadata": {},
     "output_type": "execute_result"
    }
   ],
   "source": [
    "from sklearn.metrics import accuracy_score\n",
    "accuracy_score(modres1, y_valid)"
   ]
  },
  {
   "cell_type": "code",
   "execution_count": 21,
   "metadata": {
    "collapsed": false
   },
   "outputs": [
    {
     "data": {
      "text/plain": [
       "'0.19.1'"
      ]
     },
     "execution_count": 21,
     "metadata": {},
     "output_type": "execute_result"
    }
   ],
   "source": [
    "import sklearn\n",
    "sklearn.__version__"
   ]
  },
  {
   "cell_type": "markdown",
   "metadata": {},
   "source": [
    "**<font color='red'>Вопрос 1. </font> Посчитайте доли правильных ответов для KNeighborsClassifier на кросс-валидации и отложенной выборке. Округлите каждое до 3 знаков после запятой и введите через пробел.**"
   ]
  },
  {
   "cell_type": "code",
   "execution_count": null,
   "metadata": {
    "collapsed": true
   },
   "outputs": [],
   "source": [
    "#0.565, 0.584"
   ]
  },
  {
   "cell_type": "markdown",
   "metadata": {},
   "source": [
    "**2. Обучите случайный лес (`RandomForestClassifier`) из 100 деревьев (для воспроизводимости `random_state`=17). Посмотрите на OOB-оценку (для этого надо сразу установить `oob_score`=True) и на долю правильных ответов на выборке `(X_valid, y_valid)`. Для распараллеливания задайте `n_jobs`=-1.**"
   ]
  },
  {
   "cell_type": "code",
   "execution_count": 22,
   "metadata": {
    "collapsed": true
   },
   "outputs": [],
   "source": [
    "from sklearn.ensemble import RandomForestClassifier"
   ]
  },
  {
   "cell_type": "code",
   "execution_count": 23,
   "metadata": {
    "collapsed": false
   },
   "outputs": [
    {
     "name": "stdout",
     "output_type": "stream",
     "text": [
      "0.704109589041\n",
      "0.71175842611\n",
      "0.720036596523\n",
      "0.700594240439\n",
      "0.716900549115\n",
      "0.698659354052\n"
     ]
    }
   ],
   "source": [
    "forest = RandomForestClassifier(n_jobs=-1, random_state=17, oob_score=True, n_estimators=100)\n",
    "for train_index, test_index in skf.split(X_train, y_train):\n",
    "    #print(X_train[train_index,:])\n",
    "    #print(y_train[train_index])\n",
    "    forest.fit(X_train[train_index, :], y_train[train_index])\n",
    "    print(forest.score(X_train[test_index, :], y_train[test_index]))\n",
    "    print(forest.oob_score_)"
   ]
  },
  {
   "cell_type": "code",
   "execution_count": 24,
   "metadata": {
    "collapsed": true
   },
   "outputs": [],
   "source": [
    "forest = RandomForestClassifier(n_jobs=-1, random_state=17, oob_score=True)\n",
    "sss2 = GridSearchCV(forest, {'n_estimators':[100]}, cv = skf)"
   ]
  },
  {
   "cell_type": "code",
   "execution_count": 25,
   "metadata": {
    "collapsed": false
   },
   "outputs": [
    {
     "data": {
      "text/plain": [
       "GridSearchCV(cv=StratifiedKFold(n_splits=3, random_state=17, shuffle=True),\n",
       "       error_score='raise',\n",
       "       estimator=RandomForestClassifier(bootstrap=True, class_weight=None, criterion='gini',\n",
       "            max_depth=None, max_features='auto', max_leaf_nodes=None,\n",
       "            min_impurity_decrease=0.0, min_impurity_split=None,\n",
       "            min_samples_leaf=1, min_samples_split=2,\n",
       "            min_weight_fraction_leaf=0.0, n_estimators=10, n_jobs=-1,\n",
       "            oob_score=True, random_state=17, verbose=0, warm_start=False),\n",
       "       fit_params=None, iid=True, n_jobs=1,\n",
       "       param_grid={'n_estimators': [100]}, pre_dispatch='2*n_jobs',\n",
       "       refit=True, return_train_score='warn', scoring=None, verbose=0)"
      ]
     },
     "execution_count": 25,
     "metadata": {},
     "output_type": "execute_result"
    }
   ],
   "source": [
    "sss2.fit(X_train, y_train)"
   ]
  },
  {
   "cell_type": "code",
   "execution_count": 26,
   "metadata": {
    "collapsed": false
   },
   "outputs": [
    {
     "name": "stdout",
     "output_type": "stream",
     "text": [
      "0.732638065892\n"
     ]
    },
    {
     "data": {
      "text/plain": [
       "0.71367608209713473"
      ]
     },
     "execution_count": 26,
     "metadata": {},
     "output_type": "execute_result"
    }
   ],
   "source": [
    "modres2 = sss2.predict(X_valid)\n",
    "print(accuracy_score(modres2, y_valid))\n",
    "sss2.best_score_\n",
    "#sss2.cv_results_\n",
    "###0.704, 0.733"
   ]
  },
  {
   "cell_type": "markdown",
   "metadata": {},
   "source": [
    "**<font color='red'>Вопрос 2. </font> Посчитайте доли правильных ответов для `RandomForestClassifier` при Out-of-Bag оценке и на отложенной выборке. Округлите каждое до 3 знаков после запятой и введите через пробел.**"
   ]
  },
  {
   "cell_type": "code",
   "execution_count": 17,
   "metadata": {
    "collapsed": false
   },
   "outputs": [
    {
     "ename": "NameError",
     "evalue": "name 'write_answer_to_file' is not defined",
     "output_type": "error",
     "traceback": [
      "\u001b[0;31m---------------------------------------------------------------------------\u001b[0m",
      "\u001b[0;31mNameError\u001b[0m                                 Traceback (most recent call last)",
      "\u001b[0;32m<ipython-input-17-a428283224f1>\u001b[0m in \u001b[0;36m<module>\u001b[0;34m()\u001b[0m\n\u001b[0;32m----> 1\u001b[0;31m write_answer_to_file(''' ВАШ КОД ЗДЕСЬ ''',\n\u001b[0m\u001b[1;32m      2\u001b[0m                      'answer4_2.txt')\n",
      "\u001b[0;31mNameError\u001b[0m: name 'write_answer_to_file' is not defined"
     ]
    }
   ],
   "source": [
    "write_answer_to_file(''' ВАШ КОД ЗДЕСЬ ''',\n",
    "                     'answer4_2.txt')"
   ]
  },
  {
   "cell_type": "code",
   "execution_count": 18,
   "metadata": {
    "collapsed": false
   },
   "outputs": [
    {
     "name": "stderr",
     "output_type": "stream",
     "text": [
      "\"cat\" ­Ґ пў«пҐвбп ў­гваҐ­­Ґ© Ё«Ё ў­Ґи­Ґ©\n",
      "Є®¬ ­¤®©, ЁбЇ®«­пҐ¬®© Їа®Ја ¬¬®© Ё«Ё Ї ЄҐв­л¬ д ©«®¬.\n"
     ]
    }
   ],
   "source": [
    "!cat answer4_2.txt"
   ]
  },
  {
   "cell_type": "markdown",
   "metadata": {},
   "source": [
    "**3. Обучите логистическую регрессию (`LogisticRegression`) с параметром `C` по умолчанию и `random_state`=17 (для воспроизводимости). Посмотрите на долю правильных ответов на кросс-валидации (используйте объект `skf`, созданный ранее) и на выборке `(X_valid, y_valid)`. Для распараллеливания задайте `n_jobs=-1`.**"
   ]
  },
  {
   "cell_type": "code",
   "execution_count": 27,
   "metadata": {
    "collapsed": true
   },
   "outputs": [],
   "source": [
    "from sklearn.linear_model import LogisticRegression, LogisticRegressionCV"
   ]
  },
  {
   "cell_type": "code",
   "execution_count": 28,
   "metadata": {
    "collapsed": false
   },
   "outputs": [
    {
     "data": {
      "text/plain": [
       "GridSearchCV(cv=StratifiedKFold(n_splits=3, random_state=17, shuffle=True),\n",
       "       error_score='raise',\n",
       "       estimator=LogisticRegression(C=1.0, class_weight=None, dual=False, fit_intercept=True,\n",
       "          intercept_scaling=1, max_iter=100, multi_class='ovr', n_jobs=1,\n",
       "          penalty='l2', random_state=None, solver='liblinear', tol=0.0001,\n",
       "          verbose=0, warm_start=False),\n",
       "       fit_params=None, iid=True, n_jobs=-1,\n",
       "       param_grid={'random_state': [17]}, pre_dispatch='2*n_jobs',\n",
       "       refit=True, return_train_score='warn', scoring=None, verbose=0)"
      ]
     },
     "execution_count": 28,
     "metadata": {},
     "output_type": "execute_result"
    }
   ],
   "source": [
    "logit = LogisticRegression()\n",
    "mod = GridSearchCV(logit, {'random_state':[17]}, cv=skf, n_jobs=-1)\n",
    "mod.fit(X_train, y_train)"
   ]
  },
  {
   "cell_type": "code",
   "execution_count": 29,
   "metadata": {
    "collapsed": false
   },
   "outputs": [
    {
     "data": {
      "text/plain": [
       "(0.78170182507703245, 0.76102418207681366)"
      ]
     },
     "execution_count": 29,
     "metadata": {},
     "output_type": "execute_result"
    }
   ],
   "source": [
    "accuracy_score(mod.predict(X_valid), y_valid), mod.best_score_"
   ]
  },
  {
   "cell_type": "markdown",
   "metadata": {},
   "source": []
  },
  {
   "cell_type": "markdown",
   "metadata": {},
   "source": [
    "**Почитайте документацию к [LogisticRegressionCV](http://scikit-learn.org/stable/modules/generated/sklearn.linear_model.LogisticRegressionCV.html). Логистическая регрессия хорошо изучена, и для нее существуют алгоритмы быстрого подбора параметра регуляризации `C` (быстрее, чем с `GridSearchCV`).**\n",
    "\n",
    "**С помощью `LogisticRegressionCV` подберите параметр `C` для `LogisticRegression` сначала в широком диапазоне: 10 значений от 1e-4 до 1e2, используйте `logspace` из `NumPy`. Укажите у `LogisticRegressionCV` параметры `multi_class`='multinomial' и `random_state`=17. Для кросс-валидации используйте объект `skf`, созданный ранее. Для распараллеливания задайте `n_jobs=-1`.**\n",
    "\n",
    "**Нарисуйте кривые валидации по параметру `C`.**"
   ]
  },
  {
   "cell_type": "code",
   "execution_count": 30,
   "metadata": {
    "collapsed": false
   },
   "outputs": [
    {
     "name": "stdout",
     "output_type": "stream",
     "text": [
      "Wall time: 15.3 s\n"
     ]
    }
   ],
   "source": [
    "%%time\n",
    "logit_c_values1 = np.logspace(-4, 2, 10)\n",
    "\n",
    "logit_grid_searcher1 = LogisticRegressionCV(Cs = logit_c_values1, multi_class='multinomial', random_state=17, cv = skf, n_jobs=-1)\n",
    "logit_grid_searcher1.fit(X_train, y_train)"
   ]
  },
  {
   "cell_type": "code",
   "execution_count": 31,
   "metadata": {
    "collapsed": false
   },
   "outputs": [],
   "source": [
    "vals = (logit_grid_searcher1.scores_[31][0] + logit_grid_searcher1.scores_[31][1] + logit_grid_searcher1.scores_[31][2])/3"
   ]
  },
  {
   "cell_type": "code",
   "execution_count": 32,
   "metadata": {
    "collapsed": false
   },
   "outputs": [
    {
     "data": {
      "text/plain": [
       "array([ 0.31822225,  0.47337913,  0.55273512,  0.65119285,  0.71297117,\n",
       "        0.75137565,  0.75930066,  0.75706721,  0.74954975,  0.73949137])"
      ]
     },
     "execution_count": 32,
     "metadata": {},
     "output_type": "execute_result"
    }
   ],
   "source": [
    "vals"
   ]
  },
  {
   "cell_type": "markdown",
   "metadata": {},
   "source": [
    "Средние значения доли правильных ответов на кросс-валидации по каждому из 10 параметров `C`."
   ]
  },
  {
   "cell_type": "code",
   "execution_count": 33,
   "metadata": {
    "collapsed": false
   },
   "outputs": [
    {
     "name": "stdout",
     "output_type": "stream",
     "text": [
      "128\n",
      "33\n",
      "50\n",
      "100\n",
      "39\n",
      "241\n",
      "127\n",
      "237\n",
      "207\n",
      "31\n"
     ]
    }
   ],
   "source": [
    "ah = []\n",
    "for key in logit_grid_searcher1.scores_.keys():\n",
    "    print(key)\n",
    "    ah.append(logit_grid_searcher1.scores_[key].mean())"
   ]
  },
  {
   "cell_type": "code",
   "execution_count": 34,
   "metadata": {
    "collapsed": false
   },
   "outputs": [
    {
     "data": {
      "text/plain": [
       "{31: array([[ 0.32511416,  0.47305936,  0.54885845,  0.64414003,  0.70197869,\n",
       "          0.74398782,  0.75251142,  0.74764079,  0.73820396,  0.72754947],\n",
       "        [ 0.32662397,  0.47819457,  0.56084172,  0.66056725,  0.72766087,\n",
       "          0.76395242,  0.76974687,  0.76761208,  0.76029277,  0.74900884],\n",
       "        [ 0.30292862,  0.46888347,  0.54850519,  0.64887126,  0.70927395,\n",
       "          0.7461867 ,  0.75564369,  0.75594875,  0.75015253,  0.7419158 ]]),\n",
       " 33: array([[ 0.32511416,  0.47305936,  0.54885845,  0.64414003,  0.70197869,\n",
       "          0.74398782,  0.75251142,  0.74764079,  0.73820396,  0.72754947],\n",
       "        [ 0.32662397,  0.47819457,  0.56084172,  0.66056725,  0.72766087,\n",
       "          0.76395242,  0.76974687,  0.76761208,  0.76029277,  0.74900884],\n",
       "        [ 0.30292862,  0.46888347,  0.54850519,  0.64887126,  0.70927395,\n",
       "          0.7461867 ,  0.75564369,  0.75594875,  0.75015253,  0.7419158 ]]),\n",
       " 39: array([[ 0.32511416,  0.47305936,  0.54885845,  0.64414003,  0.70197869,\n",
       "          0.74398782,  0.75251142,  0.74764079,  0.73820396,  0.72754947],\n",
       "        [ 0.32662397,  0.47819457,  0.56084172,  0.66056725,  0.72766087,\n",
       "          0.76395242,  0.76974687,  0.76761208,  0.76029277,  0.74900884],\n",
       "        [ 0.30292862,  0.46888347,  0.54850519,  0.64887126,  0.70927395,\n",
       "          0.7461867 ,  0.75564369,  0.75594875,  0.75015253,  0.7419158 ]]),\n",
       " 50: array([[ 0.32511416,  0.47305936,  0.54885845,  0.64414003,  0.70197869,\n",
       "          0.74398782,  0.75251142,  0.74764079,  0.73820396,  0.72754947],\n",
       "        [ 0.32662397,  0.47819457,  0.56084172,  0.66056725,  0.72766087,\n",
       "          0.76395242,  0.76974687,  0.76761208,  0.76029277,  0.74900884],\n",
       "        [ 0.30292862,  0.46888347,  0.54850519,  0.64887126,  0.70927395,\n",
       "          0.7461867 ,  0.75564369,  0.75594875,  0.75015253,  0.7419158 ]]),\n",
       " 100: array([[ 0.32511416,  0.47305936,  0.54885845,  0.64414003,  0.70197869,\n",
       "          0.74398782,  0.75251142,  0.74764079,  0.73820396,  0.72754947],\n",
       "        [ 0.32662397,  0.47819457,  0.56084172,  0.66056725,  0.72766087,\n",
       "          0.76395242,  0.76974687,  0.76761208,  0.76029277,  0.74900884],\n",
       "        [ 0.30292862,  0.46888347,  0.54850519,  0.64887126,  0.70927395,\n",
       "          0.7461867 ,  0.75564369,  0.75594875,  0.75015253,  0.7419158 ]]),\n",
       " 127: array([[ 0.32511416,  0.47305936,  0.54885845,  0.64414003,  0.70197869,\n",
       "          0.74398782,  0.75251142,  0.74764079,  0.73820396,  0.72754947],\n",
       "        [ 0.32662397,  0.47819457,  0.56084172,  0.66056725,  0.72766087,\n",
       "          0.76395242,  0.76974687,  0.76761208,  0.76029277,  0.74900884],\n",
       "        [ 0.30292862,  0.46888347,  0.54850519,  0.64887126,  0.70927395,\n",
       "          0.7461867 ,  0.75564369,  0.75594875,  0.75015253,  0.7419158 ]]),\n",
       " 128: array([[ 0.32511416,  0.47305936,  0.54885845,  0.64414003,  0.70197869,\n",
       "          0.74398782,  0.75251142,  0.74764079,  0.73820396,  0.72754947],\n",
       "        [ 0.32662397,  0.47819457,  0.56084172,  0.66056725,  0.72766087,\n",
       "          0.76395242,  0.76974687,  0.76761208,  0.76029277,  0.74900884],\n",
       "        [ 0.30292862,  0.46888347,  0.54850519,  0.64887126,  0.70927395,\n",
       "          0.7461867 ,  0.75564369,  0.75594875,  0.75015253,  0.7419158 ]]),\n",
       " 207: array([[ 0.32511416,  0.47305936,  0.54885845,  0.64414003,  0.70197869,\n",
       "          0.74398782,  0.75251142,  0.74764079,  0.73820396,  0.72754947],\n",
       "        [ 0.32662397,  0.47819457,  0.56084172,  0.66056725,  0.72766087,\n",
       "          0.76395242,  0.76974687,  0.76761208,  0.76029277,  0.74900884],\n",
       "        [ 0.30292862,  0.46888347,  0.54850519,  0.64887126,  0.70927395,\n",
       "          0.7461867 ,  0.75564369,  0.75594875,  0.75015253,  0.7419158 ]]),\n",
       " 237: array([[ 0.32511416,  0.47305936,  0.54885845,  0.64414003,  0.70197869,\n",
       "          0.74398782,  0.75251142,  0.74764079,  0.73820396,  0.72754947],\n",
       "        [ 0.32662397,  0.47819457,  0.56084172,  0.66056725,  0.72766087,\n",
       "          0.76395242,  0.76974687,  0.76761208,  0.76029277,  0.74900884],\n",
       "        [ 0.30292862,  0.46888347,  0.54850519,  0.64887126,  0.70927395,\n",
       "          0.7461867 ,  0.75564369,  0.75594875,  0.75015253,  0.7419158 ]]),\n",
       " 241: array([[ 0.32511416,  0.47305936,  0.54885845,  0.64414003,  0.70197869,\n",
       "          0.74398782,  0.75251142,  0.74764079,  0.73820396,  0.72754947],\n",
       "        [ 0.32662397,  0.47819457,  0.56084172,  0.66056725,  0.72766087,\n",
       "          0.76395242,  0.76974687,  0.76761208,  0.76029277,  0.74900884],\n",
       "        [ 0.30292862,  0.46888347,  0.54850519,  0.64887126,  0.70927395,\n",
       "          0.7461867 ,  0.75564369,  0.75594875,  0.75015253,  0.7419158 ]])}"
      ]
     },
     "execution_count": 34,
     "metadata": {},
     "output_type": "execute_result"
    }
   ],
   "source": [
    "logit_grid_searcher1.scores_"
   ]
  },
  {
   "cell_type": "markdown",
   "metadata": {},
   "source": [
    "Выведите лучшее значение доли правильных ответов на кросс-валидации и соответствующее значение `C`."
   ]
  },
  {
   "cell_type": "code",
   "execution_count": 35,
   "metadata": {
    "collapsed": false
   },
   "outputs": [
    {
     "data": {
      "text/plain": [
       "(array([ 0.31822225,  0.47337913,  0.55273512,  0.65119285,  0.71297117,\n",
       "         0.75137565,  0.75930066,  0.75706721,  0.74954975,  0.73949137]),\n",
       " array([  1.00000000e-04,   4.64158883e-04,   2.15443469e-03,\n",
       "          1.00000000e-02,   4.64158883e-02,   2.15443469e-01,\n",
       "          1.00000000e+00,   4.64158883e+00,   2.15443469e+01,\n",
       "          1.00000000e+02]))"
      ]
     },
     "execution_count": 35,
     "metadata": {},
     "output_type": "execute_result"
    }
   ],
   "source": [
    "vals, logit_c_values1"
   ]
  },
  {
   "cell_type": "markdown",
   "metadata": {},
   "source": [
    "Нарисуйте график зависимости доли правильных ответов на кросс-валидации от `C`."
   ]
  },
  {
   "cell_type": "code",
   "execution_count": 77,
   "metadata": {
    "collapsed": false
   },
   "outputs": [
    {
     "data": {
      "image/png": "[encoded data removed]",
      "text/plain": [
       "<matplotlib.figure.Figure at 0xc34a1d0>"
      ]
     },
     "metadata": {},
     "output_type": "display_data"
    }
   ],
   "source": [
    "plt.plot(np.exp(logit_c_values1), vals);"
   ]
  },
  {
   "cell_type": "markdown",
   "metadata": {},
   "source": [
    "**Теперь то же самое, только значения параметра `C` перебирайте в диапазоне `np.linspace`(3, 7, 20). Опять нарисуйте кривые валидации, определите максимальное значение доли правильных ответов на кросс-валидации.**"
   ]
  },
  {
   "cell_type": "code",
   "execution_count": 36,
   "metadata": {
    "collapsed": false
   },
   "outputs": [
    {
     "name": "stdout",
     "output_type": "stream",
     "text": [
      "Wall time: 44.3 s\n"
     ]
    }
   ],
   "source": [
    "%%time\n",
    "logit_c_values2 = np.linspace(0.1, 7, 20)\n",
    "\n",
    "logit_grid_searcher2 = LogisticRegressionCV(Cs = logit_c_values2, multi_class='multinomial', random_state=17, cv = skf, n_jobs=-1, scoring = 'accuracy')\n",
    "logit_grid_searcher2.fit(X_train, y_train)"
   ]
  },
  {
   "cell_type": "markdown",
   "metadata": {},
   "source": [
    "Средние значения доли правильных ответов на кросс-валидации по каждому из 10 параметров `C`."
   ]
  },
  {
   "cell_type": "code",
   "execution_count": 37,
   "metadata": {
    "collapsed": true
   },
   "outputs": [],
   "source": [
    "vals2 = (logit_grid_searcher2.scores_[31][0] + logit_grid_searcher2.scores_[31][1] + logit_grid_searcher2.scores_[31][2])/3"
   ]
  },
  {
   "cell_type": "markdown",
   "metadata": {},
   "source": [
    "Выведите лучшее значение доли правильных ответов на кросс-валидации и соответствующее значение `C`."
   ]
  },
  {
   "cell_type": "code",
   "execution_count": 38,
   "metadata": {
    "collapsed": false
   },
   "outputs": [
    {
     "data": {
      "text/plain": [
       "(array([ 0.7354267 ,  0.75889304,  0.7584878 ,  0.75767446,  0.75798001,\n",
       "         0.75808238,  0.75787922,  0.75737171,  0.75696561,  0.75686494,\n",
       "         0.75716942,  0.75676347,  0.75595093,  0.75564645,  0.75534235,\n",
       "         0.75463168,  0.75463233,  0.75463236,  0.7544292 ,  0.75381935]),\n",
       " array([ 0.1       ,  0.46315789,  0.82631579,  1.18947368,  1.55263158,\n",
       "         1.91578947,  2.27894737,  2.64210526,  3.00526316,  3.36842105,\n",
       "         3.73157895,  4.09473684,  4.45789474,  4.82105263,  5.18421053,\n",
       "         5.54736842,  5.91052632,  6.27368421,  6.63684211,  7.        ]))"
      ]
     },
     "execution_count": 38,
     "metadata": {},
     "output_type": "execute_result"
    }
   ],
   "source": [
    "vals2, logit_c_values2"
   ]
  },
  {
   "cell_type": "markdown",
   "metadata": {},
   "source": [
    "Нарисуйте график зависимости доли правильных ответов на кросс-валидации от `C`."
   ]
  },
  {
   "cell_type": "code",
   "execution_count": 39,
   "metadata": {
    "collapsed": false
   },
   "outputs": [
    {
     "data": {
      "image/png": "[encoded data removed]",
      "text/plain": [
       "<matplotlib.figure.Figure at 0xb8c44a8>"
      ]
     },
     "metadata": {},
     "output_type": "display_data"
    }
   ],
   "source": [
    "plt.plot(logit_c_values2, vals2);"
   ]
  },
  {
   "cell_type": "markdown",
   "metadata": {},
   "source": [
    "Выведите долю правильных ответов на выборке `(X_valid, y_valid)` для логистической регрессии с лучшим найденным значением `C`."
   ]
  },
  {
   "cell_type": "code",
   "execution_count": 40,
   "metadata": {
    "collapsed": true
   },
   "outputs": [],
   "source": [
    "logit_cv_acc = accuracy_score(logit_grid_searcher2.predict(X_valid), y_valid)"
   ]
  },
  {
   "cell_type": "code",
   "execution_count": 41,
   "metadata": {
    "collapsed": false
   },
   "outputs": [
    {
     "data": {
      "text/plain": [
       "0.7748281583313581"
      ]
     },
     "execution_count": 41,
     "metadata": {},
     "output_type": "execute_result"
    }
   ],
   "source": [
    "logit_cv_acc"
   ]
  },
  {
   "cell_type": "markdown",
   "metadata": {},
   "source": [
    "**<font color='red'>Вопрос 3. </font>Посчитайте доли правильных ответов для `logit_grid_searcher2` на кросс-валидации для лучшего значения параметра `C` и на отложенной выборке. Округлите каждое до 3 знаков после запятой и выведите через пробел.**"
   ]
  },
  {
   "cell_type": "code",
   "execution_count": 35,
   "metadata": {
    "collapsed": true
   },
   "outputs": [],
   "source": [
    "#0.76, 0.779  #### 0.759  0.775"
   ]
  },
  {
   "cell_type": "markdown",
   "metadata": {},
   "source": [
    "**4. Обучите линейный SVM (`LinearSVC`) с параметром `C`=1 и `random_state`=17 (для воспроизводимости). Посмотрите на долю правильных ответов на кросс-валидации (используйте объект `skf`, созданный ранее) и на выборке `(X_valid, y_valid)`.**"
   ]
  },
  {
   "cell_type": "code",
   "execution_count": 47,
   "metadata": {
    "collapsed": true
   },
   "outputs": [],
   "source": [
    "from sklearn.svm import LinearSVC"
   ]
  },
  {
   "cell_type": "code",
   "execution_count": 48,
   "metadata": {
    "collapsed": false
   },
   "outputs": [
    {
     "data": {
      "text/plain": [
       "(0.75279414753098961, 0.77696136525242954)"
      ]
     },
     "execution_count": 48,
     "metadata": {},
     "output_type": "execute_result"
    }
   ],
   "source": [
    "svm = LinearSVC(random_state=17)\n",
    "mod = GridSearchCV(svm, {'C':[1]}, cv = skf)\n",
    "mod.fit(X_train, y_train)\n",
    "mod.best_score_, accuracy_score(mod.predict(X_valid), y_valid)"
   ]
  },
  {
   "cell_type": "markdown",
   "metadata": {},
   "source": [
    "**С помощью `GridSearchCV` подберите параметр `C` для SVM сначала в широком диапазоне: 10 значений от 1e-4 до 1e4, используйте `linspace` из NumPy. Нарисуйте кривые валидации.**"
   ]
  },
  {
   "cell_type": "code",
   "execution_count": 49,
   "metadata": {
    "collapsed": false
   },
   "outputs": [
    {
     "name": "stdout",
     "output_type": "stream",
     "text": [
      "Wall time: 49.8 s\n"
     ]
    }
   ],
   "source": [
    "%%time\n",
    "svm_params1 = {'C': np.linspace(1e-4, 1e4, 10)}\n",
    "\n",
    "svm_grid_searcher1 = GridSearchCV(svm, svm_params1, cv = skf)\n",
    "svm_grid_searcher1.fit(X_train, y_train)"
   ]
  },
  {
   "cell_type": "markdown",
   "metadata": {},
   "source": [
    "Выведите лучшее значение доли правильных ответов на кросс-валидации и соответствующее значение `C`."
   ]
  },
  {
   "cell_type": "code",
   "execution_count": 50,
   "metadata": {
    "collapsed": false
   },
   "outputs": [
    {
     "data": {
      "text/plain": [
       "(0.68451534241007927, 0.70087698506755158)"
      ]
     },
     "execution_count": 50,
     "metadata": {},
     "output_type": "execute_result"
    }
   ],
   "source": [
    "svm_grid_searcher1.best_score_, accuracy_score(svm_grid_searcher1.predict(X_valid), y_valid)"
   ]
  },
  {
   "cell_type": "markdown",
   "metadata": {},
   "source": [
    "Нарисуйте график зависимости доли правильных ответов на кросс-валидации от `C`."
   ]
  },
  {
   "cell_type": "code",
   "execution_count": 51,
   "metadata": {
    "collapsed": false
   },
   "outputs": [
    {
     "data": {
      "image/png": "[encoded data removed]",
      "text/plain": [
       "<matplotlib.figure.Figure at 0xbca4400>"
      ]
     },
     "metadata": {},
     "output_type": "display_data"
    }
   ],
   "source": [
    "plot_validation_curves(svm_params1['C'], svm_grid_searcher1.cv_results_)"
   ]
  },
  {
   "cell_type": "markdown",
   "metadata": {},
   "source": [
    "**Но мы помним, что с параметром регуляризации по умолчанию (С=1) на кросс-валидации доля правильных ответов выше. Это тот случай (не редкий), когда можно ошибиться и перебирать параметры не в том диапазоне (причина в том, что мы взяли равномерную сетку на большом интервале и упустили действительно хороший интервал значений `C`). Здесь намного осмысленней подбирать `C` в районе 1, к тому же, так модель быстрее обучается, чем при больших `C`. **\n",
    "\n",
    "**С помощью `GridSearchCV` подберите параметр `C` для SVM в диапазоне (1e-3, 1), 30 значений, используйте `linspace` из NumPy. Нарисуйте кривые валидации.**"
   ]
  },
  {
   "cell_type": "code",
   "execution_count": 52,
   "metadata": {
    "collapsed": false
   },
   "outputs": [
    {
     "name": "stdout",
     "output_type": "stream",
     "text": [
      "Wall time: 1min 26s\n"
     ]
    }
   ],
   "source": [
    "%%time\n",
    "svm_params2 = {'C': np.linspace(1e-3, 1, 30)}\n",
    "\n",
    "svm_grid_searcher2 = GridSearchCV(svm, svm_params2, cv = skf)\n",
    "svm_grid_searcher2.fit(X_train, y_train)"
   ]
  },
  {
   "cell_type": "markdown",
   "metadata": {},
   "source": [
    "Выведите лучшее значение доли правильных ответов на кросс-валидации и соответствующее значение `C`."
   ]
  },
  {
   "cell_type": "code",
   "execution_count": 53,
   "metadata": {
    "collapsed": false
   },
   "outputs": [
    {
     "data": {
      "text/plain": [
       "(0.76468197520829095, {'C': 0.10434482758620689})"
      ]
     },
     "execution_count": 53,
     "metadata": {},
     "output_type": "execute_result"
    }
   ],
   "source": [
    "svm_grid_searcher2.best_score_, svm_grid_searcher2.best_params_"
   ]
  },
  {
   "cell_type": "markdown",
   "metadata": {},
   "source": [
    "Нарисуйте график зависимости доли правильных ответов на кросс-валидации от С."
   ]
  },
  {
   "cell_type": "code",
   "execution_count": 54,
   "metadata": {
    "collapsed": false
   },
   "outputs": [
    {
     "data": {
      "image/png": "[encoded data removed]",
      "text/plain": [
       "<matplotlib.figure.Figure at 0xc034d68>"
      ]
     },
     "metadata": {},
     "output_type": "display_data"
    }
   ],
   "source": [
    "plot_validation_curves(svm_params2['C'], svm_grid_searcher2.cv_results_)"
   ]
  },
  {
   "cell_type": "markdown",
   "metadata": {},
   "source": [
    "Выведите долю правильных ответов на выборке `(X_valid, y_valid)` для `LinearSVC` с лучшим найденным значением `C`."
   ]
  },
  {
   "cell_type": "code",
   "execution_count": 55,
   "metadata": {
    "collapsed": true
   },
   "outputs": [],
   "source": [
    "svm_cv_acc = accuracy_score(svm_grid_searcher2.predict(X_valid), y_valid)"
   ]
  },
  {
   "cell_type": "markdown",
   "metadata": {},
   "source": [
    "**<font color='red'>Вопрос 4. </font> Посчитайте доли правильных ответов для `svm_grid_searcher2` на кросс-валидации для лучшего значения параметра `C` и на отложенной выборке. Округлите каждое до 3 знаков после запятой и выведите через пробел.**"
   ]
  },
  {
   "cell_type": "code",
   "execution_count": 56,
   "metadata": {
    "collapsed": false
   },
   "outputs": [
    {
     "data": {
      "text/plain": [
       "(0.76468197520829095, 0.78075373311211183)"
      ]
     },
     "execution_count": 56,
     "metadata": {},
     "output_type": "execute_result"
    }
   ],
   "source": [
    "svm_grid_searcher2.best_score_, svm_cv_acc"
   ]
  },
  {
   "cell_type": "markdown",
   "metadata": {},
   "source": [
    "## Часть 2. Выбор параметров – длины сессии и ширины окна"
   ]
  },
  {
   "cell_type": "markdown",
   "metadata": {},
   "source": [
    "**Возьмем `LinearSVC`, показавший лучшее качество на кросс-валидации в 1 части, и проверим его работу еще на 8 выборках для 10 пользователей (с разными сочетаниями параметров *session_length* и *window_size*). Поскольку тут уже вычислений побольше, мы не будем каждый раз заново подбирать параметр регуляризации `C`.**\n",
    "\n",
    "**Определите функцию `model_assessment`, ее документация описана ниже. Обратите внимание на все детали. Например, на то, что разбиение  выборки с `train_test_split` должно быть стратифицированным. Не теряйте нигде `random_state`.**"
   ]
  },
  {
   "cell_type": "code",
   "execution_count": 96,
   "metadata": {
    "collapsed": true
   },
   "outputs": [],
   "source": [
    "def model_assessment(estimator, path_to_X_pickle, path_to_y_pickle, cv, random_state=17, test_size=0.3):\n",
    "    '''\n",
    "    Estimates CV-accuracy for (1 - test_size) share of (X_sparse, y) \n",
    "    loaded from path_to_X_pickle and path_to_y_pickle and holdout accuracy for (test_size) share of (X_sparse, y).\n",
    "    The split is made with stratified train_test_split with params random_state and test_size.\n",
    "    \n",
    "    :param estimator – Scikit-learn estimator (classifier or regressor)\n",
    "    :param path_to_X_pickle – path to pickled sparse X (instances and their features)\n",
    "    :param path_to_y_pickle – path to pickled y (responses)\n",
    "    :param cv – cross-validation as in cross_val_score (use StratifiedKFold here)\n",
    "    :param random_state –  for train_test_split\n",
    "    :param test_size –  for train_test_split\n",
    "    \n",
    "    :returns mean CV-accuracy for (X_train, y_train) and accuracy for (X_valid, y_valid) where (X_train, y_train)\n",
    "    and (X_valid, y_valid) are (1 - test_size) and (testsize) shares of (X_sparse, y).\n",
    "    '''\n",
    "    X = pickle.load(open(path_to_X_pickle, \"rb\"))\n",
    "    y = pickle.load(open(path_to_y_pickle, \"rb\"))\n",
    "    print(X.shape, len(y))\n",
    "    #Z=X[:, range(1, X.shape[1])]\n",
    "    #X = Z\n",
    "    print(X.shape, len(y))\n",
    "    X_train, X_valid, y_train, y_valid = train_test_split(X, y, \n",
    "                                                      test_size=test_size, \n",
    "                                                     random_state=random_state, stratify=y)\n",
    "    model = GridSearchCV(estimator, {}, cv = cv)\n",
    "    model.fit(X_train, y_train)\n",
    "    res1 = model.best_score_\n",
    "    vec = model.predict(X_valid)\n",
    "    res2 = accuracy_score(vec, y_valid)\n",
    "    estimator.fit(X_train, y_train)\n",
    "    vec = estimator.predict(X_valid)\n",
    "    res3 = accuracy_score(vec, y_valid)\n",
    "    return(res1, res2, res3, '!!!')\n",
    "    #res1 = (cross_val_score(knn,\n",
    "    #            X=X,\n",
    "    #            y=y,\n",
    "    #            cv=cv)).mean()\n",
    "    "
   ]
  },
  {
   "cell_type": "code",
   "execution_count": 95,
   "metadata": {
    "collapsed": false
   },
   "outputs": [
    {
     "name": "stdout",
     "output_type": "stream",
     "text": [
      "(14061, 4914) 14061\n",
      "(14061, 4914) 14061\n"
     ]
    },
    {
     "ename": "TypeError",
     "evalue": "__init__() got an unexpected keyword argument 'njobs'",
     "output_type": "error",
     "traceback": [
      "\u001b[0;31m---------------------------------------------------------------------------\u001b[0m",
      "\u001b[0;31mTypeError\u001b[0m                                 Traceback (most recent call last)",
      "\u001b[0;32m<ipython-input-95-4e0fd81c47ea>\u001b[0m in \u001b[0;36m<module>\u001b[0;34m()\u001b[0m\n\u001b[0;32m----> 1\u001b[0;31m \u001b[0mmodel_assessment\u001b[0m\u001b[1;33m(\u001b[0m\u001b[0msvm_grid_searcher2\u001b[0m\u001b[1;33m.\u001b[0m\u001b[0mbest_estimator_\u001b[0m\u001b[1;33m,\u001b[0m \u001b[1;34m'save3.p'\u001b[0m\u001b[1;33m,\u001b[0m \u001b[1;34m'saveuser3.p'\u001b[0m\u001b[1;33m,\u001b[0m \u001b[0mskf\u001b[0m\u001b[1;33m,\u001b[0m \u001b[0mrandom_state\u001b[0m\u001b[1;33m=\u001b[0m\u001b[1;36m17\u001b[0m\u001b[1;33m,\u001b[0m \u001b[0mtest_size\u001b[0m\u001b[1;33m=\u001b[0m\u001b[1;36m0.3\u001b[0m\u001b[1;33m)\u001b[0m\u001b[1;33m\u001b[0m\u001b[0m\n\u001b[0m",
      "\u001b[0;32m<ipython-input-94-bf052a24f6af>\u001b[0m in \u001b[0;36mmodel_assessment\u001b[0;34m(estimator, path_to_X_pickle, path_to_y_pickle, cv, random_state, test_size)\u001b[0m\n\u001b[1;32m     24\u001b[0m                                                       \u001b[0mtest_size\u001b[0m\u001b[1;33m=\u001b[0m\u001b[0mtest_size\u001b[0m\u001b[1;33m,\u001b[0m\u001b[1;33m\u001b[0m\u001b[0m\n\u001b[1;32m     25\u001b[0m                                                      random_state=random_state, stratify=y)\n\u001b[0;32m---> 26\u001b[0;31m     \u001b[0mmodel\u001b[0m \u001b[1;33m=\u001b[0m \u001b[0mGridSearchCV\u001b[0m\u001b[1;33m(\u001b[0m\u001b[0mestimator\u001b[0m\u001b[1;33m,\u001b[0m \u001b[1;33m{\u001b[0m\u001b[1;33m}\u001b[0m\u001b[1;33m,\u001b[0m \u001b[0mcv\u001b[0m \u001b[1;33m=\u001b[0m \u001b[0mcv\u001b[0m\u001b[1;33m,\u001b[0m \u001b[0mnjobs\u001b[0m\u001b[1;33m=\u001b[0m\u001b[1;33m-\u001b[0m\u001b[1;36m1\u001b[0m\u001b[1;33m)\u001b[0m\u001b[1;33m\u001b[0m\u001b[0m\n\u001b[0m\u001b[1;32m     27\u001b[0m     \u001b[0mmodel\u001b[0m\u001b[1;33m.\u001b[0m\u001b[0mfit\u001b[0m\u001b[1;33m(\u001b[0m\u001b[0mX_train\u001b[0m\u001b[1;33m,\u001b[0m \u001b[0my_train\u001b[0m\u001b[1;33m)\u001b[0m\u001b[1;33m\u001b[0m\u001b[0m\n\u001b[1;32m     28\u001b[0m     \u001b[0mres1\u001b[0m \u001b[1;33m=\u001b[0m \u001b[0mmodel\u001b[0m\u001b[1;33m.\u001b[0m\u001b[0mbest_score_\u001b[0m\u001b[1;33m\u001b[0m\u001b[0m\n",
      "\u001b[0;31mTypeError\u001b[0m: __init__() got an unexpected keyword argument 'njobs'"
     ]
    }
   ],
   "source": [
    "model_assessment(svm_grid_searcher2.best_estimator_, 'save3.p', 'saveuser3.p', skf, random_state=17, test_size=0.3)"
   ]
  },
  {
   "cell_type": "markdown",
   "metadata": {},
   "source": [
    "**Убедитесь, что функция работает.**"
   ]
  },
  {
   "cell_type": "code",
   "execution_count": 195,
   "metadata": {
    "collapsed": false
   },
   "outputs": [
    {
     "name": "stdout",
     "output_type": "stream",
     "text": [
      "(14061, 4913) 14061\n",
      "(0.823816297500508, 0.84048352690210948, 0.84048352690210948, '!!!')\n",
      "(14061, 4913) 14061\n",
      "(0.76468197520829095, 0.78075373311211183, 0.78075373311211183, '!!!')\n",
      "(20087, 4913) 20087\n",
      "(0.84793741109530585, 0.85432221669155473, 0.85432221669155473, '!!!')\n",
      "(20087, 4913) 20087\n",
      "(0.79701280227596016, 0.80736684917869583, 0.80736684917869583, '!!!')\n",
      "(20087, 4913) 20087\n",
      "(0.75298719772403988, 0.76173884187821472, 0.76173884187821472, '!!!')\n",
      "(28118, 4913) 28118\n",
      "(0.86800121938827357, 0.87529634898055952, 0.87529634898055952, '!!!')\n",
      "(28118, 4913) 28118\n",
      "(0.81592317853876639, 0.82456140350877194, 0.82456140350877194, '!!!')\n",
      "(28118, 4913) 28118\n",
      "(0.77405751448023574, 0.78532479848269321, 0.78532479848269321, '!!!')\n",
      "(28118, 4913) 28118\n",
      "(0.72528198353825835, 0.73624940730203892, 0.73624940730203892, '!!!')\n"
     ]
    }
   ],
   "source": [
    "print(model_assessment(svm_grid_searcher2.best_estimator_, \n",
    "                 'save2.p', 'saveuser2.p', skf, random_state=17, test_size=0.3))\n",
    "print(model_assessment(svm_grid_searcher2.best_estimator_, \n",
    "                 'save3.p', 'saveuser3.p', skf, random_state=17, test_size=0.3))\n",
    "print(model_assessment(svm_grid_searcher2.best_estimator_, \n",
    "                 'save4.p', 'saveuser4.p', skf, random_state=17, test_size=0.3))\n",
    "print(model_assessment(svm_grid_searcher2.best_estimator_, \n",
    "                 'save5.p', 'saveuser5.p', skf, random_state=17, test_size=0.3))\n",
    "print(model_assessment(svm_grid_searcher2.best_estimator_, \n",
    "                 'save6.p', 'saveuser6.p', skf, random_state=17, test_size=0.3))\n",
    "print(model_assessment(svm_grid_searcher2.best_estimator_, \n",
    "                 'save7.p', 'saveuser7.p', skf, random_state=17, test_size=0.3))\n",
    "print(model_assessment(svm_grid_searcher2.best_estimator_, \n",
    "                 'save8.p', 'saveuser8.p', skf, random_state=17, test_size=0.3))\n",
    "print(model_assessment(svm_grid_searcher2.best_estimator_, \n",
    "                 'save9.p', 'saveuser9.p', skf, random_state=17, test_size=0.3))\n",
    "print(model_assessment(svm_grid_searcher2.best_estimator_, \n",
    "                 'save10.p', 'saveuser10.p', skf, random_state=17, test_size=0.3))"
   ]
  },
  {
   "cell_type": "code",
   "execution_count": 202,
   "metadata": {
    "collapsed": false
   },
   "outputs": [
    {
     "name": "stdout",
     "output_type": "stream",
     "text": [
      "(14061, 4914) 14061\n",
      "(14061, 4914) 14061\n",
      "(0.82320666531192843, 0.83977245792841904, 0.83977245792841904, '!!!')\n",
      "(14061, 4914) 14061\n",
      "(14061, 4914) 14061\n",
      "(0.76427555374923795, 0.78051671012088175, 0.78051671012088175, '!!!')\n",
      "(20087, 4914) 20087\n",
      "(20087, 4914) 20087\n",
      "(0.847724039829303, 0.85399037663846022, 0.85399037663846022, '!!!')\n",
      "(20087, 4914) 20087\n",
      "(20087, 4914) 20087\n",
      "(0.79715504978662877, 0.80720092915214869, 0.80720092915214869, '!!!')\n",
      "(20087, 4914) 20087\n",
      "(20087, 4914) 20087\n",
      "(0.75277382645803703, 0.76157292185166747, 0.76157292185166747, '!!!')\n",
      "(28118, 4914) 28118\n",
      "(28118, 4914) 28118\n",
      "(0.86764556447515495, 0.87494073020388807, 0.87494073020388807, '!!!')\n",
      "(28118, 4914) 28118\n",
      "(28118, 4914) 28118\n",
      "(0.8156691393151102, 0.82373162636320529, 0.82373162636320529, '!!!')\n",
      "(28118, 4914) 28118\n",
      "(28118, 4914) 28118\n",
      "(0.7739050909460421, 0.78520625889046947, 0.78520625889046947, '!!!')\n",
      "(28118, 4914) 28118\n",
      "(28118, 4914) 28118\n",
      "(0.72523117569352713, 0.73589378852536746, 0.73589378852536746, '!!!')\n"
     ]
    }
   ],
   "source": [
    "print(model_assessment(svm_grid_searcher2.best_estimator_, \n",
    "                 'save2.p', 'saveuser2.p', skf, random_state=17, test_size=0.3))\n",
    "print(model_assessment(svm_grid_searcher2.best_estimator_, \n",
    "                 'save3.p', 'saveuser3.p', skf, random_state=17, test_size=0.3))\n",
    "print(model_assessment(svm_grid_searcher2.best_estimator_, \n",
    "                 'save4.p', 'saveuser4.p', skf, random_state=17, test_size=0.3))\n",
    "print(model_assessment(svm_grid_searcher2.best_estimator_, \n",
    "                 'save5.p', 'saveuser5.p', skf, random_state=17, test_size=0.3))\n",
    "print(model_assessment(svm_grid_searcher2.best_estimator_, \n",
    "                 'save6.p', 'saveuser6.p', skf, random_state=17, test_size=0.3))\n",
    "print(model_assessment(svm_grid_searcher2.best_estimator_, \n",
    "                 'save7.p', 'saveuser7.p', skf, random_state=17, test_size=0.3))\n",
    "print(model_assessment(svm_grid_searcher2.best_estimator_, \n",
    "                 'save8.p', 'saveuser8.p', skf, random_state=17, test_size=0.3))\n",
    "print(model_assessment(svm_grid_searcher2.best_estimator_, \n",
    "                 'save9.p', 'saveuser9.p', skf, random_state=17, test_size=0.3))\n",
    "print(model_assessment(svm_grid_searcher2.best_estimator_, \n",
    "                 'save10.p', 'saveuser10.p', skf, random_state=17, test_size=0.3))"
   ]
  },
  {
   "cell_type": "code",
   "execution_count": 56,
   "metadata": {
    "collapsed": false
   },
   "outputs": [
    {
     "name": "stdout",
     "output_type": "stream",
     "text": [
      "(28118, 4914) 28118\n",
      "(28118, 4914) 28118\n",
      "(0.87135453714053446, 0.8771929824561403, 0.8771929824561403, '!!!')\n"
     ]
    }
   ],
   "source": [
    "print(model_assessment(svm_grid_searcher2.best_estimator_, \n",
    "                 'save7.p', 'saveuser7.p', skf, random_state=17, test_size=0.3))\n"
   ]
  },
  {
   "cell_type": "markdown",
   "metadata": {},
   "source": [
    "**Примените функцию *model_assessment* для лучшего алгоритма из предыдущей части (а именно, `svm_grid_searcher2.best_estimator_`) и 9 выборок вида с разными сочетаниями параметров *session_length* и *window_size* для 10 пользователей. Выведите в цикле параметры *session_length* и *window_size*, а также результат вывода функции *model_assessment*. \n",
    "Удобно сделать так, чтоб *model_assessment* возвращала 3-им элементом время, за которое она выполнилась. На моем ноуте этот участок кода выполнился за 20 секунд. Но со 150 пользователями каждая итерация занимает уже несколько минут.**"
   ]
  },
  {
   "cell_type": "markdown",
   "metadata": {},
   "source": [
    "Здесь для удобства стоит создать копии ранее созданных pickle-файлов X_sparse_10users.pkl, X_sparse_150users.pkl, y_10users.pkl и y_150users.pkl, добавив к их названиям s10_w10, что означает длину сессии 10 и ширину окна 10. "
   ]
  },
  {
   "cell_type": "code",
   "execution_count": null,
   "metadata": {
    "collapsed": true
   },
   "outputs": [],
   "source": [
    "!cp $PATH_TO_DATA/X_sparse_10users.pkl $PATH_TO_DATA/X_sparse_10users_s10_w10.pkl \n",
    "!cp $PATH_TO_DATA/X_sparse_150users.pkl $PATH_TO_DATA/X_sparse_150users_s10_w10.pkl \n",
    "!cp $PATH_TO_DATA/y_10users.pkl $PATH_TO_DATA/y_10users_s10_w10.pkl \n",
    "!cp $PATH_TO_DATA/y_150users.pkl $PATH_TO_DATA/y_10users_s10_w10.pkl "
   ]
  },
  {
   "cell_type": "code",
   "execution_count": null,
   "metadata": {
    "collapsed": true
   },
   "outputs": [],
   "source": [
    "%%time\n",
    "estimator = svm_grid_searcher2.best_estimator_\n",
    "\n",
    "for window_size, session_length in itertools.product([10, 7, 5], [15, 10, 7, 5]):\n",
    "    if window_size <= session_length:\n",
    "        path_to_X_pkl = ''' ВАШ КОД ЗДЕСЬ '''\n",
    "        path_to_y_pkl = ''' ВАШ КОД ЗДЕСЬ '''\n",
    "        print           ''' ВАШ КОД ЗДЕСЬ '''"
   ]
  },
  {
   "cell_type": "markdown",
   "metadata": {},
   "source": [
    "**<font color='red'>Вопрос 5. </font> Посчитайте доли правильных ответов для `LinearSVC` с настроенным параметром `C` и выборки `X_sparse_10users_s15_w5`. Укажите доли правильных ответов на кросс-валидации и на отложенной выборке. Округлите каждое до 3 знаков после запятой и выведите через пробел.**"
   ]
  },
  {
   "cell_type": "code",
   "execution_count": null,
   "metadata": {
    "collapsed": true
   },
   "outputs": [],
   "source": [
    "#0.868, 0.875"
   ]
  },
  {
   "cell_type": "code",
   "execution_count": null,
   "metadata": {
    "collapsed": false
   },
   "outputs": [
    {
     "name": "stdout",
     "output_type": "stream",
     "text": [
      "(137019, 27798) 137019\n",
      "(137019, 27798) 137019\n",
      "(0.54902880735666693, 0.57507419841385687, 0.57507419841385687, '!!!')\n",
      "(137019, 27798) 137019\n",
      "(137019, 27798) 137019\n",
      "(0.4611992117856808, 0.48367634895149125, 0.48367634895149125, '!!!')\n",
      "(195712, 27798) 195712\n",
      "(195712, 27798) 195712\n",
      "(0.58397932816537468, 0.60852607555267912, 0.60852607555267912, '!!!')\n",
      "(195712, 27798) 195712\n",
      "(195712, 27798) 195712\n",
      "(0.43632753762828652, 0.45297544026978231, 0.45297544026978231, '!!!')\n",
      "(273957, 27798) 273957\n",
      "(273957, 27798) 273957\n",
      "(0.61389484223206048, 0.63619993186353241, 0.63619993186353241, '!!!')\n",
      "(273957, 27798) 273957\n",
      "(273957, 27798) 273957\n",
      "(0.52493364412391996, 0.54596778118460121, 0.54596778118460121, '!!!')\n",
      "(273957, 27798) 273957\n",
      "(273957, 27798) 273957\n",
      "(0.46486658427587357, 0.48179782936681753, 0.48179782936681753, '!!!')\n",
      "(273957, 27798) 273957\n",
      "(273957, 27798) 273957\n",
      "(0.40860097304569559, 0.42175256728476179, 0.42175256728476179, '!!!')\n"
     ]
    }
   ],
   "source": [
    "print(model_assessment(svm_grid_searcher2.best_estimator_, \n",
    "                 'save11.p', 'saveuser11.p', skf, random_state=17, test_size=0.3))\n",
    "print(model_assessment(svm_grid_searcher2.best_estimator_, \n",
    "                 'save12.p', 'saveuser12.p', skf, random_state=17, test_size=0.3))\n",
    "print(model_assessment(svm_grid_searcher2.best_estimator_, \n",
    "                 'save13.p', 'saveuser13.p', skf, random_state=17, test_size=0.3))\n",
    "print(model_assessment(svm_grid_searcher2.best_estimator_, \n",
    "                 'save14.p', 'saveuser14.p', skf, random_state=17, test_size=0.3))\n",
    "print(model_assessment(svm_grid_searcher2.best_estimator_, \n",
    "                 'save15.p', 'saveuser15.p', skf, random_state=17, test_size=0.3))\n",
    "print(model_assessment(svm_grid_searcher2.best_estimator_, \n",
    "                 'save16.p', 'saveuser16.p', skf, random_state=17, test_size=0.3))\n",
    "print(model_assessment(svm_grid_searcher2.best_estimator_, \n",
    "                 'save17.p', 'saveuser17.p', skf, random_state=17, test_size=0.3))\n",
    "print(model_assessment(svm_grid_searcher2.best_estimator_, \n",
    "                 'save18.p', 'saveuser18.p', skf, random_state=17, test_size=0.3))\n",
    "print(model_assessment(svm_grid_searcher2.best_estimator_, \n",
    "                 'save19.p', 'saveuser19.p', skf, random_state=17, test_size=0.3))"
   ]
  },
  {
   "cell_type": "code",
   "execution_count": 97,
   "metadata": {
    "collapsed": false
   },
   "outputs": [
    {
     "name": "stdout",
     "output_type": "stream",
     "text": [
      "(137019, 27798) 137019\n",
      "(137019, 27798) 137019\n",
      "(0.46021915694431415, 0.48421155062521287, 0.48421155062521287, '!!!')\n"
     ]
    }
   ],
   "source": [
    "print(model_assessment(svm_grid_searcher2.best_estimator_, \n",
    "                 'save12.p', 'saveuser12.p', skf, random_state=17, test_size=0.3))\n"
   ]
  },
  {
   "cell_type": "code",
   "execution_count": null,
   "metadata": {
    "collapsed": true
   },
   "outputs": [],
   "source": [
    "print(model_assessment(svm_grid_searcher2.best_estimator_, \n",
    "                 'save19.p', 'saveuser19.p', skf, random_state=17, test_size=0.3))"
   ]
  },
  {
   "cell_type": "markdown",
   "metadata": {},
   "source": [
    "**Прокомментируйте полученные результаты. Сравните для 150 пользователей доли правильных ответов на кросс-валидации и оставленной выборке для сочетаний параметров (*session_length, window_size*): (5,5), (7,7) и (10,10). На среднем ноуте это может занять до часа – запаситесь терпением, это Data Science :) **\n",
    "\n",
    "**Сделайте вывод о том, как качество классификации зависит от длины сессии и ширины окна.**"
   ]
  },
  {
   "cell_type": "code",
   "execution_count": null,
   "metadata": {
    "collapsed": true
   },
   "outputs": [],
   "source": [
    "%%time\n",
    "estimator = svm_grid_searcher2.best_estimator_\n",
    "\n",
    "for window_size, session_length in [(5,5), (7,7), (10,10)]:\n",
    "    path_to_X_pkl = ''' ВАШ КОД ЗДЕСЬ '''\n",
    "    path_to_y_pkl = ''' ВАШ КОД ЗДЕСЬ '''\n",
    "    print           ''' ВАШ КОД ЗДЕСЬ '''"
   ]
  },
  {
   "cell_type": "markdown",
   "metadata": {},
   "source": [
    "**<font color='red'>Вопрос 6. </font> Посчитайте доли правильных ответов для `LinearSVC` с настроенным параметром `C` и выборки `X_sparse_150users`. Укажите доли правильных ответов на кросс-валидации и на отложенной выборке. Округлите каждое до 3 знаков после запятой и выведите через пробел.**"
   ]
  },
  {
   "cell_type": "code",
   "execution_count": null,
   "metadata": {
    "collapsed": true
   },
   "outputs": [],
   "source": [
    "#0.461, 0.484"
   ]
  },
  {
   "cell_type": "markdown",
   "metadata": {},
   "source": [
    "## Часть 3. Идентификация  конкретного пользователя и кривые обучения"
   ]
  },
  {
   "cell_type": "markdown",
   "metadata": {},
   "source": [
    "**Поскольку может разочаровать, что многоклассовая доля правильных ответов на выборке из 150 пользовалей невелика, порадуемся тому, что конкретного пользователя можно идентифицировать достаточно хорошо. **"
   ]
  },
  {
   "cell_type": "markdown",
   "metadata": {},
   "source": [
    "**Загрузим сериализованные ранее объекты *X_sparse_150users* и *y_150users*, соответствующие обучающей выборке для 150 пользователей с параметрами (*session_length, window_size*) = (10,10). Так же точно разобьем их на 70% и 30%.**"
   ]
  },
  {
   "cell_type": "code",
   "execution_count": 98,
   "metadata": {
    "collapsed": false
   },
   "outputs": [
    {
     "name": "stdout",
     "output_type": "stream",
     "text": [
      "(137019, 27798)\n"
     ]
    }
   ],
   "source": [
    "y_150users = pickle.load(open('saveuser12.p', \"rb\"))\n",
    "X_sparse_150users = pickle.load(open('save12.p', \"rb\"))\n",
    "print(X_sparse_150users.shape)"
   ]
  },
  {
   "cell_type": "code",
   "execution_count": 52,
   "metadata": {
    "collapsed": false
   },
   "outputs": [
    {
     "ename": "MemoryError",
     "evalue": "",
     "output_type": "error",
     "traceback": [
      "\u001b[0;31m---------------------------------------------------------------------------\u001b[0m",
      "\u001b[0;31mMemoryError\u001b[0m                               Traceback (most recent call last)",
      "\u001b[0;32m<ipython-input-52-d24282d47b57>\u001b[0m in \u001b[0;36m<module>\u001b[0;34m()\u001b[0m\n\u001b[0;32m----> 1\u001b[0;31m \u001b[0mX_sparse_150users\u001b[0m \u001b[1;33m=\u001b[0m \u001b[0mX_sparse_150users\u001b[0m\u001b[1;33m[\u001b[0m\u001b[1;33m:\u001b[0m\u001b[1;33m,\u001b[0m \u001b[0mrange\u001b[0m\u001b[1;33m(\u001b[0m\u001b[1;36m1\u001b[0m\u001b[1;33m,\u001b[0m \u001b[0mX_sparse_150users\u001b[0m\u001b[1;33m.\u001b[0m\u001b[0mshape\u001b[0m\u001b[1;33m[\u001b[0m\u001b[1;36m1\u001b[0m\u001b[1;33m]\u001b[0m\u001b[1;33m)\u001b[0m\u001b[1;33m]\u001b[0m\u001b[1;33m\u001b[0m\u001b[0m\n\u001b[0m",
      "\u001b[0;32mC:\\Users\\user\\Anaconda3\\lib\\site-packages\\scipy\\sparse\\csr.py\u001b[0m in \u001b[0;36m__getitem__\u001b[0;34m(self, key)\u001b[0m\n\u001b[1;32m    348\u001b[0m         csr_sample_values(self.shape[0], self.shape[1],\n\u001b[1;32m    349\u001b[0m                           \u001b[0mself\u001b[0m\u001b[1;33m.\u001b[0m\u001b[0mindptr\u001b[0m\u001b[1;33m,\u001b[0m \u001b[0mself\u001b[0m\u001b[1;33m.\u001b[0m\u001b[0mindices\u001b[0m\u001b[1;33m,\u001b[0m \u001b[0mself\u001b[0m\u001b[1;33m.\u001b[0m\u001b[0mdata\u001b[0m\u001b[1;33m,\u001b[0m\u001b[1;33m\u001b[0m\u001b[0m\n\u001b[0;32m--> 350\u001b[0;31m                           num_samples, row.ravel(), col.ravel(), val)\n\u001b[0m\u001b[1;32m    351\u001b[0m         \u001b[1;32mif\u001b[0m \u001b[0mrow\u001b[0m\u001b[1;33m.\u001b[0m\u001b[0mndim\u001b[0m \u001b[1;33m==\u001b[0m \u001b[1;36m1\u001b[0m\u001b[1;33m:\u001b[0m\u001b[1;33m\u001b[0m\u001b[0m\n\u001b[1;32m    352\u001b[0m             \u001b[1;31m# row and col are 1d\u001b[0m\u001b[1;33m\u001b[0m\u001b[1;33m\u001b[0m\u001b[0m\n",
      "\u001b[0;31mMemoryError\u001b[0m: "
     ]
    }
   ],
   "source": [
    "X_sparse_150users = X_sparse_150users[:, range(1, X_sparse_150users.shape[1])]"
   ]
  },
  {
   "cell_type": "code",
   "execution_count": 99,
   "metadata": {
    "collapsed": true
   },
   "outputs": [],
   "source": [
    "X_train_150, X_valid_150, y_train_150, y_valid_150 = train_test_split(X_sparse_150users, \n",
    "                                                                      y_150users, test_size=0.3, \n",
    "                                                     random_state=17, stratify=y_150users)"
   ]
  },
  {
   "cell_type": "markdown",
   "metadata": {},
   "source": [
    "**Обучите `LogisticRegressionCV` для одного значения параметра `C` (лучшего на кросс-валидации в 1 части, используйте точное значение, не на глаз). Теперь будем решать 150 задач \"Один-против-Всех\", поэтому укажите аргумент `multi_class`='ovr'. Как всегда, где возможно, указывайте `n_jobs=-1` и `random_state`=17.**"
   ]
  },
  {
   "cell_type": "code",
   "execution_count": 100,
   "metadata": {
    "collapsed": false
   },
   "outputs": [
    {
     "name": "stdout",
     "output_type": "stream",
     "text": [
      "Wall time: 11min 17s\n"
     ]
    }
   ],
   "source": [
    "%%time\n",
    "logit_cv_150users = LogisticRegressionCV(Cs=[3.42105263], multi_class='ovr', random_state=17, n_jobs=-1)\n",
    "logit_cv_150users.fit(X_train_150, y_train_150)"
   ]
  },
  {
   "cell_type": "markdown",
   "metadata": {},
   "source": [
    "**Посмотрите на средние доли правильных ответов на кросс-валидации в задаче идентификации каждого пользователя по отдельности.**"
   ]
  },
  {
   "cell_type": "code",
   "execution_count": 101,
   "metadata": {
    "collapsed": false
   },
   "outputs": [
    {
     "name": "stdout",
     "output_type": "stream",
     "text": [
      "User 256 CV score: 0.995985927579\n",
      "User 640 CV score: 0.99722681495\n",
      "User 258 CV score: 0.995829450836\n",
      "User 259 CV score: 0.994870323777\n",
      "User 260 CV score: 0.997268605371\n",
      "User 261 CV score: 0.989615727661\n",
      "User 6 CV score: 0.995985556119\n",
      "User 263 CV score: 0.992858026715\n",
      "User 264 CV score: 0.996507222925\n",
      "User 780 CV score: 0.99643422481\n",
      "User 13 CV score: 0.996319699258\n",
      "User 270 CV score: 0.989438473915\n",
      "User 15 CV score: 0.995256195466\n",
      "User 16 CV score: 0.991753182925\n",
      "User 273 CV score: 0.994307213809\n",
      "User 515 CV score: 0.994119604917\n",
      "User 533 CV score: 0.993744413803\n",
      "User 28 CV score: 0.990303414153\n",
      "User 797 CV score: 0.995766941492\n",
      "User 1054 CV score: 0.996486390685\n",
      "User 31 CV score: 0.994150953546\n",
      "User 1040 CV score: 0.99711207681\n",
      "User 33 CV score: 0.993692229042\n",
      "User 859 CV score: 0.998248155438\n",
      "User 1798 CV score: 0.996611754164\n",
      "User 294 CV score: 0.995621085249\n",
      "User 39 CV score: 0.985997634085\n",
      "User 298 CV score: 0.991252659742\n",
      "User 812 CV score: 0.994703480312\n",
      "User 301 CV score: 0.997236875602\n",
      "User 46 CV score: 0.998008502246\n",
      "User 49 CV score: 0.995204433036\n",
      "User 50 CV score: 0.994411809964\n",
      "User 563 CV score: 0.996799128639\n",
      "User 308 CV score: 0.995683910343\n",
      "User 53 CV score: 0.993577651197\n",
      "User 568 CV score: 0.991815660759\n",
      "User 564 CV score: 0.995704389061\n",
      "User 570 CV score: 0.998248428576\n",
      "User 315 CV score: 0.99746644973\n",
      "User 573 CV score: 0.990595380417\n",
      "User 318 CV score: 0.995933920577\n",
      "User 575 CV score: 0.990272469443\n",
      "User 576 CV score: 0.993942526934\n",
      "User 65 CV score: 0.996757577949\n",
      "User 66 CV score: 0.99480784205\n",
      "User 580 CV score: 0.986623344884\n",
      "User 2118 CV score: 0.99766443455\n",
      "User 327 CV score: 0.996496560288\n",
      "User 584 CV score: 0.981232918823\n",
      "User 2355 CV score: 0.995965241588\n",
      "User 332 CV score: 0.996715697938\n",
      "User 333 CV score: 0.996152549724\n",
      "User 269 CV score: 0.98686297435\n",
      "User 82 CV score: 0.996319491985\n",
      "User 339 CV score: 0.99702828338\n",
      "User 340 CV score: 0.996496852786\n",
      "User 85 CV score: 0.996298942562\n",
      "User 342 CV score: 0.992097157613\n",
      "User 569 CV score: 0.989355374432\n",
      "User 344 CV score: 0.996611524113\n",
      "User 89 CV score: 0.99047048188\n",
      "User 603 CV score: 0.995558076607\n",
      "User 92 CV score: 0.994359554499\n",
      "User 605 CV score: 0.997528968754\n",
      "User 351 CV score: 0.99222197045\n",
      "User 784 CV score: 0.996673963227\n",
      "User 356 CV score: 0.99764371126\n",
      "User 102 CV score: 0.991231771317\n",
      "User 103 CV score: 0.980951884443\n",
      "User 600 CV score: 0.9916281332\n",
      "User 361 CV score: 0.99625719912\n",
      "User 106 CV score: 0.99472398323\n",
      "User 363 CV score: 0.996423580585\n",
      "User 677 CV score: 0.996736703571\n",
      "User 1299 CV score: 0.997028344879\n",
      "User 2902 CV score: 0.997205611249\n",
      "User 118 CV score: 0.990929330803\n",
      "User 105 CV score: 0.996903537355\n",
      "User 120 CV score: 0.994338737253\n",
      "User 126 CV score: 0.995058107484\n",
      "User 127 CV score: 0.991501888335\n",
      "User 128 CV score: 0.984892774253\n",
      "User 2408 CV score: 0.993514854669\n",
      "User 875 CV score: 0.995714708805\n",
      "User 647 CV score: 0.997821123405\n",
      "User 138 CV score: 0.997153557743\n",
      "User 653 CV score: 0.997289211926\n",
      "User 2191 CV score: 0.995329151917\n",
      "User 664 CV score: 0.995172543446\n",
      "User 665 CV score: 0.996986779669\n",
      "User 411 CV score: 0.991324904782\n",
      "User 692 CV score: 0.99696613629\n",
      "User 158 CV score: 0.997039031717\n",
      "User 160 CV score: 0.996747079973\n",
      "User 417 CV score: 0.996695068131\n",
      "User 932 CV score: 0.990407456723\n",
      "User 165 CV score: 0.997258092874\n",
      "User 425 CV score: 0.994098857427\n",
      "User 2174 CV score: 0.995579487107\n",
      "User 583 CV score: 0.980982733774\n",
      "User 172 CV score: 0.9964969792\n",
      "User 430 CV score: 0.996079847051\n",
      "User 177 CV score: 0.99685100733\n",
      "User 435 CV score: 0.996945158749\n",
      "User 436 CV score: 0.995235217925\n",
      "User 1993 CV score: 0.996819735194\n",
      "User 440 CV score: 0.996913819326\n",
      "User 697 CV score: 0.995829169441\n",
      "User 705 CV score: 0.996434418038\n",
      "User 287 CV score: 0.989980292487\n",
      "User 444 CV score: 0.9978521243\n",
      "User 2493 CV score: 0.996632431424\n",
      "User 100 CV score: 0.994568122994\n",
      "User 785 CV score: 0.996892996766\n",
      "User 1014 CV score: 0.997216279201\n",
      "User 844 CV score: 0.99690369765\n",
      "User 2250 CV score: 0.997185071507\n",
      "User 203 CV score: 0.997508000419\n",
      "User 207 CV score: 0.987634464426\n",
      "User 2625 CV score: 0.996079904183\n",
      "User 722 CV score: 0.994766117494\n",
      "User 1797 CV score: 0.995151962039\n",
      "User 561 CV score: 0.984235414544\n",
      "User 868 CV score: 0.996559427521\n",
      "User 1371 CV score: 0.99347338873\n",
      "User 475 CV score: 0.989177721133\n",
      "User 476 CV score: 0.996914120082\n",
      "User 996 CV score: 0.993462833147\n",
      "User 223 CV score: 0.996403040369\n",
      "User 1248 CV score: 0.99780008484\n",
      "User 740 CV score: 0.996528492964\n",
      "User 741 CV score: 0.996715824827\n",
      "User 486 CV score: 0.995287426412\n",
      "User 233 CV score: 0.996329957503\n",
      "User 235 CV score: 0.996548844793\n",
      "User 236 CV score: 0.990157952622\n",
      "User 237 CV score: 0.989240118108\n",
      "User 238 CV score: 0.996111135603\n",
      "User 240 CV score: 0.995735719278\n",
      "User 241 CV score: 0.995996529666\n",
      "User 242 CV score: 0.995005935347\n",
      "User 1267 CV score: 0.997341444613\n",
      "User 756 CV score: 0.995652438718\n",
      "User 245 CV score: 0.996163194897\n",
      "User 246 CV score: 0.997017964585\n",
      "User 249 CV score: 0.994995522121\n",
      "User 119 CV score: 0.996642787991\n",
      "User 252 CV score: 0.996496776767\n",
      "User 254 CV score: 0.991982395747\n"
     ]
    }
   ],
   "source": [
    "cv_scores_by_user = {}\n",
    "for user_id in logit_cv_150users.scores_:\n",
    "    print('User ' +str(user_id) + ' CV score: ' + str(logit_cv_150users.scores_[user_id].mean()))"
   ]
  },
  {
   "cell_type": "markdown",
   "metadata": {},
   "source": [
    "**Результаты кажутся впечатляющими, но возможно, мы забываем про дисбаланс классов, и высокую долю правильных ответов можно получить константным прогнозом. Посчитайте для каждого пользователя разницу между долей правильных ответов на кросс-валидации (только что посчитанную с помощью `LogisticRegressionCV`) и долей меток в *y_train_150*, отличных от ID \n",
    " этого пользователя (именно такую долю правильных ответов можно получить, если классификатор всегда \"говорит\", что это не пользователь с номером $i$ в задаче классификации $i$-vs-All).**"
   ]
  },
  {
   "cell_type": "code",
   "execution_count": 108,
   "metadata": {
    "collapsed": false
   },
   "outputs": [
    {
     "name": "stdout",
     "output_type": "stream",
     "text": [
      "[ 6 13 15 16 28 31 33 39 46 49]\n",
      "95913\n"
     ]
    }
   ],
   "source": [
    "class_distr = np.bincount(y_train_150.astype('int'))\n",
    "\n",
    "#print(len(class_distr[class_distr>0]), len(y_train_150.unique()))\n",
    "class_distr = class_distr[class_distr>0]\n",
    "\n",
    "vals = np.sort(y_train_150.unique())\n",
    "print(vals[0:10])\n",
    "\n",
    "print(class_distr.sum())\n",
    "\n",
    "nums = []\n",
    "\n",
    "for j in range(len(vals)):\n",
    "    user = vals[j]\n",
    "    prob = 1-class_distr[j]/class_distr.sum()\n",
    "    real = logit_cv_150users.scores_[user].mean()\n",
    "    if real > prob:\n",
    "        nums.append(user)"
   ]
  },
  {
   "cell_type": "code",
   "execution_count": 109,
   "metadata": {
    "collapsed": false
   },
   "outputs": [
    {
     "name": "stdout",
     "output_type": "stream",
     "text": [
      "95913 41106\n"
     ]
    }
   ],
   "source": [
    "print(len(y_train_150), len(y_valid_150))"
   ]
  },
  {
   "cell_type": "code",
   "execution_count": 111,
   "metadata": {
    "collapsed": false
   },
   "outputs": [
    {
     "data": {
      "text/plain": [
       "(0.8, 120)"
      ]
     },
     "execution_count": 111,
     "metadata": {},
     "output_type": "execute_result"
    }
   ],
   "source": [
    "len(nums)/150, len(nums)"
   ]
  },
  {
   "cell_type": "code",
   "execution_count": null,
   "metadata": {
    "collapsed": true
   },
   "outputs": [],
   "source": [
    "num_better_than_default = (np.array(list(acc_diff_vs_constant.values())) > 0).sum()"
   ]
  },
  {
   "cell_type": "markdown",
   "metadata": {},
   "source": [
    "**<font color='red'>Вопрос 7. </font> Посчитайте долю пользователей, для которых логистическая регрессия на кросс-валидации дает прогноз лучше константного. Округлите до 3 знаков после запятой.**"
   ]
  },
  {
   "cell_type": "code",
   "execution_count": null,
   "metadata": {
    "collapsed": true
   },
   "outputs": [],
   "source": [
    "''' ВАШ КОД ЗДЕСЬ '''"
   ]
  },
  {
   "cell_type": "markdown",
   "metadata": {},
   "source": [
    "**Дальше будем строить кривые обучения для конкретного пользователя, допустим, для 128-го. Составьте новый бинарный вектор на основе *y_150users*, его значения будут 1 или 0 в зависимости от того, равен ли ID-шник пользователя 128.**"
   ]
  },
  {
   "cell_type": "code",
   "execution_count": 124,
   "metadata": {
    "collapsed": false
   },
   "outputs": [],
   "source": [
    "y_150users=pd.DataFrame(y_150users)"
   ]
  },
  {
   "cell_type": "code",
   "execution_count": 126,
   "metadata": {
    "collapsed": false
   },
   "outputs": [
    {
     "data": {
      "text/plain": [
       "Index(['user_id'], dtype='object')"
      ]
     },
     "execution_count": 126,
     "metadata": {},
     "output_type": "execute_result"
    }
   ],
   "source": [
    "y_150users.columns"
   ]
  },
  {
   "cell_type": "code",
   "execution_count": 140,
   "metadata": {
    "collapsed": false
   },
   "outputs": [],
   "source": [
    "y_150users['bin'] = (1-abs(np.sign(y_150users.user_id - 128))) "
   ]
  },
  {
   "cell_type": "code",
   "execution_count": 141,
   "metadata": {
    "collapsed": false
   },
   "outputs": [],
   "source": [
    "y_binary_128 = y_150users.bin.values"
   ]
  },
  {
   "cell_type": "code",
   "execution_count": 147,
   "metadata": {
    "collapsed": false
   },
   "outputs": [
    {
     "data": {
      "text/plain": [
       "array([1, 1, 1, ..., 1, 1, 1], dtype=int64)"
      ]
     },
     "execution_count": 147,
     "metadata": {},
     "output_type": "execute_result"
    }
   ],
   "source": [
    "y_binary_128[y_binary_128>0]"
   ]
  },
  {
   "cell_type": "code",
   "execution_count": 144,
   "metadata": {
    "collapsed": true
   },
   "outputs": [],
   "source": [
    "from sklearn.model_selection import learning_curve\n",
    "\n",
    "def plot_learning_curve(val_train, val_test, train_sizes, \n",
    "                        xlabel='Training Set Size', ylabel='score'):\n",
    "    def plot_with_err(x, data, **kwargs):\n",
    "        mu, std = data.mean(1), data.std(1)\n",
    "        lines = plt.plot(x, mu, '-', **kwargs)\n",
    "        plt.fill_between(x, mu - std, mu + std, edgecolor='none',\n",
    "                         facecolor=lines[0].get_color(), alpha=0.2)\n",
    "    plot_with_err(train_sizes, val_train, label='train')\n",
    "    plot_with_err(train_sizes, val_test, label='valid')\n",
    "    plt.xlabel(xlabel); plt.ylabel(ylabel)\n",
    "    plt.legend(loc='lower right');"
   ]
  },
  {
   "cell_type": "markdown",
   "metadata": {},
   "source": [
    "**Посчитайте доли правильных ответов на кросс-валидации в задаче классификации \"user128-vs-All\" в зависимости от размера выборки. Не помешает посмотреть встроенную документацию для *learning_curve*.**"
   ]
  },
  {
   "cell_type": "code",
   "execution_count": 145,
   "metadata": {
    "collapsed": false
   },
   "outputs": [
    {
     "ename": "JoblibValueError",
     "evalue": "JoblibValueError\n___________________________________________________________________________\nMultiprocessing exception:\n...........................................................................\nC:\\Users\\user\\Anaconda3\\lib\\runpy.py in _run_module_as_main(mod_name='ipykernel.__main__', alter_argv=1)\n    179         sys.exit(msg)\n    180     main_globals = sys.modules[\"__main__\"].__dict__\n    181     if alter_argv:\n    182         sys.argv[0] = mod_spec.origin\n    183     return _run_code(code, main_globals, None,\n--> 184                      \"__main__\", mod_spec)\n        mod_spec = ModuleSpec(name='ipykernel.__main__', loader=<_f...da3\\\\lib\\\\site-packages\\\\ipykernel\\\\__main__.py')\n    185 \n    186 def run_module(mod_name, init_globals=None,\n    187                run_name=None, alter_sys=False):\n    188     \"\"\"Execute a module's code without importing it\n\n...........................................................................\nC:\\Users\\user\\Anaconda3\\lib\\runpy.py in _run_code(code=<code object <module> at 0x00000000011C9B70, fil...lib\\site-packages\\ipykernel\\__main__.py\", line 1>, run_globals={'__builtins__': <module 'builtins' (built-in)>, '__cached__': r'C:\\Users\\user\\Anaconda3\\lib\\site-packages\\ipykernel\\__pycache__\\__main__.cpython-35.pyc', '__doc__': None, '__file__': r'C:\\Users\\user\\Anaconda3\\lib\\site-packages\\ipykernel\\__main__.py', '__loader__': <_frozen_importlib_external.SourceFileLoader object>, '__name__': '__main__', '__package__': 'ipykernel', '__spec__': ModuleSpec(name='ipykernel.__main__', loader=<_f...da3\\\\lib\\\\site-packages\\\\ipykernel\\\\__main__.py'), 'app': <module 'ipykernel.kernelapp' from 'C:\\\\Users\\\\u...a3\\\\lib\\\\site-packages\\\\ipykernel\\\\kernelapp.py'>}, init_globals=None, mod_name='__main__', mod_spec=ModuleSpec(name='ipykernel.__main__', loader=<_f...da3\\\\lib\\\\site-packages\\\\ipykernel\\\\__main__.py'), pkg_name='ipykernel', script_name=None)\n     80                        __cached__ = cached,\n     81                        __doc__ = None,\n     82                        __loader__ = loader,\n     83                        __package__ = pkg_name,\n     84                        __spec__ = mod_spec)\n---> 85     exec(code, run_globals)\n        code = <code object <module> at 0x00000000011C9B70, fil...lib\\site-packages\\ipykernel\\__main__.py\", line 1>\n        run_globals = {'__builtins__': <module 'builtins' (built-in)>, '__cached__': r'C:\\Users\\user\\Anaconda3\\lib\\site-packages\\ipykernel\\__pycache__\\__main__.cpython-35.pyc', '__doc__': None, '__file__': r'C:\\Users\\user\\Anaconda3\\lib\\site-packages\\ipykernel\\__main__.py', '__loader__': <_frozen_importlib_external.SourceFileLoader object>, '__name__': '__main__', '__package__': 'ipykernel', '__spec__': ModuleSpec(name='ipykernel.__main__', loader=<_f...da3\\\\lib\\\\site-packages\\\\ipykernel\\\\__main__.py'), 'app': <module 'ipykernel.kernelapp' from 'C:\\\\Users\\\\u...a3\\\\lib\\\\site-packages\\\\ipykernel\\\\kernelapp.py'>}\n     86     return run_globals\n     87 \n     88 def _run_module_code(code, init_globals=None,\n     89                     mod_name=None, mod_spec=None,\n\n...........................................................................\nC:\\Users\\user\\Anaconda3\\lib\\site-packages\\ipykernel\\__main__.py in <module>()\n      1 \n      2 \n----> 3 \n      4 if __name__ == '__main__':\n      5     from ipykernel import kernelapp as app\n      6     app.launch_new_instance()\n      7 \n      8 \n      9 \n     10 \n\n...........................................................................\nC:\\Users\\user\\Anaconda3\\lib\\site-packages\\traitlets\\config\\application.py in launch_instance(cls=<class 'ipykernel.kernelapp.IPKernelApp'>, argv=None, **kwargs={})\n    653 \n    654         If a global instance already exists, this reinitializes and starts it\n    655         \"\"\"\n    656         app = cls.instance(**kwargs)\n    657         app.initialize(argv)\n--> 658         app.start()\n        app.start = <bound method IPKernelApp.start of <ipykernel.kernelapp.IPKernelApp object>>\n    659 \n    660 #-----------------------------------------------------------------------------\n    661 # utility functions, for convenience\n    662 #-----------------------------------------------------------------------------\n\n...........................................................................\nC:\\Users\\user\\Anaconda3\\lib\\site-packages\\ipykernel\\kernelapp.py in start(self=<ipykernel.kernelapp.IPKernelApp object>)\n    469             return self.subapp.start()\n    470         if self.poller is not None:\n    471             self.poller.start()\n    472         self.kernel.start()\n    473         try:\n--> 474             ioloop.IOLoop.instance().start()\n    475         except KeyboardInterrupt:\n    476             pass\n    477 \n    478 launch_new_instance = IPKernelApp.launch_instance\n\n...........................................................................\nC:\\Users\\user\\Anaconda3\\lib\\site-packages\\zmq\\eventloop\\ioloop.py in start(self=<zmq.eventloop.ioloop.ZMQIOLoop object>)\n    172             )\n    173         return loop\n    174     \n    175     def start(self):\n    176         try:\n--> 177             super(ZMQIOLoop, self).start()\n        self.start = <bound method ZMQIOLoop.start of <zmq.eventloop.ioloop.ZMQIOLoop object>>\n    178         except ZMQError as e:\n    179             if e.errno == ETERM:\n    180                 # quietly return on ETERM\n    181                 pass\n\n...........................................................................\nC:\\Users\\user\\Anaconda3\\lib\\site-packages\\tornado\\ioloop.py in start(self=<zmq.eventloop.ioloop.ZMQIOLoop object>)\n    882                 self._events.update(event_pairs)\n    883                 while self._events:\n    884                     fd, events = self._events.popitem()\n    885                     try:\n    886                         fd_obj, handler_func = self._handlers[fd]\n--> 887                         handler_func(fd_obj, events)\n        handler_func = <function wrap.<locals>.null_wrapper>\n        fd_obj = <zmq.sugar.socket.Socket object>\n        events = 1\n    888                     except (OSError, IOError) as e:\n    889                         if errno_from_exception(e) == errno.EPIPE:\n    890                             # Happens when the client closes the connection\n    891                             pass\n\n...........................................................................\nC:\\Users\\user\\Anaconda3\\lib\\site-packages\\tornado\\stack_context.py in null_wrapper(*args=(<zmq.sugar.socket.Socket object>, 1), **kwargs={})\n    270         # Fast path when there are no active contexts.\n    271         def null_wrapper(*args, **kwargs):\n    272             try:\n    273                 current_state = _state.contexts\n    274                 _state.contexts = cap_contexts[0]\n--> 275                 return fn(*args, **kwargs)\n        args = (<zmq.sugar.socket.Socket object>, 1)\n        kwargs = {}\n    276             finally:\n    277                 _state.contexts = current_state\n    278         null_wrapper._wrapped = True\n    279         return null_wrapper\n\n...........................................................................\nC:\\Users\\user\\Anaconda3\\lib\\site-packages\\zmq\\eventloop\\zmqstream.py in _handle_events(self=<zmq.eventloop.zmqstream.ZMQStream object>, fd=<zmq.sugar.socket.Socket object>, events=1)\n    435             # dispatch events:\n    436             if events & IOLoop.ERROR:\n    437                 gen_log.error(\"got POLLERR event on ZMQStream, which doesn't make sense\")\n    438                 return\n    439             if events & IOLoop.READ:\n--> 440                 self._handle_recv()\n        self._handle_recv = <bound method ZMQStream._handle_recv of <zmq.eventloop.zmqstream.ZMQStream object>>\n    441                 if not self.socket:\n    442                     return\n    443             if events & IOLoop.WRITE:\n    444                 self._handle_send()\n\n...........................................................................\nC:\\Users\\user\\Anaconda3\\lib\\site-packages\\zmq\\eventloop\\zmqstream.py in _handle_recv(self=<zmq.eventloop.zmqstream.ZMQStream object>)\n    467                 gen_log.error(\"RECV Error: %s\"%zmq.strerror(e.errno))\n    468         else:\n    469             if self._recv_callback:\n    470                 callback = self._recv_callback\n    471                 # self._recv_callback = None\n--> 472                 self._run_callback(callback, msg)\n        self._run_callback = <bound method ZMQStream._run_callback of <zmq.eventloop.zmqstream.ZMQStream object>>\n        callback = <function wrap.<locals>.null_wrapper>\n        msg = [<zmq.sugar.frame.Frame object>, <zmq.sugar.frame.Frame object>, <zmq.sugar.frame.Frame object>, <zmq.sugar.frame.Frame object>, <zmq.sugar.frame.Frame object>, <zmq.sugar.frame.Frame object>, <zmq.sugar.frame.Frame object>]\n    473                 \n    474         # self.update_state()\n    475         \n    476 \n\n...........................................................................\nC:\\Users\\user\\Anaconda3\\lib\\site-packages\\zmq\\eventloop\\zmqstream.py in _run_callback(self=<zmq.eventloop.zmqstream.ZMQStream object>, callback=<function wrap.<locals>.null_wrapper>, *args=([<zmq.sugar.frame.Frame object>, <zmq.sugar.frame.Frame object>, <zmq.sugar.frame.Frame object>, <zmq.sugar.frame.Frame object>, <zmq.sugar.frame.Frame object>, <zmq.sugar.frame.Frame object>, <zmq.sugar.frame.Frame object>],), **kwargs={})\n    409         close our socket.\"\"\"\n    410         try:\n    411             # Use a NullContext to ensure that all StackContexts are run\n    412             # inside our blanket exception handler rather than outside.\n    413             with stack_context.NullContext():\n--> 414                 callback(*args, **kwargs)\n        callback = <function wrap.<locals>.null_wrapper>\n        args = ([<zmq.sugar.frame.Frame object>, <zmq.sugar.frame.Frame object>, <zmq.sugar.frame.Frame object>, <zmq.sugar.frame.Frame object>, <zmq.sugar.frame.Frame object>, <zmq.sugar.frame.Frame object>, <zmq.sugar.frame.Frame object>],)\n        kwargs = {}\n    415         except:\n    416             gen_log.error(\"Uncaught exception, closing connection.\",\n    417                           exc_info=True)\n    418             # Close the socket on an uncaught exception from a user callback\n\n...........................................................................\nC:\\Users\\user\\Anaconda3\\lib\\site-packages\\tornado\\stack_context.py in null_wrapper(*args=([<zmq.sugar.frame.Frame object>, <zmq.sugar.frame.Frame object>, <zmq.sugar.frame.Frame object>, <zmq.sugar.frame.Frame object>, <zmq.sugar.frame.Frame object>, <zmq.sugar.frame.Frame object>, <zmq.sugar.frame.Frame object>],), **kwargs={})\n    270         # Fast path when there are no active contexts.\n    271         def null_wrapper(*args, **kwargs):\n    272             try:\n    273                 current_state = _state.contexts\n    274                 _state.contexts = cap_contexts[0]\n--> 275                 return fn(*args, **kwargs)\n        args = ([<zmq.sugar.frame.Frame object>, <zmq.sugar.frame.Frame object>, <zmq.sugar.frame.Frame object>, <zmq.sugar.frame.Frame object>, <zmq.sugar.frame.Frame object>, <zmq.sugar.frame.Frame object>, <zmq.sugar.frame.Frame object>],)\n        kwargs = {}\n    276             finally:\n    277                 _state.contexts = current_state\n    278         null_wrapper._wrapped = True\n    279         return null_wrapper\n\n...........................................................................\nC:\\Users\\user\\Anaconda3\\lib\\site-packages\\ipykernel\\kernelbase.py in dispatcher(msg=[<zmq.sugar.frame.Frame object>, <zmq.sugar.frame.Frame object>, <zmq.sugar.frame.Frame object>, <zmq.sugar.frame.Frame object>, <zmq.sugar.frame.Frame object>, <zmq.sugar.frame.Frame object>, <zmq.sugar.frame.Frame object>])\n    271         if self.control_stream:\n    272             self.control_stream.on_recv(self.dispatch_control, copy=False)\n    273 \n    274         def make_dispatcher(stream):\n    275             def dispatcher(msg):\n--> 276                 return self.dispatch_shell(stream, msg)\n        msg = [<zmq.sugar.frame.Frame object>, <zmq.sugar.frame.Frame object>, <zmq.sugar.frame.Frame object>, <zmq.sugar.frame.Frame object>, <zmq.sugar.frame.Frame object>, <zmq.sugar.frame.Frame object>, <zmq.sugar.frame.Frame object>]\n    277             return dispatcher\n    278 \n    279         for s in self.shell_streams:\n    280             s.on_recv(make_dispatcher(s), copy=False)\n\n...........................................................................\nC:\\Users\\user\\Anaconda3\\lib\\site-packages\\ipykernel\\kernelbase.py in dispatch_shell(self=<ipykernel.ipkernel.IPythonKernel object>, stream=<zmq.eventloop.zmqstream.ZMQStream object>, msg={'buffers': [], 'content': {'allow_stdin': True, 'code': '%%time\\ntrain_sizes = np.linspace(0.25, 1, 20)\\nes...inary_128, train_sizes=train_sizes, n_jobs = -1)\\n', 'silent': False, 'stop_on_error': True, 'store_history': True, 'user_expressions': {}}, 'header': {'date': '2017-10-21T01:55:49.181231', 'msg_id': 'F7EAB1798285484587F937D21EF1BB8C', 'msg_type': 'execute_request', 'session': '37B45472E14148B489DB2BEF40FBE841', 'username': 'username', 'version': '5.0'}, 'metadata': {}, 'msg_id': 'F7EAB1798285484587F937D21EF1BB8C', 'msg_type': 'execute_request', 'parent_header': {}})\n    223             self.log.error(\"UNKNOWN MESSAGE TYPE: %r\", msg_type)\n    224         else:\n    225             self.log.debug(\"%s: %s\", msg_type, msg)\n    226             self.pre_handler_hook()\n    227             try:\n--> 228                 handler(stream, idents, msg)\n        handler = <bound method Kernel.execute_request of <ipykernel.ipkernel.IPythonKernel object>>\n        stream = <zmq.eventloop.zmqstream.ZMQStream object>\n        idents = [b'37B45472E14148B489DB2BEF40FBE841']\n        msg = {'buffers': [], 'content': {'allow_stdin': True, 'code': '%%time\\ntrain_sizes = np.linspace(0.25, 1, 20)\\nes...inary_128, train_sizes=train_sizes, n_jobs = -1)\\n', 'silent': False, 'stop_on_error': True, 'store_history': True, 'user_expressions': {}}, 'header': {'date': '2017-10-21T01:55:49.181231', 'msg_id': 'F7EAB1798285484587F937D21EF1BB8C', 'msg_type': 'execute_request', 'session': '37B45472E14148B489DB2BEF40FBE841', 'username': 'username', 'version': '5.0'}, 'metadata': {}, 'msg_id': 'F7EAB1798285484587F937D21EF1BB8C', 'msg_type': 'execute_request', 'parent_header': {}}\n    229             except Exception:\n    230                 self.log.error(\"Exception in message handler:\", exc_info=True)\n    231             finally:\n    232                 self.post_handler_hook()\n\n...........................................................................\nC:\\Users\\user\\Anaconda3\\lib\\site-packages\\ipykernel\\kernelbase.py in execute_request(self=<ipykernel.ipkernel.IPythonKernel object>, stream=<zmq.eventloop.zmqstream.ZMQStream object>, ident=[b'37B45472E14148B489DB2BEF40FBE841'], parent={'buffers': [], 'content': {'allow_stdin': True, 'code': '%%time\\ntrain_sizes = np.linspace(0.25, 1, 20)\\nes...inary_128, train_sizes=train_sizes, n_jobs = -1)\\n', 'silent': False, 'stop_on_error': True, 'store_history': True, 'user_expressions': {}}, 'header': {'date': '2017-10-21T01:55:49.181231', 'msg_id': 'F7EAB1798285484587F937D21EF1BB8C', 'msg_type': 'execute_request', 'session': '37B45472E14148B489DB2BEF40FBE841', 'username': 'username', 'version': '5.0'}, 'metadata': {}, 'msg_id': 'F7EAB1798285484587F937D21EF1BB8C', 'msg_type': 'execute_request', 'parent_header': {}})\n    385         if not silent:\n    386             self.execution_count += 1\n    387             self._publish_execute_input(code, parent, self.execution_count)\n    388 \n    389         reply_content = self.do_execute(code, silent, store_history,\n--> 390                                         user_expressions, allow_stdin)\n        user_expressions = {}\n        allow_stdin = True\n    391 \n    392         # Flush output before sending the reply.\n    393         sys.stdout.flush()\n    394         sys.stderr.flush()\n\n...........................................................................\nC:\\Users\\user\\Anaconda3\\lib\\site-packages\\ipykernel\\ipkernel.py in do_execute(self=<ipykernel.ipkernel.IPythonKernel object>, code='%%time\\ntrain_sizes = np.linspace(0.25, 1, 20)\\nes...inary_128, train_sizes=train_sizes, n_jobs = -1)\\n', silent=False, store_history=True, user_expressions={}, allow_stdin=True)\n    191 \n    192         self._forward_input(allow_stdin)\n    193 \n    194         reply_content = {}\n    195         try:\n--> 196             res = shell.run_cell(code, store_history=store_history, silent=silent)\n        res = undefined\n        shell.run_cell = <bound method ZMQInteractiveShell.run_cell of <ipykernel.zmqshell.ZMQInteractiveShell object>>\n        code = '%%time\\ntrain_sizes = np.linspace(0.25, 1, 20)\\nes...inary_128, train_sizes=train_sizes, n_jobs = -1)\\n'\n        store_history = True\n        silent = False\n    197         finally:\n    198             self._restore_input()\n    199 \n    200         if res.error_before_exec is not None:\n\n...........................................................................\nC:\\Users\\user\\Anaconda3\\lib\\site-packages\\ipykernel\\zmqshell.py in run_cell(self=<ipykernel.zmqshell.ZMQInteractiveShell object>, *args=('%%time\\ntrain_sizes = np.linspace(0.25, 1, 20)\\nes...inary_128, train_sizes=train_sizes, n_jobs = -1)\\n',), **kwargs={'silent': False, 'store_history': True})\n    496             )\n    497         self.payload_manager.write_payload(payload)\n    498 \n    499     def run_cell(self, *args, **kwargs):\n    500         self._last_traceback = None\n--> 501         return super(ZMQInteractiveShell, self).run_cell(*args, **kwargs)\n        self.run_cell = <bound method ZMQInteractiveShell.run_cell of <ipykernel.zmqshell.ZMQInteractiveShell object>>\n        args = ('%%time\\ntrain_sizes = np.linspace(0.25, 1, 20)\\nes...inary_128, train_sizes=train_sizes, n_jobs = -1)\\n',)\n        kwargs = {'silent': False, 'store_history': True}\n    502 \n    503     def _showtraceback(self, etype, evalue, stb):\n    504         # try to preserve ordering of tracebacks and print statements\n    505         sys.stdout.flush()\n\n...........................................................................\nC:\\Users\\user\\Anaconda3\\lib\\site-packages\\IPython\\core\\interactiveshell.py in run_cell(self=<ipykernel.zmqshell.ZMQInteractiveShell object>, raw_cell='%%time\\ntrain_sizes = np.linspace(0.25, 1, 20)\\nes...inary_128, train_sizes=train_sizes, n_jobs = -1)\\n', store_history=True, silent=False, shell_futures=True)\n   2712                 self.displayhook.exec_result = result\n   2713 \n   2714                 # Execute the user code\n   2715                 interactivity = \"none\" if silent else self.ast_node_interactivity\n   2716                 has_raised = self.run_ast_nodes(code_ast.body, cell_name,\n-> 2717                    interactivity=interactivity, compiler=compiler, result=result)\n        interactivity = 'last_expr'\n        compiler = <IPython.core.compilerop.CachingCompiler object>\n   2718                 \n   2719                 self.last_execution_succeeded = not has_raised\n   2720 \n   2721                 # Reset this so later displayed values do not modify the\n\n...........................................................................\nC:\\Users\\user\\Anaconda3\\lib\\site-packages\\IPython\\core\\interactiveshell.py in run_ast_nodes(self=<ipykernel.zmqshell.ZMQInteractiveShell object>, nodelist=[<_ast.Expr object>], cell_name='<ipython-input-145-5329c2c8319b>', interactivity='last', compiler=<IPython.core.compilerop.CachingCompiler object>, result=<ExecutionResult object at d611eb8, execution_co..._before_exec=None error_in_exec=None result=None>)\n   2822                     return True\n   2823 \n   2824             for i, node in enumerate(to_run_interactive):\n   2825                 mod = ast.Interactive([node])\n   2826                 code = compiler(mod, cell_name, \"single\")\n-> 2827                 if self.run_code(code, result):\n        self.run_code = <bound method InteractiveShell.run_code of <ipykernel.zmqshell.ZMQInteractiveShell object>>\n        code = <code object <module> at 0x000000000D6654B0, file \"<ipython-input-145-5329c2c8319b>\", line 1>\n        result = <ExecutionResult object at d611eb8, execution_co..._before_exec=None error_in_exec=None result=None>\n   2828                     return True\n   2829 \n   2830             # Flush softspace\n   2831             if softspace(sys.stdout, 0):\n\n...........................................................................\nC:\\Users\\user\\Anaconda3\\lib\\site-packages\\IPython\\core\\interactiveshell.py in run_code(self=<ipykernel.zmqshell.ZMQInteractiveShell object>, code_obj=<code object <module> at 0x000000000D6654B0, file \"<ipython-input-145-5329c2c8319b>\", line 1>, result=<ExecutionResult object at d611eb8, execution_co..._before_exec=None error_in_exec=None result=None>)\n   2876         outflag = 1  # happens in more places, so it's easier as default\n   2877         try:\n   2878             try:\n   2879                 self.hooks.pre_run_code_hook()\n   2880                 #rprint('Running code', repr(code_obj)) # dbg\n-> 2881                 exec(code_obj, self.user_global_ns, self.user_ns)\n        code_obj = <code object <module> at 0x000000000D6654B0, file \"<ipython-input-145-5329c2c8319b>\", line 1>\n        self.user_global_ns = {'GridSearchCV': <class 'sklearn.model_selection._search.GridSearchCV'>, 'In': ['', 'from __future__ import division, print_function\\n...m sklearn.metrics import accuracy_score, f1_score', \"# Поменяйте на свой путь к данным\\nPATH_TO_DATA = '~/capstone_user_identification'\", 'rrr = pickle.load(open(\\'save3.p\\', \"rb\"))', 'y_10users = pickle.load(open(\\'saveuser3.p\\', \"rb\"))\\nX_sparse_10users = rrr[:, range(1, 4914)]', 'len(y_10users), X_sparse_10users.shape[1]', 'X_sparse_10users.shape', 'X_train, X_valid, y_train, y_valid = train_test_...             random_state=17, stratify=y_10users)', 'y_train.reset_index(drop = True, inplace = True)\\ny_valid.reset_index(drop = True, inplace = True)', 'print(X_train[6,:])', 'skf = StratifiedKFold(n_splits=3, shuffle=True, random_state=17)', 'def plot_validation_curves(param_values, grid_cv..._line[0].get_color(), alpha=0.2)\\n    plt.legend()', 'from sklearn.neighbors import KNeighborsClassifier', 'knn = KNeighborsClassifier(n_jobs=-1, n_neighbor...        y=y_train,\\n                cv=skf).mean()', 'ah=knn.predict(X_valid)', 'sss2.fit(X_train, y_train)', 'modres2 = sss2.predict(X_valid)\\nprint(accuracy_s...ss2.best_score_\\n#sss2.cv_results_\\n###0.704, 0.733', \"write_answer_to_file(''' ВАШ КОД ЗДЕСЬ ''',\\n                     'answer4_2.txt')\", \"get_ipython().system('cat answer4_2.txt')\", 'from sklearn.linear_model import LogisticRegression, LogisticRegressionCV', ...], 'KNeighborsClassifier': <class 'sklearn.neighbors.classification.KNeighborsClassifier'>, 'LinearSVC': <class 'sklearn.svm.classes.LinearSVC'>, 'LogisticRegression': <class 'sklearn.linear_model.logistic.LogisticRegression'>, 'LogisticRegressionCV': <class 'sklearn.linear_model.logistic.LogisticRegressionCV'>, 'Out': {5: (14061, 4913), 6: (14061, 4913), 13: 0.56167298405556676, 20: GridSearchCV(cv=StratifiedKFold(n_splits=3, rand...return_train_score=True, scoring=None, verbose=0), 21: (0.78170182507703245, 0.76254826254826258), 24: array([ 0.31679887,  0.47358573,  0.55476721,  0...76082208,  0.7622432 ,  0.75563934,  0.74558182]), 26: {31: array([[ 0.32724505,  0.46940639,  0.55190259,  ...6388041,  0.76357535,  0.75747407,  0.75228798]]), 33: array([[ 0.32724505,  0.46940639,  0.55190259,  ...6388041,  0.76357535,  0.75747407,  0.75228798]]), 39: array([[ 0.32724505,  0.46940639,  0.55190259,  ...6388041,  0.76357535,  0.75747407,  0.75228798]]), 50: array([[ 0.32724505,  0.46940639,  0.55190259,  ...6388041,  0.76357535,  0.75747407,  0.75228798]]), 100: array([[ 0.32724505,  0.46940639,  0.55190259,  ...6388041,  0.76357535,  0.75747407,  0.75228798]]), 127: array([[ 0.32724505,  0.46940639,  0.55190259,  ...6388041,  0.76357535,  0.75747407,  0.75228798]]), 128: array([[ 0.32724505,  0.46940639,  0.55190259,  ...6388041,  0.76357535,  0.75747407,  0.75228798]]), 207: array([[ 0.32724505,  0.46940639,  0.55190259,  ...6388041,  0.76357535,  0.75747407,  0.75228798]]), 237: array([[ 0.32724505,  0.46940639,  0.55190259,  ...6388041,  0.76357535,  0.75747407,  0.75228798]]), 241: array([[ 0.32724505,  0.46940639,  0.55190259,  ...6388041,  0.76357535,  0.75747407,  0.75228798]])}, 27: (array([ 0.31679887,  0.47358573,  0.55476721,  0...76082208,  0.7622432 ,  0.75563934,  0.74558182]), array([  1.00000000e-04,   4.64158883e-04,   2.1...e+00,   2.15443469e+01,\n         1.00000000e+02])), 31: (array([ 0.76315738,  0.7629536 ,  0.76336053,  0...76031324,  0.76010986,  0.76021115,  0.75980483]), array([ 3.        ,  3.21052632,  3.42105263,  3...36842105,  6.57894737,  6.78947368,  7.        ])), 34: 0.78027968712965157, ...}, 'PATH_TO_DATA': '~/capstone_user_identification', 'RandomForestClassifier': <class 'sklearn.ensemble.forest.RandomForestClassifier'>, 'StratifiedKFold': <class 'sklearn.model_selection._split.StratifiedKFold'>, ...}\n        self.user_ns = {'GridSearchCV': <class 'sklearn.model_selection._search.GridSearchCV'>, 'In': ['', 'from __future__ import division, print_function\\n...m sklearn.metrics import accuracy_score, f1_score', \"# Поменяйте на свой путь к данным\\nPATH_TO_DATA = '~/capstone_user_identification'\", 'rrr = pickle.load(open(\\'save3.p\\', \"rb\"))', 'y_10users = pickle.load(open(\\'saveuser3.p\\', \"rb\"))\\nX_sparse_10users = rrr[:, range(1, 4914)]', 'len(y_10users), X_sparse_10users.shape[1]', 'X_sparse_10users.shape', 'X_train, X_valid, y_train, y_valid = train_test_...             random_state=17, stratify=y_10users)', 'y_train.reset_index(drop = True, inplace = True)\\ny_valid.reset_index(drop = True, inplace = True)', 'print(X_train[6,:])', 'skf = StratifiedKFold(n_splits=3, shuffle=True, random_state=17)', 'def plot_validation_curves(param_values, grid_cv..._line[0].get_color(), alpha=0.2)\\n    plt.legend()', 'from sklearn.neighbors import KNeighborsClassifier', 'knn = KNeighborsClassifier(n_jobs=-1, n_neighbor...        y=y_train,\\n                cv=skf).mean()', 'ah=knn.predict(X_valid)', 'sss2.fit(X_train, y_train)', 'modres2 = sss2.predict(X_valid)\\nprint(accuracy_s...ss2.best_score_\\n#sss2.cv_results_\\n###0.704, 0.733', \"write_answer_to_file(''' ВАШ КОД ЗДЕСЬ ''',\\n                     'answer4_2.txt')\", \"get_ipython().system('cat answer4_2.txt')\", 'from sklearn.linear_model import LogisticRegression, LogisticRegressionCV', ...], 'KNeighborsClassifier': <class 'sklearn.neighbors.classification.KNeighborsClassifier'>, 'LinearSVC': <class 'sklearn.svm.classes.LinearSVC'>, 'LogisticRegression': <class 'sklearn.linear_model.logistic.LogisticRegression'>, 'LogisticRegressionCV': <class 'sklearn.linear_model.logistic.LogisticRegressionCV'>, 'Out': {5: (14061, 4913), 6: (14061, 4913), 13: 0.56167298405556676, 20: GridSearchCV(cv=StratifiedKFold(n_splits=3, rand...return_train_score=True, scoring=None, verbose=0), 21: (0.78170182507703245, 0.76254826254826258), 24: array([ 0.31679887,  0.47358573,  0.55476721,  0...76082208,  0.7622432 ,  0.75563934,  0.74558182]), 26: {31: array([[ 0.32724505,  0.46940639,  0.55190259,  ...6388041,  0.76357535,  0.75747407,  0.75228798]]), 33: array([[ 0.32724505,  0.46940639,  0.55190259,  ...6388041,  0.76357535,  0.75747407,  0.75228798]]), 39: array([[ 0.32724505,  0.46940639,  0.55190259,  ...6388041,  0.76357535,  0.75747407,  0.75228798]]), 50: array([[ 0.32724505,  0.46940639,  0.55190259,  ...6388041,  0.76357535,  0.75747407,  0.75228798]]), 100: array([[ 0.32724505,  0.46940639,  0.55190259,  ...6388041,  0.76357535,  0.75747407,  0.75228798]]), 127: array([[ 0.32724505,  0.46940639,  0.55190259,  ...6388041,  0.76357535,  0.75747407,  0.75228798]]), 128: array([[ 0.32724505,  0.46940639,  0.55190259,  ...6388041,  0.76357535,  0.75747407,  0.75228798]]), 207: array([[ 0.32724505,  0.46940639,  0.55190259,  ...6388041,  0.76357535,  0.75747407,  0.75228798]]), 237: array([[ 0.32724505,  0.46940639,  0.55190259,  ...6388041,  0.76357535,  0.75747407,  0.75228798]]), 241: array([[ 0.32724505,  0.46940639,  0.55190259,  ...6388041,  0.76357535,  0.75747407,  0.75228798]])}, 27: (array([ 0.31679887,  0.47358573,  0.55476721,  0...76082208,  0.7622432 ,  0.75563934,  0.74558182]), array([  1.00000000e-04,   4.64158883e-04,   2.1...e+00,   2.15443469e+01,\n         1.00000000e+02])), 31: (array([ 0.76315738,  0.7629536 ,  0.76336053,  0...76031324,  0.76010986,  0.76021115,  0.75980483]), array([ 3.        ,  3.21052632,  3.42105263,  3...36842105,  6.57894737,  6.78947368,  7.        ])), 34: 0.78027968712965157, ...}, 'PATH_TO_DATA': '~/capstone_user_identification', 'RandomForestClassifier': <class 'sklearn.ensemble.forest.RandomForestClassifier'>, 'StratifiedKFold': <class 'sklearn.model_selection._split.StratifiedKFold'>, ...}\n   2882             finally:\n   2883                 # Reset our crash handler in place\n   2884                 sys.excepthook = old_excepthook\n   2885         except SystemExit as e:\n\n...........................................................................\nC:\\Users\\user\\antiYorko\\project_alice\\<ipython-input-145-5329c2c8319b> in <module>()\n----> 1 \n      2 \n      3 \n      4 \n      5 \n      6 get_ipython().run_cell_magic('time', '', 'train_sizes = np.linspace(0.25, 1, 20)\\nestimator = svm_grid_searcher2.best_estimator_\\n#estimator = logit_cv_150users\\nn_train, val_train, val_test = learning_curve(estimator, X=X_sparse_150users, y=y_binary_128, train_sizes=train_sizes, n_jobs = -1)')\n      7 \n      8 \n      9 \n     10 \n\n...........................................................................\nC:\\Users\\user\\Anaconda3\\lib\\site-packages\\IPython\\core\\interactiveshell.py in run_cell_magic(self=<ipykernel.zmqshell.ZMQInteractiveShell object>, magic_name='time', line='', cell='train_sizes = np.linspace(0.25, 1, 20)\\nestimator...binary_128, train_sizes=train_sizes, n_jobs = -1)')\n   2110             # This will need to be updated if the internal calling logic gets\n   2111             # refactored, or else we'll be expanding the wrong variables.\n   2112             stack_depth = 2\n   2113             magic_arg_s = self.var_expand(line, stack_depth)\n   2114             with self.builtin_trap:\n-> 2115                 result = fn(magic_arg_s, cell)\n        result = undefined\n        fn = <bound method ExecutionMagics.time of <IPython.core.magics.execution.ExecutionMagics object>>\n        magic_arg_s = ''\n        cell = 'train_sizes = np.linspace(0.25, 1, 20)\\nestimator...binary_128, train_sizes=train_sizes, n_jobs = -1)'\n   2116             return result\n   2117 \n   2118     def find_line_magic(self, magic_name):\n   2119         \"\"\"Find and return a line magic by name.\n\n...........................................................................\nC:\\Users\\user\\antiYorko\\project_alice\\<decorator-gen-60> in time(self=<IPython.core.magics.execution.ExecutionMagics object>, line='', cell='train_sizes = np.linspace(0.25, 1, 20)\\nestimator...binary_128, train_sizes=train_sizes, n_jobs = -1)', local_ns=None)\n      1 \n----> 2 \n      3 \n      4 \n      5 \n      6 \n      7 \n      8 \n      9 \n     10 \n\n...........................................................................\nC:\\Users\\user\\Anaconda3\\lib\\site-packages\\IPython\\core\\magic.py in <lambda>(f=<function ExecutionMagics.time>, *a=(<IPython.core.magics.execution.ExecutionMagics object>, '', 'train_sizes = np.linspace(0.25, 1, 20)\\nestimator...binary_128, train_sizes=train_sizes, n_jobs = -1)', None), **k={})\n    183     validate_type(magic_kind)\n    184 \n    185     # This is a closure to capture the magic_kind.  We could also use a class,\n    186     # but it's overkill for just that one bit of state.\n    187     def magic_deco(arg):\n--> 188         call = lambda f, *a, **k: f(*a, **k)\n        f = <function ExecutionMagics.time>\n        a = (<IPython.core.magics.execution.ExecutionMagics object>, '', 'train_sizes = np.linspace(0.25, 1, 20)\\nestimator...binary_128, train_sizes=train_sizes, n_jobs = -1)', None)\n        k = {}\n    189 \n    190         if callable(arg):\n    191             # \"Naked\" decorator call (just @foo, no args)\n    192             func = arg\n\n...........................................................................\nC:\\Users\\user\\Anaconda3\\lib\\site-packages\\IPython\\core\\magics\\execution.py in time(self=<IPython.core.magics.execution.ExecutionMagics object>, line='', cell='train_sizes = np.linspace(0.25, 1, 20)\\nestimator...binary_128, train_sizes=train_sizes, n_jobs = -1)', local_ns=None)\n   1175             st = clock2()\n   1176             out = eval(code, glob, local_ns)\n   1177             end = clock2()\n   1178         else:\n   1179             st = clock2()\n-> 1180             exec(code, glob, local_ns)\n        code = <code object <module> at 0x000000000D665E40, file \"<timed exec>\", line 1>\n        glob = {'GridSearchCV': <class 'sklearn.model_selection._search.GridSearchCV'>, 'In': ['', 'from __future__ import division, print_function\\n...m sklearn.metrics import accuracy_score, f1_score', \"# Поменяйте на свой путь к данным\\nPATH_TO_DATA = '~/capstone_user_identification'\", 'rrr = pickle.load(open(\\'save3.p\\', \"rb\"))', 'y_10users = pickle.load(open(\\'saveuser3.p\\', \"rb\"))\\nX_sparse_10users = rrr[:, range(1, 4914)]', 'len(y_10users), X_sparse_10users.shape[1]', 'X_sparse_10users.shape', 'X_train, X_valid, y_train, y_valid = train_test_...             random_state=17, stratify=y_10users)', 'y_train.reset_index(drop = True, inplace = True)\\ny_valid.reset_index(drop = True, inplace = True)', 'print(X_train[6,:])', 'skf = StratifiedKFold(n_splits=3, shuffle=True, random_state=17)', 'def plot_validation_curves(param_values, grid_cv..._line[0].get_color(), alpha=0.2)\\n    plt.legend()', 'from sklearn.neighbors import KNeighborsClassifier', 'knn = KNeighborsClassifier(n_jobs=-1, n_neighbor...        y=y_train,\\n                cv=skf).mean()', 'ah=knn.predict(X_valid)', 'sss2.fit(X_train, y_train)', 'modres2 = sss2.predict(X_valid)\\nprint(accuracy_s...ss2.best_score_\\n#sss2.cv_results_\\n###0.704, 0.733', \"write_answer_to_file(''' ВАШ КОД ЗДЕСЬ ''',\\n                     'answer4_2.txt')\", \"get_ipython().system('cat answer4_2.txt')\", 'from sklearn.linear_model import LogisticRegression, LogisticRegressionCV', ...], 'KNeighborsClassifier': <class 'sklearn.neighbors.classification.KNeighborsClassifier'>, 'LinearSVC': <class 'sklearn.svm.classes.LinearSVC'>, 'LogisticRegression': <class 'sklearn.linear_model.logistic.LogisticRegression'>, 'LogisticRegressionCV': <class 'sklearn.linear_model.logistic.LogisticRegressionCV'>, 'Out': {5: (14061, 4913), 6: (14061, 4913), 13: 0.56167298405556676, 20: GridSearchCV(cv=StratifiedKFold(n_splits=3, rand...return_train_score=True, scoring=None, verbose=0), 21: (0.78170182507703245, 0.76254826254826258), 24: array([ 0.31679887,  0.47358573,  0.55476721,  0...76082208,  0.7622432 ,  0.75563934,  0.74558182]), 26: {31: array([[ 0.32724505,  0.46940639,  0.55190259,  ...6388041,  0.76357535,  0.75747407,  0.75228798]]), 33: array([[ 0.32724505,  0.46940639,  0.55190259,  ...6388041,  0.76357535,  0.75747407,  0.75228798]]), 39: array([[ 0.32724505,  0.46940639,  0.55190259,  ...6388041,  0.76357535,  0.75747407,  0.75228798]]), 50: array([[ 0.32724505,  0.46940639,  0.55190259,  ...6388041,  0.76357535,  0.75747407,  0.75228798]]), 100: array([[ 0.32724505,  0.46940639,  0.55190259,  ...6388041,  0.76357535,  0.75747407,  0.75228798]]), 127: array([[ 0.32724505,  0.46940639,  0.55190259,  ...6388041,  0.76357535,  0.75747407,  0.75228798]]), 128: array([[ 0.32724505,  0.46940639,  0.55190259,  ...6388041,  0.76357535,  0.75747407,  0.75228798]]), 207: array([[ 0.32724505,  0.46940639,  0.55190259,  ...6388041,  0.76357535,  0.75747407,  0.75228798]]), 237: array([[ 0.32724505,  0.46940639,  0.55190259,  ...6388041,  0.76357535,  0.75747407,  0.75228798]]), 241: array([[ 0.32724505,  0.46940639,  0.55190259,  ...6388041,  0.76357535,  0.75747407,  0.75228798]])}, 27: (array([ 0.31679887,  0.47358573,  0.55476721,  0...76082208,  0.7622432 ,  0.75563934,  0.74558182]), array([  1.00000000e-04,   4.64158883e-04,   2.1...e+00,   2.15443469e+01,\n         1.00000000e+02])), 31: (array([ 0.76315738,  0.7629536 ,  0.76336053,  0...76031324,  0.76010986,  0.76021115,  0.75980483]), array([ 3.        ,  3.21052632,  3.42105263,  3...36842105,  6.57894737,  6.78947368,  7.        ])), 34: 0.78027968712965157, ...}, 'PATH_TO_DATA': '~/capstone_user_identification', 'RandomForestClassifier': <class 'sklearn.ensemble.forest.RandomForestClassifier'>, 'StratifiedKFold': <class 'sklearn.model_selection._split.StratifiedKFold'>, ...}\n        local_ns = None\n   1181             end = clock2()\n   1182             out = None\n   1183         wall_end = wtime()\n   1184         # Compute actual times and report\n\n...........................................................................\nC:\\Users\\user\\antiYorko\\project_alice\\<timed exec> in <module>()\n      1 \n      2 \n      3 \n----> 4 \n      5 \n      6 \n      7 \n      8 \n      9 \n     10 \n\n...........................................................................\nC:\\Users\\user\\Anaconda3\\lib\\site-packages\\sklearn\\model_selection\\_validation.py in learning_curve(estimator=LinearSVC(C=0.24213793103448275, class_weight=No...l2', random_state=17,\n     tol=0.0001, verbose=0), X=<137019x27798 sparse matrix of type '<class 'num... stored elements in Compressed Sparse Row format>, y=array([0, 0, 0, ..., 0, 0, 0], dtype=int64), groups=None, train_sizes=array([ 0.25      ,  0.28947368,  0.32894737,  0...88157895,  0.92105263,  0.96052632,  1.        ]), cv=StratifiedKFold(n_splits=3, random_state=None, shuffle=False), scoring=None, exploit_incremental_learning=False, n_jobs=-1, pre_dispatch='all', verbose=0)\n    767             scorer, verbose) for train, test in cv_iter)\n    768     else:\n    769         out = parallel(delayed(_fit_and_score)(\n    770             clone(estimator), X, y, scorer, train[:n_train_samples], test,\n    771             verbose, parameters=None, fit_params=None, return_train_score=True)\n--> 772             for train, test in cv_iter\n        cv_iter = [(array([ 32396,  32397,  32398, ..., 137016, 137017, 137018]), array([    0,     1,     2, ..., 47534, 47535, 47536])), (array([     0,      1,      2, ..., 137016, 137017, 137018]), array([32396, 32397, 32398, ..., 92275, 92276, 92277])), (array([    0,     1,     2, ..., 92275, 92276, 92277]), array([ 33328,  33329,  33330, ..., 137016, 137017, 137018]))]\n    773             for n_train_samples in train_sizes_abs)\n    774         out = np.array(out)\n    775         n_cv_folds = out.shape[0] // n_unique_ticks\n    776         out = out.reshape(n_cv_folds, n_unique_ticks, 2)\n\n...........................................................................\nC:\\Users\\user\\Anaconda3\\lib\\site-packages\\sklearn\\externals\\joblib\\parallel.py in __call__(self=Parallel(n_jobs=-1), iterable=<generator object learning_curve.<locals>.<genexpr>>)\n    763             if pre_dispatch == \"all\" or n_jobs == 1:\n    764                 # The iterable was consumed all at once by the above for loop.\n    765                 # No need to wait for async callbacks to trigger to\n    766                 # consumption.\n    767                 self._iterating = False\n--> 768             self.retrieve()\n        self.retrieve = <bound method Parallel.retrieve of Parallel(n_jobs=-1)>\n    769             # Make sure that we get a last message telling us we are done\n    770             elapsed_time = time.time() - self._start_time\n    771             self._print('Done %3i out of %3i | elapsed: %s finished',\n    772                         (len(self._output), len(self._output),\n\n---------------------------------------------------------------------------\nSub-process traceback:\n---------------------------------------------------------------------------\nValueError                                         Sat Oct 21 01:55:51 2017\nPID: 16736                 Python 3.5.2: C:\\Users\\user\\Anaconda3\\python.exe\n...........................................................................\nC:\\Users\\user\\Anaconda3\\lib\\site-packages\\sklearn\\externals\\joblib\\parallel.py in __call__(self=<sklearn.externals.joblib.parallel.BatchedCalls object>)\n    126     def __init__(self, iterator_slice):\n    127         self.items = list(iterator_slice)\n    128         self._size = len(self.items)\n    129 \n    130     def __call__(self):\n--> 131         return [func(*args, **kwargs) for func, args, kwargs in self.items]\n        self.items = [(<function _fit_and_score>, (LinearSVC(C=0.24213793103448275, class_weight=No...l2', random_state=17,\n     tol=0.0001, verbose=0), <137019x27798 sparse matrix of type '<class 'num... stored elements in Compressed Sparse Row format>, memmap([0, 0, 0, ..., 0, 0, 0], dtype=int64), <function _passthrough_scorer>, array([    0,     1,     2, ..., 22833, 22834, 22835]), array([32396, 32397, 32398, ..., 92275, 92276, 92277]), 0), {'fit_params': None, 'parameters': None, 'return_train_score': True})]\n    132 \n    133     def __len__(self):\n    134         return self._size\n    135 \n\n...........................................................................\nC:\\Users\\user\\Anaconda3\\lib\\site-packages\\sklearn\\externals\\joblib\\parallel.py in <listcomp>(.0=<list_iterator object>)\n    126     def __init__(self, iterator_slice):\n    127         self.items = list(iterator_slice)\n    128         self._size = len(self.items)\n    129 \n    130     def __call__(self):\n--> 131         return [func(*args, **kwargs) for func, args, kwargs in self.items]\n        func = <function _fit_and_score>\n        args = (LinearSVC(C=0.24213793103448275, class_weight=No...l2', random_state=17,\n     tol=0.0001, verbose=0), <137019x27798 sparse matrix of type '<class 'num... stored elements in Compressed Sparse Row format>, memmap([0, 0, 0, ..., 0, 0, 0], dtype=int64), <function _passthrough_scorer>, array([    0,     1,     2, ..., 22833, 22834, 22835]), array([32396, 32397, 32398, ..., 92275, 92276, 92277]), 0)\n        kwargs = {'fit_params': None, 'parameters': None, 'return_train_score': True}\n    132 \n    133     def __len__(self):\n    134         return self._size\n    135 \n\n...........................................................................\nC:\\Users\\user\\Anaconda3\\lib\\site-packages\\sklearn\\model_selection\\_validation.py in _fit_and_score(estimator=LinearSVC(C=0.24213793103448275, class_weight=No...l2', random_state=17,\n     tol=0.0001, verbose=0), X=<137019x27798 sparse matrix of type '<class 'num... stored elements in Compressed Sparse Row format>, y=memmap([0, 0, 0, ..., 0, 0, 0], dtype=int64), scorer=<function _passthrough_scorer>, train=array([    0,     1,     2, ..., 22833, 22834, 22835]), test=array([32396, 32397, 32398, ..., 92275, 92276, 92277]), verbose=0, parameters=None, fit_params={}, return_train_score=True, return_parameters=False, return_n_test_samples=False, return_times=False, error_score='raise')\n    233 \n    234     try:\n    235         if y_train is None:\n    236             estimator.fit(X_train, **fit_params)\n    237         else:\n--> 238             estimator.fit(X_train, y_train, **fit_params)\n        estimator.fit = <bound method LinearSVC.fit of LinearSVC(C=0.242...2', random_state=17,\n     tol=0.0001, verbose=0)>\n        X_train = <22836x27798 sparse matrix of type '<class 'nump... stored elements in Compressed Sparse Row format>\n        y_train = memmap([0, 0, 0, ..., 0, 0, 0], dtype=int64)\n        fit_params = {}\n    239 \n    240     except Exception as e:\n    241         # Note fit time as time until error\n    242         fit_time = time.time() - start_time\n\n...........................................................................\nC:\\Users\\user\\Anaconda3\\lib\\site-packages\\sklearn\\svm\\classes.py in fit(self=LinearSVC(C=0.24213793103448275, class_weight=No...l2', random_state=17,\n     tol=0.0001, verbose=0), X=<22836x27798 sparse matrix of type '<class 'nump... stored elements in Compressed Sparse Row format>, y=memmap([0, 0, 0, ..., 0, 0, 0], dtype=int64), sample_weight=None)\n    210 \n    211         self.coef_, self.intercept_, self.n_iter_ = _fit_liblinear(\n    212             X, y, self.C, self.fit_intercept, self.intercept_scaling,\n    213             self.class_weight, self.penalty, self.dual, self.verbose,\n    214             self.max_iter, self.tol, self.random_state, self.multi_class,\n--> 215             self.loss, sample_weight=sample_weight)\n        self.loss = 'squared_hinge'\n        sample_weight = None\n    216 \n    217         if self.multi_class == \"crammer_singer\" and len(self.classes_) == 2:\n    218             self.coef_ = (self.coef_[1] - self.coef_[0]).reshape(1, -1)\n    219             if self.fit_intercept:\n\n...........................................................................\nC:\\Users\\user\\Anaconda3\\lib\\site-packages\\sklearn\\svm\\base.py in _fit_liblinear(X=<22836x27798 sparse matrix of type '<class 'nump... stored elements in Compressed Sparse Row format>, y=memmap([0, 0, 0, ..., 0, 0, 0], dtype=int64), C=0.24213793103448275, fit_intercept=True, intercept_scaling=1, class_weight=None, penalty='l2', dual=True, verbose=0, max_iter=1000, tol=0.0001, random_state=17, multi_class='ovr', loss='squared_hinge', epsilon=0.1, sample_weight=None)\n    870         y_ind = enc.fit_transform(y)\n    871         classes_ = enc.classes_\n    872         if len(classes_) < 2:\n    873             raise ValueError(\"This solver needs samples of at least 2 classes\"\n    874                              \" in the data, but the data contains only one\"\n--> 875                              \" class: %r\" % classes_[0])\n        classes_ = array([0], dtype=int64)\n    876 \n    877         class_weight_ = compute_class_weight(class_weight, classes_, y)\n    878     else:\n    879         class_weight_ = np.empty(0, dtype=np.float64)\n\nValueError: This solver needs samples of at least 2 classes in the data, but the data contains only one class: 0\n___________________________________________________________________________",
     "output_type": "error",
     "traceback": [
      "\u001b[0;31m---------------------------------------------------------------------------\u001b[0m",
      "\u001b[0;31mRemoteTraceback\u001b[0m                           Traceback (most recent call last)",
      "\u001b[0;31mRemoteTraceback\u001b[0m: \n\"\"\"\nTraceback (most recent call last):\n  File \"C:\\Users\\user\\Anaconda3\\lib\\site-packages\\sklearn\\externals\\joblib\\_parallel_backends.py\", line 344, in __call__\n    return self.func(*args, **kwargs)\n  File \"C:\\Users\\user\\Anaconda3\\lib\\site-packages\\sklearn\\externals\\joblib\\parallel.py\", line 131, in __call__\n    return [func(*args, **kwargs) for func, args, kwargs in self.items]\n  File \"C:\\Users\\user\\Anaconda3\\lib\\site-packages\\sklearn\\externals\\joblib\\parallel.py\", line 131, in <listcomp>\n    return [func(*args, **kwargs) for func, args, kwargs in self.items]\n  File \"C:\\Users\\user\\Anaconda3\\lib\\site-packages\\sklearn\\model_selection\\_validation.py\", line 238, in _fit_and_score\n    estimator.fit(X_train, y_train, **fit_params)\n  File \"C:\\Users\\user\\Anaconda3\\lib\\site-packages\\sklearn\\svm\\classes.py\", line 215, in fit\n    self.loss, sample_weight=sample_weight)\n  File \"C:\\Users\\user\\Anaconda3\\lib\\site-packages\\sklearn\\svm\\base.py\", line 875, in _fit_liblinear\n    \" class: %r\" % classes_[0])\nValueError: This solver needs samples of at least 2 classes in the data, but the data contains only one class: 0\n\nDuring handling of the above exception, another exception occurred:\n\nTraceback (most recent call last):\n  File \"C:\\Users\\user\\Anaconda3\\lib\\multiprocessing\\pool.py\", line 119, in worker\n    result = (True, func(*args, **kwds))\n  File \"C:\\Users\\user\\Anaconda3\\lib\\site-packages\\sklearn\\externals\\joblib\\_parallel_backends.py\", line 353, in __call__\n    raise TransportableException(text, e_type)\nsklearn.externals.joblib.my_exceptions.TransportableException: TransportableException\n___________________________________________________________________________\nValueError                                         Sat Oct 21 01:55:51 2017\nPID: 16736                 Python 3.5.2: C:\\Users\\user\\Anaconda3\\python.exe\n...........................................................................\nC:\\Users\\user\\Anaconda3\\lib\\site-packages\\sklearn\\externals\\joblib\\parallel.py in __call__(self=<sklearn.externals.joblib.parallel.BatchedCalls object>)\n    126     def __init__(self, iterator_slice):\n    127         self.items = list(iterator_slice)\n    128         self._size = len(self.items)\n    129 \n    130     def __call__(self):\n--> 131         return [func(*args, **kwargs) for func, args, kwargs in self.items]\n        self.items = [(<function _fit_and_score>, (LinearSVC(C=0.24213793103448275, class_weight=No...l2', random_state=17,\n     tol=0.0001, verbose=0), <137019x27798 sparse matrix of type '<class 'num... stored elements in Compressed Sparse Row format>, memmap([0, 0, 0, ..., 0, 0, 0], dtype=int64), <function _passthrough_scorer>, array([    0,     1,     2, ..., 22833, 22834, 22835]), array([32396, 32397, 32398, ..., 92275, 92276, 92277]), 0), {'fit_params': None, 'parameters': None, 'return_train_score': True})]\n    132 \n    133     def __len__(self):\n    134         return self._size\n    135 \n\n...........................................................................\nC:\\Users\\user\\Anaconda3\\lib\\site-packages\\sklearn\\externals\\joblib\\parallel.py in <listcomp>(.0=<list_iterator object>)\n    126     def __init__(self, iterator_slice):\n    127         self.items = list(iterator_slice)\n    128         self._size = len(self.items)\n    129 \n    130     def __call__(self):\n--> 131         return [func(*args, **kwargs) for func, args, kwargs in self.items]\n        func = <function _fit_and_score>\n        args = (LinearSVC(C=0.24213793103448275, class_weight=No...l2', random_state=17,\n     tol=0.0001, verbose=0), <137019x27798 sparse matrix of type '<class 'num... stored elements in Compressed Sparse Row format>, memmap([0, 0, 0, ..., 0, 0, 0], dtype=int64), <function _passthrough_scorer>, array([    0,     1,     2, ..., 22833, 22834, 22835]), array([32396, 32397, 32398, ..., 92275, 92276, 92277]), 0)\n        kwargs = {'fit_params': None, 'parameters': None, 'return_train_score': True}\n    132 \n    133     def __len__(self):\n    134         return self._size\n    135 \n\n...........................................................................\nC:\\Users\\user\\Anaconda3\\lib\\site-packages\\sklearn\\model_selection\\_validation.py in _fit_and_score(estimator=LinearSVC(C=0.24213793103448275, class_weight=No...l2', random_state=17,\n     tol=0.0001, verbose=0), X=<137019x27798 sparse matrix of type '<class 'num... stored elements in Compressed Sparse Row format>, y=memmap([0, 0, 0, ..., 0, 0, 0], dtype=int64), scorer=<function _passthrough_scorer>, train=array([    0,     1,     2, ..., 22833, 22834, 22835]), test=array([32396, 32397, 32398, ..., 92275, 92276, 92277]), verbose=0, parameters=None, fit_params={}, return_train_score=True, return_parameters=False, return_n_test_samples=False, return_times=False, error_score='raise')\n    233 \n    234     try:\n    235         if y_train is None:\n    236             estimator.fit(X_train, **fit_params)\n    237         else:\n--> 238             estimator.fit(X_train, y_train, **fit_params)\n        estimator.fit = <bound method LinearSVC.fit of LinearSVC(C=0.242...2', random_state=17,\n     tol=0.0001, verbose=0)>\n        X_train = <22836x27798 sparse matrix of type '<class 'nump... stored elements in Compressed Sparse Row format>\n        y_train = memmap([0, 0, 0, ..., 0, 0, 0], dtype=int64)\n        fit_params = {}\n    239 \n    240     except Exception as e:\n    241         # Note fit time as time until error\n    242         fit_time = time.time() - start_time\n\n...........................................................................\nC:\\Users\\user\\Anaconda3\\lib\\site-packages\\sklearn\\svm\\classes.py in fit(self=LinearSVC(C=0.24213793103448275, class_weight=No...l2', random_state=17,\n     tol=0.0001, verbose=0), X=<22836x27798 sparse matrix of type '<class 'nump... stored elements in Compressed Sparse Row format>, y=memmap([0, 0, 0, ..., 0, 0, 0], dtype=int64), sample_weight=None)\n    210 \n    211         self.coef_, self.intercept_, self.n_iter_ = _fit_liblinear(\n    212             X, y, self.C, self.fit_intercept, self.intercept_scaling,\n    213             self.class_weight, self.penalty, self.dual, self.verbose,\n    214             self.max_iter, self.tol, self.random_state, self.multi_class,\n--> 215             self.loss, sample_weight=sample_weight)\n        self.loss = 'squared_hinge'\n        sample_weight = None\n    216 \n    217         if self.multi_class == \"crammer_singer\" and len(self.classes_) == 2:\n    218             self.coef_ = (self.coef_[1] - self.coef_[0]).reshape(1, -1)\n    219             if self.fit_intercept:\n\n...........................................................................\nC:\\Users\\user\\Anaconda3\\lib\\site-packages\\sklearn\\svm\\base.py in _fit_liblinear(X=<22836x27798 sparse matrix of type '<class 'nump... stored elements in Compressed Sparse Row format>, y=memmap([0, 0, 0, ..., 0, 0, 0], dtype=int64), C=0.24213793103448275, fit_intercept=True, intercept_scaling=1, class_weight=None, penalty='l2', dual=True, verbose=0, max_iter=1000, tol=0.0001, random_state=17, multi_class='ovr', loss='squared_hinge', epsilon=0.1, sample_weight=None)\n    870         y_ind = enc.fit_transform(y)\n    871         classes_ = enc.classes_\n    872         if len(classes_) < 2:\n    873             raise ValueError(\"This solver needs samples of at least 2 classes\"\n    874                              \" in the data, but the data contains only one\"\n--> 875                              \" class: %r\" % classes_[0])\n        classes_ = array([0], dtype=int64)\n    876 \n    877         class_weight_ = compute_class_weight(class_weight, classes_, y)\n    878     else:\n    879         class_weight_ = np.empty(0, dtype=np.float64)\n\nValueError: This solver needs samples of at least 2 classes in the data, but the data contains only one class: 0\n___________________________________________________________________________\n\"\"\"",
      "\nThe above exception was the direct cause of the following exception:\n",
      "\u001b[0;31mTransportableException\u001b[0m                    Traceback (most recent call last)",
      "\u001b[0;32mC:\\Users\\user\\Anaconda3\\lib\\site-packages\\sklearn\\externals\\joblib\\parallel.py\u001b[0m in \u001b[0;36mretrieve\u001b[0;34m(self)\u001b[0m\n\u001b[1;32m    681\u001b[0m                 \u001b[1;32mif\u001b[0m \u001b[1;34m'timeout'\u001b[0m \u001b[1;32min\u001b[0m \u001b[0mgetfullargspec\u001b[0m\u001b[1;33m(\u001b[0m\u001b[0mjob\u001b[0m\u001b[1;33m.\u001b[0m\u001b[0mget\u001b[0m\u001b[1;33m)\u001b[0m\u001b[1;33m.\u001b[0m\u001b[0margs\u001b[0m\u001b[1;33m:\u001b[0m\u001b[1;33m\u001b[0m\u001b[0m\n\u001b[0;32m--> 682\u001b[0;31m                     \u001b[0mself\u001b[0m\u001b[1;33m.\u001b[0m\u001b[0m_output\u001b[0m\u001b[1;33m.\u001b[0m\u001b[0mextend\u001b[0m\u001b[1;33m(\u001b[0m\u001b[0mjob\u001b[0m\u001b[1;33m.\u001b[0m\u001b[0mget\u001b[0m\u001b[1;33m(\u001b[0m\u001b[0mtimeout\u001b[0m\u001b[1;33m=\u001b[0m\u001b[0mself\u001b[0m\u001b[1;33m.\u001b[0m\u001b[0mtimeout\u001b[0m\u001b[1;33m)\u001b[0m\u001b[1;33m)\u001b[0m\u001b[1;33m\u001b[0m\u001b[0m\n\u001b[0m\u001b[1;32m    683\u001b[0m                 \u001b[1;32melse\u001b[0m\u001b[1;33m:\u001b[0m\u001b[1;33m\u001b[0m\u001b[0m\n",
      "\u001b[0;32mC:\\Users\\user\\Anaconda3\\lib\\multiprocessing\\pool.py\u001b[0m in \u001b[0;36mget\u001b[0;34m(self, timeout)\u001b[0m\n\u001b[1;32m    607\u001b[0m         \u001b[1;32melse\u001b[0m\u001b[1;33m:\u001b[0m\u001b[1;33m\u001b[0m\u001b[0m\n\u001b[0;32m--> 608\u001b[0;31m             \u001b[1;32mraise\u001b[0m \u001b[0mself\u001b[0m\u001b[1;33m.\u001b[0m\u001b[0m_value\u001b[0m\u001b[1;33m\u001b[0m\u001b[0m\n\u001b[0m\u001b[1;32m    609\u001b[0m \u001b[1;33m\u001b[0m\u001b[0m\n",
      "\u001b[0;31mTransportableException\u001b[0m: TransportableException\n___________________________________________________________________________\nValueError                                         Sat Oct 21 01:55:51 2017\nPID: 16736                 Python 3.5.2: C:\\Users\\user\\Anaconda3\\python.exe\n...........................................................................\nC:\\Users\\user\\Anaconda3\\lib\\site-packages\\sklearn\\externals\\joblib\\parallel.py in __call__(self=<sklearn.externals.joblib.parallel.BatchedCalls object>)\n    126     def __init__(self, iterator_slice):\n    127         self.items = list(iterator_slice)\n    128         self._size = len(self.items)\n    129 \n    130     def __call__(self):\n--> 131         return [func(*args, **kwargs) for func, args, kwargs in self.items]\n        self.items = [(<function _fit_and_score>, (LinearSVC(C=0.24213793103448275, class_weight=No...l2', random_state=17,\n     tol=0.0001, verbose=0), <137019x27798 sparse matrix of type '<class 'num... stored elements in Compressed Sparse Row format>, memmap([0, 0, 0, ..., 0, 0, 0], dtype=int64), <function _passthrough_scorer>, array([    0,     1,     2, ..., 22833, 22834, 22835]), array([32396, 32397, 32398, ..., 92275, 92276, 92277]), 0), {'fit_params': None, 'parameters': None, 'return_train_score': True})]\n    132 \n    133     def __len__(self):\n    134         return self._size\n    135 \n\n...........................................................................\nC:\\Users\\user\\Anaconda3\\lib\\site-packages\\sklearn\\externals\\joblib\\parallel.py in <listcomp>(.0=<list_iterator object>)\n    126     def __init__(self, iterator_slice):\n    127         self.items = list(iterator_slice)\n    128         self._size = len(self.items)\n    129 \n    130     def __call__(self):\n--> 131         return [func(*args, **kwargs) for func, args, kwargs in self.items]\n        func = <function _fit_and_score>\n        args = (LinearSVC(C=0.24213793103448275, class_weight=No...l2', random_state=17,\n     tol=0.0001, verbose=0), <137019x27798 sparse matrix of type '<class 'num... stored elements in Compressed Sparse Row format>, memmap([0, 0, 0, ..., 0, 0, 0], dtype=int64), <function _passthrough_scorer>, array([    0,     1,     2, ..., 22833, 22834, 22835]), array([32396, 32397, 32398, ..., 92275, 92276, 92277]), 0)\n        kwargs = {'fit_params': None, 'parameters': None, 'return_train_score': True}\n    132 \n    133     def __len__(self):\n    134         return self._size\n    135 \n\n...........................................................................\nC:\\Users\\user\\Anaconda3\\lib\\site-packages\\sklearn\\model_selection\\_validation.py in _fit_and_score(estimator=LinearSVC(C=0.24213793103448275, class_weight=No...l2', random_state=17,\n     tol=0.0001, verbose=0), X=<137019x27798 sparse matrix of type '<class 'num... stored elements in Compressed Sparse Row format>, y=memmap([0, 0, 0, ..., 0, 0, 0], dtype=int64), scorer=<function _passthrough_scorer>, train=array([    0,     1,     2, ..., 22833, 22834, 22835]), test=array([32396, 32397, 32398, ..., 92275, 92276, 92277]), verbose=0, parameters=None, fit_params={}, return_train_score=True, return_parameters=False, return_n_test_samples=False, return_times=False, error_score='raise')\n    233 \n    234     try:\n    235         if y_train is None:\n    236             estimator.fit(X_train, **fit_params)\n    237         else:\n--> 238             estimator.fit(X_train, y_train, **fit_params)\n        estimator.fit = <bound method LinearSVC.fit of LinearSVC(C=0.242...2', random_state=17,\n     tol=0.0001, verbose=0)>\n        X_train = <22836x27798 sparse matrix of type '<class 'nump... stored elements in Compressed Sparse Row format>\n        y_train = memmap([0, 0, 0, ..., 0, 0, 0], dtype=int64)\n        fit_params = {}\n    239 \n    240     except Exception as e:\n    241         # Note fit time as time until error\n    242         fit_time = time.time() - start_time\n\n...........................................................................\nC:\\Users\\user\\Anaconda3\\lib\\site-packages\\sklearn\\svm\\classes.py in fit(self=LinearSVC(C=0.24213793103448275, class_weight=No...l2', random_state=17,\n     tol=0.0001, verbose=0), X=<22836x27798 sparse matrix of type '<class 'nump... stored elements in Compressed Sparse Row format>, y=memmap([0, 0, 0, ..., 0, 0, 0], dtype=int64), sample_weight=None)\n    210 \n    211         self.coef_, self.intercept_, self.n_iter_ = _fit_liblinear(\n    212             X, y, self.C, self.fit_intercept, self.intercept_scaling,\n    213             self.class_weight, self.penalty, self.dual, self.verbose,\n    214             self.max_iter, self.tol, self.random_state, self.multi_class,\n--> 215             self.loss, sample_weight=sample_weight)\n        self.loss = 'squared_hinge'\n        sample_weight = None\n    216 \n    217         if self.multi_class == \"crammer_singer\" and len(self.classes_) == 2:\n    218             self.coef_ = (self.coef_[1] - self.coef_[0]).reshape(1, -1)\n    219             if self.fit_intercept:\n\n...........................................................................\nC:\\Users\\user\\Anaconda3\\lib\\site-packages\\sklearn\\svm\\base.py in _fit_liblinear(X=<22836x27798 sparse matrix of type '<class 'nump... stored elements in Compressed Sparse Row format>, y=memmap([0, 0, 0, ..., 0, 0, 0], dtype=int64), C=0.24213793103448275, fit_intercept=True, intercept_scaling=1, class_weight=None, penalty='l2', dual=True, verbose=0, max_iter=1000, tol=0.0001, random_state=17, multi_class='ovr', loss='squared_hinge', epsilon=0.1, sample_weight=None)\n    870         y_ind = enc.fit_transform(y)\n    871         classes_ = enc.classes_\n    872         if len(classes_) < 2:\n    873             raise ValueError(\"This solver needs samples of at least 2 classes\"\n    874                              \" in the data, but the data contains only one\"\n--> 875                              \" class: %r\" % classes_[0])\n        classes_ = array([0], dtype=int64)\n    876 \n    877         class_weight_ = compute_class_weight(class_weight, classes_, y)\n    878     else:\n    879         class_weight_ = np.empty(0, dtype=np.float64)\n\nValueError: This solver needs samples of at least 2 classes in the data, but the data contains only one class: 0\n___________________________________________________________________________",
      "\nDuring handling of the above exception, another exception occurred:\n",
      "\u001b[0;31mJoblibValueError\u001b[0m                          Traceback (most recent call last)",
      "\u001b[0;32m<ipython-input-145-5329c2c8319b>\u001b[0m in \u001b[0;36m<module>\u001b[0;34m()\u001b[0m\n\u001b[0;32m----> 1\u001b[0;31m \u001b[0mget_ipython\u001b[0m\u001b[1;33m(\u001b[0m\u001b[1;33m)\u001b[0m\u001b[1;33m.\u001b[0m\u001b[0mrun_cell_magic\u001b[0m\u001b[1;33m(\u001b[0m\u001b[1;34m'time'\u001b[0m\u001b[1;33m,\u001b[0m \u001b[1;34m''\u001b[0m\u001b[1;33m,\u001b[0m \u001b[1;34m'train_sizes = np.linspace(0.25, 1, 20)\\nestimator = svm_grid_searcher2.best_estimator_\\n#estimator = logit_cv_150users\\nn_train, val_train, val_test = learning_curve(estimator, X=X_sparse_150users, y=y_binary_128, train_sizes=train_sizes, n_jobs = -1)'\u001b[0m\u001b[1;33m)\u001b[0m\u001b[1;33m\u001b[0m\u001b[0m\n\u001b[0m",
      "\u001b[0;32mC:\\Users\\user\\Anaconda3\\lib\\site-packages\\IPython\\core\\interactiveshell.py\u001b[0m in \u001b[0;36mrun_cell_magic\u001b[0;34m(self, magic_name, line, cell)\u001b[0m\n\u001b[1;32m   2113\u001b[0m             \u001b[0mmagic_arg_s\u001b[0m \u001b[1;33m=\u001b[0m \u001b[0mself\u001b[0m\u001b[1;33m.\u001b[0m\u001b[0mvar_expand\u001b[0m\u001b[1;33m(\u001b[0m\u001b[0mline\u001b[0m\u001b[1;33m,\u001b[0m \u001b[0mstack_depth\u001b[0m\u001b[1;33m)\u001b[0m\u001b[1;33m\u001b[0m\u001b[0m\n\u001b[1;32m   2114\u001b[0m             \u001b[1;32mwith\u001b[0m \u001b[0mself\u001b[0m\u001b[1;33m.\u001b[0m\u001b[0mbuiltin_trap\u001b[0m\u001b[1;33m:\u001b[0m\u001b[1;33m\u001b[0m\u001b[0m\n\u001b[0;32m-> 2115\u001b[0;31m                 \u001b[0mresult\u001b[0m \u001b[1;33m=\u001b[0m \u001b[0mfn\u001b[0m\u001b[1;33m(\u001b[0m\u001b[0mmagic_arg_s\u001b[0m\u001b[1;33m,\u001b[0m \u001b[0mcell\u001b[0m\u001b[1;33m)\u001b[0m\u001b[1;33m\u001b[0m\u001b[0m\n\u001b[0m\u001b[1;32m   2116\u001b[0m             \u001b[1;32mreturn\u001b[0m \u001b[0mresult\u001b[0m\u001b[1;33m\u001b[0m\u001b[0m\n\u001b[1;32m   2117\u001b[0m \u001b[1;33m\u001b[0m\u001b[0m\n",
      "\u001b[0;32m<decorator-gen-60>\u001b[0m in \u001b[0;36mtime\u001b[0;34m(self, line, cell, local_ns)\u001b[0m\n",
      "\u001b[0;32mC:\\Users\\user\\Anaconda3\\lib\\site-packages\\IPython\\core\\magic.py\u001b[0m in \u001b[0;36m<lambda>\u001b[0;34m(f, *a, **k)\u001b[0m\n\u001b[1;32m    186\u001b[0m     \u001b[1;31m# but it's overkill for just that one bit of state.\u001b[0m\u001b[1;33m\u001b[0m\u001b[1;33m\u001b[0m\u001b[0m\n\u001b[1;32m    187\u001b[0m     \u001b[1;32mdef\u001b[0m \u001b[0mmagic_deco\u001b[0m\u001b[1;33m(\u001b[0m\u001b[0marg\u001b[0m\u001b[1;33m)\u001b[0m\u001b[1;33m:\u001b[0m\u001b[1;33m\u001b[0m\u001b[0m\n\u001b[0;32m--> 188\u001b[0;31m         \u001b[0mcall\u001b[0m \u001b[1;33m=\u001b[0m \u001b[1;32mlambda\u001b[0m \u001b[0mf\u001b[0m\u001b[1;33m,\u001b[0m \u001b[1;33m*\u001b[0m\u001b[0ma\u001b[0m\u001b[1;33m,\u001b[0m \u001b[1;33m**\u001b[0m\u001b[0mk\u001b[0m\u001b[1;33m:\u001b[0m \u001b[0mf\u001b[0m\u001b[1;33m(\u001b[0m\u001b[1;33m*\u001b[0m\u001b[0ma\u001b[0m\u001b[1;33m,\u001b[0m \u001b[1;33m**\u001b[0m\u001b[0mk\u001b[0m\u001b[1;33m)\u001b[0m\u001b[1;33m\u001b[0m\u001b[0m\n\u001b[0m\u001b[1;32m    189\u001b[0m \u001b[1;33m\u001b[0m\u001b[0m\n\u001b[1;32m    190\u001b[0m         \u001b[1;32mif\u001b[0m \u001b[0mcallable\u001b[0m\u001b[1;33m(\u001b[0m\u001b[0marg\u001b[0m\u001b[1;33m)\u001b[0m\u001b[1;33m:\u001b[0m\u001b[1;33m\u001b[0m\u001b[0m\n",
      "\u001b[0;32mC:\\Users\\user\\Anaconda3\\lib\\site-packages\\IPython\\core\\magics\\execution.py\u001b[0m in \u001b[0;36mtime\u001b[0;34m(self, line, cell, local_ns)\u001b[0m\n\u001b[1;32m   1178\u001b[0m         \u001b[1;32melse\u001b[0m\u001b[1;33m:\u001b[0m\u001b[1;33m\u001b[0m\u001b[0m\n\u001b[1;32m   1179\u001b[0m             \u001b[0mst\u001b[0m \u001b[1;33m=\u001b[0m \u001b[0mclock2\u001b[0m\u001b[1;33m(\u001b[0m\u001b[1;33m)\u001b[0m\u001b[1;33m\u001b[0m\u001b[0m\n\u001b[0;32m-> 1180\u001b[0;31m             \u001b[0mexec\u001b[0m\u001b[1;33m(\u001b[0m\u001b[0mcode\u001b[0m\u001b[1;33m,\u001b[0m \u001b[0mglob\u001b[0m\u001b[1;33m,\u001b[0m \u001b[0mlocal_ns\u001b[0m\u001b[1;33m)\u001b[0m\u001b[1;33m\u001b[0m\u001b[0m\n\u001b[0m\u001b[1;32m   1181\u001b[0m             \u001b[0mend\u001b[0m \u001b[1;33m=\u001b[0m \u001b[0mclock2\u001b[0m\u001b[1;33m(\u001b[0m\u001b[1;33m)\u001b[0m\u001b[1;33m\u001b[0m\u001b[0m\n\u001b[1;32m   1182\u001b[0m             \u001b[0mout\u001b[0m \u001b[1;33m=\u001b[0m \u001b[1;32mNone\u001b[0m\u001b[1;33m\u001b[0m\u001b[0m\n",
      "\u001b[0;32m<timed exec>\u001b[0m in \u001b[0;36m<module>\u001b[0;34m()\u001b[0m\n",
      "\u001b[0;32mC:\\Users\\user\\Anaconda3\\lib\\site-packages\\sklearn\\model_selection\\_validation.py\u001b[0m in \u001b[0;36mlearning_curve\u001b[0;34m(estimator, X, y, groups, train_sizes, cv, scoring, exploit_incremental_learning, n_jobs, pre_dispatch, verbose)\u001b[0m\n\u001b[1;32m    770\u001b[0m             \u001b[0mclone\u001b[0m\u001b[1;33m(\u001b[0m\u001b[0mestimator\u001b[0m\u001b[1;33m)\u001b[0m\u001b[1;33m,\u001b[0m \u001b[0mX\u001b[0m\u001b[1;33m,\u001b[0m \u001b[0my\u001b[0m\u001b[1;33m,\u001b[0m \u001b[0mscorer\u001b[0m\u001b[1;33m,\u001b[0m \u001b[0mtrain\u001b[0m\u001b[1;33m[\u001b[0m\u001b[1;33m:\u001b[0m\u001b[0mn_train_samples\u001b[0m\u001b[1;33m]\u001b[0m\u001b[1;33m,\u001b[0m \u001b[0mtest\u001b[0m\u001b[1;33m,\u001b[0m\u001b[1;33m\u001b[0m\u001b[0m\n\u001b[1;32m    771\u001b[0m             verbose, parameters=None, fit_params=None, return_train_score=True)\n\u001b[0;32m--> 772\u001b[0;31m             \u001b[1;32mfor\u001b[0m \u001b[0mtrain\u001b[0m\u001b[1;33m,\u001b[0m \u001b[0mtest\u001b[0m \u001b[1;32min\u001b[0m \u001b[0mcv_iter\u001b[0m\u001b[1;33m\u001b[0m\u001b[0m\n\u001b[0m\u001b[1;32m    773\u001b[0m             for n_train_samples in train_sizes_abs)\n\u001b[1;32m    774\u001b[0m         \u001b[0mout\u001b[0m \u001b[1;33m=\u001b[0m \u001b[0mnp\u001b[0m\u001b[1;33m.\u001b[0m\u001b[0marray\u001b[0m\u001b[1;33m(\u001b[0m\u001b[0mout\u001b[0m\u001b[1;33m)\u001b[0m\u001b[1;33m\u001b[0m\u001b[0m\n",
      "\u001b[0;32mC:\\Users\\user\\Anaconda3\\lib\\site-packages\\sklearn\\externals\\joblib\\parallel.py\u001b[0m in \u001b[0;36m__call__\u001b[0;34m(self, iterable)\u001b[0m\n\u001b[1;32m    766\u001b[0m                 \u001b[1;31m# consumption.\u001b[0m\u001b[1;33m\u001b[0m\u001b[1;33m\u001b[0m\u001b[0m\n\u001b[1;32m    767\u001b[0m                 \u001b[0mself\u001b[0m\u001b[1;33m.\u001b[0m\u001b[0m_iterating\u001b[0m \u001b[1;33m=\u001b[0m \u001b[1;32mFalse\u001b[0m\u001b[1;33m\u001b[0m\u001b[0m\n\u001b[0;32m--> 768\u001b[0;31m             \u001b[0mself\u001b[0m\u001b[1;33m.\u001b[0m\u001b[0mretrieve\u001b[0m\u001b[1;33m(\u001b[0m\u001b[1;33m)\u001b[0m\u001b[1;33m\u001b[0m\u001b[0m\n\u001b[0m\u001b[1;32m    769\u001b[0m             \u001b[1;31m# Make sure that we get a last message telling us we are done\u001b[0m\u001b[1;33m\u001b[0m\u001b[1;33m\u001b[0m\u001b[0m\n\u001b[1;32m    770\u001b[0m             \u001b[0melapsed_time\u001b[0m \u001b[1;33m=\u001b[0m \u001b[0mtime\u001b[0m\u001b[1;33m.\u001b[0m\u001b[0mtime\u001b[0m\u001b[1;33m(\u001b[0m\u001b[1;33m)\u001b[0m \u001b[1;33m-\u001b[0m \u001b[0mself\u001b[0m\u001b[1;33m.\u001b[0m\u001b[0m_start_time\u001b[0m\u001b[1;33m\u001b[0m\u001b[0m\n",
      "\u001b[0;32mC:\\Users\\user\\Anaconda3\\lib\\site-packages\\sklearn\\externals\\joblib\\parallel.py\u001b[0m in \u001b[0;36mretrieve\u001b[0;34m(self)\u001b[0m\n\u001b[1;32m    717\u001b[0m                     \u001b[0mensure_ready\u001b[0m \u001b[1;33m=\u001b[0m \u001b[0mself\u001b[0m\u001b[1;33m.\u001b[0m\u001b[0m_managed_backend\u001b[0m\u001b[1;33m\u001b[0m\u001b[0m\n\u001b[1;32m    718\u001b[0m                     \u001b[0mbackend\u001b[0m\u001b[1;33m.\u001b[0m\u001b[0mabort_everything\u001b[0m\u001b[1;33m(\u001b[0m\u001b[0mensure_ready\u001b[0m\u001b[1;33m=\u001b[0m\u001b[0mensure_ready\u001b[0m\u001b[1;33m)\u001b[0m\u001b[1;33m\u001b[0m\u001b[0m\n\u001b[0;32m--> 719\u001b[0;31m                 \u001b[1;32mraise\u001b[0m \u001b[0mexception\u001b[0m\u001b[1;33m\u001b[0m\u001b[0m\n\u001b[0m\u001b[1;32m    720\u001b[0m \u001b[1;33m\u001b[0m\u001b[0m\n\u001b[1;32m    721\u001b[0m     \u001b[1;32mdef\u001b[0m \u001b[0m__call__\u001b[0m\u001b[1;33m(\u001b[0m\u001b[0mself\u001b[0m\u001b[1;33m,\u001b[0m \u001b[0miterable\u001b[0m\u001b[1;33m)\u001b[0m\u001b[1;33m:\u001b[0m\u001b[1;33m\u001b[0m\u001b[0m\n",
      "\u001b[0;31mJoblibValueError\u001b[0m: JoblibValueError\n___________________________________________________________________________\nMultiprocessing exception:\n...........................................................................\nC:\\Users\\user\\Anaconda3\\lib\\runpy.py in _run_module_as_main(mod_name='ipykernel.__main__', alter_argv=1)\n    179         sys.exit(msg)\n    180     main_globals = sys.modules[\"__main__\"].__dict__\n    181     if alter_argv:\n    182         sys.argv[0] = mod_spec.origin\n    183     return _run_code(code, main_globals, None,\n--> 184                      \"__main__\", mod_spec)\n        mod_spec = ModuleSpec(name='ipykernel.__main__', loader=<_f...da3\\\\lib\\\\site-packages\\\\ipykernel\\\\__main__.py')\n    185 \n    186 def run_module(mod_name, init_globals=None,\n    187                run_name=None, alter_sys=False):\n    188     \"\"\"Execute a module's code without importing it\n\n...........................................................................\nC:\\Users\\user\\Anaconda3\\lib\\runpy.py in _run_code(code=<code object <module> at 0x00000000011C9B70, fil...lib\\site-packages\\ipykernel\\__main__.py\", line 1>, run_globals={'__builtins__': <module 'builtins' (built-in)>, '__cached__': r'C:\\Users\\user\\Anaconda3\\lib\\site-packages\\ipykernel\\__pycache__\\__main__.cpython-35.pyc', '__doc__': None, '__file__': r'C:\\Users\\user\\Anaconda3\\lib\\site-packages\\ipykernel\\__main__.py', '__loader__': <_frozen_importlib_external.SourceFileLoader object>, '__name__': '__main__', '__package__': 'ipykernel', '__spec__': ModuleSpec(name='ipykernel.__main__', loader=<_f...da3\\\\lib\\\\site-packages\\\\ipykernel\\\\__main__.py'), 'app': <module 'ipykernel.kernelapp' from 'C:\\\\Users\\\\u...a3\\\\lib\\\\site-packages\\\\ipykernel\\\\kernelapp.py'>}, init_globals=None, mod_name='__main__', mod_spec=ModuleSpec(name='ipykernel.__main__', loader=<_f...da3\\\\lib\\\\site-packages\\\\ipykernel\\\\__main__.py'), pkg_name='ipykernel', script_name=None)\n     80                        __cached__ = cached,\n     81                        __doc__ = None,\n     82                        __loader__ = loader,\n     83                        __package__ = pkg_name,\n     84                        __spec__ = mod_spec)\n---> 85     exec(code, run_globals)\n        code = <code object <module> at 0x00000000011C9B70, fil...lib\\site-packages\\ipykernel\\__main__.py\", line 1>\n        run_globals = {'__builtins__': <module 'builtins' (built-in)>, '__cached__': r'C:\\Users\\user\\Anaconda3\\lib\\site-packages\\ipykernel\\__pycache__\\__main__.cpython-35.pyc', '__doc__': None, '__file__': r'C:\\Users\\user\\Anaconda3\\lib\\site-packages\\ipykernel\\__main__.py', '__loader__': <_frozen_importlib_external.SourceFileLoader object>, '__name__': '__main__', '__package__': 'ipykernel', '__spec__': ModuleSpec(name='ipykernel.__main__', loader=<_f...da3\\\\lib\\\\site-packages\\\\ipykernel\\\\__main__.py'), 'app': <module 'ipykernel.kernelapp' from 'C:\\\\Users\\\\u...a3\\\\lib\\\\site-packages\\\\ipykernel\\\\kernelapp.py'>}\n     86     return run_globals\n     87 \n     88 def _run_module_code(code, init_globals=None,\n     89                     mod_name=None, mod_spec=None,\n\n...........................................................................\nC:\\Users\\user\\Anaconda3\\lib\\site-packages\\ipykernel\\__main__.py in <module>()\n      1 \n      2 \n----> 3 \n      4 if __name__ == '__main__':\n      5     from ipykernel import kernelapp as app\n      6     app.launch_new_instance()\n      7 \n      8 \n      9 \n     10 \n\n...........................................................................\nC:\\Users\\user\\Anaconda3\\lib\\site-packages\\traitlets\\config\\application.py in launch_instance(cls=<class 'ipykernel.kernelapp.IPKernelApp'>, argv=None, **kwargs={})\n    653 \n    654         If a global instance already exists, this reinitializes and starts it\n    655         \"\"\"\n    656         app = cls.instance(**kwargs)\n    657         app.initialize(argv)\n--> 658         app.start()\n        app.start = <bound method IPKernelApp.start of <ipykernel.kernelapp.IPKernelApp object>>\n    659 \n    660 #-----------------------------------------------------------------------------\n    661 # utility functions, for convenience\n    662 #-----------------------------------------------------------------------------\n\n...........................................................................\nC:\\Users\\user\\Anaconda3\\lib\\site-packages\\ipykernel\\kernelapp.py in start(self=<ipykernel.kernelapp.IPKernelApp object>)\n    469             return self.subapp.start()\n    470         if self.poller is not None:\n    471             self.poller.start()\n    472         self.kernel.start()\n    473         try:\n--> 474             ioloop.IOLoop.instance().start()\n    475         except KeyboardInterrupt:\n    476             pass\n    477 \n    478 launch_new_instance = IPKernelApp.launch_instance\n\n...........................................................................\nC:\\Users\\user\\Anaconda3\\lib\\site-packages\\zmq\\eventloop\\ioloop.py in start(self=<zmq.eventloop.ioloop.ZMQIOLoop object>)\n    172             )\n    173         return loop\n    174     \n    175     def start(self):\n    176         try:\n--> 177             super(ZMQIOLoop, self).start()\n        self.start = <bound method ZMQIOLoop.start of <zmq.eventloop.ioloop.ZMQIOLoop object>>\n    178         except ZMQError as e:\n    179             if e.errno == ETERM:\n    180                 # quietly return on ETERM\n    181                 pass\n\n...........................................................................\nC:\\Users\\user\\Anaconda3\\lib\\site-packages\\tornado\\ioloop.py in start(self=<zmq.eventloop.ioloop.ZMQIOLoop object>)\n    882                 self._events.update(event_pairs)\n    883                 while self._events:\n    884                     fd, events = self._events.popitem()\n    885                     try:\n    886                         fd_obj, handler_func = self._handlers[fd]\n--> 887                         handler_func(fd_obj, events)\n        handler_func = <function wrap.<locals>.null_wrapper>\n        fd_obj = <zmq.sugar.socket.Socket object>\n        events = 1\n    888                     except (OSError, IOError) as e:\n    889                         if errno_from_exception(e) == errno.EPIPE:\n    890                             # Happens when the client closes the connection\n    891                             pass\n\n...........................................................................\nC:\\Users\\user\\Anaconda3\\lib\\site-packages\\tornado\\stack_context.py in null_wrapper(*args=(<zmq.sugar.socket.Socket object>, 1), **kwargs={})\n    270         # Fast path when there are no active contexts.\n    271         def null_wrapper(*args, **kwargs):\n    272             try:\n    273                 current_state = _state.contexts\n    274                 _state.contexts = cap_contexts[0]\n--> 275                 return fn(*args, **kwargs)\n        args = (<zmq.sugar.socket.Socket object>, 1)\n        kwargs = {}\n    276             finally:\n    277                 _state.contexts = current_state\n    278         null_wrapper._wrapped = True\n    279         return null_wrapper\n\n...........................................................................\nC:\\Users\\user\\Anaconda3\\lib\\site-packages\\zmq\\eventloop\\zmqstream.py in _handle_events(self=<zmq.eventloop.zmqstream.ZMQStream object>, fd=<zmq.sugar.socket.Socket object>, events=1)\n    435             # dispatch events:\n    436             if events & IOLoop.ERROR:\n    437                 gen_log.error(\"got POLLERR event on ZMQStream, which doesn't make sense\")\n    438                 return\n    439             if events & IOLoop.READ:\n--> 440                 self._handle_recv()\n        self._handle_recv = <bound method ZMQStream._handle_recv of <zmq.eventloop.zmqstream.ZMQStream object>>\n    441                 if not self.socket:\n    442                     return\n    443             if events & IOLoop.WRITE:\n    444                 self._handle_send()\n\n...........................................................................\nC:\\Users\\user\\Anaconda3\\lib\\site-packages\\zmq\\eventloop\\zmqstream.py in _handle_recv(self=<zmq.eventloop.zmqstream.ZMQStream object>)\n    467                 gen_log.error(\"RECV Error: %s\"%zmq.strerror(e.errno))\n    468         else:\n    469             if self._recv_callback:\n    470                 callback = self._recv_callback\n    471                 # self._recv_callback = None\n--> 472                 self._run_callback(callback, msg)\n        self._run_callback = <bound method ZMQStream._run_callback of <zmq.eventloop.zmqstream.ZMQStream object>>\n        callback = <function wrap.<locals>.null_wrapper>\n        msg = [<zmq.sugar.frame.Frame object>, <zmq.sugar.frame.Frame object>, <zmq.sugar.frame.Frame object>, <zmq.sugar.frame.Frame object>, <zmq.sugar.frame.Frame object>, <zmq.sugar.frame.Frame object>, <zmq.sugar.frame.Frame object>]\n    473                 \n    474         # self.update_state()\n    475         \n    476 \n\n...........................................................................\nC:\\Users\\user\\Anaconda3\\lib\\site-packages\\zmq\\eventloop\\zmqstream.py in _run_callback(self=<zmq.eventloop.zmqstream.ZMQStream object>, callback=<function wrap.<locals>.null_wrapper>, *args=([<zmq.sugar.frame.Frame object>, <zmq.sugar.frame.Frame object>, <zmq.sugar.frame.Frame object>, <zmq.sugar.frame.Frame object>, <zmq.sugar.frame.Frame object>, <zmq.sugar.frame.Frame object>, <zmq.sugar.frame.Frame object>],), **kwargs={})\n    409         close our socket.\"\"\"\n    410         try:\n    411             # Use a NullContext to ensure that all StackContexts are run\n    412             # inside our blanket exception handler rather than outside.\n    413             with stack_context.NullContext():\n--> 414                 callback(*args, **kwargs)\n        callback = <function wrap.<locals>.null_wrapper>\n        args = ([<zmq.sugar.frame.Frame object>, <zmq.sugar.frame.Frame object>, <zmq.sugar.frame.Frame object>, <zmq.sugar.frame.Frame object>, <zmq.sugar.frame.Frame object>, <zmq.sugar.frame.Frame object>, <zmq.sugar.frame.Frame object>],)\n        kwargs = {}\n    415         except:\n    416             gen_log.error(\"Uncaught exception, closing connection.\",\n    417                           exc_info=True)\n    418             # Close the socket on an uncaught exception from a user callback\n\n...........................................................................\nC:\\Users\\user\\Anaconda3\\lib\\site-packages\\tornado\\stack_context.py in null_wrapper(*args=([<zmq.sugar.frame.Frame object>, <zmq.sugar.frame.Frame object>, <zmq.sugar.frame.Frame object>, <zmq.sugar.frame.Frame object>, <zmq.sugar.frame.Frame object>, <zmq.sugar.frame.Frame object>, <zmq.sugar.frame.Frame object>],), **kwargs={})\n    270         # Fast path when there are no active contexts.\n    271         def null_wrapper(*args, **kwargs):\n    272             try:\n    273                 current_state = _state.contexts\n    274                 _state.contexts = cap_contexts[0]\n--> 275                 return fn(*args, **kwargs)\n        args = ([<zmq.sugar.frame.Frame object>, <zmq.sugar.frame.Frame object>, <zmq.sugar.frame.Frame object>, <zmq.sugar.frame.Frame object>, <zmq.sugar.frame.Frame object>, <zmq.sugar.frame.Frame object>, <zmq.sugar.frame.Frame object>],)\n        kwargs = {}\n    276             finally:\n    277                 _state.contexts = current_state\n    278         null_wrapper._wrapped = True\n    279         return null_wrapper\n\n...........................................................................\nC:\\Users\\user\\Anaconda3\\lib\\site-packages\\ipykernel\\kernelbase.py in dispatcher(msg=[<zmq.sugar.frame.Frame object>, <zmq.sugar.frame.Frame object>, <zmq.sugar.frame.Frame object>, <zmq.sugar.frame.Frame object>, <zmq.sugar.frame.Frame object>, <zmq.sugar.frame.Frame object>, <zmq.sugar.frame.Frame object>])\n    271         if self.control_stream:\n    272             self.control_stream.on_recv(self.dispatch_control, copy=False)\n    273 \n    274         def make_dispatcher(stream):\n    275             def dispatcher(msg):\n--> 276                 return self.dispatch_shell(stream, msg)\n        msg = [<zmq.sugar.frame.Frame object>, <zmq.sugar.frame.Frame object>, <zmq.sugar.frame.Frame object>, <zmq.sugar.frame.Frame object>, <zmq.sugar.frame.Frame object>, <zmq.sugar.frame.Frame object>, <zmq.sugar.frame.Frame object>]\n    277             return dispatcher\n    278 \n    279         for s in self.shell_streams:\n    280             s.on_recv(make_dispatcher(s), copy=False)\n\n...........................................................................\nC:\\Users\\user\\Anaconda3\\lib\\site-packages\\ipykernel\\kernelbase.py in dispatch_shell(self=<ipykernel.ipkernel.IPythonKernel object>, stream=<zmq.eventloop.zmqstream.ZMQStream object>, msg={'buffers': [], 'content': {'allow_stdin': True, 'code': '%%time\\ntrain_sizes = np.linspace(0.25, 1, 20)\\nes...inary_128, train_sizes=train_sizes, n_jobs = -1)\\n', 'silent': False, 'stop_on_error': True, 'store_history': True, 'user_expressions': {}}, 'header': {'date': '2017-10-21T01:55:49.181231', 'msg_id': 'F7EAB1798285484587F937D21EF1BB8C', 'msg_type': 'execute_request', 'session': '37B45472E14148B489DB2BEF40FBE841', 'username': 'username', 'version': '5.0'}, 'metadata': {}, 'msg_id': 'F7EAB1798285484587F937D21EF1BB8C', 'msg_type': 'execute_request', 'parent_header': {}})\n    223             self.log.error(\"UNKNOWN MESSAGE TYPE: %r\", msg_type)\n    224         else:\n    225             self.log.debug(\"%s: %s\", msg_type, msg)\n    226             self.pre_handler_hook()\n    227             try:\n--> 228                 handler(stream, idents, msg)\n        handler = <bound method Kernel.execute_request of <ipykernel.ipkernel.IPythonKernel object>>\n        stream = <zmq.eventloop.zmqstream.ZMQStream object>\n        idents = [b'37B45472E14148B489DB2BEF40FBE841']\n        msg = {'buffers': [], 'content': {'allow_stdin': True, 'code': '%%time\\ntrain_sizes = np.linspace(0.25, 1, 20)\\nes...inary_128, train_sizes=train_sizes, n_jobs = -1)\\n', 'silent': False, 'stop_on_error': True, 'store_history': True, 'user_expressions': {}}, 'header': {'date': '2017-10-21T01:55:49.181231', 'msg_id': 'F7EAB1798285484587F937D21EF1BB8C', 'msg_type': 'execute_request', 'session': '37B45472E14148B489DB2BEF40FBE841', 'username': 'username', 'version': '5.0'}, 'metadata': {}, 'msg_id': 'F7EAB1798285484587F937D21EF1BB8C', 'msg_type': 'execute_request', 'parent_header': {}}\n    229             except Exception:\n    230                 self.log.error(\"Exception in message handler:\", exc_info=True)\n    231             finally:\n    232                 self.post_handler_hook()\n\n...........................................................................\nC:\\Users\\user\\Anaconda3\\lib\\site-packages\\ipykernel\\kernelbase.py in execute_request(self=<ipykernel.ipkernel.IPythonKernel object>, stream=<zmq.eventloop.zmqstream.ZMQStream object>, ident=[b'37B45472E14148B489DB2BEF40FBE841'], parent={'buffers': [], 'content': {'allow_stdin': True, 'code': '%%time\\ntrain_sizes = np.linspace(0.25, 1, 20)\\nes...inary_128, train_sizes=train_sizes, n_jobs = -1)\\n', 'silent': False, 'stop_on_error': True, 'store_history': True, 'user_expressions': {}}, 'header': {'date': '2017-10-21T01:55:49.181231', 'msg_id': 'F7EAB1798285484587F937D21EF1BB8C', 'msg_type': 'execute_request', 'session': '37B45472E14148B489DB2BEF40FBE841', 'username': 'username', 'version': '5.0'}, 'metadata': {}, 'msg_id': 'F7EAB1798285484587F937D21EF1BB8C', 'msg_type': 'execute_request', 'parent_header': {}})\n    385         if not silent:\n    386             self.execution_count += 1\n    387             self._publish_execute_input(code, parent, self.execution_count)\n    388 \n    389         reply_content = self.do_execute(code, silent, store_history,\n--> 390                                         user_expressions, allow_stdin)\n        user_expressions = {}\n        allow_stdin = True\n    391 \n    392         # Flush output before sending the reply.\n    393         sys.stdout.flush()\n    394         sys.stderr.flush()\n\n...........................................................................\nC:\\Users\\user\\Anaconda3\\lib\\site-packages\\ipykernel\\ipkernel.py in do_execute(self=<ipykernel.ipkernel.IPythonKernel object>, code='%%time\\ntrain_sizes = np.linspace(0.25, 1, 20)\\nes...inary_128, train_sizes=train_sizes, n_jobs = -1)\\n', silent=False, store_history=True, user_expressions={}, allow_stdin=True)\n    191 \n    192         self._forward_input(allow_stdin)\n    193 \n    194         reply_content = {}\n    195         try:\n--> 196             res = shell.run_cell(code, store_history=store_history, silent=silent)\n        res = undefined\n        shell.run_cell = <bound method ZMQInteractiveShell.run_cell of <ipykernel.zmqshell.ZMQInteractiveShell object>>\n        code = '%%time\\ntrain_sizes = np.linspace(0.25, 1, 20)\\nes...inary_128, train_sizes=train_sizes, n_jobs = -1)\\n'\n        store_history = True\n        silent = False\n    197         finally:\n    198             self._restore_input()\n    199 \n    200         if res.error_before_exec is not None:\n\n...........................................................................\nC:\\Users\\user\\Anaconda3\\lib\\site-packages\\ipykernel\\zmqshell.py in run_cell(self=<ipykernel.zmqshell.ZMQInteractiveShell object>, *args=('%%time\\ntrain_sizes = np.linspace(0.25, 1, 20)\\nes...inary_128, train_sizes=train_sizes, n_jobs = -1)\\n',), **kwargs={'silent': False, 'store_history': True})\n    496             )\n    497         self.payload_manager.write_payload(payload)\n    498 \n    499     def run_cell(self, *args, **kwargs):\n    500         self._last_traceback = None\n--> 501         return super(ZMQInteractiveShell, self).run_cell(*args, **kwargs)\n        self.run_cell = <bound method ZMQInteractiveShell.run_cell of <ipykernel.zmqshell.ZMQInteractiveShell object>>\n        args = ('%%time\\ntrain_sizes = np.linspace(0.25, 1, 20)\\nes...inary_128, train_sizes=train_sizes, n_jobs = -1)\\n',)\n        kwargs = {'silent': False, 'store_history': True}\n    502 \n    503     def _showtraceback(self, etype, evalue, stb):\n    504         # try to preserve ordering of tracebacks and print statements\n    505         sys.stdout.flush()\n\n...........................................................................\nC:\\Users\\user\\Anaconda3\\lib\\site-packages\\IPython\\core\\interactiveshell.py in run_cell(self=<ipykernel.zmqshell.ZMQInteractiveShell object>, raw_cell='%%time\\ntrain_sizes = np.linspace(0.25, 1, 20)\\nes...inary_128, train_sizes=train_sizes, n_jobs = -1)\\n', store_history=True, silent=False, shell_futures=True)\n   2712                 self.displayhook.exec_result = result\n   2713 \n   2714                 # Execute the user code\n   2715                 interactivity = \"none\" if silent else self.ast_node_interactivity\n   2716                 has_raised = self.run_ast_nodes(code_ast.body, cell_name,\n-> 2717                    interactivity=interactivity, compiler=compiler, result=result)\n        interactivity = 'last_expr'\n        compiler = <IPython.core.compilerop.CachingCompiler object>\n   2718                 \n   2719                 self.last_execution_succeeded = not has_raised\n   2720 \n   2721                 # Reset this so later displayed values do not modify the\n\n...........................................................................\nC:\\Users\\user\\Anaconda3\\lib\\site-packages\\IPython\\core\\interactiveshell.py in run_ast_nodes(self=<ipykernel.zmqshell.ZMQInteractiveShell object>, nodelist=[<_ast.Expr object>], cell_name='<ipython-input-145-5329c2c8319b>', interactivity='last', compiler=<IPython.core.compilerop.CachingCompiler object>, result=<ExecutionResult object at d611eb8, execution_co..._before_exec=None error_in_exec=None result=None>)\n   2822                     return True\n   2823 \n   2824             for i, node in enumerate(to_run_interactive):\n   2825                 mod = ast.Interactive([node])\n   2826                 code = compiler(mod, cell_name, \"single\")\n-> 2827                 if self.run_code(code, result):\n        self.run_code = <bound method InteractiveShell.run_code of <ipykernel.zmqshell.ZMQInteractiveShell object>>\n        code = <code object <module> at 0x000000000D6654B0, file \"<ipython-input-145-5329c2c8319b>\", line 1>\n        result = <ExecutionResult object at d611eb8, execution_co..._before_exec=None error_in_exec=None result=None>\n   2828                     return True\n   2829 \n   2830             # Flush softspace\n   2831             if softspace(sys.stdout, 0):\n\n...........................................................................\nC:\\Users\\user\\Anaconda3\\lib\\site-packages\\IPython\\core\\interactiveshell.py in run_code(self=<ipykernel.zmqshell.ZMQInteractiveShell object>, code_obj=<code object <module> at 0x000000000D6654B0, file \"<ipython-input-145-5329c2c8319b>\", line 1>, result=<ExecutionResult object at d611eb8, execution_co..._before_exec=None error_in_exec=None result=None>)\n   2876         outflag = 1  # happens in more places, so it's easier as default\n   2877         try:\n   2878             try:\n   2879                 self.hooks.pre_run_code_hook()\n   2880                 #rprint('Running code', repr(code_obj)) # dbg\n-> 2881                 exec(code_obj, self.user_global_ns, self.user_ns)\n        code_obj = <code object <module> at 0x000000000D6654B0, file \"<ipython-input-145-5329c2c8319b>\", line 1>\n        self.user_global_ns = {'GridSearchCV': <class 'sklearn.model_selection._search.GridSearchCV'>, 'In': ['', 'from __future__ import division, print_function\\n...m sklearn.metrics import accuracy_score, f1_score', \"# Поменяйте на свой путь к данным\\nPATH_TO_DATA = '~/capstone_user_identification'\", 'rrr = pickle.load(open(\\'save3.p\\', \"rb\"))', 'y_10users = pickle.load(open(\\'saveuser3.p\\', \"rb\"))\\nX_sparse_10users = rrr[:, range(1, 4914)]', 'len(y_10users), X_sparse_10users.shape[1]', 'X_sparse_10users.shape', 'X_train, X_valid, y_train, y_valid = train_test_...             random_state=17, stratify=y_10users)', 'y_train.reset_index(drop = True, inplace = True)\\ny_valid.reset_index(drop = True, inplace = True)', 'print(X_train[6,:])', 'skf = StratifiedKFold(n_splits=3, shuffle=True, random_state=17)', 'def plot_validation_curves(param_values, grid_cv..._line[0].get_color(), alpha=0.2)\\n    plt.legend()', 'from sklearn.neighbors import KNeighborsClassifier', 'knn = KNeighborsClassifier(n_jobs=-1, n_neighbor...        y=y_train,\\n                cv=skf).mean()', 'ah=knn.predict(X_valid)', 'sss2.fit(X_train, y_train)', 'modres2 = sss2.predict(X_valid)\\nprint(accuracy_s...ss2.best_score_\\n#sss2.cv_results_\\n###0.704, 0.733', \"write_answer_to_file(''' ВАШ КОД ЗДЕСЬ ''',\\n                     'answer4_2.txt')\", \"get_ipython().system('cat answer4_2.txt')\", 'from sklearn.linear_model import LogisticRegression, LogisticRegressionCV', ...], 'KNeighborsClassifier': <class 'sklearn.neighbors.classification.KNeighborsClassifier'>, 'LinearSVC': <class 'sklearn.svm.classes.LinearSVC'>, 'LogisticRegression': <class 'sklearn.linear_model.logistic.LogisticRegression'>, 'LogisticRegressionCV': <class 'sklearn.linear_model.logistic.LogisticRegressionCV'>, 'Out': {5: (14061, 4913), 6: (14061, 4913), 13: 0.56167298405556676, 20: GridSearchCV(cv=StratifiedKFold(n_splits=3, rand...return_train_score=True, scoring=None, verbose=0), 21: (0.78170182507703245, 0.76254826254826258), 24: array([ 0.31679887,  0.47358573,  0.55476721,  0...76082208,  0.7622432 ,  0.75563934,  0.74558182]), 26: {31: array([[ 0.32724505,  0.46940639,  0.55190259,  ...6388041,  0.76357535,  0.75747407,  0.75228798]]), 33: array([[ 0.32724505,  0.46940639,  0.55190259,  ...6388041,  0.76357535,  0.75747407,  0.75228798]]), 39: array([[ 0.32724505,  0.46940639,  0.55190259,  ...6388041,  0.76357535,  0.75747407,  0.75228798]]), 50: array([[ 0.32724505,  0.46940639,  0.55190259,  ...6388041,  0.76357535,  0.75747407,  0.75228798]]), 100: array([[ 0.32724505,  0.46940639,  0.55190259,  ...6388041,  0.76357535,  0.75747407,  0.75228798]]), 127: array([[ 0.32724505,  0.46940639,  0.55190259,  ...6388041,  0.76357535,  0.75747407,  0.75228798]]), 128: array([[ 0.32724505,  0.46940639,  0.55190259,  ...6388041,  0.76357535,  0.75747407,  0.75228798]]), 207: array([[ 0.32724505,  0.46940639,  0.55190259,  ...6388041,  0.76357535,  0.75747407,  0.75228798]]), 237: array([[ 0.32724505,  0.46940639,  0.55190259,  ...6388041,  0.76357535,  0.75747407,  0.75228798]]), 241: array([[ 0.32724505,  0.46940639,  0.55190259,  ...6388041,  0.76357535,  0.75747407,  0.75228798]])}, 27: (array([ 0.31679887,  0.47358573,  0.55476721,  0...76082208,  0.7622432 ,  0.75563934,  0.74558182]), array([  1.00000000e-04,   4.64158883e-04,   2.1...e+00,   2.15443469e+01,\n         1.00000000e+02])), 31: (array([ 0.76315738,  0.7629536 ,  0.76336053,  0...76031324,  0.76010986,  0.76021115,  0.75980483]), array([ 3.        ,  3.21052632,  3.42105263,  3...36842105,  6.57894737,  6.78947368,  7.        ])), 34: 0.78027968712965157, ...}, 'PATH_TO_DATA': '~/capstone_user_identification', 'RandomForestClassifier': <class 'sklearn.ensemble.forest.RandomForestClassifier'>, 'StratifiedKFold': <class 'sklearn.model_selection._split.StratifiedKFold'>, ...}\n        self.user_ns = {'GridSearchCV': <class 'sklearn.model_selection._search.GridSearchCV'>, 'In': ['', 'from __future__ import division, print_function\\n...m sklearn.metrics import accuracy_score, f1_score', \"# Поменяйте на свой путь к данным\\nPATH_TO_DATA = '~/capstone_user_identification'\", 'rrr = pickle.load(open(\\'save3.p\\', \"rb\"))', 'y_10users = pickle.load(open(\\'saveuser3.p\\', \"rb\"))\\nX_sparse_10users = rrr[:, range(1, 4914)]', 'len(y_10users), X_sparse_10users.shape[1]', 'X_sparse_10users.shape', 'X_train, X_valid, y_train, y_valid = train_test_...             random_state=17, stratify=y_10users)', 'y_train.reset_index(drop = True, inplace = True)\\ny_valid.reset_index(drop = True, inplace = True)', 'print(X_train[6,:])', 'skf = StratifiedKFold(n_splits=3, shuffle=True, random_state=17)', 'def plot_validation_curves(param_values, grid_cv..._line[0].get_color(), alpha=0.2)\\n    plt.legend()', 'from sklearn.neighbors import KNeighborsClassifier', 'knn = KNeighborsClassifier(n_jobs=-1, n_neighbor...        y=y_train,\\n                cv=skf).mean()', 'ah=knn.predict(X_valid)', 'sss2.fit(X_train, y_train)', 'modres2 = sss2.predict(X_valid)\\nprint(accuracy_s...ss2.best_score_\\n#sss2.cv_results_\\n###0.704, 0.733', \"write_answer_to_file(''' ВАШ КОД ЗДЕСЬ ''',\\n                     'answer4_2.txt')\", \"get_ipython().system('cat answer4_2.txt')\", 'from sklearn.linear_model import LogisticRegression, LogisticRegressionCV', ...], 'KNeighborsClassifier': <class 'sklearn.neighbors.classification.KNeighborsClassifier'>, 'LinearSVC': <class 'sklearn.svm.classes.LinearSVC'>, 'LogisticRegression': <class 'sklearn.linear_model.logistic.LogisticRegression'>, 'LogisticRegressionCV': <class 'sklearn.linear_model.logistic.LogisticRegressionCV'>, 'Out': {5: (14061, 4913), 6: (14061, 4913), 13: 0.56167298405556676, 20: GridSearchCV(cv=StratifiedKFold(n_splits=3, rand...return_train_score=True, scoring=None, verbose=0), 21: (0.78170182507703245, 0.76254826254826258), 24: array([ 0.31679887,  0.47358573,  0.55476721,  0...76082208,  0.7622432 ,  0.75563934,  0.74558182]), 26: {31: array([[ 0.32724505,  0.46940639,  0.55190259,  ...6388041,  0.76357535,  0.75747407,  0.75228798]]), 33: array([[ 0.32724505,  0.46940639,  0.55190259,  ...6388041,  0.76357535,  0.75747407,  0.75228798]]), 39: array([[ 0.32724505,  0.46940639,  0.55190259,  ...6388041,  0.76357535,  0.75747407,  0.75228798]]), 50: array([[ 0.32724505,  0.46940639,  0.55190259,  ...6388041,  0.76357535,  0.75747407,  0.75228798]]), 100: array([[ 0.32724505,  0.46940639,  0.55190259,  ...6388041,  0.76357535,  0.75747407,  0.75228798]]), 127: array([[ 0.32724505,  0.46940639,  0.55190259,  ...6388041,  0.76357535,  0.75747407,  0.75228798]]), 128: array([[ 0.32724505,  0.46940639,  0.55190259,  ...6388041,  0.76357535,  0.75747407,  0.75228798]]), 207: array([[ 0.32724505,  0.46940639,  0.55190259,  ...6388041,  0.76357535,  0.75747407,  0.75228798]]), 237: array([[ 0.32724505,  0.46940639,  0.55190259,  ...6388041,  0.76357535,  0.75747407,  0.75228798]]), 241: array([[ 0.32724505,  0.46940639,  0.55190259,  ...6388041,  0.76357535,  0.75747407,  0.75228798]])}, 27: (array([ 0.31679887,  0.47358573,  0.55476721,  0...76082208,  0.7622432 ,  0.75563934,  0.74558182]), array([  1.00000000e-04,   4.64158883e-04,   2.1...e+00,   2.15443469e+01,\n         1.00000000e+02])), 31: (array([ 0.76315738,  0.7629536 ,  0.76336053,  0...76031324,  0.76010986,  0.76021115,  0.75980483]), array([ 3.        ,  3.21052632,  3.42105263,  3...36842105,  6.57894737,  6.78947368,  7.        ])), 34: 0.78027968712965157, ...}, 'PATH_TO_DATA': '~/capstone_user_identification', 'RandomForestClassifier': <class 'sklearn.ensemble.forest.RandomForestClassifier'>, 'StratifiedKFold': <class 'sklearn.model_selection._split.StratifiedKFold'>, ...}\n   2882             finally:\n   2883                 # Reset our crash handler in place\n   2884                 sys.excepthook = old_excepthook\n   2885         except SystemExit as e:\n\n...........................................................................\nC:\\Users\\user\\antiYorko\\project_alice\\<ipython-input-145-5329c2c8319b> in <module>()\n----> 1 \n      2 \n      3 \n      4 \n      5 \n      6 get_ipython().run_cell_magic('time', '', 'train_sizes = np.linspace(0.25, 1, 20)\\nestimator = svm_grid_searcher2.best_estimator_\\n#estimator = logit_cv_150users\\nn_train, val_train, val_test = learning_curve(estimator, X=X_sparse_150users, y=y_binary_128, train_sizes=train_sizes, n_jobs = -1)')\n      7 \n      8 \n      9 \n     10 \n\n...........................................................................\nC:\\Users\\user\\Anaconda3\\lib\\site-packages\\IPython\\core\\interactiveshell.py in run_cell_magic(self=<ipykernel.zmqshell.ZMQInteractiveShell object>, magic_name='time', line='', cell='train_sizes = np.linspace(0.25, 1, 20)\\nestimator...binary_128, train_sizes=train_sizes, n_jobs = -1)')\n   2110             # This will need to be updated if the internal calling logic gets\n   2111             # refactored, or else we'll be expanding the wrong variables.\n   2112             stack_depth = 2\n   2113             magic_arg_s = self.var_expand(line, stack_depth)\n   2114             with self.builtin_trap:\n-> 2115                 result = fn(magic_arg_s, cell)\n        result = undefined\n        fn = <bound method ExecutionMagics.time of <IPython.core.magics.execution.ExecutionMagics object>>\n        magic_arg_s = ''\n        cell = 'train_sizes = np.linspace(0.25, 1, 20)\\nestimator...binary_128, train_sizes=train_sizes, n_jobs = -1)'\n   2116             return result\n   2117 \n   2118     def find_line_magic(self, magic_name):\n   2119         \"\"\"Find and return a line magic by name.\n\n...........................................................................\nC:\\Users\\user\\antiYorko\\project_alice\\<decorator-gen-60> in time(self=<IPython.core.magics.execution.ExecutionMagics object>, line='', cell='train_sizes = np.linspace(0.25, 1, 20)\\nestimator...binary_128, train_sizes=train_sizes, n_jobs = -1)', local_ns=None)\n      1 \n----> 2 \n      3 \n      4 \n      5 \n      6 \n      7 \n      8 \n      9 \n     10 \n\n...........................................................................\nC:\\Users\\user\\Anaconda3\\lib\\site-packages\\IPython\\core\\magic.py in <lambda>(f=<function ExecutionMagics.time>, *a=(<IPython.core.magics.execution.ExecutionMagics object>, '', 'train_sizes = np.linspace(0.25, 1, 20)\\nestimator...binary_128, train_sizes=train_sizes, n_jobs = -1)', None), **k={})\n    183     validate_type(magic_kind)\n    184 \n    185     # This is a closure to capture the magic_kind.  We could also use a class,\n    186     # but it's overkill for just that one bit of state.\n    187     def magic_deco(arg):\n--> 188         call = lambda f, *a, **k: f(*a, **k)\n        f = <function ExecutionMagics.time>\n        a = (<IPython.core.magics.execution.ExecutionMagics object>, '', 'train_sizes = np.linspace(0.25, 1, 20)\\nestimator...binary_128, train_sizes=train_sizes, n_jobs = -1)', None)\n        k = {}\n    189 \n    190         if callable(arg):\n    191             # \"Naked\" decorator call (just @foo, no args)\n    192             func = arg\n\n...........................................................................\nC:\\Users\\user\\Anaconda3\\lib\\site-packages\\IPython\\core\\magics\\execution.py in time(self=<IPython.core.magics.execution.ExecutionMagics object>, line='', cell='train_sizes = np.linspace(0.25, 1, 20)\\nestimator...binary_128, train_sizes=train_sizes, n_jobs = -1)', local_ns=None)\n   1175             st = clock2()\n   1176             out = eval(code, glob, local_ns)\n   1177             end = clock2()\n   1178         else:\n   1179             st = clock2()\n-> 1180             exec(code, glob, local_ns)\n        code = <code object <module> at 0x000000000D665E40, file \"<timed exec>\", line 1>\n        glob = {'GridSearchCV': <class 'sklearn.model_selection._search.GridSearchCV'>, 'In': ['', 'from __future__ import division, print_function\\n...m sklearn.metrics import accuracy_score, f1_score', \"# Поменяйте на свой путь к данным\\nPATH_TO_DATA = '~/capstone_user_identification'\", 'rrr = pickle.load(open(\\'save3.p\\', \"rb\"))', 'y_10users = pickle.load(open(\\'saveuser3.p\\', \"rb\"))\\nX_sparse_10users = rrr[:, range(1, 4914)]', 'len(y_10users), X_sparse_10users.shape[1]', 'X_sparse_10users.shape', 'X_train, X_valid, y_train, y_valid = train_test_...             random_state=17, stratify=y_10users)', 'y_train.reset_index(drop = True, inplace = True)\\ny_valid.reset_index(drop = True, inplace = True)', 'print(X_train[6,:])', 'skf = StratifiedKFold(n_splits=3, shuffle=True, random_state=17)', 'def plot_validation_curves(param_values, grid_cv..._line[0].get_color(), alpha=0.2)\\n    plt.legend()', 'from sklearn.neighbors import KNeighborsClassifier', 'knn = KNeighborsClassifier(n_jobs=-1, n_neighbor...        y=y_train,\\n                cv=skf).mean()', 'ah=knn.predict(X_valid)', 'sss2.fit(X_train, y_train)', 'modres2 = sss2.predict(X_valid)\\nprint(accuracy_s...ss2.best_score_\\n#sss2.cv_results_\\n###0.704, 0.733', \"write_answer_to_file(''' ВАШ КОД ЗДЕСЬ ''',\\n                     'answer4_2.txt')\", \"get_ipython().system('cat answer4_2.txt')\", 'from sklearn.linear_model import LogisticRegression, LogisticRegressionCV', ...], 'KNeighborsClassifier': <class 'sklearn.neighbors.classification.KNeighborsClassifier'>, 'LinearSVC': <class 'sklearn.svm.classes.LinearSVC'>, 'LogisticRegression': <class 'sklearn.linear_model.logistic.LogisticRegression'>, 'LogisticRegressionCV': <class 'sklearn.linear_model.logistic.LogisticRegressionCV'>, 'Out': {5: (14061, 4913), 6: (14061, 4913), 13: 0.56167298405556676, 20: GridSearchCV(cv=StratifiedKFold(n_splits=3, rand...return_train_score=True, scoring=None, verbose=0), 21: (0.78170182507703245, 0.76254826254826258), 24: array([ 0.31679887,  0.47358573,  0.55476721,  0...76082208,  0.7622432 ,  0.75563934,  0.74558182]), 26: {31: array([[ 0.32724505,  0.46940639,  0.55190259,  ...6388041,  0.76357535,  0.75747407,  0.75228798]]), 33: array([[ 0.32724505,  0.46940639,  0.55190259,  ...6388041,  0.76357535,  0.75747407,  0.75228798]]), 39: array([[ 0.32724505,  0.46940639,  0.55190259,  ...6388041,  0.76357535,  0.75747407,  0.75228798]]), 50: array([[ 0.32724505,  0.46940639,  0.55190259,  ...6388041,  0.76357535,  0.75747407,  0.75228798]]), 100: array([[ 0.32724505,  0.46940639,  0.55190259,  ...6388041,  0.76357535,  0.75747407,  0.75228798]]), 127: array([[ 0.32724505,  0.46940639,  0.55190259,  ...6388041,  0.76357535,  0.75747407,  0.75228798]]), 128: array([[ 0.32724505,  0.46940639,  0.55190259,  ...6388041,  0.76357535,  0.75747407,  0.75228798]]), 207: array([[ 0.32724505,  0.46940639,  0.55190259,  ...6388041,  0.76357535,  0.75747407,  0.75228798]]), 237: array([[ 0.32724505,  0.46940639,  0.55190259,  ...6388041,  0.76357535,  0.75747407,  0.75228798]]), 241: array([[ 0.32724505,  0.46940639,  0.55190259,  ...6388041,  0.76357535,  0.75747407,  0.75228798]])}, 27: (array([ 0.31679887,  0.47358573,  0.55476721,  0...76082208,  0.7622432 ,  0.75563934,  0.74558182]), array([  1.00000000e-04,   4.64158883e-04,   2.1...e+00,   2.15443469e+01,\n         1.00000000e+02])), 31: (array([ 0.76315738,  0.7629536 ,  0.76336053,  0...76031324,  0.76010986,  0.76021115,  0.75980483]), array([ 3.        ,  3.21052632,  3.42105263,  3...36842105,  6.57894737,  6.78947368,  7.        ])), 34: 0.78027968712965157, ...}, 'PATH_TO_DATA': '~/capstone_user_identification', 'RandomForestClassifier': <class 'sklearn.ensemble.forest.RandomForestClassifier'>, 'StratifiedKFold': <class 'sklearn.model_selection._split.StratifiedKFold'>, ...}\n        local_ns = None\n   1181             end = clock2()\n   1182             out = None\n   1183         wall_end = wtime()\n   1184         # Compute actual times and report\n\n...........................................................................\nC:\\Users\\user\\antiYorko\\project_alice\\<timed exec> in <module>()\n      1 \n      2 \n      3 \n----> 4 \n      5 \n      6 \n      7 \n      8 \n      9 \n     10 \n\n...........................................................................\nC:\\Users\\user\\Anaconda3\\lib\\site-packages\\sklearn\\model_selection\\_validation.py in learning_curve(estimator=LinearSVC(C=0.24213793103448275, class_weight=No...l2', random_state=17,\n     tol=0.0001, verbose=0), X=<137019x27798 sparse matrix of type '<class 'num... stored elements in Compressed Sparse Row format>, y=array([0, 0, 0, ..., 0, 0, 0], dtype=int64), groups=None, train_sizes=array([ 0.25      ,  0.28947368,  0.32894737,  0...88157895,  0.92105263,  0.96052632,  1.        ]), cv=StratifiedKFold(n_splits=3, random_state=None, shuffle=False), scoring=None, exploit_incremental_learning=False, n_jobs=-1, pre_dispatch='all', verbose=0)\n    767             scorer, verbose) for train, test in cv_iter)\n    768     else:\n    769         out = parallel(delayed(_fit_and_score)(\n    770             clone(estimator), X, y, scorer, train[:n_train_samples], test,\n    771             verbose, parameters=None, fit_params=None, return_train_score=True)\n--> 772             for train, test in cv_iter\n        cv_iter = [(array([ 32396,  32397,  32398, ..., 137016, 137017, 137018]), array([    0,     1,     2, ..., 47534, 47535, 47536])), (array([     0,      1,      2, ..., 137016, 137017, 137018]), array([32396, 32397, 32398, ..., 92275, 92276, 92277])), (array([    0,     1,     2, ..., 92275, 92276, 92277]), array([ 33328,  33329,  33330, ..., 137016, 137017, 137018]))]\n    773             for n_train_samples in train_sizes_abs)\n    774         out = np.array(out)\n    775         n_cv_folds = out.shape[0] // n_unique_ticks\n    776         out = out.reshape(n_cv_folds, n_unique_ticks, 2)\n\n...........................................................................\nC:\\Users\\user\\Anaconda3\\lib\\site-packages\\sklearn\\externals\\joblib\\parallel.py in __call__(self=Parallel(n_jobs=-1), iterable=<generator object learning_curve.<locals>.<genexpr>>)\n    763             if pre_dispatch == \"all\" or n_jobs == 1:\n    764                 # The iterable was consumed all at once by the above for loop.\n    765                 # No need to wait for async callbacks to trigger to\n    766                 # consumption.\n    767                 self._iterating = False\n--> 768             self.retrieve()\n        self.retrieve = <bound method Parallel.retrieve of Parallel(n_jobs=-1)>\n    769             # Make sure that we get a last message telling us we are done\n    770             elapsed_time = time.time() - self._start_time\n    771             self._print('Done %3i out of %3i | elapsed: %s finished',\n    772                         (len(self._output), len(self._output),\n\n---------------------------------------------------------------------------\nSub-process traceback:\n---------------------------------------------------------------------------\nValueError                                         Sat Oct 21 01:55:51 2017\nPID: 16736                 Python 3.5.2: C:\\Users\\user\\Anaconda3\\python.exe\n...........................................................................\nC:\\Users\\user\\Anaconda3\\lib\\site-packages\\sklearn\\externals\\joblib\\parallel.py in __call__(self=<sklearn.externals.joblib.parallel.BatchedCalls object>)\n    126     def __init__(self, iterator_slice):\n    127         self.items = list(iterator_slice)\n    128         self._size = len(self.items)\n    129 \n    130     def __call__(self):\n--> 131         return [func(*args, **kwargs) for func, args, kwargs in self.items]\n        self.items = [(<function _fit_and_score>, (LinearSVC(C=0.24213793103448275, class_weight=No...l2', random_state=17,\n     tol=0.0001, verbose=0), <137019x27798 sparse matrix of type '<class 'num... stored elements in Compressed Sparse Row format>, memmap([0, 0, 0, ..., 0, 0, 0], dtype=int64), <function _passthrough_scorer>, array([    0,     1,     2, ..., 22833, 22834, 22835]), array([32396, 32397, 32398, ..., 92275, 92276, 92277]), 0), {'fit_params': None, 'parameters': None, 'return_train_score': True})]\n    132 \n    133     def __len__(self):\n    134         return self._size\n    135 \n\n...........................................................................\nC:\\Users\\user\\Anaconda3\\lib\\site-packages\\sklearn\\externals\\joblib\\parallel.py in <listcomp>(.0=<list_iterator object>)\n    126     def __init__(self, iterator_slice):\n    127         self.items = list(iterator_slice)\n    128         self._size = len(self.items)\n    129 \n    130     def __call__(self):\n--> 131         return [func(*args, **kwargs) for func, args, kwargs in self.items]\n        func = <function _fit_and_score>\n        args = (LinearSVC(C=0.24213793103448275, class_weight=No...l2', random_state=17,\n     tol=0.0001, verbose=0), <137019x27798 sparse matrix of type '<class 'num... stored elements in Compressed Sparse Row format>, memmap([0, 0, 0, ..., 0, 0, 0], dtype=int64), <function _passthrough_scorer>, array([    0,     1,     2, ..., 22833, 22834, 22835]), array([32396, 32397, 32398, ..., 92275, 92276, 92277]), 0)\n        kwargs = {'fit_params': None, 'parameters': None, 'return_train_score': True}\n    132 \n    133     def __len__(self):\n    134         return self._size\n    135 \n\n...........................................................................\nC:\\Users\\user\\Anaconda3\\lib\\site-packages\\sklearn\\model_selection\\_validation.py in _fit_and_score(estimator=LinearSVC(C=0.24213793103448275, class_weight=No...l2', random_state=17,\n     tol=0.0001, verbose=0), X=<137019x27798 sparse matrix of type '<class 'num... stored elements in Compressed Sparse Row format>, y=memmap([0, 0, 0, ..., 0, 0, 0], dtype=int64), scorer=<function _passthrough_scorer>, train=array([    0,     1,     2, ..., 22833, 22834, 22835]), test=array([32396, 32397, 32398, ..., 92275, 92276, 92277]), verbose=0, parameters=None, fit_params={}, return_train_score=True, return_parameters=False, return_n_test_samples=False, return_times=False, error_score='raise')\n    233 \n    234     try:\n    235         if y_train is None:\n    236             estimator.fit(X_train, **fit_params)\n    237         else:\n--> 238             estimator.fit(X_train, y_train, **fit_params)\n        estimator.fit = <bound method LinearSVC.fit of LinearSVC(C=0.242...2', random_state=17,\n     tol=0.0001, verbose=0)>\n        X_train = <22836x27798 sparse matrix of type '<class 'nump... stored elements in Compressed Sparse Row format>\n        y_train = memmap([0, 0, 0, ..., 0, 0, 0], dtype=int64)\n        fit_params = {}\n    239 \n    240     except Exception as e:\n    241         # Note fit time as time until error\n    242         fit_time = time.time() - start_time\n\n...........................................................................\nC:\\Users\\user\\Anaconda3\\lib\\site-packages\\sklearn\\svm\\classes.py in fit(self=LinearSVC(C=0.24213793103448275, class_weight=No...l2', random_state=17,\n     tol=0.0001, verbose=0), X=<22836x27798 sparse matrix of type '<class 'nump... stored elements in Compressed Sparse Row format>, y=memmap([0, 0, 0, ..., 0, 0, 0], dtype=int64), sample_weight=None)\n    210 \n    211         self.coef_, self.intercept_, self.n_iter_ = _fit_liblinear(\n    212             X, y, self.C, self.fit_intercept, self.intercept_scaling,\n    213             self.class_weight, self.penalty, self.dual, self.verbose,\n    214             self.max_iter, self.tol, self.random_state, self.multi_class,\n--> 215             self.loss, sample_weight=sample_weight)\n        self.loss = 'squared_hinge'\n        sample_weight = None\n    216 \n    217         if self.multi_class == \"crammer_singer\" and len(self.classes_) == 2:\n    218             self.coef_ = (self.coef_[1] - self.coef_[0]).reshape(1, -1)\n    219             if self.fit_intercept:\n\n...........................................................................\nC:\\Users\\user\\Anaconda3\\lib\\site-packages\\sklearn\\svm\\base.py in _fit_liblinear(X=<22836x27798 sparse matrix of type '<class 'nump... stored elements in Compressed Sparse Row format>, y=memmap([0, 0, 0, ..., 0, 0, 0], dtype=int64), C=0.24213793103448275, fit_intercept=True, intercept_scaling=1, class_weight=None, penalty='l2', dual=True, verbose=0, max_iter=1000, tol=0.0001, random_state=17, multi_class='ovr', loss='squared_hinge', epsilon=0.1, sample_weight=None)\n    870         y_ind = enc.fit_transform(y)\n    871         classes_ = enc.classes_\n    872         if len(classes_) < 2:\n    873             raise ValueError(\"This solver needs samples of at least 2 classes\"\n    874                              \" in the data, but the data contains only one\"\n--> 875                              \" class: %r\" % classes_[0])\n        classes_ = array([0], dtype=int64)\n    876 \n    877         class_weight_ = compute_class_weight(class_weight, classes_, y)\n    878     else:\n    879         class_weight_ = np.empty(0, dtype=np.float64)\n\nValueError: This solver needs samples of at least 2 classes in the data, but the data contains only one class: 0\n___________________________________________________________________________"
     ]
    }
   ],
   "source": [
    "%%time\n",
    "train_sizes = np.linspace(0.25, 1, 20)\n",
    "estimator = svm_grid_searcher2.best_estimator_\n",
    "#estimator = logit_cv_150users\n",
    "n_train, val_train, val_test = learning_curve(estimator, X=X_sparse_150users, y=y_binary_128, train_sizes=train_sizes, n_jobs = -1)\n"
   ]
  },
  {
   "cell_type": "code",
   "execution_count": 117,
   "metadata": {
    "collapsed": false
   },
   "outputs": [
    {
     "ename": "NameError",
     "evalue": "name 'val_train' is not defined",
     "output_type": "error",
     "traceback": [
      "\u001b[0;31m---------------------------------------------------------------------------\u001b[0m",
      "\u001b[0;31mNameError\u001b[0m                                 Traceback (most recent call last)",
      "\u001b[0;32m<ipython-input-117-84ad6197ecde>\u001b[0m in \u001b[0;36m<module>\u001b[0;34m()\u001b[0m\n\u001b[0;32m----> 1\u001b[0;31m plot_learning_curve(val_train, val_test, n_train, \n\u001b[0m\u001b[1;32m      2\u001b[0m                     xlabel='train_size', ylabel='accuracy')\n",
      "\u001b[0;31mNameError\u001b[0m: name 'val_train' is not defined"
     ]
    }
   ],
   "source": [
    "plot_learning_curve(val_train, val_test, n_train, \n",
    "                    xlabel='train_size', ylabel='accuracy')"
   ]
  },
  {
   "cell_type": "markdown",
   "metadata": {},
   "source": [
    "**Сделайте выводы о том, помогут ли алгоритму новые размеченные данные при той же постановке задачи.**"
   ]
  },
  {
   "cell_type": "markdown",
   "metadata": {},
   "source": [
    "На следующей неделе мы вспомним про линейные модели, обучаемые стохастическим градиентным спуском, и порадуемся тому, насколько быстрее они работают. Также сделаем первые (или не первые) посылки в [соревновании](https://inclass.kaggle.com/c/catch-me-if-you-can-intruder-detection-through-webpage-session-tracking2) Kaggle Inclass."
   ]
  }
 ],
 "metadata": {
  "anaconda-cloud": {},
  "kernelspec": {
   "display_name": "Python [default]",
   "language": "python",
   "name": "python3"
  },
  "language_info": {
   "codemirror_mode": {
    "name": "ipython",
    "version": 3
   },
   "file_extension": ".py",
   "mimetype": "text/x-python",
   "name": "python",
   "nbconvert_exporter": "python",
   "pygments_lexer": "ipython3",
   "version": "3.5.2"
  }
 },
 "nbformat": 4,
 "nbformat_minor": 1
}
