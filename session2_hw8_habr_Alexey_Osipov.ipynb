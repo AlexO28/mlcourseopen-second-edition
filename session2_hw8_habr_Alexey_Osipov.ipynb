{
 "cells": [
  {
   "cell_type": "code",
   "execution_count": 1,
   "metadata": {
    "collapsed": true
   },
   "outputs": [],
   "source": [
    "import numpy as np\n",
    "import pandas as pd\n",
    "import json\n",
    "import datetime"
   ]
  },
  {
   "cell_type": "code",
   "execution_count": 2,
   "metadata": {
    "collapsed": true
   },
   "outputs": [],
   "source": [
    "import re \n",
    "def ModifyStr(astr):\n",
    "    return(re.sub(r'([^\\s\\w]|_)+', '', astr.lower()))\n",
    "    \n",
    "def TagsToStr(tags):\n",
    "    if len(tags) == 0:\n",
    "        return(' None')\n",
    "    else:\n",
    "        astr = ''\n",
    "        for j in range(len(tags)):\n",
    "            astr += ' '  + ModifyStr(str(tags[j]))\n",
    "        return(astr)\n",
    "    \n",
    "def HubsToStr(hubs):\n",
    "    if len(hubs) == 0:\n",
    "        return(' None')\n",
    "    else:\n",
    "        astr = ''\n",
    "        for j in range(len(hubs)):\n",
    "            astr += ' ' + ModifyStr(str(hubs[j]['title']))\n",
    "        return(astr)"
   ]
  },
  {
   "cell_type": "code",
   "execution_count": 3,
   "metadata": {
    "collapsed": true
   },
   "outputs": [],
   "source": [
    "train_target = pd.read_csv('D:/train_target.csv',\n",
    "                          index_col='url')"
   ]
  },
  {
   "cell_type": "code",
   "execution_count": 4,
   "metadata": {
    "collapsed": true
   },
   "outputs": [],
   "source": [
    "import random\n",
    "myindices = range(0,  120001)\n",
    "random.seed(239)\n",
    "myindices1 = random.sample(myindices, 84000)"
   ]
  },
  {
   "cell_type": "code",
   "execution_count": 5,
   "metadata": {
    "collapsed": false
   },
   "outputs": [
    {
     "data": {
      "text/plain": [
       "[15560, 25104, 108474, 93136, 19637, 54647, 13521, 57160, 8087, 48207]"
      ]
     },
     "execution_count": 5,
     "metadata": {},
     "output_type": "execute_result"
    }
   ],
   "source": [
    "myindices1[0:10]"
   ]
  },
  {
   "cell_type": "code",
   "execution_count": 6,
   "metadata": {
    "collapsed": false
   },
   "outputs": [
    {
     "name": "stdout",
     "output_type": "stream",
     "text": [
      "1000\n",
      "2000\n",
      "3000\n",
      "4000\n",
      "5000\n",
      "6000\n",
      "7000\n",
      "8000\n",
      "9000\n",
      "10000\n",
      "11000\n",
      "12000\n",
      "13000\n",
      "14000\n",
      "15000\n",
      "16000\n",
      "17000\n",
      "18000\n",
      "19000\n",
      "20000\n",
      "21000\n",
      "22000\n",
      "23000\n",
      "24000\n",
      "25000\n",
      "26000\n",
      "27000\n",
      "28000\n",
      "29000\n",
      "30000\n",
      "31000\n",
      "32000\n",
      "33000\n",
      "34000\n",
      "35000\n",
      "36000\n",
      "37000\n",
      "38000\n",
      "39000\n",
      "40000\n",
      "41000\n",
      "42000\n",
      "43000\n",
      "44000\n",
      "45000\n",
      "46000\n",
      "47000\n",
      "48000\n",
      "49000\n",
      "50000\n",
      "51000\n",
      "52000\n",
      "53000\n",
      "54000\n",
      "55000\n",
      "56000\n",
      "57000\n",
      "58000\n",
      "59000\n",
      "60000\n",
      "61000\n",
      "62000\n",
      "63000\n",
      "64000\n",
      "65000\n",
      "66000\n",
      "67000\n",
      "68000\n",
      "69000\n",
      "70000\n",
      "71000\n",
      "72000\n",
      "73000\n",
      "74000\n",
      "75000\n",
      "76000\n",
      "77000\n",
      "78000\n",
      "79000\n",
      "80000\n",
      "81000\n",
      "82000\n",
      "83000\n",
      "84000\n",
      "85000\n",
      "86000\n",
      "87000\n",
      "88000\n",
      "89000\n",
      "90000\n",
      "91000\n",
      "92000\n",
      "93000\n",
      "94000\n",
      "95000\n",
      "96000\n",
      "97000\n",
      "98000\n",
      "99000\n",
      "100000\n",
      "101000\n",
      "102000\n",
      "103000\n",
      "104000\n",
      "105000\n",
      "106000\n",
      "107000\n",
      "108000\n",
      "109000\n",
      "110000\n",
      "111000\n",
      "112000\n",
      "113000\n",
      "114000\n",
      "115000\n",
      "116000\n",
      "117000\n",
      "118000\n",
      "119000\n",
      "120000\n"
     ]
    }
   ],
   "source": [
    "count = 0\n",
    "with open('D:/train.json', 'r') as f:\n",
    "    for line in f:\n",
    "        traindat = json.loads(line)\n",
    "        url = traindat['url']\n",
    "        prob = train_target[train_target.index == url].values[0][0]\n",
    "        astr = str(prob) + ' |'\n",
    "        atitle = ModifyStr(traindat['title'])\n",
    "        astr += 'title ' + str(atitle) + ' |'\n",
    "        astr += 'tags' + TagsToStr(traindat['tags']) + ' |'\n",
    "        astr += 'domain ' + ModifyStr(str(traindat['domain'])) + ' |'\n",
    "        astr += 'flow ' + ModifyStr(str(traindat['flow'])) + ' |'\n",
    "        astr += 'author ' + ModifyStr(str(traindat['author']['nickname'])) + ' |'\n",
    "        astr += 'hubs ' + HubsToStr(traindat['hubs']) + ' |'\n",
    "        astr += 'num content_len:' + str(round(len(traindat['content'])/1000000, 2))\n",
    "        atime = datetime.datetime.strptime(traindat['published']['$date'][0:10] + ' ' + traindat['published']['$date'][11:19], '%Y-%m-%d %H:%M:%S')\n",
    "        astr += ' meanword:' + str(round(traindat['content'].count(' ')/(0.0001+len(traindat['content'])), 2))\n",
    "        astr += ' dayofweek:' + str(atime.weekday())\n",
    "        astr += ' month:' + str(atime.month)\n",
    "        astr += ' hour:' + str(atime.hour) + '\\n'\n",
    "        if count in myindices1:\n",
    "            with open('D:/habr_minitrain_alt0final.vw', 'a', encoding = 'utf-8') as g:\n",
    "                g.write(astr)\n",
    "        else:\n",
    "             with open('D:/habr_minitest_alt0final.vw', 'a', encoding = 'utf-8') as g:\n",
    "                g.write(astr)           \n",
    "        g.close()\n",
    "        with open('D:/habr_train_alt0final.vw', 'a', encoding = 'utf-8') as g:\n",
    "            g.write(astr)\n",
    "        g.close()\n",
    "        count += 1\n",
    "        if count % 1000 == 0:\n",
    "            print(count)\n",
    "f.close()"
   ]
  },
  {
   "cell_type": "code",
   "execution_count": 7,
   "metadata": {
    "collapsed": false
   },
   "outputs": [
    {
     "name": "stdout",
     "output_type": "stream",
     "text": [
      "1000\n",
      "2000\n",
      "3000\n",
      "4000\n",
      "5000\n",
      "6000\n",
      "7000\n",
      "8000\n",
      "9000\n",
      "10000\n",
      "11000\n",
      "12000\n",
      "13000\n",
      "14000\n",
      "15000\n",
      "16000\n",
      "17000\n",
      "18000\n",
      "19000\n",
      "20000\n",
      "21000\n",
      "22000\n",
      "23000\n",
      "24000\n",
      "25000\n",
      "26000\n",
      "27000\n",
      "28000\n",
      "29000\n",
      "30000\n",
      "31000\n",
      "32000\n",
      "33000\n",
      "34000\n",
      "35000\n",
      "36000\n",
      "37000\n",
      "38000\n",
      "39000\n",
      "40000\n",
      "41000\n",
      "42000\n",
      "43000\n",
      "44000\n",
      "45000\n",
      "46000\n",
      "47000\n",
      "48000\n",
      "49000\n",
      "50000\n",
      "51000\n",
      "52000\n"
     ]
    }
   ],
   "source": [
    "count = 0\n",
    "with open('D:/test.json', 'r') as f:\n",
    "    for line in f:\n",
    "        traindat = json.loads(line)\n",
    "        url = traindat['url']\n",
    "        astr = str(0) + ' |'\n",
    "        atitle = ModifyStr(traindat['title'])\n",
    "        astr += 'title ' + str(atitle) + ' |'\n",
    "        astr += 'tags' + TagsToStr(traindat['tags']) + ' |'\n",
    "        astr += 'domain ' + ModifyStr(str(traindat['domain'])) + ' |'\n",
    "        astr += 'flow ' + ModifyStr(str(traindat['flow'])) + ' |'\n",
    "        astr += 'author ' + ModifyStr(str(traindat['author']['nickname'])) + ' |'\n",
    "        astr += 'hubs ' + HubsToStr(traindat['hubs']) + ' |'\n",
    "        astr += 'num content_len:' + str(round(len(traindat['content'])/1000000, 2))\n",
    "        atime = datetime.datetime.strptime(traindat['published']['$date'][0:10] + ' ' + traindat['published']['$date'][11:19], '%Y-%m-%d %H:%M:%S')\n",
    "        astr += ' meanword:' + str(round(traindat['content'].count(' ')/(0.0001+len(traindat['content'])), 2))\n",
    "        astr += ' dayofweek:' + str(atime.weekday())\n",
    "        astr += ' month:' + str(atime.month)\n",
    "        astr += ' hour:' + str(atime.hour) + '\\n'\n",
    "        with open('D:/habr_test_alt0final.vw', 'a', encoding = 'utf-8') as g:\n",
    "            g.write(astr)\n",
    "        g.close()\n",
    "        count += 1\n",
    "        if count % 1000 == 0:\n",
    "            print(count)\n",
    "f.close()"
   ]
  },
  {
   "cell_type": "code",
   "execution_count": 8,
   "metadata": {
    "collapsed": true
   },
   "outputs": [],
   "source": [
    "train_target2 = train_target.reset_index()\n",
    "testtarget = train_target2[~train_target2.index.isin(myindices1)]\n",
    "traintarget =  train_target2[train_target2.index.isin(myindices1)]"
   ]
  },
  {
   "cell_type": "code",
   "execution_count": 11,
   "metadata": {
    "collapsed": true
   },
   "outputs": [],
   "source": [
    "import sklearn\n",
    "import sklearn.metrics\n",
    "def MiniCvScript(trainfile, testfile, traintab, testtab):\n",
    "    with open(trainfile, 'r') as pred_file:\n",
    "        valid_predictiontrain = [float(label) \n",
    "                             for label in pred_file.readlines()]\n",
    "    with open(testfile, 'r') as pred_file:\n",
    "        valid_predictiontest = [float(label) \n",
    "                             for label in pred_file.readlines()]\n",
    "    print(sklearn.metrics.mean_absolute_error(valid_predictiontrain, traintab.target), sklearn.metrics.mean_absolute_error(valid_predictiontest, testtab.target))"
   ]
  },
  {
   "cell_type": "markdown",
   "metadata": {},
   "source": [
    "Сразу оговорюсь, что у меня не работает вызов команд vw из ноутбука. Поэтому я просто запишу строки, которые по идее должны работать. Лично я их вбивал в Cygwin. Заранее приношу свои изивинения, если я допустил в них ошибку. Но думаю, что все ошибки легко поправить."
   ]
  },
  {
   "cell_type": "markdown",
   "metadata": {},
   "source": [
    "Мы начнём с модели с биграммами. Ясно, что надо делать bins как можно больше, мы возьмём 29."
   ]
  },
  {
   "cell_type": "code",
   "execution_count": null,
   "metadata": {
    "collapsed": true
   },
   "outputs": [],
   "source": [
    "#эти команды я вбивал в Cygwin\n",
    "! vw D:/habr_minitrain_alt0final.vw -c -k --loss_function quantile --passes 25 --ngram 2 -b 29 --learning_rate 0.5 --power_t 0.5 -f D:/habr_mymodel_p5l5b29minitrain.vw\n",
    "! vw D:/habr_minitrain_alt0final.vw -c -k --loss_function quantile --passes 25 --ngram 2 -b 29 --learning_rate 0.2 --power_t 0.8 -f D:/habr_mymodel_p8l2b29minitrain.vw\n",
    "! vw D:/habr_minitrain_alt0final.vw -c -k --loss_function quantile --passes 25 --ngram 2 -b 29 --learning_rate 0.17 --power_t 0.88 -f D:/habr_mymodel_p88l17b29minitrain.vw\n",
    "! vw D:/habr_minitrain_alt0final.vw -c -k --loss_function quantile --passes 25 --ngram 2 -b 29 --learning_rate 0.17 --power_t 0.91 -f D:/habr_mymodel_p91l17b29minitrain.vw\n",
    "! vw D:/habr_minitrain_alt0final.vw -c -k --loss_function quantile --passes 25 --ngram 2 -b 29 --learning_rate 0.17 --power_t 0.92 -f D:/habr_mymodel_p92l17b29minitrain.vw\n",
    "! vw D:/habr_minitrain_alt0final.vw -c -k --loss_function quantile --passes 25 --ngram 2 -b 29 --learning_rate 0.17 --power_t 0.93 -f D:/habr_mymodel_p93l17b29minitrain.vw\n",
    "! vw -i D:/habr_mymodel_p5l5b29minitrain.vw -t -d D:/habr_minitrain_alt0final.vw -p D:/habr_mymodel_p5l5b29minitrain.txt \n",
    "! vw -i D:/habr_mymodel_p8l2b29minitrain.vw -t -d D:/habr_minitrain_alt0final.vw -p D:/habr_mymodel_p8l2b29minitrain.txt       \n",
    "! vw -i D:/habr_mymodel_p88l17b29minitrain.vw -t -d D:/habr_minitrain_alt0final.vw -p D:/habr_mymodel_p88l17b29minitrain.txt       \n",
    "! vw -i D:/habr_mymodel_p91l17b29minitrain.vw -t -d D:/habr_minitrain_alt0final.vw -p D:/habr_mymodel_p91l17b29minitrain.txt\n",
    "! vw -i D:/habr_mymodel_p92l17b29minitrain.vw -t -d D:/habr_minitrain_alt0final.vw -p D:/habr_mymodel_p92l17b29minitrain.txt       \n",
    "! vw -i D:/habr_mymodel_p93l17b29minitrain.vw -t -d D:/habr_minitrain_alt0final.vw -p D:/habr_mymodel_p93l17b29minitrain.txt\n",
    "! vw -i D:/habr_mymodel_p5l5b29minitest.vw -t -d D:/habr_minitest_alt0final.vw -p D:/habr_mymodel_p5l5b29minitest.txt \n",
    "! vw -i D:/habr_mymodel_p8l2b29minitest.vw -t -d D:/habr_minitest_alt0final.vw -p D:/habr_mymodel_p8l2b29minitest.txt       \n",
    "! vw -i D:/habr_mymodel_p88l17b29minitest.vw -t -d D:/habr_minitest_alt0final.vw -p D:/habr_mymodel_p88l17b29minitest.txt       \n",
    "! vw -i D:/habr_mymodel_p91l17b29minitest.vw -t -d D:/habr_minitest_alt0final.vw -p D:/habr_mymodel_p91l17b29minitest.txt\n",
    "! vw -i D:/habr_mymodel_p92l17b29minitest.vw -t -d D:/habr_minitest_alt0final.vw -p D:/habr_mymodel_p92l17b29minitest.txt       \n",
    "! vw -i D:/habr_mymodel_p93l17b29minitest.vw -t -d D:/habr_minitest_alt0final.vw -p D:/habr_mymodel_p93l17b29minitest.txt       "
   ]
  },
  {
   "cell_type": "code",
   "execution_count": 12,
   "metadata": {
    "collapsed": false
   },
   "outputs": [
    {
     "name": "stdout",
     "output_type": "stream",
     "text": [
      "0.536478617829 0.855776675231\n",
      "0.363819803391 0.80208172498\n",
      "0.305860595817 0.796296677203\n",
      "0.277169678865 0.79597841685\n",
      "0.0991036716866 0.787864473015\n",
      "0.0959156351385 0.790322591595\n"
     ]
    }
   ],
   "source": [
    "MiniCvScript('D:/habr_mymodel_p5l5b29minitrain.txt', 'D:/habr_mymodel_p5l5b29minitest.txt', traintarget, testtarget)\n",
    "MiniCvScript('D:/habr_mymodel_p8l2b29minitrain.txt', 'D:/habr_mymodel_p8l2b29minitest.txt', traintarget, testtarget)\n",
    "MiniCvScript('D:/habr_mymodel_p88l17b29minitrain.txt', 'D:/habr_mymodel_p88l17b29minitest.txt', traintarget, testtarget)\n",
    "MiniCvScript('D:/habr_mymodel_p91l17b29minitrain.txt', 'D:/habr_mymodel_p91l17b29minitest.txt', traintarget, testtarget)\n",
    "MiniCvScript('D:/habr_mymodel_p92l17b29minitrain.txt', 'D:/habr_mymodel_p92l17b29minitest.txt', traintarget, testtarget)\n",
    "MiniCvScript('D:/habr_mymodel_p93l17b29minitrain.txt', 'D:/habr_mymodel_p93l17b29minitest.txt', traintarget, testtarget)"
   ]
  },
  {
   "cell_type": "code",
   "execution_count": null,
   "metadata": {
    "collapsed": true
   },
   "outputs": [],
   "source": [
    "#эти команды я вбивал в Cygwin\n",
    "! vw D:/habr_minitrain_alt0final.vw -c -k --loss_function quantile --passes 25 --ngram 2 -b 29 --learning_rate 0.16 --power_t 0.92 -f D:/habr_mymodel_p92l16b29minitrain.vw\n",
    "! vw D:/habr_minitrain_alt0final.vw -c -k --loss_function quantile --passes 25 --ngram 2 -b 29 --learning_rate 0.17 --power_t 0.92 -f D:/habr_mymodel_p92l17b29minitrain.vw\n",
    "! vw D:/habr_minitrain_alt0final.vw -c -k --loss_function quantile --passes 25 --ngram 2 -b 29 --learning_rate 0.18 --power_t 0.92 -f D:/habr_mymodel_p92l18b29minitrain.vw\n",
    "! vw -i D:/habr_mymodel_p92l16b29minitrain.vw -t -d D:/habr_minitrain_alt0final.vw -p D:/habr_mymodel_p92l16b29minitrain.txt       \n",
    "! vw -i D:/habr_mymodel_p92l17b29minitrain.vw -t -d D:/habr_minitrain_alt0final.vw -p D:/habr_mymodel_p92l17b29minitrain.txt       \n",
    "! vw -i D:/habr_mymodel_p92l17b29minitrain.vw -t -d D:/habr_minitrain_alt0final.vw -p D:/habr_mymodel_p92l18b29minitrain.txt       \n",
    "! vw -i D:/habr_mymodel_p92l16b29minitest.vw -t -d D:/habr_minitest_alt0final.vw -p D:/habr_mymodel_p92l16b29minitest.txt       \n",
    "! vw -i D:/habr_mymodel_p92l17b29minitest.vw -t -d D:/habr_minitest_alt0final.vw -p D:/habr_mymodel_p92l17b29minitest.txt       \n",
    "! vw -i D:/habr_mymodel_p92l18b29minitest.vw -t -d D:/habr_minitest_alt0final.vw -p D:/habr_mymodel_p92l18b29minitest.txt       \n"
   ]
  },
  {
   "cell_type": "code",
   "execution_count": 13,
   "metadata": {
    "collapsed": false
   },
   "outputs": [
    {
     "name": "stdout",
     "output_type": "stream",
     "text": [
      "0.099423349147 0.787886048749\n",
      "0.0991036716866 0.787864473015\n",
      "0.0988455353278 0.787855334407\n"
     ]
    }
   ],
   "source": [
    "MiniCvScript('D:/habr_mymodel_p92l16b29minitrain.txt', 'D:/habr_mymodel_p92l16b29minitest.txt', traintarget, testtarget)\n",
    "MiniCvScript('D:/habr_mymodel_p92l17b29minitrain.txt', 'D:/habr_mymodel_p92l17b29minitest.txt', traintarget, testtarget)\n",
    "MiniCvScript('D:/habr_mymodel_p92l18b29minitrain.txt', 'D:/habr_mymodel_p92l18b29minitest.txt', traintarget, testtarget)\n"
   ]
  },
  {
   "cell_type": "markdown",
   "metadata": {},
   "source": [
    "Итак, похоже для биграм оптимально брать power_t = 0.92, learning_rate = 0.18.\n",
    "Теперь попробуем улучшить модель за счёт перехода к триграммам."
   ]
  },
  {
   "cell_type": "code",
   "execution_count": null,
   "metadata": {
    "collapsed": true
   },
   "outputs": [],
   "source": [
    "#эти команды я вбивал в Cygwin\n",
    "! vw D:/habr_minitrain_alt0final.vw -c -k --loss_function quantile --passes 25 --ngram 3 -b 29 --learning_rate 0.18 --power_t 0.92 -f D:/habr_mymodel_p92l18b29_3minitrain.vw\n",
    "! vw D:/habr_minitrain_alt0final.vw -c -k --loss_function quantile --passes 25 --ngram 3 -b 29 --learning_rate 0.2 --power_t 0.9 -f D:/habr_mymodel_p9l2b29_3minitrain.vw\n",
    "! vw D:/habr_minitrain_alt0final.vw -c -k --loss_function quantile --passes 25 --ngram 3 -b 29 --learning_rate 0.17 --power_t 0.88 -f D:/habr_mymodel_p88l17b29_3minitrain.vw\n",
    "! vw D:/habr_minitrain_alt0final.vw -c -k --loss_function quantile --passes 25 --ngram 3 -b 29 --learning_rate 0.17 --power_t 0.86 -f D:/habr_mymodel_p86l17b29_3minitrain.vw\n",
    "! vw D:/habr_minitrain_alt0final.vw -c -k --loss_function quantile --passes 25 --ngram 3 -b 29 --learning_rate 0.17 --power_t 0.85 -f D:/habr_mymodel_p85l17b29_3minitrain.vw\n",
    "! vw D:/habr_minitrain_alt0final.vw -c -k --loss_function quantile --passes 25 --ngram 3 -b 29 --learning_rate 0.17 --power_t 0.84 -f D:/habr_mymodel_p84l17b29_3minitrain.vw\n",
    "! vw -i D:/habr_mymodel_p92l18b29_3minitrain.vw -t -d D:/habr_minitrain_alt0final.vw -p D:/habr_mymodel_p92l18b29_3minitrain.txt\n",
    "! vw -i D:/habr_mymodel_p9l2b29_3minitrain.vw -t -d D:/habr_minitrain_alt0final.vw -p D:/habr_mymodel_p91l2b29_3minitrain.txt\n",
    "! vw -i D:/habr_mymodel_p88l17b29_3minitrain.vw -t -d D:/habr_minitrain_alt0final.vw -p D:/habr_mymodel_p88l17b29_3minitrain.txt\n",
    "! vw -i D:/habr_mymodel_p86l17b29_3minitrain.vw -t -d D:/habr_minitrain_alt0final.vw -p D:/habr_mymodel_p86l17b29_3minitrain.txt\n",
    "! vw -i D:/habr_mymodel_p85l17b29_3minitrain.vw -t -d D:/habr_minitrain_alt0final.vw -p D:/habr_mymodel_p85l17b29_3minitrain.txt\n",
    "! vw -i D:/habr_mymodel_p84l17b29_3minitrain.vw -t -d D:/habr_minitrain_alt0final.vw -p D:/habr_mymodel_p84l17b29_3minitrain.txt\n",
    "! vw -i D:/habr_mymodel_p92l18b29_3minitrain.vw -t -d D:/habr_minitrain_alt0final.vw -p D:/habr_mymodel_p92l18b29_3minitrain.txt\n",
    "! vw -i D:/habr_mymodel_p9l2b29_3minitest.vw -t -d D:/habr_minitest_alt0final.vw -p D:/habr_mymodel_p91l2b29_3minitest.txt\n",
    "! vw -i D:/habr_mymodel_p88l17b29_3minitest.vw -t -d D:/habr_minitest_alt0final.vw -p D:/habr_mymodel_p88l17b29_3minitest.txt\n",
    "! vw -i D:/habr_mymodel_p86l17b29_3minitest.vw -t -d D:/habr_minitest_alt0final.vw -p D:/habr_mymodel_p86l17b29_3minitest.txt\n",
    "! vw -i D:/habr_mymodel_p85l17b29_3minitest.vw -t -d D:/habr_minitest_alt0final.vw -p D:/habr_mymodel_p85l17b29_3minitest.txt\n",
    "! vw -i D:/habr_mymodel_p84l17b29_3minitest.vw -t -d D:/habr_minitest_alt0final.vw -p D:/habr_mymodel_p84l17b29_3minitest.txt                        "
   ]
  },
  {
   "cell_type": "code",
   "execution_count": 14,
   "metadata": {
    "collapsed": false
   },
   "outputs": [
    {
     "name": "stdout",
     "output_type": "stream",
     "text": [
      "0.0947376089477 0.790700477515\n",
      "0.0903519865236 0.785051232188\n",
      "0.0967422421695 0.781564756368\n",
      "0.0949880081668 0.777241027916\n",
      "0.0992719926428 0.776007448821\n",
      "0.282582284599 0.788495667426\n"
     ]
    }
   ],
   "source": [
    "MiniCvScript('D:/habr_mymodel_p92l18b29_3minitrain.txt', 'D:/habr_mymodel_p92l18b29_3minitest.txt', traintarget, testtarget)\n",
    "MiniCvScript('D:/habr_mymodel_p9l2b29_3minitrain.txt', 'D:/habr_mymodel_p9l2b29_3minitest.txt', traintarget, testtarget)\n",
    "MiniCvScript('D:/habr_mymodel_p88l17b29_3minitrain.txt', 'D:/habr_mymodel_p88l17b29_3minitest.txt', traintarget, testtarget)\n",
    "MiniCvScript('D:/habr_mymodel_p86l17b29_3minitrain.txt', 'D:/habr_mymodel_p86l17b29_3minitest.txt', traintarget, testtarget)\n",
    "MiniCvScript('D:/habr_mymodel_p85l17b29_3minitrain.txt', 'D:/habr_mymodel_p85l17b29_3minitest.txt', traintarget, testtarget)\n",
    "MiniCvScript('D:/habr_mymodel_p84l17b29_3minitrain.txt', 'D:/habr_mymodel_p84l17b29_3minitest.txt', traintarget, testtarget)\n"
   ]
  },
  {
   "cell_type": "code",
   "execution_count": null,
   "metadata": {
    "collapsed": true
   },
   "outputs": [],
   "source": [
    "#эти команды я вбивал в Cygwin\n",
    "! vw D:/habr_minitrain_alt0final.vw -c -k --loss_function quantile --passes 25 --ngram 3 -b 29 --learning_rate 0.2 --power_t 0.85 -f D:/habr_mymodel_p85l2b29_3minitrain.vw\n",
    "! vw D:/habr_minitrain_alt0final.vw -c -k --loss_function quantile --passes 25 --ngram 3 -b 29 --learning_rate 0.3 --power_t 0.85 -f D:/habr_mymodel_p85l3b29_3minitrain.vw\n",
    "! vw -i D:/habr_mymodel_p85l2b29_3minitrain.vw -t -d D:/habr_minitrain_alt0final.vw -p D:/habr_mymodel_p85l2b29_3minitrain.txt\n",
    "! vw -i D:/habr_mymodel_p85l2b29_3minitrain.vw -t -d D:/habr_minitrain_alt0final.vw -p D:/habr_mymodel_p85l3b29_3minitrain.txt\n",
    "! vw -i D:/habr_mymodel_p85l3b29_3minitest.vw -t -d D:/habr_minitest_alt0final.vw -p D:/habr_mymodel_p85l2b29_3minitest.txt\n",
    "! vw -i D:/habr_mymodel_p85l3b29_3minitest.vw -t -d D:/habr_minitest_alt0final.vw -p D:/habr_mymodel_p85l3b29_3minitest.txt\n"
   ]
  },
  {
   "cell_type": "code",
   "execution_count": 15,
   "metadata": {
    "collapsed": false
   },
   "outputs": [
    {
     "name": "stdout",
     "output_type": "stream",
     "text": [
      "0.175818332242 0.772720361907\n",
      "0.265214279444 0.786030417016\n"
     ]
    }
   ],
   "source": [
    "MiniCvScript('D:/habr_mymodel_p85l2b29minitrain_2.txt', 'D:/habr_mymodel_p85l2b29minitest_2.txt', traintarget, testtarget)\n",
    "MiniCvScript('D:/habr_mymodel_p85l3b29minitrain_21.txt', 'D:/habr_mymodel_p85l3b29minitest_21.txt', traintarget, testtarget)"
   ]
  },
  {
   "cell_type": "markdown",
   "metadata": {},
   "source": [
    "Пока что лучше всего получается power_t=0.85, learning_rate = 0.3.\n",
    "Давайте попробуем выбрать количество проходов."
   ]
  },
  {
   "cell_type": "code",
   "execution_count": null,
   "metadata": {
    "collapsed": true
   },
   "outputs": [],
   "source": [
    "#эти команды я вбивал в Cygwin\n",
    "! vw D:/habr_minitrain_alt0final.vw -c -k --loss_function quantile --passes 3 --ngram 3 -b 29 --learning_rate 0.3 --power_t 0.85 -f D:/habr_mymodel_p85l3b29minitrain_33.vw\n",
    "! vw D:/habr_minitrain_alt0final.vw -c -k --loss_function quantile --passes 4 --ngram 3 -b 29 --learning_rate 0.3 --power_t 0.85 -f D:/habr_mymodel_p85l3b29minitrain_34.vw\n",
    "! vw D:/habr_minitrain_alt0final.vw -c -k --loss_function quantile --passes 5 --ngram 3 -b 29 --learning_rate 0.3 --power_t 0.85 -f D:/habr_mymodel_p85l3b29minitrain_35.vw\n",
    "! vw -i D:/habr_mymodel_p85l2b29minitrain_33.vw -t -d D:/habr_minitrain_alt0final.vw -p D:/habr_mymodel_p85l3b29minitrain_33.txt\n",
    "! vw -i D:/habr_mymodel_p85l2b29minitrain_34.vw -t -d D:/habr_minitrain_alt0final.vw -p D:/habr_mymodel_p85l3b29minitrain_34.txt\n",
    "! vw -i D:/habr_mymodel_p85l2b29minitrain_35.vw -t -d D:/habr_minitrain_alt0final.vw -p D:/habr_mymodel_p85l3b29minitrain_35.txt\n",
    "! vw -i D:/habr_mymodel_p85l3b29minitest_33.vw -t -d D:/habr_minitest_alt0final.vw -p D:/habr_mymodel_p85l3b29minitest_33.txt\n",
    "! vw -i D:/habr_mymodel_p85l3b29minitest_34.vw -t -d D:/habr_minitest_alt0final.vw -p D:/habr_mymodel_p85l3b29minitest_34.txt\n",
    "! vw -i D:/habr_mymodel_p85l3b29minitest_35.vw -t -d D:/habr_minitest_alt0final.vw -p D:/habr_mymodel_p85l3b29minitest_35.txt\n",
    "\n",
    "        "
   ]
  },
  {
   "cell_type": "code",
   "execution_count": 16,
   "metadata": {
    "collapsed": false
   },
   "outputs": [
    {
     "name": "stdout",
     "output_type": "stream",
     "text": [
      "0.174796904463 0.77248148432\n",
      "0.136339436493 0.774397152551\n",
      "0.132869135573 0.77844062376\n"
     ]
    }
   ],
   "source": [
    "MiniCvScript('D:/habr_mymodel_p85l3b29minitrain_33.txt', 'D:/habr_mymodel_p85l3b29minitest_33.txt', traintarget, testtarget)\n",
    "MiniCvScript('D:/habr_mymodel_p85l3b29minitrain_34.txt', 'D:/habr_mymodel_p85l3b29minitest_34.txt', traintarget, testtarget)\n",
    "MiniCvScript('D:/habr_mymodel_p85l3b29minitrain_35.txt', 'D:/habr_mymodel_p85l3b29minitest_35.txt', traintarget, testtarget)\n"
   ]
  },
  {
   "cell_type": "markdown",
   "metadata": {},
   "source": [
    "Похоже, что лучше всего брать для триграмм 3 прохода, что в целом естественно. Уточним выбор power_t и learning_rate."
   ]
  },
  {
   "cell_type": "code",
   "execution_count": null,
   "metadata": {
    "collapsed": true
   },
   "outputs": [],
   "source": [
    "#эти команды я вбивал в Cygwin\n",
    "! vw D:/habr_minitrain_alt0final.vw -c -k --loss_function quantile --passes 3 --ngram 3 -b 29 --learning_rate 0.3 --power_t 0.82 -f D:/habr_mymodel_p82l3b29minitrain_2.vw\n",
    "! vw D:/habr_minitrain_alt0final.vw -c -k --loss_function quantile --passes 3 --ngram 3 -b 29 --learning_rate 0.3 --power_t 0.83 -f D:/habr_mymodel_p83l3b29minitrain_2.vw\n",
    "! vw D:/habr_minitrain_alt0final.vw -c -k --loss_function quantile --passes 3 --ngram 3 -b 29 --learning_rate 0.3 --power_t 0.84 -f D:/habr_mymodel_p84l3b29minitrain_2.vw\n",
    "! vw D:/habr_minitrain_alt0final.vw -c -k --loss_function quantile --passes 3 --ngram 3 -b 29 --learning_rate 0.3 --power_t 0.85 -f D:/habr_mymodel_p85l3b29minitrain_2.vw\n",
    "! vw D:/habr_minitrain_alt0final.vw -c -k --loss_function quantile --passes 3 --ngram 3 -b 29 --learning_rate 0.3 --power_t 0.86 -f D:/habr_mymodel_p86l3b29minitrain_2.vw\n",
    "! vw -i D:/habr_mymodel_p82l2b29minitrain_2.vw -t -d D:/habr_minitrain_alt0final.vw -p D:/habr_mymodel_p82l3b29minitrain_2.txt\n",
    "! vw -i D:/habr_mymodel_p83l2b29minitrain_2.vw -t -d D:/habr_minitrain_alt0final.vw -p D:/habr_mymodel_p83l3b29minitrain_2.txt\n",
    "! vw -i D:/habr_mymodel_p84l2b29minitrain_2.vw -t -d D:/habr_minitrain_alt0final.vw -p D:/habr_mymodel_p84l3b29minitrain_2.txt\n",
    "! vw -i D:/habr_mymodel_p85l2b29minitrain_2.vw -t -d D:/habr_minitrain_alt0final.vw -p D:/habr_mymodel_p85l3b29minitrain_2.txt\n",
    "! vw -i D:/habr_mymodel_p86l2b29minitrain_2.vw -t -d D:/habr_minitrain_alt0final.vw -p D:/habr_mymodel_p86l3b29minitrain_2.txt\n",
    "! vw -i D:/habr_mymodel_p82l3b29minitest_2.vw -t -d D:/habr_minitest_alt0final.vw -p D:/habr_mymodel_p82l3b29minitest_2.txt\n",
    "! vw -i D:/habr_mymodel_p83l3b29minitest_2.vw -t -d D:/habr_minitest_alt0final.vw -p D:/habr_mymodel_p83l3b29minitest_2.txt\n",
    "! vw -i D:/habr_mymodel_p84l3b29minitest_2.vw -t -d D:/habr_minitest_alt0final.vw -p D:/habr_mymodel_p84l3b29minitest_2.txt\n",
    "! vw -i D:/habr_mymodel_p85l3b29minitest_2.vw -t -d D:/habr_minitest_alt0final.vw -p D:/habr_mymodel_p85l3b29minitest_2.txt\n",
    "! vw -i D:/habr_mymodel_p86l3b29minitest_2.vw -t -d D:/habr_minitest_alt0final.vw -p D:/habr_mymodel_p86l3b29minitest_2.txt\n"
   ]
  },
  {
   "cell_type": "code",
   "execution_count": 17,
   "metadata": {
    "collapsed": false
   },
   "outputs": [
    {
     "name": "stdout",
     "output_type": "stream",
     "text": [
      "0.212690585102 0.772342450126\n",
      "0.199271829748 0.771783842477\n",
      "0.18651464977 0.771836138691\n",
      "0.174796904463 0.77248148432\n",
      "0.16432990488 0.773710131913\n"
     ]
    }
   ],
   "source": [
    "MiniCvScript('D:/habr_mymodel_p82l3b29minitrain_2.txt', 'D:/habr_mymodel_p82l3b29minitest_2.txt', traintarget, testtarget)\n",
    "MiniCvScript('D:/habr_mymodel_p83l3b29minitrain_2.txt', 'D:/habr_mymodel_p83l3b29minitest_2.txt', traintarget, testtarget)\n",
    "MiniCvScript('D:/habr_mymodel_p84l3b29minitrain_2.txt', 'D:/habr_mymodel_p84l3b29minitest_2.txt', traintarget, testtarget)\n",
    "MiniCvScript('D:/habr_mymodel_p85l3b29minitrain_2.txt', 'D:/habr_mymodel_p85l3b29minitest_2.txt', traintarget, testtarget)\n",
    "MiniCvScript('D:/habr_mymodel_p86l3b29minitrain_2.txt', 'D:/habr_mymodel_p86l3b29minitest_2.txt', traintarget, testtarget)\n"
   ]
  },
  {
   "cell_type": "code",
   "execution_count": null,
   "metadata": {
    "collapsed": true
   },
   "outputs": [],
   "source": [
    "#эти команды я вбивал в Cygwin\n",
    "! vw D:/habr_minitrain_alt0final.vw -c -k --loss_function quantile --passes 3 --ngram 3 -b 29 --learning_rate 0.25 --power_t 0.83 -f D:/habr_mymodel_p83l25b29minitrain_2.vw\n",
    "! vw D:/habr_minitrain_alt0final.vw -c -k --loss_function quantile --passes 3 --ngram 3 -b 29 --learning_rate 0.3 --power_t 0.83 -f D:/habr_mymodel_p83l3b29minitrain_2.vw\n",
    "! vw D:/habr_minitrain_alt0final.vw -c -k --loss_function quantile --passes 3 --ngram 3 -b 29 --learning_rate 0.35 --power_t 0.83 -f D:/habr_mymodel_p83l35b29minitrain_2.vw\n",
    "! vw D:/habr_minitrain_alt0final.vw -c -k --loss_function quantile --passes 3 --ngram 3 -b 29 --learning_rate 0.4 --power_t 0.83 -f D:/habr_mymodel_p83l4b29minitrain_2.vw\n",
    "! vw D:/habr_minitrain_alt0final.vw -c -k --loss_function quantile --passes 3 --ngram 3 -b 29 --learning_rate 0.35 --power_t 0.82 -f D:/habr_mymodel_p82l35b29minitrain_2.vw\n",
    "! vw D:/habr_minitrain_alt0final.vw -c -k --loss_function quantile --passes 3 --ngram 3 -b 29 --learning_rate 0.35 --power_t 0.83 -f D:/habr_mymodel_p83l35b29minitrain_2.vw\n",
    "! vw D:/habr_minitrain_alt0final.vw -c -k --loss_function quantile --passes 3 --ngram 3 -b 29 --learning_rate 0.35 --power_t 0.84 -f D:/habr_mymodel_p84l35b29minitrain_2.vw\n",
    "! vw -i D:/habr_mymodel_p83l25b29minitrain_2.vw -t -d D:/habr_minitrain_alt0final.vw -p D:/habr_mymodel_p83l25b29minitrain_2.txt\n",
    "! vw -i D:/habr_mymodel_p83l3b29minitrain_2.vw -t -d D:/habr_minitrain_alt0final.vw -p D:/habr_mymodel_p83l3b29minitrain_2.txt\n",
    "! vw -i D:/habr_mymodel_p83l35b29minitrain_2.vw -t -d D:/habr_minitrain_alt0final.vw -p D:/habr_mymodel_p83l35b29minitrain_2.txt\n",
    "! vw -i D:/habr_mymodel_p83l4b29minitrain_2.vw -t -d D:/habr_minitrain_alt0final.vw -p D:/habr_mymodel_p83l4b29minitrain_2.txt\n",
    "! vw -i D:/habr_mymodel_p82l35b29minitrain_2.vw -t -d D:/habr_minitrain_alt0final.vw -p D:/habr_mymodel_p82l35b29minitrain_2.txt\n",
    "! vw -i D:/habr_mymodel_p83l35b29minitrain_2.vw -t -d D:/habr_minitrain_alt0final.vw -p D:/habr_mymodel_p83l35b29minitrain_2.txt\n",
    "! vw -i D:/habr_mymodel_p84l35b29minitrain_2.vw -t -d D:/habr_minitrain_alt0final.vw -p D:/habr_mymodel_p84l35b29minitrain_2.txt\n",
    "! vw -i D:/habr_mymodel_p83l25b29minitest_2.vw -t -d D:/habr_minitest_alt0final.vw -p D:/habr_mymodel_p83l25b29minitest_2.txt\n",
    "! vw -i D:/habr_mymodel_p83l3b29minitest_2.vw -t -d D:/habr_minitest_alt0final.vw -p D:/habr_mymodel_p83l3b29minitest_2.txt\n",
    "! vw -i D:/habr_mymodel_p83l35b29minitest_2.vw -t -d D:/habr_minitest_alt0final.vw -p D:/habr_mymodel_p83l35b29minitest_2.txt\n",
    "! vw -i D:/habr_mymodel_p83l4b29minitest_2.vw -t -d D:/habr_minitest_alt0final.vw -p D:/habr_mymodel_p83l4b29minitest_2.txt\n",
    "! vw -i D:/habr_mymodel_p82l35b29minitest_2.vw -t -d D:/habr_minitest_alt0final.vw -p D:/habr_mymodel_p82l35b29minitest_2.txt\n",
    "! vw -i D:/habr_mymodel_p83l35b29minitest_2.vw -t -d D:/habr_minitest_alt0final.vw -p D:/habr_mymodel_p83l35b29minitest_2.txt\n",
    "! vw -i D:/habr_mymodel_p84l35b29minitest_2.vw -t -d D:/habr_minitest_alt0final.vw -p D:/habr_mymodel_p84l35b29minitest_2.txt\n"
   ]
  },
  {
   "cell_type": "code",
   "execution_count": 18,
   "metadata": {
    "collapsed": false
   },
   "outputs": [
    {
     "name": "stdout",
     "output_type": "stream",
     "text": [
      "0.199601060429 0.77178627827\n",
      "0.199271829748 0.771783842477\n",
      "0.199281780081 0.771779607566\n",
      "0.199342615936 0.771802585095\n",
      "0.212621209955 0.772356953029\n",
      "0.199281780081 0.771779607566\n",
      "0.186557059155 0.77181514419\n"
     ]
    }
   ],
   "source": [
    "MiniCvScript('D:/habr_mymodel_p83l25b29minitrain_2.txt', 'D:/habr_mymodel_p83l25b29minitest_2.txt', traintarget, testtarget)\n",
    "MiniCvScript('D:/habr_mymodel_p83l3b29minitrain_2.txt', 'D:/habr_mymodel_p83l3b29minitest_2.txt', traintarget, testtarget)\n",
    "MiniCvScript('D:/habr_mymodel_p83l35b29minitrain_2.txt', 'D:/habr_mymodel_p83l35b29minitest_2.txt', traintarget, testtarget)\n",
    "MiniCvScript('D:/habr_mymodel_p83l4b29minitrain_2.txt', 'D:/habr_mymodel_p83l4b29minitest_2.txt', traintarget, testtarget)\n",
    "\n",
    "\n",
    "MiniCvScript('D:/habr_mymodel_p82l35b29minitrain_2.txt', 'D:/habr_mymodel_p82l35b29minitest_2.txt', traintarget, testtarget)\n",
    "MiniCvScript('D:/habr_mymodel_p83l35b29minitrain_2.txt', 'D:/habr_mymodel_p83l35b29minitest_2.txt', traintarget, testtarget)\n",
    "MiniCvScript('D:/habr_mymodel_p84l35b29minitrain_2.txt', 'D:/habr_mymodel_p84l35b29minitest_2.txt', traintarget, testtarget)\n"
   ]
  },
  {
   "cell_type": "markdown",
   "metadata": {},
   "source": [
    "Итак, лучше всего получается брать power_t = 0.83, learning_rate = 0.35.\n",
    "Можно делать сабмит."
   ]
  },
  {
   "cell_type": "code",
   "execution_count": null,
   "metadata": {
    "collapsed": true
   },
   "outputs": [],
   "source": [
    "#эти команды я вбивал в Cygwin\n",
    "! vw D:/habr_train_alt0final.vw -c -k --loss_function quantile --passes 3 --ngram 3 -b 29 --learning_rate 0.35 --power_t 0.83 -f D:/habr_mymodel_p83l35b29train_2.vw\n",
    "! vw -i D:/habr_mymodel_p83l35b29train_2.vw -t -d D:/habr_train_alt0final.vw -p D:/habr_mymodel_p83l35b29train_2.txt\n",
    "! vw -i D:/habr_mymodel_p83l35b29train_2.vw -t -d D:/habr_test_alt0final.vw -p D:/habr_mymodel_p83l35b29test_2.txt\n"
   ]
  },
  {
   "cell_type": "code",
   "execution_count": 19,
   "metadata": {
    "collapsed": true
   },
   "outputs": [],
   "source": [
    "def MiniCvScriptPassesWar(trainfile, testfile, traintab):\n",
    "    with open(trainfile, 'r') as pred_file:\n",
    "        valid_predictiontrain = [float(label) \n",
    "                             for label in pred_file.readlines()]\n",
    "    with open(testfile, 'r') as pred_file:\n",
    "        valid_predictiontest = [float(label) \n",
    "                             for label in pred_file.readlines()]\n",
    "    valid_predictiontrain = np.array(valid_predictiontrain)\n",
    "    valid_predictiontest = np.array(valid_predictiontest)\n",
    "\n",
    "    trainarr = valid_predictiontrain\n",
    "    testarr = valid_predictiontest\n",
    "    \n",
    "    print(len(trainarr))\n",
    "    print(sklearn.metrics.mean_absolute_error(trainarr, traintab.target))\n",
    "    return(testarr)"
   ]
  },
  {
   "cell_type": "code",
   "execution_count": 20,
   "metadata": {
    "collapsed": false
   },
   "outputs": [
    {
     "name": "stdout",
     "output_type": "stream",
     "text": [
      "120000\n",
      "0.213492474908\n"
     ]
    }
   ],
   "source": [
    "newpred = MiniCvScriptPassesWar('D:/habr_mymodel_p83l35b29train_2.txt', 'D:/habr_mymodel_p83l35b29test_2.txt', train_target)\n"
   ]
  },
  {
   "cell_type": "code",
   "execution_count": 21,
   "metadata": {
    "collapsed": false
   },
   "outputs": [
    {
     "data": {
      "text/html": [
       "<div>\n",
       "<style>\n",
       "    .dataframe thead tr:only-child th {\n",
       "        text-align: right;\n",
       "    }\n",
       "\n",
       "    .dataframe thead th {\n",
       "        text-align: left;\n",
       "    }\n",
       "\n",
       "    .dataframe tbody tr th {\n",
       "        vertical-align: top;\n",
       "    }\n",
       "</style>\n",
       "<table border=\"1\" class=\"dataframe\">\n",
       "  <thead>\n",
       "    <tr style=\"text-align: right;\">\n",
       "      <th></th>\n",
       "      <th>target</th>\n",
       "    </tr>\n",
       "  </thead>\n",
       "  <tbody>\n",
       "    <tr>\n",
       "      <th>count</th>\n",
       "      <td>52913.000000</td>\n",
       "    </tr>\n",
       "    <tr>\n",
       "      <th>mean</th>\n",
       "      <td>2.620701</td>\n",
       "    </tr>\n",
       "    <tr>\n",
       "      <th>std</th>\n",
       "      <td>1.224971</td>\n",
       "    </tr>\n",
       "    <tr>\n",
       "      <th>min</th>\n",
       "      <td>0.000000</td>\n",
       "    </tr>\n",
       "    <tr>\n",
       "      <th>25%</th>\n",
       "      <td>1.748191</td>\n",
       "    </tr>\n",
       "    <tr>\n",
       "      <th>50%</th>\n",
       "      <td>2.622624</td>\n",
       "    </tr>\n",
       "    <tr>\n",
       "      <th>75%</th>\n",
       "      <td>3.540504</td>\n",
       "    </tr>\n",
       "    <tr>\n",
       "      <th>max</th>\n",
       "      <td>7.701097</td>\n",
       "    </tr>\n",
       "  </tbody>\n",
       "</table>\n",
       "</div>"
      ],
      "text/plain": [
       "             target\n",
       "count  52913.000000\n",
       "mean       2.620701\n",
       "std        1.224971\n",
       "min        0.000000\n",
       "25%        1.748191\n",
       "50%        2.622624\n",
       "75%        3.540504\n",
       "max        7.701097"
      ]
     },
     "execution_count": 21,
     "metadata": {},
     "output_type": "execute_result"
    }
   ],
   "source": [
    "sample_sub = pd.read_csv('D:/sample_submission.csv', index_col='url')\n",
    "your_submission37 = sample_sub.copy()\n",
    "your_submission37['target'] = newpred\n",
    "your_submission37.describe()"
   ]
  },
  {
   "cell_type": "code",
   "execution_count": 22,
   "metadata": {
    "collapsed": true
   },
   "outputs": [],
   "source": [
    "your_submission37.to_csv('D:/your_submission239.csv')"
   ]
  },
  {
   "cell_type": "markdown",
   "metadata": {},
   "source": [
    "Дальше файл с этим простым номером был отправлен на kaggle. Там он заработал 0.95076 на паблике. Этого оказалось вполне достаточно для того, чтобы пробить бейзлайн."
   ]
  }
 ],
 "metadata": {
  "kernelspec": {
   "display_name": "Python [conda root]",
   "language": "python",
   "name": "conda-root-py"
  },
  "language_info": {
   "codemirror_mode": {
    "name": "ipython",
    "version": 3
   },
   "file_extension": ".py",
   "mimetype": "text/x-python",
   "name": "python",
   "nbconvert_exporter": "python",
   "pygments_lexer": "ipython3",
   "version": "3.5.2"
  }
 },
 "nbformat": 4,
 "nbformat_minor": 2
}
