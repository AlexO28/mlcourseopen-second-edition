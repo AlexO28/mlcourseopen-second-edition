{
 "cells": [
  {
   "cell_type": "markdown",
   "metadata": {},
   "source": [
    "<center>\n",
    "<img src=\"../../img/ods_stickers.jpg\">\n",
    "## Открытый курс по машинному обучению. Сессия № 2\n",
    "</center>\n",
    "Авторы материала: Павел Нестеров. Материал распространяется на условиях лицензии [Creative Commons CC BY-NC-SA 4.0](https://creativecommons.org/licenses/by-nc-sa/4.0/). Можно использовать в любых целях (редактировать, поправлять и брать за основу), кроме коммерческих, но с обязательным упоминанием автора материала."
   ]
  },
  {
   "cell_type": "markdown",
   "metadata": {},
   "source": [
    "# <center> Домашняя работа №4\n",
    "## <center> Логистическая регрессия в задаче тегирования вопросов StackOverflow\n",
    "\n",
    "**Надо вывести формулы, где это просится (да, ручка и бумажка), заполнить код в клетках и выбрать ответы в [веб-форме](https://docs.google.com/forms/d/1I_ticU8rpeoGJjsBUcaInpvgdxdq60hV7IcSvo4rlGo/).**\n",
    "\n",
    "## 0. Описание задачи\n",
    "\n",
    "В этой домашней работе мы с вами изучим и запрограммируем модель для прогнозирования тегов по тексту вопроса на базе многоклассовой логистической регрессии. В отличие от обычной постановки задачи классификации (multiclass), в данном случае один пример может принадлежать одновременно к нескольким классам (multilabel). Мы будем реализовывать онлайн версию алгоритма мультиклассовой классификации.\n",
    "\n",
    "Мы будем использовать небольшую выборку из протеггированных вопросов с сайта StackOverflow размером в 125 тысяч примеров (около 150 Мб, скачайте по [этой](https://drive.google.com/open?id=0B4bl7YMqDnViYVo0V2FubFVhMFE) ссылке).\n",
    "\n",
    "PS: Можно показать, что такая реализация совсем не эффективная и проще было бы использовать векторизированные вычисления. Для данного датасета так и есть. Но на самом деле подобные реализации используются в жизни, но естественно, написаны они не на Python. Например, в онлайн моделях прогнозирования [CTR](https://en.wikipedia.org/wiki/Click-through_rate) юзеру показывается баннер, затем в зависимости от наличия клика происходит обновление параметров модели. В реальной жизни параметров модели может быть несколько сотен миллионов, а у юзера из этих ста миллионов от силы сто или тысяча параметров отличны от нуля, векторизировать такие вычисления не очень эффективно. Обычно все это хранится в огромных кластерах в in-memory базах данных, а обработка пользователей происходит распределенно."
   ]
  },
  {
   "cell_type": "code",
   "execution_count": 1,
   "metadata": {
    "collapsed": true
   },
   "outputs": [],
   "source": [
    "%matplotlib inline\n",
    "import numpy as np\n",
    "import matplotlib.pyplot as plt\n",
    "import seaborn as sns\n",
    "sns.set_style(\"dark\")\n",
    "plt.rcParams['figure.figsize'] = 16, 12\n",
    "from tqdm import tqdm_notebook\n",
    "import pandas as pd\n",
    "from collections import defaultdict\n",
    "\n",
    "# поменяйте на свой путь\n",
    "DS_FILE_NAME = 'D:\\\\StackOverFlow\\\\stackoverflow_sample_125k.tsv'\n",
    "TAGS_FILE_NAME = 'D:\\\\StackOverFlow\\\\top10_tags.tsv'"
   ]
  },
  {
   "cell_type": "code",
   "execution_count": 2,
   "metadata": {
    "collapsed": false
   },
   "outputs": [
    {
     "name": "stdout",
     "output_type": "stream",
     "text": [
      "{'python', 'jquery', 'c#', 'javascript', 'java', 'html', 'php', 'c++', 'android', 'ios'}\n"
     ]
    }
   ],
   "source": [
    "top_tags = []\n",
    "with open(TAGS_FILE_NAME, 'r') as f:\n",
    "    for line in f:\n",
    "        top_tags.append(line.strip())\n",
    "top_tags = set(top_tags)\n",
    "print(top_tags)"
   ]
  },
  {
   "cell_type": "markdown",
   "metadata": {},
   "source": [
    "## 1. Многоклассовая логистическая регрессия\n",
    "\n",
    "Вспомним, как получается логистическая регрессия для двух классов $\\left\\{0, 1\\right\\}$, вероятность принадлежности объекта к классу $1$ выписывается по теореме Байеса:\n",
    "\n",
    "$$\\large \\begin{array}{rcl}\n",
    "p\\left(c = 1 \\mid \\vec{x}\\right) &=& \\dfrac{p\\left(\\vec{x} \\mid c = 1\\right)p\\left(c = 1\\right)}{p\\left(\\vec{x} \\mid c = 1\\right)p\\left(c = 1\\right) + p\\left(\\vec{x} \\mid c = 0\\right)p\\left(c = 0\\right)} \\\\\n",
    "&=& \\dfrac{1}{1 + e^{-a}} \\\\\n",
    "&=& \\sigma\\left(a\\right)\n",
    "\\end{array}$$\n",
    "где:\n",
    "- $\\vec{x}$ – вектор признаков объекта\n",
    "- $\\sigma$ – обозначение функции логистического сигмоида при скалярном аргументе\n",
    "- $a = \\log \\frac{p\\left(\\vec{x} \\mid c = 1\\right)p\\left(c = 1\\right)}{p\\left(\\vec{x} \\mid c = 0\\right)p\\left(c = 0\\right)} = \\sum_{i=0}^M w_i x^i$ – это отношение мы моделируем линейной функцией от признаков объекта и параметров модели\n",
    "\n",
    "Данное выражение легко обобщить до множества из $K$ классов, изменится только знаменатель в формуле Байеса. Запишем вероятность принадлежности объекта к классу $k$:\n",
    "$$\\large \\begin{array}{rcl}\n",
    "p\\left(c = k \\mid \\vec{x}\\right) &=& \\dfrac{p\\left(\\vec{x} \\mid c = k\\right)p\\left(c = k\\right)}{\\sum_{i=1}^K p\\left(\\vec{x} \\mid c = i\\right)p\\left(c = i\\right)} \\\\\n",
    "&=& \\dfrac{e^{z_k}}{\\sum_{i=1}^{K}e^{z_i}} \\\\\n",
    "&=& \\sigma_k\\left(\\vec{z}\\right)\n",
    "\\end{array}$$\n",
    "где:\n",
    "- $\\sigma_k$ – обозначение функции softmax при векторном аргументе\n",
    "- $z_i = \\log p\\left(\\vec{x} \\mid c = i\\right)p\\left(c = i\\right) = \\sum_{i=0}^M w_{ki} x^i$ – это выражение моделируется линейной функций от признаков объекта и параметров класса $i$\n",
    "\n",
    "Для моделирования полного правдоподобия примера мы используем [категориальное распределение](https://en.wikipedia.org/wiki/Categorical_distribution), а лучше его логарифм (для удобства):\n",
    "\n",
    "$$\\large \\begin{array}{rcl}\n",
    "\\mathcal{L} = \\log p\\left({\\vec{x}}\\right) &=& \\log \\prod_{i=1}^K \\sigma_i\\left(\\vec{z}\\right)^{y_i} \\\\\n",
    "&=& \\sum_{i=1}^K y_i \\log \\sigma_i\\left(\\vec{z}\\right)\n",
    "\\end{array}$$\n",
    "\n",
    "Получается хорошо знакомая нам функция [cross entropy](https://en.wikipedia.org/wiki/Cross_entropy) (если домножить на $-1$). Правдоподобие нужно максимизировать, а, соответственно, перекрестную энтропию нужно минимизировать. Продифференцировав по параметрам модели, мы _легко_ получим правила обновления весов для градиентного спуска, **проделайте этот вывод, если вы его не делали** (если вы вдруг сдались, то на [этом](https://www.youtube.com/watch?v=-WiR16raQf4) видео есть разбор вывода, понимание этого вам понадобится для дальнейшего выполнения задания):\n",
    "\n",
    "$$\\large \\begin{array}{rcl}\n",
    "\\frac{\\partial \\mathcal{L}}{\\partial w_{km}} &=& x_m \\left(y_k - \\sigma_k\\left(\\vec{z}\\right)\\right)\n",
    "\\end{array}$$\n",
    "\n",
    "В стандартной формулировке получается, что вектор $\\left(\\sigma_1, \\sigma_2, \\ldots, \\sigma_K\\right)$ образует дискретное вероятностное распределение, т.е. $\\sum_{i=1}^K \\sigma_i = 1$. Но в нашей постановке задачи каждый пример может иметь несколько тегов или одновременно принадлежать к нескольким классам. Для этого мы немного изменим модель:\n",
    "- будем считать, что все теги независимы друг от друга, т.е. каждый исход – это логистическая регрессия на два класса (либо есть тег, либо его нет), тогда вероятность наличия тега у примера запишется следующим образом (каждый тег/класс как и в многоклассовой логрегрессии имеет свой набор параметров):\n",
    "$$\\large p\\left(\\text{tag}_k \\mid \\vec{x}\\right) = \\sigma\\left(z_k\\right) = \\sigma\\left(\\sum_{i=1}^M w_{ki} x^i \\right)$$\n",
    "- наличие каждого тега мы будем моделировать с помощью <a href=\"https://en.wikipedia.org/wiki/Bernoulli_distribution\">распределения Бернулли</a>\n",
    "\n",
    "Ваше первое задание –  записать упрощенное выражение логарифма правдоподобия примера с признаками $\\vec{x}$. Как правило, многие алгоритмы оптимизации имеют интерфейс для минимизации функции, мы последуем этой же традиции, и домножим полученное выражение на $-1$, а во второй части выведем формулы для минимизации полученного выражения."
   ]
  },
  {
   "cell_type": "markdown",
   "metadata": {},
   "source": [
    "<font color=\"red\">Варианты ответа:</font>\n",
    "1. $\\large -\\mathcal{L} = -\\sum_{i=1}^M y_i \\log \\sigma\\left(z_i\\right) + \\left(1 - y_i\\right) \\log \\left(1 - \\sigma\\left(z_i\\right)\\right)$\n",
    "2. $\\large -\\mathcal{L} = -\\sum_{i=1}^K y_i \\log \\sigma\\left(z_i\\right) + \\left(1 - y_i\\right) \\log \\left(1 - \\sigma\\left(z_i\\right)\\right)$\n",
    "3. $\\large -\\mathcal{L} = -\\sum_{i=1}^K z_i \\log \\sigma\\left(y_i\\right) + \\left(1 - z_i\\right) \\log \\left(1 - \\sigma\\left(y_i\\right)\\right)$\n",
    "4. $\\large -\\mathcal{L} = -\\sum_{i=1}^M z_i \\log \\sigma\\left(y_i\\right) + \\left(1 - z_i\\right) \\log \\left(1 - \\sigma\\left(y_i\\right)\\right)$"
   ]
  },
  {
   "cell_type": "markdown",
   "metadata": {},
   "source": [
    "## 2. Вывод формулы обновления весов\n",
    "\n",
    "В качестве второго задания вам предоставляется возможность вывести формулу градиента для $-\\mathcal{L}$."
   ]
  },
  {
   "cell_type": "markdown",
   "metadata": {
    "collapsed": true
   },
   "source": [
    "<font color=\"red\">Варианты ответа:</font>:\n",
    "1. $\\large -\\frac{\\partial \\mathcal{L}}{\\partial w_{km}} = -x_m \\left(\\sigma\\left(z_k\\right) - y_k\\right)$\n",
    "2. $\\large -\\frac{\\partial \\mathcal{L}}{\\partial w_{km}} = -x_m \\left(y_k - \\sigma\\left(z_k\\right)\\right)$\n",
    "3. $\\large -\\frac{\\partial \\mathcal{L}}{\\partial w_{km}} = \\left(\\sigma\\left(z_k\\right)x_m - y_k\\right)$\n",
    "4. $\\large -\\frac{\\partial \\mathcal{L}}{\\partial w_{km}} = \\left(y_k - \\sigma\\left(z_k\\right)x_m\\right)$"
   ]
  },
  {
   "cell_type": "markdown",
   "metadata": {},
   "source": [
    "## 3. Имплементация базовой модели\n",
    "\n",
    "Вам предлагается каркас класса модели, разберите его внимательно, обращайте внимание на комментарии. Затем заполните пропуски, запустите полученную модель и ответьте на проверочный вопрос.\n",
    "\n",
    "Как вы могли уже заметить, при обновлении веса $w_{km}$ используется значение признака $x_m$, который равен $0$ если слова с индексом $m$ нет в предложении, и больше нуля, если такое слово есть. Соответственно, при вычислении линейной комбинации $z$ весов модели и признаков примера необходимо учитывать только ненулевые признаки объекта.\n",
    "\n",
    "Подсказка:\n",
    "- если реализовывать вычисление сигмоида так же, как в формуле, то при большом отрицательном значении $z$ вычисление $e^{-z}$ превратится в очень большое число, которое вылетит за допустимые пределы\n",
    "- в то же время $e^{-1}$ от большого положительного $z$ будет нулем\n",
    "- воспользуйтесь свойствами функции $\\sigma$ для того, чтобы пофиксить эту ошибку"
   ]
  },
  {
   "cell_type": "code",
   "execution_count": 32,
   "metadata": {
    "collapsed": true
   },
   "outputs": [],
   "source": [
    "class LogRegressor():\n",
    "    \n",
    "    \"\"\"Конструктор\n",
    "    \n",
    "    Параметры\n",
    "    ----------\n",
    "    tags_top : list of string, default=tags_top\n",
    "        список тегов\n",
    "    \"\"\"\n",
    "    def __init__(self, tags=top_tags):      \n",
    "        # словарь который содержит мапинг слов предложений и тегов в индексы (для экономии памяти)\n",
    "        # пример: self._vocab['exception'] = 17 означает что у слова exception индекс равен 17\n",
    "        self._vocab = {}\n",
    "        \n",
    "        # параметры модели: веса\n",
    "        # для каждого класса/тега нам необходимо хранить собственный вектор весов\n",
    "        # по умолчанию у нас все веса будут равны нулю\n",
    "        # мы заранее не знаем сколько весов нам понадобится\n",
    "        # поэтому для каждого класса мы сосздаем словарь изменяемого размера со значением по умолчанию 0\n",
    "        # пример: self._w['java'][self._vocab['exception']]  содержит вес для слова exception тега java\n",
    "        self._w = dict([(t, defaultdict(int)) for t in tags])\n",
    "        \n",
    "        # параметры модели: смещения или вес w_0\n",
    "        self._b = dict([(t, 0) for t in tags])\n",
    "        \n",
    "        self._tags = set(tags)\n",
    "    \n",
    "    \"\"\"Один прогон по датасету\n",
    "    \n",
    "    Параметры\n",
    "    ----------\n",
    "    fname : string, default=DS_FILE_NAME\n",
    "        имя файла с данными\n",
    "        \n",
    "    top_n_train : int\n",
    "        первые top_n_train строк будут использоваться для обучения, остальные для тестирования\n",
    "        \n",
    "    total : int, default=10000000\n",
    "        информация о количестве строк в файле для вывода прогресс бара\n",
    "    \n",
    "    learning_rate : float, default=0.1\n",
    "        скорость обучения для градиентного спуска\n",
    "        \n",
    "    tolerance : float, default=1e-16\n",
    "        используем для ограничения значений аргумента логарифмов\n",
    "    \"\"\"\n",
    "    def iterate_file(self, \n",
    "                     fname=DS_FILE_NAME, \n",
    "                     top_n_train=100000, \n",
    "                     total=125000,\n",
    "                     learning_rate=0.1,\n",
    "                     tolerance=1e-16):\n",
    "        \n",
    "        self._loss = []\n",
    "        n = 0\n",
    "        \n",
    "        # откроем файл\n",
    "        with open(fname, 'r') as f:            \n",
    "            \n",
    "            # прогуляемся по строкам файла\n",
    "            for line in tqdm_notebook(f, total=total, mininterval=1):\n",
    "                pair = line.strip().split('\\t')\n",
    "                if len(pair) != 2:\n",
    "                    continue                \n",
    "                sentence, tags = pair\n",
    "                # слова вопроса, это как раз признаки x\n",
    "                sentence = sentence.split(' ')\n",
    "                # теги вопроса, это y\n",
    "                tags = set(tags.split(' '))\n",
    "                \n",
    "                # значение функции потерь для текущего примера\n",
    "                sample_loss = 0\n",
    "\n",
    "                # прокидываем градиенты для каждого тега\n",
    "                for tag in self._tags:\n",
    "                    # целевая переменная равна 1 если текущий тег есть у текущего примера\n",
    "                    y = int(tag in tags)\n",
    "                    \n",
    "                    # расчитываем значение линейной комбинации весов и признаков объекта\n",
    "                    # ЗАПОЛНИТЕ ПРОПУСКИ В КОДЕ\n",
    "                    # z = ...\n",
    "                    z = self._b[tag] \n",
    "                    for word in sentence:\n",
    "                        # если в режиме тестирования появляется слово которого нет в словаре, то мы его игнорируем\n",
    "                        if n >= top_n_train and word not in self._vocab:\n",
    "                            continue\n",
    "                        if word not in self._vocab:\n",
    "                            self._vocab[word] = len(self._vocab)\n",
    "                        # z += ...\n",
    "                        z += self._w[tag][self._vocab[word]] \n",
    "                        \n",
    "                    # вычисляем вероятность наличия тега\n",
    "                    # ЗАПОЛНИТЕ ПРОПУСКИ В КОДЕ\n",
    "                    # sigma = ...\n",
    "                    sigma = 1/(1 + np.exp(-z)) if z >= 0 else 1 - 1/(1 + np.exp(z))\n",
    "                    \n",
    "                    # обновляем значение функции потерь для текущего примера\n",
    "                    # ЗАПОЛНИТЕ ПРОПУСКИ В КОДЕ\n",
    "                    # sample_loss += ...\n",
    "                    sample_loss += -y*np.log(np.max([tolerance, sigma])) if y == 1 else \\\n",
    "                                   -(1 - y)*np.log(1 - np.min([1 - tolerance, sigma]))\n",
    "                    \n",
    "                    # если мы все еще в тренировочной части, то обновим параметры\n",
    "                    if n < top_n_train:\n",
    "                        # вычисляем производную логарифмического правдоподобия по весу\n",
    "                        # ЗАПОЛНИТЕ ПРОПУСКИ В КОДЕ\n",
    "                        # dLdw = ...\n",
    "                        dLdw = y - sigma\n",
    "\n",
    "                        # делаем градиентный шаг\n",
    "                        # мы минимизируем отрицательное логарифмическое правдоподобие (второй знак минус)\n",
    "                        # поэтому мы идем в обратную сторону градиента для минимизации (первый знак минус)\n",
    "                        for word in sentence:                        \n",
    "                            self._w[tag][self._vocab[word]] -= -learning_rate*dLdw\n",
    "                        self._b[tag] -= -learning_rate*dLdw\n",
    "                    \n",
    "                n += 1\n",
    "                        \n",
    "                self._loss.append(sample_loss)"
   ]
  },
  {
   "cell_type": "code",
   "execution_count": 33,
   "metadata": {
    "collapsed": false
   },
   "outputs": [
    {
     "name": "stdout",
     "output_type": "stream",
     "text": [
      "\n"
     ]
    }
   ],
   "source": [
    "# создадим эксемпляр модели и пройдемся по датасету\n",
    "model = LogRegressor()\n",
    "model.iterate_file()"
   ]
  },
  {
   "cell_type": "markdown",
   "metadata": {},
   "source": [
    "Проверим, действительно ли значение отрицательного логарифмического правдоподобия уменьшалось. Так как мы используем стохастический градентный спуск, не стоит ожидать плавного падения функции ошибки. Мы воспользуемся скользящим средним с окном в 10 000 примеров, чтобы хоть как то сгладить график."
   ]
  },
  {
   "cell_type": "code",
   "execution_count": 34,
   "metadata": {
    "collapsed": false
   },
   "outputs": [
    {
     "data": {
      "image/png": "[encoded data removed]",
      "text/plain": [
       "<matplotlib.figure.Figure at 0x1a0f4048>"
      ]
     },
     "metadata": {},
     "output_type": "display_data"
    }
   ],
   "source": [
    "plt.plot(pd.Series(model._loss[:-25000]).rolling(10000).mean());"
   ]
  },
  {
   "cell_type": "code",
   "execution_count": 35,
   "metadata": {
    "collapsed": false
   },
   "outputs": [
    {
     "name": "stdout",
     "output_type": "stream",
     "text": [
      "Mean of the loss function on the last 10k train samples: 20.04\n"
     ]
    }
   ],
   "source": [
    "print('Mean of the loss function on the last 10k train samples: %0.2f' % np.mean(model._loss[-35000:-25000]))"
   ]
  },
  {
   "cell_type": "markdown",
   "metadata": {},
   "source": [
    "Вычислите среднее значение функции стоимости на последних 10 000 примеров тренировочного набора, к какому из значений ваш ответ ближе всего?\n",
    "\n",
    "<font color=\"red\">Варианты ответа:</font>:\n",
    "1. 17.54\n",
    "2. 18.64\n",
    "3. 19.74\n",
    "4. 20.84"
   ]
  },
  {
   "cell_type": "markdown",
   "metadata": {
    "collapsed": true
   },
   "source": [
    "## 4. Тестирование модели\n",
    "\n",
    "В базовой модели первые 100 000 строк используются для обучения, а оставшиеся – для тестирования. Как вы можете заметить, значение отрицательного логарифмического правдоподобия не очень информативно, хоть и позволяет сравнивать разные модели. В качестве четвертого задания вам необходимо модифицировать базовую модель таким образом, чтобы метод `iterate_file` возвращал значение _точности_ на тестовой части набора данных. \n",
    "\n",
    "Точность определим следующим образом:\n",
    "- считаем, что тег у вопроса присутствует, если спрогнозированная вероятность тега больше 0.9\n",
    "- точность одного примера расчитывается как [коэффициент Жаккара](https://ru.wikipedia.org/wiki/Коэффициент_Жаккара) между множеством настоящих тегов и предсказанных моделью\n",
    "  - например, если у примера настоящие теги ['html', 'jquery'], а по версии модели ['ios', 'html', 'java'], то коэффициент Жаккара будет равен |['html', 'jquery'] $\\cap$ ['ios', 'html', 'java']| / |['html', 'jquery'] $\\cup$ ['ios', 'html', 'java']| = |['html']| / |['jquery', 'ios', 'html', 'java']| = 1/4\n",
    "- метод `iterate_file` возвращает **среднюю** точность на тестовом наборе данных"
   ]
  },
  {
   "cell_type": "code",
   "execution_count": 49,
   "metadata": {
    "collapsed": true
   },
   "outputs": [],
   "source": [
    "def iterate_file2(self,\n",
    "                  fname=DS_FILE_NAME, \n",
    "                  top_n_train=100000, \n",
    "                  total=125000,\n",
    "                  learning_rate=0.1,\n",
    "                  tolerance=1e-16):\n",
    "    \n",
    "    self._loss = []\n",
    "    n = 0\n",
    "    \n",
    "    jaccard_kefs = []\n",
    "    #tottestlines = 0\n",
    "    \n",
    "    with open(fname, 'r') as f:\n",
    "        for line in tqdm_notebook(f, total=total, mininterval=1):\n",
    "            pair = line.strip().split('\\t')\n",
    "            if len(pair) != 2:\n",
    "                continue                \n",
    "            sentence, tags = pair\n",
    "            sentence = sentence.split(' ')\n",
    "            tags = set(tags.split(' '))    \n",
    "            sample_loss = 0\n",
    "            \n",
    "            if n >= top_n_train:\n",
    "                forecasted_tags = set()\n",
    "            \n",
    "            for tag in self._tags:\n",
    "                y = int(tag in tags)\n",
    "                z = self._b[tag] \n",
    "                for word in sentence:\n",
    "                    if n >= top_n_train and word not in self._vocab:\n",
    "                        continue\n",
    "                    if word not in self._vocab:\n",
    "                        self._vocab[word] = len(self._vocab)\n",
    "                    z += self._w[tag][self._vocab[word]] \n",
    "                        \n",
    "                sigma = 1/(1 + np.exp(-z)) if z >= 0 else 1 - 1/(1 + np.exp(z))                    \n",
    "                sample_loss += -y*np.log(np.max([tolerance, sigma])) if y == 1 else \\\n",
    "                               -(1 - y)*np.log(1 - np.min([1 - tolerance, sigma]))\n",
    "                if n < top_n_train:\n",
    "                    dLdw = y - sigma\n",
    "                    for word in sentence:                        \n",
    "                        self._w[tag][self._vocab[word]] -= -learning_rate*dLdw\n",
    "                    self._b[tag] -= -learning_rate*dLdw\n",
    "                else:\n",
    "                    if sigma > 0.9:\n",
    "                        forecasted_tags = forecasted_tags.union([tag])\n",
    "                        #return(n, tag, forecasted_tags)\n",
    "            if n >= top_n_train:\n",
    "                jaccard_kef = len(tags.intersection(forecasted_tags))/len(tags.union(forecasted_tags))\n",
    "                #return(tags, forecasted_tags)\n",
    "                if n % 1000 == 0:\n",
    "                    print(len(forecasted_tags), len(tags), jaccard_kef)\n",
    "                #jaccard_kefs += jaccard_kef\n",
    "                #tottestlines += 1\n",
    "                jaccard_kefs.append(jaccard_kef)\n",
    "            n += 1            \n",
    "            self._loss.append(sample_loss)\n",
    "    return(jaccard_kefs)\n",
    "\n",
    "LogRegressor.iterate_file2 = iterate_file2\n"
   ]
  },
  {
   "cell_type": "code",
   "execution_count": 50,
   "metadata": {
    "collapsed": false
   },
   "outputs": [
    {
     "name": "stdout",
     "output_type": "stream",
     "text": [
      "3 1 0.3333333333333333\n",
      "0 1 0.0\n",
      "0 1 0.0\n",
      "1 1 1.0\n",
      "1 1 1.0\n",
      "2 2 0.3333333333333333\n",
      "0 1 0.0\n",
      "2 1 0.5\n",
      "0 1 0.0\n",
      "1 1 1.0\n",
      "1 1 1.0\n",
      "1 1 0.0\n",
      "1 1 1.0\n",
      "1 1 1.0\n",
      "1 2 0.5\n",
      "3 3 1.0\n",
      "2 1 0.5\n",
      "2 1 0.5\n",
      "0 1 0.0\n",
      "1 1 1.0\n",
      "1 1 1.0\n",
      "1 2 0.5\n",
      "1 1 1.0\n",
      "1 1 1.0\n",
      "2 3 0.25\n",
      "\n"
     ]
    }
   ],
   "source": [
    "model2 = LogRegressor()\n",
    "acc = model2.iterate_file2()\n"
   ]
  },
  {
   "cell_type": "code",
   "execution_count": 51,
   "metadata": {
    "collapsed": false
   },
   "outputs": [
    {
     "name": "stdout",
     "output_type": "stream",
     "text": [
      "0.584861333333 0.5 1.0 0.0\n",
      "[0.3333333333333333, 1.0, 0.5, 0.3333333333333333, 0.0, 0.3333333333333333, 1.0, 0.0, 1.0, 1.0]\n",
      "[0.5, 1.0, 1.0, 1.0, 0.3333333333333333, 0.0, 1.0, 0.0, 1.0, 0.5]\n",
      "0.58\n"
     ]
    }
   ],
   "source": [
    "print(np.mean(acc), np.median(acc), np.max(acc), np.min(acc))\n",
    "print(acc[0:10])\n",
    "print(acc[-10:])\n",
    "# выведем полученное значение с точностью до двух знаков\n",
    "print('%0.2f' % np.mean(acc))"
   ]
  },
  {
   "cell_type": "code",
   "execution_count": 52,
   "metadata": {
    "collapsed": false
   },
   "outputs": [
    {
     "name": "stdout",
     "output_type": "stream",
     "text": [
      "3 1 0.3333333333333333\n",
      "0 1 0.0\n",
      "0 1 0.0\n",
      "1 1 1.0\n",
      "1 1 1.0\n",
      "2 2 0.3333333333333333\n",
      "0 1 0.0\n",
      "2 1 0.5\n",
      "0 1 0.0\n",
      "1 1 1.0\n",
      "1 1 1.0\n",
      "1 1 0.0\n",
      "1 1 1.0\n",
      "1 1 1.0\n",
      "1 2 0.5\n",
      "3 3 1.0\n",
      "2 1 0.5\n",
      "2 1 0.5\n",
      "0 1 0.0\n",
      "1 1 1.0\n",
      "1 1 1.0\n",
      "1 2 0.5\n",
      "1 1 1.0\n",
      "1 1 1.0\n",
      "2 3 0.25\n",
      "\n"
     ]
    }
   ],
   "source": [
    "model3 = LogRegressor()\n",
    "acc2 = model3.iterate_file2()"
   ]
  },
  {
   "cell_type": "code",
   "execution_count": 53,
   "metadata": {
    "collapsed": false
   },
   "outputs": [
    {
     "name": "stdout",
     "output_type": "stream",
     "text": [
      "0.584861333333 0.5 1.0 0.0\n",
      "[0.3333333333333333, 1.0, 0.5, 0.3333333333333333, 0.0, 0.3333333333333333, 1.0, 0.0, 1.0, 1.0]\n",
      "[0.5, 1.0, 1.0, 1.0, 0.3333333333333333, 0.0, 1.0, 0.0, 1.0, 0.5]\n",
      "0.58\n"
     ]
    }
   ],
   "source": [
    "print(np.mean(acc2), np.median(acc2), np.max(acc2), np.min(acc2))\n",
    "print(acc2[0:10])\n",
    "print(acc2[-10:])\n",
    "# выведем полученное значение с точностью до двух знаков\n",
    "print('%0.2f' % np.mean(acc))"
   ]
  },
  {
   "cell_type": "code",
   "execution_count": null,
   "metadata": {
    "collapsed": true
   },
   "outputs": [],
   "source": []
  },
  {
   "cell_type": "markdown",
   "metadata": {
    "collapsed": true
   },
   "source": [
    "Ответьте на вопрос,  к какому значению ближе всего полученное значение точности?\n",
    "<font color=\"red\">Варианты ответа:</font>:\n",
    "1. 0.39\n",
    "2. 0.49\n",
    "3. 0.59\n",
    "4. 0.69"
   ]
  },
  {
   "cell_type": "markdown",
   "metadata": {
    "collapsed": true
   },
   "source": [
    "## 5. $L_2$-регуляризация\n",
    "\n",
    "В качестве пятого задания вам необходимо добавить в класс `LogRegressor` поддержку $L_2$-регуляризации. В методе `iterate_file` должен появиться параметр `lmbda=0.01` со значением по умолчанию. С учетом регуляризации новая функция стоимости примет вид:\n",
    "\n",
    "$$\\large \\begin{array}{rcl}\n",
    "L &=& -\\mathcal{L} + \\frac{\\lambda}{2} R\\left(W\\right) \\\\\n",
    "&=& -\\mathcal{L} + \\frac{\\lambda}{2} \\sum_{k=1}^K\\sum_{i=1}^M w_{ki}^2\n",
    "\\end{array}$$\n",
    "\n",
    "Градиент первого члена суммы мы уже вывели, а для второго он имеет вид:\n",
    "\n",
    "$$\\large \\begin{array}{rcl}\n",
    "\\frac{\\partial}{\\partial w_{ki}} \\frac{\\lambda}{2} R\\left(W\\right) &=& \\lambda w_{ki}\n",
    "\\end{array}$$\n",
    "\n",
    "Если мы на каждом примере будем делать честное обновление всех весов, то все очень замедлится, ведь нам придется на каждой итерации пробегать по всем словам словаря. В ущерб теоретической точности вы используем грязный трюк: мы будем регуляризаровать только те слова, которые присутствуют в текущем предложении. Не забывайте, что смещение не регуляризируется. `sample_loss` тоже должен остаться без изменений."
   ]
  },
  {
   "cell_type": "code",
   "execution_count": 308,
   "metadata": {
    "collapsed": true
   },
   "outputs": [],
   "source": [
    "def iterate_file3(self,\n",
    "                  fname=DS_FILE_NAME, \n",
    "                  top_n_train=100000, \n",
    "                  total=125000,\n",
    "                  learning_rate=0.1,\n",
    "                  tolerance=1e-16,\n",
    "                  lmbda = 0.01):\n",
    "    \n",
    "    self._loss = []\n",
    "    n = 0\n",
    "    \n",
    "    jaccard_kefs = []\n",
    "    #tottestlines = 0\n",
    "    \n",
    "    with open(fname, 'r') as f:\n",
    "        for line in tqdm_notebook(f, total=total, mininterval=1):\n",
    "            pair = line.strip().split('\\t')\n",
    "            if len(pair) != 2:\n",
    "                continue                \n",
    "            sentence, tags = pair\n",
    "            sentence = sentence.split(' ')\n",
    "            tags = set(tags.split(' '))    \n",
    "            sample_loss = 0\n",
    "            \n",
    "            if n >= top_n_train:\n",
    "                forecasted_tags = set()\n",
    "            \n",
    "            for tag in self._tags:\n",
    "                y = int(tag in tags)\n",
    "                z = self._b[tag] \n",
    "                for word in sentence:\n",
    "                    if n >= top_n_train and word not in self._vocab:\n",
    "                        continue\n",
    "                    if word not in self._vocab:\n",
    "                        self._vocab[word] = len(self._vocab)\n",
    "                    z += self._w[tag][self._vocab[word]] \n",
    "                        \n",
    "                sigma = 1/(1 + np.exp(-z)) if z >= 0 else 1 - 1/(1 + np.exp(z))                    \n",
    "                sample_loss += -y*np.log(np.max([tolerance, sigma])) if y == 1 else \\\n",
    "                               -(1 - y)*np.log(1 - np.min([1 - tolerance, sigma]))\n",
    "                if n < top_n_train:\n",
    "                    dLdw = y - sigma\n",
    "                    #weights = 0\n",
    "                    #for word in sentence:\n",
    "                    #    weights += lmbda*self._w[tag][self._vocab[word]]\n",
    "                    #dLdw += weights\n",
    "                    for word in sentence:                        \n",
    "                        #self._w[tag][self._vocab[word]] -= -learning_rate*dLdw\n",
    "                        self._w[tag][self._vocab[word]] -= -learning_rate*(dLdw - lmbda*self._w[tag][self._vocab[word]])\n",
    "                    self._b[tag] -= -learning_rate*dLdw\n",
    "                else:\n",
    "                    if sigma > 0.9:\n",
    "                        forecasted_tags = forecasted_tags.union([tag])\n",
    "                        #return(n, tag, forecasted_tags)\n",
    "            if n >= top_n_train:\n",
    "                jaccard_kef = len(tags.intersection(forecasted_tags))/len(tags.union(forecasted_tags))\n",
    "                #return(tags, forecasted_tags)\n",
    "                if n % 1000 == 0:\n",
    "                    print(len(forecasted_tags), len(tags), jaccard_kef)\n",
    "                #jaccard_kefs += jaccard_kef\n",
    "                #tottestlines += 1\n",
    "                jaccard_kefs.append(jaccard_kef)\n",
    "            n += 1            \n",
    "            self._loss.append(sample_loss)\n",
    "    return(jaccard_kefs)\n",
    "\n",
    "LogRegressor.iterate_file3 = iterate_file3\n"
   ]
  },
  {
   "cell_type": "code",
   "execution_count": 309,
   "metadata": {
    "collapsed": false
   },
   "outputs": [
    {
     "name": "stdout",
     "output_type": "stream",
     "text": [
      "1 1 0.0\n",
      "0 1 0.0\n",
      "0 1 0.0\n",
      "2 1 0.5\n",
      "0 1 0.0\n",
      "1 2 0.5\n",
      "1 1 0.0\n",
      "2 1 0.5\n",
      "0 1 0.0\n",
      "2 1 0.5\n",
      "1 1 1.0\n",
      "1 1 0.0\n",
      "2 1 0.5\n",
      "1 1 1.0\n",
      "1 2 0.5\n",
      "2 3 0.6666666666666666\n",
      "3 1 0.3333333333333333\n",
      "2 1 0.5\n",
      "0 1 0.0\n",
      "2 1 0.5\n",
      "2 1 0.5\n",
      "3 2 0.6666666666666666\n",
      "1 1 1.0\n",
      "1 1 1.0\n",
      "3 3 0.5\n",
      "\n"
     ]
    }
   ],
   "source": [
    "model3 = LogRegressor()\n",
    "acc = model3.iterate_file3()"
   ]
  },
  {
   "cell_type": "code",
   "execution_count": 310,
   "metadata": {
    "collapsed": false
   },
   "outputs": [
    {
     "name": "stdout",
     "output_type": "stream",
     "text": [
      "0.491489333333\n"
     ]
    }
   ],
   "source": [
    "print(np.mean(acc))"
   ]
  },
  {
   "cell_type": "code",
   "execution_count": 311,
   "metadata": {
    "collapsed": false,
    "scrolled": true
   },
   "outputs": [
    {
     "name": "stdout",
     "output_type": "stream",
     "text": [
      "0.49\n"
     ]
    },
    {
     "data": {
      "image/png": "[encoded data removed]",
      "text/plain": [
       "<matplotlib.figure.Figure at 0x5f665fd0>"
      ]
     },
     "metadata": {},
     "output_type": "display_data"
    }
   ],
   "source": [
    "#model = LogRegressor()\n",
    "#acc = model.iterate_file()\n",
    "print('%0.2f' % np.mean(acc))\n",
    "plt.plot(pd.Series(model3._loss[:-25000]).rolling(10000).mean());"
   ]
  },
  {
   "cell_type": "markdown",
   "metadata": {},
   "source": [
    "Ответьте на вопрос, к какому значению ближе всего полученное значение точности?\n",
    "<font color=\"red\">Варианты ответа:</font>:\n",
    "1. 0.35\n",
    "2. 0.35\n",
    "3. 0.4\n",
    "4. 0.52"
   ]
  },
  {
   "cell_type": "markdown",
   "metadata": {},
   "source": [
    "## 6. ElasticNet регуляризация, вывод\n",
    "Помимо $L_2$ регуляризации, часто используется $L_1$ регуляризация.\n",
    "\n",
    "$$\\large \\begin{array}{rcl}\n",
    "L &=& -\\mathcal{L} + \\frac{\\lambda}{2} R\\left(W\\right) \\\\\n",
    "&=& -\\mathcal{L} + \\lambda \\sum_{k=1}^K\\sum_{i=1}^M \\left|w_{ki}\\right|\n",
    "\\end{array}$$\n",
    "\n",
    "Если линейно объединить $L_1$ и $L_2$ регуляризацию, то полученный тип регуляризации называется ElasticNet:\n",
    "\n",
    "$$\\large \\begin{array}{rcl}\n",
    "L &=& -\\mathcal{L} + \\lambda R\\left(W\\right) \\\\\n",
    "&=& -\\mathcal{L} + \\lambda \\left(\\gamma \\sum_{k=1}^K\\sum_{i=1}^M w_{ki}^2 + \\left(1 - \\gamma\\right) \\sum_{k=1}^K\\sum_{i=1}^M \\left|w_{ki}\\right| \\right)\n",
    "\\end{array}$$\n",
    "- где $\\gamma \\in \\left[0, 1\\right]$\n",
    "\n",
    "В качестве шестого вопроса вам предлагается вывести формулу градиента ElasticNet регуляризации (не учитывая $-\\mathcal{L}$). \n",
    "\n",
    "<font color=\"red\">Варианты ответа:</font>:\n",
    "1. $\\large \\frac{\\partial}{\\partial w_{ki}} \\lambda R\\left(W\\right) = \\lambda \\left(\\gamma \\frac{1}{2} w_{ki} + \\left(1 - \\gamma\\right) w_{ki}\\right)$ \n",
    "2. $\\large \\frac{\\partial}{\\partial w_{ki}} \\lambda R\\left(W\\right) = \\lambda \\left(\\gamma \\frac{1}{2} \\left|w_{ki}\\right| + \\left(1 - \\gamma\\right) \\text{sign}\\left(w_{ki}\\right)\\right)$\n",
    "3. $\\large \\frac{\\partial}{\\partial w_{ki}} \\lambda R\\left(W\\right) = \\lambda \\left(\\gamma \\frac{1}{2} w_{ki} + \\left(1 - \\gamma\\right) \\text{sign}\\left(w_{ki}\\right)\\right)$\n",
    "4. $\\large \\frac{\\partial}{\\partial w_{ki}} \\lambda R\\left(W\\right) = \\lambda \\left(\\gamma w_{ki} + \\left(1 - \\gamma\\right) \\text{sign}\\left(w_{ki}\\right)\\right)$"
   ]
  },
  {
   "cell_type": "markdown",
   "metadata": {},
   "source": [
    "## 7. ElasticNet регуляризация, имплементация\n",
    "\n",
    "В качестве седьмой задачи, вам предлается изменить класс `LogRegressor` таким образом, чтобы метод `iterate_file` принимал два параметра со значениями по умолчанию `lmbda=0.0002` и `gamma=0.1`. Сделайте один проход по датасету с включенной ElasticNet регуляризацией и заданными значениями по умолчанию и ответьте на вопрос."
   ]
  },
  {
   "cell_type": "code",
   "execution_count": 313,
   "metadata": {
    "collapsed": false
   },
   "outputs": [],
   "source": [
    "def iterate_file4(self,\n",
    "                  fname=DS_FILE_NAME, \n",
    "                  top_n_train=100000, \n",
    "                  total=125000,\n",
    "                  learning_rate=0.1,\n",
    "                  tolerance=1e-16,\n",
    "                  lmbda = 0.0002,\n",
    "                  gamma = 0.1):\n",
    "    \n",
    "    self._loss = []\n",
    "    n = 0\n",
    "    \n",
    "    jaccard_kefs = []\n",
    "    #tottestlines = 0\n",
    "    \n",
    "    with open(fname, 'r') as f:\n",
    "        for line in tqdm_notebook(f, total=total, mininterval=1):\n",
    "            pair = line.strip().split('\\t')\n",
    "            if len(pair) != 2:\n",
    "                continue                \n",
    "            sentence, tags = pair\n",
    "            sentence = sentence.split(' ')\n",
    "            tags = set(tags.split(' '))    \n",
    "            sample_loss = 0\n",
    "            \n",
    "            if n >= top_n_train:\n",
    "                forecasted_tags = set()\n",
    "            \n",
    "            for tag in self._tags:\n",
    "                y = int(tag in tags)\n",
    "                z = self._b[tag] \n",
    "                for word in sentence:\n",
    "                    if n >= top_n_train and word not in self._vocab:\n",
    "                        continue\n",
    "                    if word not in self._vocab:\n",
    "                        self._vocab[word] = len(self._vocab)\n",
    "                    z += self._w[tag][self._vocab[word]] \n",
    "                        \n",
    "                sigma = 1/(1 + np.exp(-z)) if z >= 0 else 1 - 1/(1 + np.exp(z))                    \n",
    "                sample_loss += -y*np.log(np.max([tolerance, sigma])) if y == 1 else \\\n",
    "                               -(1 - y)*np.log(1 - np.min([1 - tolerance, sigma]))\n",
    "                if n < top_n_train:\n",
    "                    dLdw = y - sigma\n",
    "                    #weights = 0\n",
    "                    #for word in sentence:\n",
    "                    #    weights += lmbda*self._w[tag][self._vocab[word]]\n",
    "                    #dLdw += weights\n",
    "                    for word in sentence:                        \n",
    "                        #self._w[tag][self._vocab[word]] -= -learning_rate*dLdw\n",
    "                        self._w[tag][self._vocab[word]] -= -learning_rate*(dLdw - lmbda*(2*gamma*self._w[tag][self._vocab[word]] + (1-gamma)*np.sign(self._w[tag][self._vocab[word]])))\n",
    "                    self._b[tag] -= -learning_rate*dLdw\n",
    "                else:\n",
    "                    if sigma > 0.9:\n",
    "                        forecasted_tags = forecasted_tags.union([tag])\n",
    "                        #return(n, tag, forecasted_tags)\n",
    "            if n >= top_n_train:\n",
    "                jaccard_kef = len(tags.intersection(forecasted_tags))/len(tags.union(forecasted_tags))\n",
    "                #return(tags, forecasted_tags)\n",
    "                if n % 1000 == 0:\n",
    "                    print(len(forecasted_tags), len(tags), jaccard_kef)\n",
    "                #jaccard_kefs += jaccard_kef\n",
    "                #tottestlines += 1\n",
    "                jaccard_kefs.append(jaccard_kef)\n",
    "            n += 1            \n",
    "            self._loss.append(sample_loss)\n",
    "    return(jaccard_kefs)\n",
    "\n",
    "LogRegressor.iterate_file4 = iterate_file4\n"
   ]
  },
  {
   "cell_type": "code",
   "execution_count": 314,
   "metadata": {
    "collapsed": false
   },
   "outputs": [
    {
     "name": "stdout",
     "output_type": "stream",
     "text": [
      "1 1 1.0\n",
      "0 1 0.0\n",
      "0 1 0.0\n",
      "1 1 1.0\n",
      "1 1 1.0\n",
      "1 2 0.5\n",
      "0 1 0.0\n",
      "1 1 1.0\n",
      "0 1 0.0\n",
      "1 1 1.0\n",
      "2 1 0.5\n",
      "1 1 0.0\n",
      "2 1 0.5\n",
      "1 1 1.0\n",
      "1 2 0.5\n",
      "3 3 1.0\n",
      "2 1 0.5\n",
      "2 1 0.5\n",
      "0 1 0.0\n",
      "1 1 1.0\n",
      "1 1 1.0\n",
      "1 2 0.5\n",
      "1 1 1.0\n",
      "1 1 1.0\n",
      "2 3 0.25\n",
      "\n"
     ]
    }
   ],
   "source": [
    "model4 = LogRegressor()\n",
    "acc = model4.iterate_file4()\n"
   ]
  },
  {
   "cell_type": "code",
   "execution_count": 315,
   "metadata": {
    "collapsed": false
   },
   "outputs": [
    {
     "name": "stdout",
     "output_type": "stream",
     "text": [
      "0.59\n"
     ]
    },
    {
     "data": {
      "image/png": "[encoded data removed]",
      "text/plain": [
       "<matplotlib.figure.Figure at 0x4f779278>"
      ]
     },
     "metadata": {},
     "output_type": "display_data"
    }
   ],
   "source": [
    "print('%0.2f' % np.mean(acc))\n",
    "plt.plot(pd.Series(model4._loss[:-25000]).rolling(10000).mean());"
   ]
  },
  {
   "cell_type": "markdown",
   "metadata": {
    "collapsed": true
   },
   "source": [
    "Ответьте на вопрос,  к какому значению ближе всего полученное значение точности:\n",
    "<font color=\"red\">Варианты ответа:</font>\n",
    "1. 0.57\n",
    "2. 0.68\n",
    "3. 0.74\n",
    "4. 0.82"
   ]
  },
  {
   "cell_type": "markdown",
   "metadata": {},
   "source": [
    "## 8. Самые важные слова для тега\n",
    "\n",
    "Прелесть линейных моделей в том, что они легко интерпретируемы. Вам предлагается вычислить, какие слова вносят наибольший вклад в вероятность каждого из тегов. А затем ответьте на контрольный вопрос."
   ]
  },
  {
   "cell_type": "code",
   "execution_count": 388,
   "metadata": {
    "collapsed": true
   },
   "outputs": [],
   "source": [
    "import operator\n",
    "\n",
    "def get_most_important_words_for_tegs(self):\n",
    "    for tag in self._tags:\n",
    "        #weights = dict(sorted(self._w[tag].iteritems(), key=operator.itemgetter(1), reverse=True)[:5])\n",
    "        if (tag not in self._vocab):\n",
    "            print('easy', tag)\n",
    "            continue\n",
    "        tagind = self._vocab[tag]\n",
    "        #if str(tagind).isdigit() == False:\n",
    "        #    continue\n",
    "        #print(tagind)\n",
    "        weights = self._w[tag]\n",
    "        for ind in weights.keys():\n",
    "            weights[ind] = abs(weights[ind])\n",
    "        #print(weights)\n",
    "        weights = sorted(weights.items(), key=operator.itemgetter(1), reverse = True)[:5]\n",
    "        if ((tagind in [weights[0][0], weights[1][0], weights[2][0], weights[3][0], weights[4][0]]) == False):\n",
    "            print(tag, '!!!!')\n",
    "            print(weights)\n",
    "            print(tagind)\n",
    "        #print(weights)\n",
    "        #print(tagind)\n",
    "        #return(weights)\n",
    "        \n",
    "LogRegressor.get_most_important_words_for_tegs = get_most_important_words_for_tegs"
   ]
  },
  {
   "cell_type": "code",
   "execution_count": 389,
   "metadata": {
    "collapsed": false
   },
   "outputs": [
    {
     "name": "stdout",
     "output_type": "stream",
     "text": [
      "easy c#\n",
      "java !!!!\n",
      "[(90844, 52.133921546330235), (29137, 48.344167252816142), (6047, 41.407234702091174), (12907, 39.706167880514293), (9149, 32.547746766317402)]\n",
      "583\n"
     ]
    }
   ],
   "source": [
    "res = model4.get_most_important_words_for_tegs()"
   ]
  },
  {
   "cell_type": "code",
   "execution_count": 318,
   "metadata": {
    "collapsed": false
   },
   "outputs": [
    {
     "ename": "TypeError",
     "evalue": "'NoneType' object is not subscriptable",
     "output_type": "error",
     "traceback": [
      "\u001b[0;31m---------------------------------------------------------------------------\u001b[0m",
      "\u001b[0;31mTypeError\u001b[0m                                 Traceback (most recent call last)",
      "\u001b[0;32m<ipython-input-318-a7e5373d7100>\u001b[0m in \u001b[0;36m<module>\u001b[0;34m()\u001b[0m\n\u001b[0;32m----> 1\u001b[0;31m \u001b[0mres\u001b[0m\u001b[1;33m[\u001b[0m\u001b[1;36m0\u001b[0m\u001b[1;33m]\u001b[0m\u001b[1;33m[\u001b[0m\u001b[1;36m0\u001b[0m\u001b[1;33m]\u001b[0m\u001b[1;33m\u001b[0m\u001b[0m\n\u001b[0m",
      "\u001b[0;31mTypeError\u001b[0m: 'NoneType' object is not subscriptable"
     ]
    }
   ],
   "source": [
    "res[0][0]"
   ]
  },
  {
   "cell_type": "markdown",
   "metadata": {},
   "source": [
    "Для многих тегов наличие самого тега в предложении является важным сигналом, у многих сам тег является самым сильным сигналом, что неудивительно. Для каких из тегов само название тега не входит в топ-5 самых важных?\n",
    "\n",
    "<font color=\"red\">Варианты ответа:</font>\n",
    "1. java, c#\n",
    "2. php, javascript\n",
    "3. html, jquery\n",
    "4. ios, android"
   ]
  },
  {
   "cell_type": "markdown",
   "metadata": {
    "collapsed": true
   },
   "source": [
    "## 9. Сокращаем размер словаря\n",
    "Сейчас количество слов в словаре около 90 000, если бы это была выборка из 10 миллионов вопросов с сайта StackOverflow, то размер словаря был бы миллионов 10. Регуляризировать модель можно не только изящно математически, но и топорно, например, ограничить размер словаря. Вам предоставляется возможность внести следующие изменения в класс `LogRegressor`:\n",
    "- добавить в метод `iterate_file` еще один аргумент со значением по умолчанию `update_vocab=True`\n",
    "- при `update_vocab=True` разрешать добавлять слова в словарь в режиме обучения\n",
    "- при `update_vocab=False` игнорировать слова не из словаря\n",
    "- добавить в класс метод `filter_vocab(n=10000)`, который оставит в словаре только топ-n самых популярных слов"
   ]
  },
  {
   "cell_type": "code",
   "execution_count": 322,
   "metadata": {
    "collapsed": false
   },
   "outputs": [],
   "source": [
    "def iterate_file5(self,\n",
    "                  fname=DS_FILE_NAME, \n",
    "                  top_n_train=100000, \n",
    "                  total=125000,\n",
    "                  learning_rate=0.1,\n",
    "                  tolerance=1e-16,\n",
    "                  lmbda = 0.0002,\n",
    "                  gamma = 0.1,\n",
    "                  update_vocab = True):\n",
    "    \n",
    "    self._loss = []\n",
    "    n = 0\n",
    "    \n",
    "    jaccard_kefs = []\n",
    "    #tottestlines = 0\n",
    "    \n",
    "    with open(fname, 'r') as f:\n",
    "        for line in tqdm_notebook(f, total=total, mininterval=1):\n",
    "            pair = line.strip().split('\\t')\n",
    "            if len(pair) != 2:\n",
    "                continue                \n",
    "            sentence, tags = pair\n",
    "            sentence = sentence.split(' ')\n",
    "            tags = set(tags.split(' '))    \n",
    "            sample_loss = 0\n",
    "            \n",
    "            if n >= top_n_train:\n",
    "                forecasted_tags = set()\n",
    "            \n",
    "            for tag in self._tags:\n",
    "\n",
    "                y = int(tag in tags)\n",
    "                z = self._b[tag] \n",
    "                for word in sentence:\n",
    "                    if n >= top_n_train and word not in self._vocab:\n",
    "                        continue\n",
    "                    if word not in self._vocab:\n",
    "                        if update_vocab:\n",
    "                            self._vocab[word] = len(self._vocab)\n",
    "                        else:\n",
    "                            continue\n",
    "                    z += self._w[tag][self._vocab[word]] \n",
    "                        \n",
    "                sigma = 1/(1 + np.exp(-z)) if z >= 0 else 1 - 1/(1 + np.exp(z))                    \n",
    "                sample_loss += -y*np.log(np.max([tolerance, sigma])) if y == 1 else \\\n",
    "                               -(1 - y)*np.log(1 - np.min([1 - tolerance, sigma]))\n",
    "                if n < top_n_train:\n",
    "                    dLdw = y - sigma\n",
    "                    #weights = 0\n",
    "                    #for word in sentence:\n",
    "                    #    weights += lmbda*self._w[tag][self._vocab[word]]\n",
    "                    #dLdw += weights\n",
    "                    for word in sentence:                        \n",
    "                        #self._w[tag][self._vocab[word]] -= -learning_rate*dLdw\n",
    "                        if word in self._vocab:\n",
    "                            self._w[tag][self._vocab[word]] -= -learning_rate*(dLdw - lmbda*(2*gamma*self._w[tag][self._vocab[word]] + (1-gamma)*np.sign(self._w[tag][self._vocab[word]])))\n",
    "                    self._b[tag] -= -learning_rate*dLdw\n",
    "                else:\n",
    "                    if sigma > 0.9:\n",
    "                        forecasted_tags = forecasted_tags.union([tag])\n",
    "                        #return(n, tag, forecasted_tags)\n",
    "            if n >= top_n_train:\n",
    "                jaccard_kef = len(tags.intersection(forecasted_tags))/len(tags.union(forecasted_tags))\n",
    "                #return(tags, forecasted_tags)\n",
    "                if n % 1000 == 0:\n",
    "                    print(len(forecasted_tags), len(tags), jaccard_kef)\n",
    "                #jaccard_kefs += jaccard_kef\n",
    "                #tottestlines += 1\n",
    "                jaccard_kefs.append(jaccard_kef)\n",
    "            n += 1            \n",
    "            self._loss.append(sample_loss)\n",
    "    return(jaccard_kefs)\n",
    "\n",
    "def filter_vocab(self, n=10000, fname=DS_FILE_NAME, top_n_train=100000, total=125000):\n",
    "    freqs = dict([(key, 0) for key in self._vocab.keys()])\n",
    "    m = 0\n",
    "    with open(fname, 'r') as f:\n",
    "        for line in tqdm_notebook(f, total=total, mininterval=1):\n",
    "            pair = line.strip().split('\\t')\n",
    "            if len(pair) != 2:\n",
    "                continue                \n",
    "            sentence, tags = pair\n",
    "            sentence = sentence.split(' ')\n",
    "            #if m >= top_n_train:\n",
    "            #    print(m, top_n_train)\n",
    "            #    break\n",
    "            for word in sentence:\n",
    "                if word in self._vocab:\n",
    "                    freqs[word] += 1\n",
    "                else:\n",
    "                    freqs[word] = 0\n",
    "            m += 1\n",
    "    freqs = sorted(freqs.items(), key=lambda t: t[1], reverse = True)\n",
    "    #return(freqs)\n",
    "    freqs = freqs[0:n]\n",
    "    self._vocab = dict( (word, self._vocab[word]) for word, val in freqs)\n",
    "    return(freqs)\n",
    "\n",
    "LogRegressor.iterate_file5 = iterate_file5\n",
    "LogRegressor.filter_vocab = filter_vocab\n"
   ]
  },
  {
   "cell_type": "code",
   "execution_count": 323,
   "metadata": {
    "collapsed": false
   },
   "outputs": [
    {
     "name": "stdout",
     "output_type": "stream",
     "text": [
      "\n",
      "1 1 1.0\n",
      "0 1 0.0\n",
      "0 1 0.0\n",
      "1 1 1.0\n",
      "1 1 1.0\n",
      "1 2 0.5\n",
      "0 1 0.0\n",
      "1 1 1.0\n",
      "0 1 0.0\n",
      "1 1 1.0\n",
      "2 1 0.5\n",
      "1 1 0.0\n",
      "2 1 0.5\n",
      "1 1 1.0\n",
      "1 2 0.5\n",
      "3 3 1.0\n",
      "2 1 0.5\n",
      "2 1 0.5\n",
      "0 1 0.0\n",
      "1 1 1.0\n",
      "1 1 1.0\n",
      "1 2 0.5\n",
      "1 1 1.0\n",
      "1 1 1.0\n",
      "2 3 0.25\n",
      "\n"
     ]
    }
   ],
   "source": [
    "model5 = LogRegressor()\n",
    "acc = model5.iterate_file5(update_vocab=True)"
   ]
  },
  {
   "cell_type": "code",
   "execution_count": 324,
   "metadata": {
    "collapsed": false
   },
   "outputs": [
    {
     "name": "stdout",
     "output_type": "stream",
     "text": [
      "0.59\n"
     ]
    }
   ],
   "source": [
    "print('%0.2f' % np.mean(acc))"
   ]
  },
  {
   "cell_type": "code",
   "execution_count": 325,
   "metadata": {
    "collapsed": false
   },
   "outputs": [
    {
     "data": {
      "text/plain": [
       "[<matplotlib.lines.Line2D at 0xb930f3c8>]"
      ]
     },
     "execution_count": 325,
     "metadata": {},
     "output_type": "execute_result"
    },
    {
     "data": {
      "image/png": "[encoded data removed]",
      "text/plain": [
       "<matplotlib.figure.Figure at 0x7e7316a0>"
      ]
     },
     "metadata": {},
     "output_type": "display_data"
    }
   ],
   "source": [
    "plt.plot(pd.Series(model5._loss[:-25000]).rolling(10000).mean())"
   ]
  },
  {
   "cell_type": "code",
   "execution_count": 326,
   "metadata": {
    "collapsed": false
   },
   "outputs": [
    {
     "name": "stdout",
     "output_type": "stream",
     "text": [
      "\n"
     ]
    }
   ],
   "source": [
    "freqs = model5.filter_vocab(n=10000)"
   ]
  },
  {
   "cell_type": "code",
   "execution_count": 327,
   "metadata": {
    "collapsed": false
   },
   "outputs": [
    {
     "data": {
      "text/plain": [
       "([('gt', 729433),\n",
       "  ('the', 708371),\n",
       "  ('lt', 673222),\n",
       "  ('i', 638272),\n",
       "  ('to', 454066),\n",
       "  ('a', 357232),\n",
       "  ('is', 278568),\n",
       "  ('in', 239646),\n",
       "  ('and', 237859),\n",
       "  ('this', 234596)],\n",
       " 10000)"
      ]
     },
     "execution_count": 327,
     "metadata": {},
     "output_type": "execute_result"
    }
   ],
   "source": [
    "freqs[0:10], len(freqs)"
   ]
  },
  {
   "cell_type": "code",
   "execution_count": 328,
   "metadata": {
    "collapsed": false
   },
   "outputs": [
    {
     "data": {
      "text/plain": [
       "[('diam', 99),\n",
       " ('567', 99),\n",
       " ('nz', 99),\n",
       " ('httpserver', 99),\n",
       " ('harder', 99),\n",
       " ('su', 99),\n",
       " ('mechanize', 99),\n",
       " ('jnienv', 99),\n",
       " ('expense', 99),\n",
       " ('urlrouterprovider', 99),\n",
       " ('6560', 99),\n",
       " ('withrowanimation', 99),\n",
       " ('oo', 99),\n",
       " ('729', 99),\n",
       " ('involving', 99),\n",
       " ('536', 99),\n",
       " ('prediction', 99),\n",
       " ('continuing', 99),\n",
       " ('feature_no_title', 99),\n",
       " ('newsize', 99),\n",
       " ('reality', 99)]"
      ]
     },
     "execution_count": 328,
     "metadata": {},
     "output_type": "execute_result"
    }
   ],
   "source": [
    "freqs[9979:10003]"
   ]
  },
  {
   "cell_type": "code",
   "execution_count": null,
   "metadata": {
    "collapsed": true
   },
   "outputs": [],
   "source": [
    "model = LogRegressor()\n",
    "acc = model.iterate_file(update_vocab=True)\n",
    "print('%0.2f' % acc)\n",
    "plt.plot(pd.Series(model._loss[:-25000]).rolling(10000).mean());"
   ]
  },
  {
   "cell_type": "code",
   "execution_count": 16,
   "metadata": {
    "collapsed": true
   },
   "outputs": [],
   "source": [
    "# оставим только топ 10 000 слов\n",
    "model.filter_vocab(n=10002)"
   ]
  },
  {
   "cell_type": "code",
   "execution_count": 329,
   "metadata": {
    "collapsed": false
   },
   "outputs": [
    {
     "name": "stdout",
     "output_type": "stream",
     "text": [
      "1 1 1.0\n",
      "1 1 0.0\n",
      "1 1 1.0\n",
      "1 1 1.0\n",
      "1 1 1.0\n",
      "1 2 0.5\n",
      "0 1 0.0\n",
      "1 1 1.0\n",
      "1 1 1.0\n",
      "1 1 1.0\n",
      "1 1 1.0\n",
      "2 1 0.5\n",
      "1 1 1.0\n",
      "1 1 1.0\n",
      "1 2 0.5\n",
      "2 3 0.6666666666666666\n",
      "1 1 1.0\n",
      "0 1 0.0\n",
      "0 1 0.0\n",
      "0 1 0.0\n",
      "1 1 1.0\n",
      "1 2 0.5\n",
      "1 1 1.0\n",
      "1 1 1.0\n",
      "1 3 0.3333333333333333\n",
      "\n"
     ]
    }
   ],
   "source": [
    "# сделаем еще одну итерацию по датасету, уменьшив скорость обучения в 10 раз\n",
    "acc = model5.iterate_file5(update_vocab=False, learning_rate=0.01)\n",
    "#print('%0.2f' % acc)\n",
    "#plt.plot(pd.Series(model._loss[:-25000]).rolling(10000).mean());"
   ]
  },
  {
   "cell_type": "code",
   "execution_count": 330,
   "metadata": {
    "collapsed": false
   },
   "outputs": [
    {
     "name": "stdout",
     "output_type": "stream",
     "text": [
      "0.679066666667\n"
     ]
    }
   ],
   "source": [
    "print(np.mean(acc))"
   ]
  },
  {
   "cell_type": "markdown",
   "metadata": {
    "collapsed": true
   },
   "source": [
    "Ответьте на вопрос,  к какому значению ближе всего полученное значение точности:\n",
    "<font color=\"red\">Варианты ответа:</font>\n",
    "1. 0.49\n",
    "2. 0.59\n",
    "3. 0.69\n",
    "4. 0.79"
   ]
  },
  {
   "cell_type": "markdown",
   "metadata": {},
   "source": [
    "## 10. Прогнозирование тегов для новых вопросов\n",
    "\n",
    "В завершение сегодняшней домашки, вам предлагается реализовать метод `predict_proba`, который принимает строку,  содержащую вопрос, а возвращает список предсказанных тегов вопроса с их вероятностями."
   ]
  },
  {
   "cell_type": "code",
   "execution_count": 331,
   "metadata": {
    "collapsed": true
   },
   "outputs": [],
   "source": [
    "def predict_proba(self, sentence):\n",
    "    res = pd.DataFrame(columns = ['tag', 'prob'])\n",
    "    count = 0\n",
    "    for tag in self._tags:\n",
    "        #y = int(tag in tags)\n",
    "        z = self._b[tag] \n",
    "        for word in sentence:\n",
    "            if word not in self._vocab:\n",
    "                continue\n",
    "            z += self._w[tag][self._vocab[word]]             \n",
    "        sigma = 1/(1 + np.exp(-z)) if z >= 0 else 1 - 1/(1 + np.exp(z))                    \n",
    "        res.loc[count] = [tag, sigma]\n",
    "        count += 1\n",
    "    return(res)\n",
    "\n",
    "LogRegressor.predict_proba = predict_proba\n",
    "    "
   ]
  },
  {
   "cell_type": "code",
   "execution_count": 347,
   "metadata": {
    "collapsed": false
   },
   "outputs": [
    {
     "name": "stdout",
     "output_type": "stream",
     "text": [
      "1 1 1.0\n",
      "0 1 0.0\n",
      "0 1 0.0\n",
      "1 1 1.0\n",
      "1 1 1.0\n",
      "1 2 0.5\n",
      "0 1 0.0\n",
      "1 1 1.0\n",
      "0 1 0.0\n",
      "1 1 1.0\n",
      "2 1 0.5\n",
      "1 1 0.0\n",
      "2 1 0.5\n",
      "1 1 1.0\n",
      "1 2 0.5\n",
      "3 3 1.0\n",
      "2 1 0.5\n",
      "2 1 0.5\n",
      "0 1 0.0\n",
      "1 1 1.0\n",
      "1 1 1.0\n",
      "1 2 0.5\n",
      "1 1 1.0\n",
      "1 1 1.0\n",
      "2 3 0.25\n",
      "\n",
      "0.59\n",
      "\n",
      "1 1 1.0\n",
      "1 1 0.0\n",
      "1 1 1.0\n",
      "1 1 1.0\n",
      "1 1 1.0\n",
      "1 2 0.5\n",
      "0 1 0.0\n",
      "1 1 1.0\n",
      "1 1 1.0\n",
      "1 1 1.0\n",
      "1 1 1.0\n",
      "2 1 0.5\n",
      "1 1 1.0\n",
      "1 1 1.0\n",
      "1 2 0.5\n",
      "2 3 0.6666666666666666\n",
      "1 1 1.0\n",
      "0 1 0.0\n",
      "0 1 0.0\n",
      "0 1 0.0\n",
      "1 1 1.0\n",
      "1 2 0.5\n",
      "1 1 1.0\n",
      "1 1 1.0\n",
      "1 3 0.3333333333333333\n",
      "\n",
      "0.68\n"
     ]
    }
   ],
   "source": [
    "model6 = LogRegressor()\n",
    "acc = model6.iterate_file5(update_vocab=True)\n",
    "print('%0.2f' % np.mean(acc))\n",
    "model6.filter_vocab(n=10000)\n",
    "acc = model6.iterate_file5(update_vocab=False, learning_rate=0.01)\n",
    "print('%0.2f' % np.mean(acc))"
   ]
  },
  {
   "cell_type": "code",
   "execution_count": 232,
   "metadata": {
    "collapsed": true
   },
   "outputs": [],
   "source": [
    "sentence = (\"I want to improve my coding skills, so I have planned write \" +\n",
    "            \"a Mobile Application.need to choose between Apple's iOS or Google's Android.\" +\n",
    "            \" my background: I have done basic programming in .Net,C/C++,Python and PHP \" +\n",
    "            \"in college, so got OOP concepts covered. about my skill level, I just know \" +\n",
    "            \"concepts and basic syntax. But can't write complex applications, if asked :(\" +\n",
    "            \" So decided to hone my skills, And I wanted to know which is easier to \" +\n",
    "            \"learn for a programming n00b. A) iOS which uses Objective C B) Android \" + \n",
    "            \"which uses Java. I want to decide based on difficulty level\")"
   ]
  },
  {
   "cell_type": "code",
   "execution_count": 401,
   "metadata": {
    "collapsed": false
   },
   "outputs": [
    {
     "name": "stdout",
     "output_type": "stream",
     "text": [
      "I want to improve my coding skills so I have planned write a Mobile Applicationneed to choose between Apples iOS or Googles Android my background I have done basic programming in NetCC++Python and PHP in college so got OOP concepts covered about my skill level I just know concepts and basic syntax But cant write complex applications if asked ( So decided to hone my skills And I wanted to know which is easier to learn for a programming n00b A iOS which uses Objective C B Android which uses Java I want to decide based on difficulty level\n"
     ]
    }
   ],
   "source": [
    "#sentence.split()\n",
    "import re\n",
    "sentence2 = (re.sub(r'[,.\\')/:]','',sentence))\n",
    "print(sentence2)\n",
    "#print(sentence.translate(string.punctuation))\n",
    "hhh = sentence.lower().split(' ')\n",
    "#hhh = sentence.lower().split(' ')\n",
    "\n",
    "res = model6.predict_proba(hhh)"
   ]
  },
  {
   "cell_type": "code",
   "execution_count": 402,
   "metadata": {
    "collapsed": false
   },
   "outputs": [
    {
     "data": {
      "text/html": [
       "<div>\n",
       "<style>\n",
       "    .dataframe thead tr:only-child th {\n",
       "        text-align: right;\n",
       "    }\n",
       "\n",
       "    .dataframe thead th {\n",
       "        text-align: left;\n",
       "    }\n",
       "\n",
       "    .dataframe tbody tr th {\n",
       "        vertical-align: top;\n",
       "    }\n",
       "</style>\n",
       "<table border=\"1\" class=\"dataframe\">\n",
       "  <thead>\n",
       "    <tr style=\"text-align: right;\">\n",
       "      <th></th>\n",
       "      <th>tag</th>\n",
       "      <th>prob</th>\n",
       "    </tr>\n",
       "  </thead>\n",
       "  <tbody>\n",
       "    <tr>\n",
       "      <th>0</th>\n",
       "      <td>python</td>\n",
       "      <td>0.000000e+00</td>\n",
       "    </tr>\n",
       "    <tr>\n",
       "      <th>1</th>\n",
       "      <td>jquery</td>\n",
       "      <td>0.000000e+00</td>\n",
       "    </tr>\n",
       "    <tr>\n",
       "      <th>2</th>\n",
       "      <td>c#</td>\n",
       "      <td>0.000000e+00</td>\n",
       "    </tr>\n",
       "    <tr>\n",
       "      <th>3</th>\n",
       "      <td>javascript</td>\n",
       "      <td>1.043610e-14</td>\n",
       "    </tr>\n",
       "    <tr>\n",
       "      <th>4</th>\n",
       "      <td>java</td>\n",
       "      <td>0.000000e+00</td>\n",
       "    </tr>\n",
       "    <tr>\n",
       "      <th>5</th>\n",
       "      <td>html</td>\n",
       "      <td>0.000000e+00</td>\n",
       "    </tr>\n",
       "    <tr>\n",
       "      <th>6</th>\n",
       "      <td>php</td>\n",
       "      <td>9.996997e-01</td>\n",
       "    </tr>\n",
       "    <tr>\n",
       "      <th>7</th>\n",
       "      <td>c++</td>\n",
       "      <td>0.000000e+00</td>\n",
       "    </tr>\n",
       "    <tr>\n",
       "      <th>8</th>\n",
       "      <td>android</td>\n",
       "      <td>1.195327e-05</td>\n",
       "    </tr>\n",
       "    <tr>\n",
       "      <th>9</th>\n",
       "      <td>ios</td>\n",
       "      <td>1.000000e+00</td>\n",
       "    </tr>\n",
       "  </tbody>\n",
       "</table>\n",
       "</div>"
      ],
      "text/plain": [
       "          tag          prob\n",
       "0      python  0.000000e+00\n",
       "1      jquery  0.000000e+00\n",
       "2          c#  0.000000e+00\n",
       "3  javascript  1.043610e-14\n",
       "4        java  0.000000e+00\n",
       "5        html  0.000000e+00\n",
       "6         php  9.996997e-01\n",
       "7         c++  0.000000e+00\n",
       "8     android  1.195327e-05\n",
       "9         ios  1.000000e+00"
      ]
     },
     "execution_count": 402,
     "metadata": {},
     "output_type": "execute_result"
    }
   ],
   "source": [
    "res"
   ]
  },
  {
   "cell_type": "code",
   "execution_count": 403,
   "metadata": {
    "collapsed": false
   },
   "outputs": [
    {
     "name": "stdout",
     "output_type": "stream",
     "text": [
      "   tag    prob\n",
      "6  php  0.9997\n",
      "9  ios  1.0000\n",
      "          tag          prob\n",
      "0      python  0.000000e+00\n",
      "1      jquery  0.000000e+00\n",
      "2          c#  0.000000e+00\n",
      "3  javascript  1.043610e-14\n",
      "4        java  0.000000e+00\n",
      "5        html  0.000000e+00\n",
      "6         php  9.996997e-01\n",
      "7         c++  0.000000e+00\n",
      "8     android  1.195327e-05\n",
      "9         ios  1.000000e+00\n"
     ]
    }
   ],
   "source": [
    "print(res[res.prob>0.9])\n",
    "print(res)"
   ]
  },
  {
   "cell_type": "markdown",
   "metadata": {},
   "source": [
    "Ответьте на вопрос, какой или какие теги ассоциируются с данным вопросом, если порог принятия равен $0.9$?:\n",
    "<font color=\"red\">Варианты ответа:</font>\n",
    "1. android\n",
    "2. ios\n",
    "3. ios, php\n",
    "4. c#, c++, ods"
   ]
  }
 ],
 "metadata": {
  "kernelspec": {
   "display_name": "Python [default]",
   "language": "python",
   "name": "python3"
  },
  "language_info": {
   "codemirror_mode": {
    "name": "ipython",
    "version": 3
   },
   "file_extension": ".py",
   "mimetype": "text/x-python",
   "name": "python",
   "nbconvert_exporter": "python",
   "pygments_lexer": "ipython3",
   "version": "3.5.2"
  },
  "widgets": {
   "state": {
    "185aa4183a4342a1adf73d3e36dab879": {
     "views": [
      {
       "cell_index": 25
      }
     ]
    },
    "227dc0811f6a4b94b82a3be768583577": {
     "views": [
      {
       "cell_index": 17
      }
     ]
    },
    "45b4bd6b21774bbdae433f11f8837111": {
     "views": [
      {
       "cell_index": 19
      }
     ]
    },
    "60d49ae6efe148ebbf7a6e0019434ba2": {
     "views": [
      {
       "cell_index": 55
      }
     ]
    },
    "80723a5700bf4de88f6ac8c3951c4b2b": {
     "views": [
      {
       "cell_index": 45
      }
     ]
    },
    "98f4ecc3a1274d7cbec0ac9ab7651558": {
     "views": [
      {
       "cell_index": 55
      }
     ]
    },
    "9c99f1440e054fd883ea2147978ad6fb": {
     "views": [
      {
       "cell_index": 42
      }
     ]
    },
    "a212b82bbb364e2a85b74cf02f414a6f": {
     "views": [
      {
       "cell_index": 55
      }
     ]
    },
    "bd7336daa7fa49339c9e23423cd388ab": {
     "views": [
      {
       "cell_index": 10
      }
     ]
    },
    "c5fcfb295558446c98a06cf7a7211c42": {
     "views": [
      {
       "cell_index": 50
      }
     ]
    },
    "ee3a53d523ae4dfa86a03a2d16a9159f": {
     "views": [
      {
       "cell_index": 32
      }
     ]
    }
   },
   "version": "1.2.0"
  }
 },
 "nbformat": 4,
 "nbformat_minor": 2
}
